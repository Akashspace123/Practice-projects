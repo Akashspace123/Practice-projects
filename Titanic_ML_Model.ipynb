{
 "cells": [
  {
   "cell_type": "code",
   "execution_count": 302,
   "id": "2cbccddb",
   "metadata": {},
   "outputs": [],
   "source": [
    "import pandas as pd\n",
    "import numpy as np\n",
    "import matplotlib.pyplot as plt\n",
    "import seaborn as sns\n",
    "import warnings\n",
    "warnings.filterwarnings(\"ignore\")\n",
    "import sklearn"
   ]
  },
  {
   "cell_type": "code",
   "execution_count": 303,
   "id": "b6b35b37",
   "metadata": {},
   "outputs": [
    {
     "data": {
      "text/html": [
       "<div>\n",
       "<style scoped>\n",
       "    .dataframe tbody tr th:only-of-type {\n",
       "        vertical-align: middle;\n",
       "    }\n",
       "\n",
       "    .dataframe tbody tr th {\n",
       "        vertical-align: top;\n",
       "    }\n",
       "\n",
       "    .dataframe thead th {\n",
       "        text-align: right;\n",
       "    }\n",
       "</style>\n",
       "<table border=\"1\" class=\"dataframe\">\n",
       "  <thead>\n",
       "    <tr style=\"text-align: right;\">\n",
       "      <th></th>\n",
       "      <th>PassengerId</th>\n",
       "      <th>Survived</th>\n",
       "      <th>Pclass</th>\n",
       "      <th>Name</th>\n",
       "      <th>Sex</th>\n",
       "      <th>Age</th>\n",
       "      <th>SibSp</th>\n",
       "      <th>Parch</th>\n",
       "      <th>Ticket</th>\n",
       "      <th>Fare</th>\n",
       "      <th>Cabin</th>\n",
       "      <th>Embarked</th>\n",
       "    </tr>\n",
       "  </thead>\n",
       "  <tbody>\n",
       "    <tr>\n",
       "      <th>0</th>\n",
       "      <td>1</td>\n",
       "      <td>0</td>\n",
       "      <td>3</td>\n",
       "      <td>Braund, Mr. Owen Harris</td>\n",
       "      <td>male</td>\n",
       "      <td>22.0</td>\n",
       "      <td>1</td>\n",
       "      <td>0</td>\n",
       "      <td>A/5 21171</td>\n",
       "      <td>7.2500</td>\n",
       "      <td>NaN</td>\n",
       "      <td>S</td>\n",
       "    </tr>\n",
       "    <tr>\n",
       "      <th>1</th>\n",
       "      <td>2</td>\n",
       "      <td>1</td>\n",
       "      <td>1</td>\n",
       "      <td>Cumings, Mrs. John Bradley (Florence Briggs Th...</td>\n",
       "      <td>female</td>\n",
       "      <td>38.0</td>\n",
       "      <td>1</td>\n",
       "      <td>0</td>\n",
       "      <td>PC 17599</td>\n",
       "      <td>71.2833</td>\n",
       "      <td>C85</td>\n",
       "      <td>C</td>\n",
       "    </tr>\n",
       "    <tr>\n",
       "      <th>2</th>\n",
       "      <td>3</td>\n",
       "      <td>1</td>\n",
       "      <td>3</td>\n",
       "      <td>Heikkinen, Miss. Laina</td>\n",
       "      <td>female</td>\n",
       "      <td>26.0</td>\n",
       "      <td>0</td>\n",
       "      <td>0</td>\n",
       "      <td>STON/O2. 3101282</td>\n",
       "      <td>7.9250</td>\n",
       "      <td>NaN</td>\n",
       "      <td>S</td>\n",
       "    </tr>\n",
       "    <tr>\n",
       "      <th>3</th>\n",
       "      <td>4</td>\n",
       "      <td>1</td>\n",
       "      <td>1</td>\n",
       "      <td>Futrelle, Mrs. Jacques Heath (Lily May Peel)</td>\n",
       "      <td>female</td>\n",
       "      <td>35.0</td>\n",
       "      <td>1</td>\n",
       "      <td>0</td>\n",
       "      <td>113803</td>\n",
       "      <td>53.1000</td>\n",
       "      <td>C123</td>\n",
       "      <td>S</td>\n",
       "    </tr>\n",
       "    <tr>\n",
       "      <th>4</th>\n",
       "      <td>5</td>\n",
       "      <td>0</td>\n",
       "      <td>3</td>\n",
       "      <td>Allen, Mr. William Henry</td>\n",
       "      <td>male</td>\n",
       "      <td>35.0</td>\n",
       "      <td>0</td>\n",
       "      <td>0</td>\n",
       "      <td>373450</td>\n",
       "      <td>8.0500</td>\n",
       "      <td>NaN</td>\n",
       "      <td>S</td>\n",
       "    </tr>\n",
       "    <tr>\n",
       "      <th>...</th>\n",
       "      <td>...</td>\n",
       "      <td>...</td>\n",
       "      <td>...</td>\n",
       "      <td>...</td>\n",
       "      <td>...</td>\n",
       "      <td>...</td>\n",
       "      <td>...</td>\n",
       "      <td>...</td>\n",
       "      <td>...</td>\n",
       "      <td>...</td>\n",
       "      <td>...</td>\n",
       "      <td>...</td>\n",
       "    </tr>\n",
       "    <tr>\n",
       "      <th>886</th>\n",
       "      <td>887</td>\n",
       "      <td>0</td>\n",
       "      <td>2</td>\n",
       "      <td>Montvila, Rev. Juozas</td>\n",
       "      <td>male</td>\n",
       "      <td>27.0</td>\n",
       "      <td>0</td>\n",
       "      <td>0</td>\n",
       "      <td>211536</td>\n",
       "      <td>13.0000</td>\n",
       "      <td>NaN</td>\n",
       "      <td>S</td>\n",
       "    </tr>\n",
       "    <tr>\n",
       "      <th>887</th>\n",
       "      <td>888</td>\n",
       "      <td>1</td>\n",
       "      <td>1</td>\n",
       "      <td>Graham, Miss. Margaret Edith</td>\n",
       "      <td>female</td>\n",
       "      <td>19.0</td>\n",
       "      <td>0</td>\n",
       "      <td>0</td>\n",
       "      <td>112053</td>\n",
       "      <td>30.0000</td>\n",
       "      <td>B42</td>\n",
       "      <td>S</td>\n",
       "    </tr>\n",
       "    <tr>\n",
       "      <th>888</th>\n",
       "      <td>889</td>\n",
       "      <td>0</td>\n",
       "      <td>3</td>\n",
       "      <td>Johnston, Miss. Catherine Helen \"Carrie\"</td>\n",
       "      <td>female</td>\n",
       "      <td>NaN</td>\n",
       "      <td>1</td>\n",
       "      <td>2</td>\n",
       "      <td>W./C. 6607</td>\n",
       "      <td>23.4500</td>\n",
       "      <td>NaN</td>\n",
       "      <td>S</td>\n",
       "    </tr>\n",
       "    <tr>\n",
       "      <th>889</th>\n",
       "      <td>890</td>\n",
       "      <td>1</td>\n",
       "      <td>1</td>\n",
       "      <td>Behr, Mr. Karl Howell</td>\n",
       "      <td>male</td>\n",
       "      <td>26.0</td>\n",
       "      <td>0</td>\n",
       "      <td>0</td>\n",
       "      <td>111369</td>\n",
       "      <td>30.0000</td>\n",
       "      <td>C148</td>\n",
       "      <td>C</td>\n",
       "    </tr>\n",
       "    <tr>\n",
       "      <th>890</th>\n",
       "      <td>891</td>\n",
       "      <td>0</td>\n",
       "      <td>3</td>\n",
       "      <td>Dooley, Mr. Patrick</td>\n",
       "      <td>male</td>\n",
       "      <td>32.0</td>\n",
       "      <td>0</td>\n",
       "      <td>0</td>\n",
       "      <td>370376</td>\n",
       "      <td>7.7500</td>\n",
       "      <td>NaN</td>\n",
       "      <td>Q</td>\n",
       "    </tr>\n",
       "  </tbody>\n",
       "</table>\n",
       "<p>891 rows × 12 columns</p>\n",
       "</div>"
      ],
      "text/plain": [
       "     PassengerId  Survived  Pclass  \\\n",
       "0              1         0       3   \n",
       "1              2         1       1   \n",
       "2              3         1       3   \n",
       "3              4         1       1   \n",
       "4              5         0       3   \n",
       "..           ...       ...     ...   \n",
       "886          887         0       2   \n",
       "887          888         1       1   \n",
       "888          889         0       3   \n",
       "889          890         1       1   \n",
       "890          891         0       3   \n",
       "\n",
       "                                                  Name     Sex   Age  SibSp  \\\n",
       "0                              Braund, Mr. Owen Harris    male  22.0      1   \n",
       "1    Cumings, Mrs. John Bradley (Florence Briggs Th...  female  38.0      1   \n",
       "2                               Heikkinen, Miss. Laina  female  26.0      0   \n",
       "3         Futrelle, Mrs. Jacques Heath (Lily May Peel)  female  35.0      1   \n",
       "4                             Allen, Mr. William Henry    male  35.0      0   \n",
       "..                                                 ...     ...   ...    ...   \n",
       "886                              Montvila, Rev. Juozas    male  27.0      0   \n",
       "887                       Graham, Miss. Margaret Edith  female  19.0      0   \n",
       "888           Johnston, Miss. Catherine Helen \"Carrie\"  female   NaN      1   \n",
       "889                              Behr, Mr. Karl Howell    male  26.0      0   \n",
       "890                                Dooley, Mr. Patrick    male  32.0      0   \n",
       "\n",
       "     Parch            Ticket     Fare Cabin Embarked  \n",
       "0        0         A/5 21171   7.2500   NaN        S  \n",
       "1        0          PC 17599  71.2833   C85        C  \n",
       "2        0  STON/O2. 3101282   7.9250   NaN        S  \n",
       "3        0            113803  53.1000  C123        S  \n",
       "4        0            373450   8.0500   NaN        S  \n",
       "..     ...               ...      ...   ...      ...  \n",
       "886      0            211536  13.0000   NaN        S  \n",
       "887      0            112053  30.0000   B42        S  \n",
       "888      2        W./C. 6607  23.4500   NaN        S  \n",
       "889      0            111369  30.0000  C148        C  \n",
       "890      0            370376   7.7500   NaN        Q  \n",
       "\n",
       "[891 rows x 12 columns]"
      ]
     },
     "execution_count": 303,
     "metadata": {},
     "output_type": "execute_result"
    }
   ],
   "source": [
    "titan=pd.read_csv(\"https://raw.githubusercontent.com/dsrscientist/dataset1/master/titanic_train.csv\")\n",
    "titan"
   ]
  },
  {
   "cell_type": "code",
   "execution_count": 304,
   "id": "7ee0f34f",
   "metadata": {},
   "outputs": [
    {
     "data": {
      "text/plain": [
       "(891, 12)"
      ]
     },
     "execution_count": 304,
     "metadata": {},
     "output_type": "execute_result"
    }
   ],
   "source": [
    "titan.shape"
   ]
  },
  {
   "cell_type": "code",
   "execution_count": 305,
   "id": "1d923d78",
   "metadata": {},
   "outputs": [
    {
     "data": {
      "text/plain": [
       "PassengerId      int64\n",
       "Survived         int64\n",
       "Pclass           int64\n",
       "Name            object\n",
       "Sex             object\n",
       "Age            float64\n",
       "SibSp            int64\n",
       "Parch            int64\n",
       "Ticket          object\n",
       "Fare           float64\n",
       "Cabin           object\n",
       "Embarked        object\n",
       "dtype: object"
      ]
     },
     "execution_count": 305,
     "metadata": {},
     "output_type": "execute_result"
    }
   ],
   "source": [
    "titan.dtypes"
   ]
  },
  {
   "cell_type": "code",
   "execution_count": 306,
   "id": "15588a06",
   "metadata": {},
   "outputs": [
    {
     "data": {
      "text/plain": [
       "PassengerId      0\n",
       "Survived         0\n",
       "Pclass           0\n",
       "Name             0\n",
       "Sex              0\n",
       "Age            177\n",
       "SibSp            0\n",
       "Parch            0\n",
       "Ticket           0\n",
       "Fare             0\n",
       "Cabin          687\n",
       "Embarked         2\n",
       "dtype: int64"
      ]
     },
     "execution_count": 306,
     "metadata": {},
     "output_type": "execute_result"
    }
   ],
   "source": [
    "titan.isnull().sum()"
   ]
  },
  {
   "cell_type": "code",
   "execution_count": 307,
   "id": "17d792c0",
   "metadata": {},
   "outputs": [
    {
     "data": {
      "text/plain": [
       "<AxesSubplot:>"
      ]
     },
     "execution_count": 307,
     "metadata": {},
     "output_type": "execute_result"
    },
    {
     "data": {
      "image/png": "[encoded data removed]",
      "text/plain": [
       "<Figure size 576x432 with 2 Axes>"
      ]
     },
     "metadata": {
      "needs_background": "light"
     },
     "output_type": "display_data"
    }
   ],
   "source": [
    "plt.figure(figsize=(8,6))\n",
    "sns.heatmap(titan.isnull(),cmap='tab10')"
   ]
  },
  {
   "cell_type": "markdown",
   "id": "be1820b4",
   "metadata": {},
   "source": [
    "### Observation-1 :"
   ]
  },
  {
   "cell_type": "markdown",
   "id": "6091f8f1",
   "metadata": {},
   "source": [
    "In the above dataset :\n",
    "\n",
    "1) The size of table is 891*12 i.e. no. of rows are 891 and no. of columns are 12(including target).\n",
    "\n",
    "2) Out of 12 columns 7 columns are continuous in nature and rest 5 are object type.\n",
    "\n",
    "3) Null values are present in the Age, Embarked and Cabin columns, so there is need to adopt imputation technique.\n",
    "\n",
    "4) In case of object data type, we will apply the encoding technique on those columns which are contributing to make prediction and those column which are not important for our model will be dropped.\n",
    "\n",
    "5) The columns which are not playing a important role for prediction are as follows:\n",
    "\n",
    "    A.PassengerId\n",
    "    B.Name \n",
    "    c.Ticket"
   ]
  },
  {
   "cell_type": "markdown",
   "id": "fe6cb2e0",
   "metadata": {},
   "source": [
    "###### Droping the coloumns :"
   ]
  },
  {
   "cell_type": "code",
   "execution_count": 308,
   "id": "7fa44d09",
   "metadata": {},
   "outputs": [],
   "source": [
    "titan=titan.drop([\"PassengerId\"],axis=1)\n",
    "titan=titan.drop([\"Name\"],axis=1)\n",
    "titan=titan.drop([\"Ticket\"],axis=1)"
   ]
  },
  {
   "cell_type": "markdown",
   "id": "7046a5ab",
   "metadata": {},
   "source": [
    "###### Adopting imputation technique "
   ]
  },
  {
   "cell_type": "code",
   "execution_count": 309,
   "id": "b570fa67",
   "metadata": {},
   "outputs": [],
   "source": [
    "from sklearn.impute import SimpleImputer"
   ]
  },
  {
   "cell_type": "code",
   "execution_count": 310,
   "id": "b56347f7",
   "metadata": {},
   "outputs": [],
   "source": [
    "imp=SimpleImputer(strategy='most_frequent')\n",
    "titan['Age']=imp.fit_transform(titan['Age'].values.reshape(-1,1))\n",
    "titan['Cabin']=imp.fit_transform(titan['Cabin'].values.reshape(-1,1))\n",
    "titan['Embarked']=imp.fit_transform(titan['Embarked'].values.reshape(-1,1))"
   ]
  },
  {
   "cell_type": "markdown",
   "id": "9052c0b4",
   "metadata": {},
   "source": [
    "###### Adopting Encoding technique"
   ]
  },
  {
   "cell_type": "code",
   "execution_count": 311,
   "id": "466aab93",
   "metadata": {},
   "outputs": [],
   "source": [
    "from sklearn.preprocessing import LabelEncoder"
   ]
  },
  {
   "cell_type": "code",
   "execution_count": 312,
   "id": "201d411c",
   "metadata": {},
   "outputs": [],
   "source": [
    "le=LabelEncoder()"
   ]
  },
  {
   "cell_type": "code",
   "execution_count": 313,
   "id": "797a9d77",
   "metadata": {},
   "outputs": [],
   "source": [
    "titan['Sex']=le.fit_transform(titan['Sex'])"
   ]
  },
  {
   "cell_type": "code",
   "execution_count": 314,
   "id": "6f795124",
   "metadata": {},
   "outputs": [],
   "source": [
    "titan['Cabin']=le.fit_transform(titan['Cabin'])\n",
    "titan['Embarked']=le.fit_transform(titan['Embarked'])"
   ]
  },
  {
   "cell_type": "code",
   "execution_count": 315,
   "id": "6f4045e2",
   "metadata": {},
   "outputs": [
    {
     "data": {
      "text/html": [
       "<div>\n",
       "<style scoped>\n",
       "    .dataframe tbody tr th:only-of-type {\n",
       "        vertical-align: middle;\n",
       "    }\n",
       "\n",
       "    .dataframe tbody tr th {\n",
       "        vertical-align: top;\n",
       "    }\n",
       "\n",
       "    .dataframe thead th {\n",
       "        text-align: right;\n",
       "    }\n",
       "</style>\n",
       "<table border=\"1\" class=\"dataframe\">\n",
       "  <thead>\n",
       "    <tr style=\"text-align: right;\">\n",
       "      <th></th>\n",
       "      <th>Survived</th>\n",
       "      <th>Pclass</th>\n",
       "      <th>Sex</th>\n",
       "      <th>Age</th>\n",
       "      <th>SibSp</th>\n",
       "      <th>Parch</th>\n",
       "      <th>Fare</th>\n",
       "      <th>Cabin</th>\n",
       "      <th>Embarked</th>\n",
       "    </tr>\n",
       "  </thead>\n",
       "  <tbody>\n",
       "    <tr>\n",
       "      <th>0</th>\n",
       "      <td>0</td>\n",
       "      <td>3</td>\n",
       "      <td>1</td>\n",
       "      <td>22.0</td>\n",
       "      <td>1</td>\n",
       "      <td>0</td>\n",
       "      <td>7.2500</td>\n",
       "      <td>47</td>\n",
       "      <td>2</td>\n",
       "    </tr>\n",
       "    <tr>\n",
       "      <th>1</th>\n",
       "      <td>1</td>\n",
       "      <td>1</td>\n",
       "      <td>0</td>\n",
       "      <td>38.0</td>\n",
       "      <td>1</td>\n",
       "      <td>0</td>\n",
       "      <td>71.2833</td>\n",
       "      <td>81</td>\n",
       "      <td>0</td>\n",
       "    </tr>\n",
       "    <tr>\n",
       "      <th>2</th>\n",
       "      <td>1</td>\n",
       "      <td>3</td>\n",
       "      <td>0</td>\n",
       "      <td>26.0</td>\n",
       "      <td>0</td>\n",
       "      <td>0</td>\n",
       "      <td>7.9250</td>\n",
       "      <td>47</td>\n",
       "      <td>2</td>\n",
       "    </tr>\n",
       "    <tr>\n",
       "      <th>3</th>\n",
       "      <td>1</td>\n",
       "      <td>1</td>\n",
       "      <td>0</td>\n",
       "      <td>35.0</td>\n",
       "      <td>1</td>\n",
       "      <td>0</td>\n",
       "      <td>53.1000</td>\n",
       "      <td>55</td>\n",
       "      <td>2</td>\n",
       "    </tr>\n",
       "    <tr>\n",
       "      <th>4</th>\n",
       "      <td>0</td>\n",
       "      <td>3</td>\n",
       "      <td>1</td>\n",
       "      <td>35.0</td>\n",
       "      <td>0</td>\n",
       "      <td>0</td>\n",
       "      <td>8.0500</td>\n",
       "      <td>47</td>\n",
       "      <td>2</td>\n",
       "    </tr>\n",
       "    <tr>\n",
       "      <th>...</th>\n",
       "      <td>...</td>\n",
       "      <td>...</td>\n",
       "      <td>...</td>\n",
       "      <td>...</td>\n",
       "      <td>...</td>\n",
       "      <td>...</td>\n",
       "      <td>...</td>\n",
       "      <td>...</td>\n",
       "      <td>...</td>\n",
       "    </tr>\n",
       "    <tr>\n",
       "      <th>886</th>\n",
       "      <td>0</td>\n",
       "      <td>2</td>\n",
       "      <td>1</td>\n",
       "      <td>27.0</td>\n",
       "      <td>0</td>\n",
       "      <td>0</td>\n",
       "      <td>13.0000</td>\n",
       "      <td>47</td>\n",
       "      <td>2</td>\n",
       "    </tr>\n",
       "    <tr>\n",
       "      <th>887</th>\n",
       "      <td>1</td>\n",
       "      <td>1</td>\n",
       "      <td>0</td>\n",
       "      <td>19.0</td>\n",
       "      <td>0</td>\n",
       "      <td>0</td>\n",
       "      <td>30.0000</td>\n",
       "      <td>30</td>\n",
       "      <td>2</td>\n",
       "    </tr>\n",
       "    <tr>\n",
       "      <th>888</th>\n",
       "      <td>0</td>\n",
       "      <td>3</td>\n",
       "      <td>0</td>\n",
       "      <td>24.0</td>\n",
       "      <td>1</td>\n",
       "      <td>2</td>\n",
       "      <td>23.4500</td>\n",
       "      <td>47</td>\n",
       "      <td>2</td>\n",
       "    </tr>\n",
       "    <tr>\n",
       "      <th>889</th>\n",
       "      <td>1</td>\n",
       "      <td>1</td>\n",
       "      <td>1</td>\n",
       "      <td>26.0</td>\n",
       "      <td>0</td>\n",
       "      <td>0</td>\n",
       "      <td>30.0000</td>\n",
       "      <td>60</td>\n",
       "      <td>0</td>\n",
       "    </tr>\n",
       "    <tr>\n",
       "      <th>890</th>\n",
       "      <td>0</td>\n",
       "      <td>3</td>\n",
       "      <td>1</td>\n",
       "      <td>32.0</td>\n",
       "      <td>0</td>\n",
       "      <td>0</td>\n",
       "      <td>7.7500</td>\n",
       "      <td>47</td>\n",
       "      <td>1</td>\n",
       "    </tr>\n",
       "  </tbody>\n",
       "</table>\n",
       "<p>891 rows × 9 columns</p>\n",
       "</div>"
      ],
      "text/plain": [
       "     Survived  Pclass  Sex   Age  SibSp  Parch     Fare  Cabin  Embarked\n",
       "0           0       3    1  22.0      1      0   7.2500     47         2\n",
       "1           1       1    0  38.0      1      0  71.2833     81         0\n",
       "2           1       3    0  26.0      0      0   7.9250     47         2\n",
       "3           1       1    0  35.0      1      0  53.1000     55         2\n",
       "4           0       3    1  35.0      0      0   8.0500     47         2\n",
       "..        ...     ...  ...   ...    ...    ...      ...    ...       ...\n",
       "886         0       2    1  27.0      0      0  13.0000     47         2\n",
       "887         1       1    0  19.0      0      0  30.0000     30         2\n",
       "888         0       3    0  24.0      1      2  23.4500     47         2\n",
       "889         1       1    1  26.0      0      0  30.0000     60         0\n",
       "890         0       3    1  32.0      0      0   7.7500     47         1\n",
       "\n",
       "[891 rows x 9 columns]"
      ]
     },
     "execution_count": 315,
     "metadata": {},
     "output_type": "execute_result"
    }
   ],
   "source": [
    "titan"
   ]
  },
  {
   "cell_type": "markdown",
   "id": "40fbdb39",
   "metadata": {},
   "source": [
    "### Some Import things--"
   ]
  },
  {
   "cell_type": "markdown",
   "id": "b5bf796c",
   "metadata": {},
   "source": [
    "Survived - 0 = NO\n",
    "           1 = Yes\n",
    "\n",
    "Pclass= -  1 = Upper\n",
    "           2 = MIddle\n",
    "           3 = Lower\n",
    "        \n",
    "Embarked - C(0) = Cherbourg Q(1) = Queenstown S(2) = Southampton     \n",
    "\n",
    "Sex - 0 =  Female\n",
    "      1 =  Male"
   ]
  },
  {
   "cell_type": "markdown",
   "id": "a53db1d0",
   "metadata": {},
   "source": [
    "# EDA\n",
    "###### Exploratory Data Analysis (EDA): \n",
    "    EDA process will give us the batter understanding towards the pattern of Dataset"
   ]
  },
  {
   "cell_type": "code",
   "execution_count": 316,
   "id": "5be17bf9",
   "metadata": {},
   "outputs": [
    {
     "data": {
      "text/plain": [
       "<AxesSubplot:xlabel='Sex', ylabel='count'>"
      ]
     },
     "execution_count": 316,
     "metadata": {},
     "output_type": "execute_result"
    },
    {
     "data": {
      "image/png": "[encoded data removed]",
      "text/plain": [
       "<Figure size 432x288 with 1 Axes>"
      ]
     },
     "metadata": {
      "needs_background": "light"
     },
     "output_type": "display_data"
    }
   ],
   "source": [
    "sns.countplot(titan['Sex']) # 0 = Female # 1 = Male"
   ]
  },
  {
   "cell_type": "code",
   "execution_count": 317,
   "id": "78b85f08",
   "metadata": {},
   "outputs": [
    {
     "data": {
      "text/plain": [
       "<AxesSubplot:xlabel='SibSp', ylabel='count'>"
      ]
     },
     "execution_count": 317,
     "metadata": {},
     "output_type": "execute_result"
    },
    {
     "data": {
      "image/png": "[encoded data removed]",
      "text/plain": [
       "<Figure size 432x288 with 1 Axes>"
      ]
     },
     "metadata": {
      "needs_background": "light"
     },
     "output_type": "display_data"
    }
   ],
   "source": [
    "sns.countplot(titan['SibSp'],color='m')"
   ]
  },
  {
   "cell_type": "code",
   "execution_count": 318,
   "id": "79fe75c5",
   "metadata": {},
   "outputs": [
    {
     "data": {
      "text/plain": [
       "<AxesSubplot:xlabel='Pclass', ylabel='count'>"
      ]
     },
     "execution_count": 318,
     "metadata": {},
     "output_type": "execute_result"
    },
    {
     "data": {
      "image/png": "[encoded data removed]",
      "text/plain": [
       "<Figure size 432x288 with 1 Axes>"
      ]
     },
     "metadata": {
      "needs_background": "light"
     },
     "output_type": "display_data"
    }
   ],
   "source": [
    "sns.countplot(titan['Pclass'])"
   ]
  },
  {
   "cell_type": "code",
   "execution_count": 319,
   "id": "2b23e2ac",
   "metadata": {},
   "outputs": [
    {
     "data": {
      "text/plain": [
       "<AxesSubplot:xlabel='Parch', ylabel='count'>"
      ]
     },
     "execution_count": 319,
     "metadata": {},
     "output_type": "execute_result"
    },
    {
     "data": {
      "image/png": "[encoded data removed]",
      "text/plain": [
       "<Figure size 432x288 with 1 Axes>"
      ]
     },
     "metadata": {
      "needs_background": "light"
     },
     "output_type": "display_data"
    }
   ],
   "source": [
    "sns.countplot(titan['Parch'])"
   ]
  },
  {
   "cell_type": "code",
   "execution_count": 320,
   "id": "53717b36",
   "metadata": {},
   "outputs": [
    {
     "name": "stdout",
     "output_type": "stream",
     "text": [
      "0= No Survived\n",
      "1= Survived \n"
     ]
    },
    {
     "data": {
      "image/png": "[encoded data removed]",
      "text/plain": [
       "<Figure size 432x432 with 1 Axes>"
      ]
     },
     "metadata": {},
     "output_type": "display_data"
    }
   ],
   "source": [
    "print(\"0= No Survived\")\n",
    "print(\"1= Survived \")\n",
    "titan.Survived.value_counts().plot.pie(explode=[0.1,0.1],autopct=\"%1.1f%%\",shadow=True,figsize=(6,6))\n",
    "plt.show()"
   ]
  },
  {
   "cell_type": "code",
   "execution_count": 321,
   "id": "919b82a1",
   "metadata": {},
   "outputs": [
    {
     "data": {
      "text/plain": [
       "0    549\n",
       "1    342\n",
       "Name: Survived, dtype: int64"
      ]
     },
     "execution_count": 321,
     "metadata": {},
     "output_type": "execute_result"
    }
   ],
   "source": [
    "titan['Survived'].value_counts()"
   ]
  },
  {
   "cell_type": "code",
   "execution_count": 322,
   "id": "a568ead7",
   "metadata": {},
   "outputs": [
    {
     "data": {
      "text/plain": [
       "<AxesSubplot:xlabel='Embarked', ylabel='count'>"
      ]
     },
     "execution_count": 322,
     "metadata": {},
     "output_type": "execute_result"
    },
    {
     "data": {
      "image/png": "[encoded data removed]",
      "text/plain": [
       "<Figure size 432x288 with 1 Axes>"
      ]
     },
     "metadata": {
      "needs_background": "light"
     },
     "output_type": "display_data"
    }
   ],
   "source": [
    "sns.countplot(titan['Embarked'],color='c')"
   ]
  },
  {
   "cell_type": "markdown",
   "id": "fb55cd24",
   "metadata": {},
   "source": [
    "### Observation-2\n",
    "\n",
    "    1) Sex column shows that no. of male is Higher as compare to female.\n",
    "      Female-314\n",
    "      Male-577\n",
    "    \n",
    "    \n",
    "    2) Embarked column are divided into 3 types of ports:\n",
    "      A. Southampton(2)\n",
    "      B. Cherbourg(0)\n",
    "      C. Queenstown(1)\n",
    "      \n",
    "      \n",
    "    Southampton(2) population is higher as compare to Cherbourg(0) and Queenstown(1)\n",
    "    \n",
    "    \n",
    "    3) Survived column tell us that only two possibilities are present: either survived or not survived.\n",
    "     No. of not survived(549) is greater as compare to survived(342). It means plenty of the people present on the ship was unable to survive.\n",
    "     The survival rate is 61.6 % and unsurvived people's rate is 38.4 % .\n",
    "     \n",
    "     \n",
    "    4) The Economic Pclass are divided in three types of class: Upper, Middle and Lower. The no. of lower class is higher as compare to upper and middle class. It means that the population of middle class family was more.\n",
    "    \n",
    "    \n",
    "    5) Sibsp column shows the no. of sibling and spouses. \n",
    "    \n",
    "        A) Majority of people had no sibling .which were 600 in number.\n",
    "        B) 200 people had 1 sibling.\n",
    "        c) Around 20 people had 2 sibling.\n",
    "        D) similarly,15 people had 3 sibling.\n",
    "        E) Very less no of people had 4,5 and 8 siblings.\n",
    "        \n",
    "    6) Parch column is showing the no. of parents and children. \n",
    "       \n",
    "       A) Majority of the people had no children.\n",
    "       B) Around 105 people had only 1 child.\n",
    "       c) Around 95 people had 2 children.\n",
    "       D) Few people had 3, 4 and 5 children\n",
    "       \n",
    "       \n",
    "    "
   ]
  },
  {
   "cell_type": "code",
   "execution_count": 323,
   "id": "ee5e775c",
   "metadata": {},
   "outputs": [
    {
     "data": {
      "text/plain": [
       "<AxesSubplot:xlabel='Survived', ylabel='count'>"
      ]
     },
     "execution_count": 323,
     "metadata": {},
     "output_type": "execute_result"
    },
    {
     "data": {
      "image/png": "[encoded data removed]",
      "text/plain": [
       "<Figure size 432x288 with 1 Axes>"
      ]
     },
     "metadata": {
      "needs_background": "light"
     },
     "output_type": "display_data"
    }
   ],
   "source": [
    "sns.countplot(titan[\"Survived\"], hue=titan[\"Embarked\"])"
   ]
  },
  {
   "cell_type": "code",
   "execution_count": null,
   "id": "335598b8",
   "metadata": {},
   "outputs": [],
   "source": []
  },
  {
   "cell_type": "code",
   "execution_count": 324,
   "id": "3abe1654",
   "metadata": {},
   "outputs": [
    {
     "data": {
      "text/plain": [
       "<AxesSubplot:xlabel='Survived', ylabel='count'>"
      ]
     },
     "execution_count": 324,
     "metadata": {},
     "output_type": "execute_result"
    },
    {
     "data": {
      "image/png": "[encoded data removed]",
      "text/plain": [
       "<Figure size 432x288 with 1 Axes>"
      ]
     },
     "metadata": {
      "needs_background": "light"
     },
     "output_type": "display_data"
    }
   ],
   "source": [
    "sns.countplot(titan['Survived'], hue=titan['Sex'],color='y')"
   ]
  },
  {
   "cell_type": "code",
   "execution_count": 325,
   "id": "fff22cff",
   "metadata": {},
   "outputs": [
    {
     "data": {
      "text/plain": [
       "<AxesSubplot:xlabel='Survived', ylabel='count'>"
      ]
     },
     "execution_count": 325,
     "metadata": {},
     "output_type": "execute_result"
    },
    {
     "data": {
      "image/png": "[encoded data removed]",
      "text/plain": [
       "<Figure size 432x288 with 1 Axes>"
      ]
     },
     "metadata": {
      "needs_background": "light"
     },
     "output_type": "display_data"
    }
   ],
   "source": [
    "sns.countplot(titan['Survived'],hue=titan['Pclass'],color='r')"
   ]
  },
  {
   "cell_type": "code",
   "execution_count": 326,
   "id": "2eafc1a8",
   "metadata": {},
   "outputs": [
    {
     "data": {
      "text/plain": [
       "<AxesSubplot:xlabel='Survived', ylabel='count'>"
      ]
     },
     "execution_count": 326,
     "metadata": {},
     "output_type": "execute_result"
    },
    {
     "data": {
      "image/png": "[encoded data removed]",
      "text/plain": [
       "<Figure size 432x288 with 1 Axes>"
      ]
     },
     "metadata": {
      "needs_background": "light"
     },
     "output_type": "display_data"
    }
   ],
   "source": [
    "sns.countplot(titan['Survived'],hue=titan['Embarked'],color='g')"
   ]
  },
  {
   "cell_type": "code",
   "execution_count": 327,
   "id": "9aaf9a08",
   "metadata": {},
   "outputs": [
    {
     "data": {
      "text/plain": [
       "<seaborn.axisgrid.FacetGrid at 0x1ff22c846d0>"
      ]
     },
     "execution_count": 327,
     "metadata": {},
     "output_type": "execute_result"
    },
    {
     "data": {
      "image/png": "[encoded data removed]",
      "text/plain": [
       "<Figure size 432x216 with 2 Axes>"
      ]
     },
     "metadata": {
      "needs_background": "light"
     },
     "output_type": "display_data"
    }
   ],
   "source": [
    "fig= sns.FacetGrid(titan, col='Survived')\n",
    "fig.map(plt.hist, 'Age', bins=15)\n"
   ]
  },
  {
   "cell_type": "markdown",
   "id": "e8394499",
   "metadata": {},
   "source": [
    "### Observation-3"
   ]
  },
  {
   "cell_type": "markdown",
   "id": "b963d7c3",
   "metadata": {},
   "source": [
    "From the above observations:\n",
    "\n",
    "###### 1. Survived vs Sex - \n",
    "\n",
    "If we look the survival vs sex ,the result is very interesting, The Female more survived as compare to male.\n",
    "the survival population of female is something 235 and the survival rate of male is 107  .\n",
    "         \n",
    "   In the another side of coin , we have Un survived population . In this side the Male population (something 450) is very high means the male population was unable to survived as compare to female. The female population in Un survived side is less then 100.\n",
    "   \n",
    "###### 2. Survived vs Pclass -\n",
    "\n",
    "If we see the survived vs pclass, Lower class(3) population is more in Un survived side which is around 370 in numbers and those population is very less which belongs to upper class(1) and middle class(2).\n",
    "\n",
    "In the another side, Upper and lower class population is more survived as compare to middle class.\n",
    "\n",
    "###### 3. Survived vs Embarked - C(0) = Cherbourg Q(1) = Queenstown S(2) = Southampton\n",
    "\n",
    "According to this graph the people who were embarked from Queenstown survived more(around 200 people) as compare to Cherbourg  and Southampton people.\n",
    "\n",
    "###### 4. Survived vs Age -\n",
    "\n",
    "From the above graph, we can say that those people who belongs to Age group of 20-40 were more survived. And the interesting fact is this the children (Age<10) has high survival rate."
   ]
  },
  {
   "cell_type": "markdown",
   "id": "760430a9",
   "metadata": {},
   "source": [
    "###### Checking Outliers "
   ]
  },
  {
   "cell_type": "code",
   "execution_count": 328,
   "id": "92e93b5e",
   "metadata": {},
   "outputs": [
    {
     "data": {
      "text/html": [
       "<div>\n",
       "<style scoped>\n",
       "    .dataframe tbody tr th:only-of-type {\n",
       "        vertical-align: middle;\n",
       "    }\n",
       "\n",
       "    .dataframe tbody tr th {\n",
       "        vertical-align: top;\n",
       "    }\n",
       "\n",
       "    .dataframe thead th {\n",
       "        text-align: right;\n",
       "    }\n",
       "</style>\n",
       "<table border=\"1\" class=\"dataframe\">\n",
       "  <thead>\n",
       "    <tr style=\"text-align: right;\">\n",
       "      <th></th>\n",
       "      <th>Survived</th>\n",
       "      <th>Pclass</th>\n",
       "      <th>Sex</th>\n",
       "      <th>Age</th>\n",
       "      <th>SibSp</th>\n",
       "      <th>Parch</th>\n",
       "      <th>Fare</th>\n",
       "      <th>Cabin</th>\n",
       "      <th>Embarked</th>\n",
       "    </tr>\n",
       "  </thead>\n",
       "  <tbody>\n",
       "    <tr>\n",
       "      <th>count</th>\n",
       "      <td>891.000000</td>\n",
       "      <td>891.000000</td>\n",
       "      <td>891.000000</td>\n",
       "      <td>891.000000</td>\n",
       "      <td>891.000000</td>\n",
       "      <td>891.000000</td>\n",
       "      <td>891.000000</td>\n",
       "      <td>891.000000</td>\n",
       "      <td>891.000000</td>\n",
       "    </tr>\n",
       "    <tr>\n",
       "      <th>mean</th>\n",
       "      <td>0.383838</td>\n",
       "      <td>2.308642</td>\n",
       "      <td>0.647587</td>\n",
       "      <td>28.566970</td>\n",
       "      <td>0.523008</td>\n",
       "      <td>0.381594</td>\n",
       "      <td>32.204208</td>\n",
       "      <td>53.639731</td>\n",
       "      <td>1.536476</td>\n",
       "    </tr>\n",
       "    <tr>\n",
       "      <th>std</th>\n",
       "      <td>0.486592</td>\n",
       "      <td>0.836071</td>\n",
       "      <td>0.477990</td>\n",
       "      <td>13.199572</td>\n",
       "      <td>1.102743</td>\n",
       "      <td>0.806057</td>\n",
       "      <td>49.693429</td>\n",
       "      <td>23.568293</td>\n",
       "      <td>0.791503</td>\n",
       "    </tr>\n",
       "    <tr>\n",
       "      <th>min</th>\n",
       "      <td>0.000000</td>\n",
       "      <td>1.000000</td>\n",
       "      <td>0.000000</td>\n",
       "      <td>0.420000</td>\n",
       "      <td>0.000000</td>\n",
       "      <td>0.000000</td>\n",
       "      <td>0.000000</td>\n",
       "      <td>0.000000</td>\n",
       "      <td>0.000000</td>\n",
       "    </tr>\n",
       "    <tr>\n",
       "      <th>25%</th>\n",
       "      <td>0.000000</td>\n",
       "      <td>2.000000</td>\n",
       "      <td>0.000000</td>\n",
       "      <td>22.000000</td>\n",
       "      <td>0.000000</td>\n",
       "      <td>0.000000</td>\n",
       "      <td>7.910400</td>\n",
       "      <td>47.000000</td>\n",
       "      <td>1.000000</td>\n",
       "    </tr>\n",
       "    <tr>\n",
       "      <th>50%</th>\n",
       "      <td>0.000000</td>\n",
       "      <td>3.000000</td>\n",
       "      <td>1.000000</td>\n",
       "      <td>24.000000</td>\n",
       "      <td>0.000000</td>\n",
       "      <td>0.000000</td>\n",
       "      <td>14.454200</td>\n",
       "      <td>47.000000</td>\n",
       "      <td>2.000000</td>\n",
       "    </tr>\n",
       "    <tr>\n",
       "      <th>75%</th>\n",
       "      <td>1.000000</td>\n",
       "      <td>3.000000</td>\n",
       "      <td>1.000000</td>\n",
       "      <td>35.000000</td>\n",
       "      <td>1.000000</td>\n",
       "      <td>0.000000</td>\n",
       "      <td>31.000000</td>\n",
       "      <td>47.000000</td>\n",
       "      <td>2.000000</td>\n",
       "    </tr>\n",
       "    <tr>\n",
       "      <th>max</th>\n",
       "      <td>1.000000</td>\n",
       "      <td>3.000000</td>\n",
       "      <td>1.000000</td>\n",
       "      <td>80.000000</td>\n",
       "      <td>8.000000</td>\n",
       "      <td>6.000000</td>\n",
       "      <td>512.329200</td>\n",
       "      <td>146.000000</td>\n",
       "      <td>2.000000</td>\n",
       "    </tr>\n",
       "  </tbody>\n",
       "</table>\n",
       "</div>"
      ],
      "text/plain": [
       "         Survived      Pclass         Sex         Age       SibSp       Parch  \\\n",
       "count  891.000000  891.000000  891.000000  891.000000  891.000000  891.000000   \n",
       "mean     0.383838    2.308642    0.647587   28.566970    0.523008    0.381594   \n",
       "std      0.486592    0.836071    0.477990   13.199572    1.102743    0.806057   \n",
       "min      0.000000    1.000000    0.000000    0.420000    0.000000    0.000000   \n",
       "25%      0.000000    2.000000    0.000000   22.000000    0.000000    0.000000   \n",
       "50%      0.000000    3.000000    1.000000   24.000000    0.000000    0.000000   \n",
       "75%      1.000000    3.000000    1.000000   35.000000    1.000000    0.000000   \n",
       "max      1.000000    3.000000    1.000000   80.000000    8.000000    6.000000   \n",
       "\n",
       "             Fare       Cabin    Embarked  \n",
       "count  891.000000  891.000000  891.000000  \n",
       "mean    32.204208   53.639731    1.536476  \n",
       "std     49.693429   23.568293    0.791503  \n",
       "min      0.000000    0.000000    0.000000  \n",
       "25%      7.910400   47.000000    1.000000  \n",
       "50%     14.454200   47.000000    2.000000  \n",
       "75%     31.000000   47.000000    2.000000  \n",
       "max    512.329200  146.000000    2.000000  "
      ]
     },
     "execution_count": 328,
     "metadata": {},
     "output_type": "execute_result"
    }
   ],
   "source": [
    "titan.describe()"
   ]
  },
  {
   "cell_type": "code",
   "execution_count": 329,
   "id": "c72449ad",
   "metadata": {},
   "outputs": [
    {
     "data": {
      "text/plain": [
       "Survived       AxesSubplot(0.125,0.536818;0.133621x0.343182)\n",
       "Pclass      AxesSubplot(0.285345,0.536818;0.133621x0.343182)\n",
       "Sex          AxesSubplot(0.44569,0.536818;0.133621x0.343182)\n",
       "Age         AxesSubplot(0.606034,0.536818;0.133621x0.343182)\n",
       "SibSp       AxesSubplot(0.766379,0.536818;0.133621x0.343182)\n",
       "Parch             AxesSubplot(0.125,0.125;0.133621x0.343182)\n",
       "Fare           AxesSubplot(0.285345,0.125;0.133621x0.343182)\n",
       "Cabin           AxesSubplot(0.44569,0.125;0.133621x0.343182)\n",
       "Embarked       AxesSubplot(0.606034,0.125;0.133621x0.343182)\n",
       "dtype: object"
      ]
     },
     "execution_count": 329,
     "metadata": {},
     "output_type": "execute_result"
    },
    {
     "data": {
      "image/png": "[encoded data removed]",
      "text/plain": [
       "<Figure size 1440x576 with 10 Axes>"
      ]
     },
     "metadata": {
      "needs_background": "light"
     },
     "output_type": "display_data"
    }
   ],
   "source": [
    "titan.plot(kind='box',subplots=True,layout=(2,5),figsize=[20,8],color='r')"
   ]
  },
  {
   "cell_type": "code",
   "execution_count": 330,
   "id": "ad317e9f",
   "metadata": {},
   "outputs": [
    {
     "data": {
      "text/plain": [
       "<AxesSubplot:xlabel='Age', ylabel='Survived'>"
      ]
     },
     "execution_count": 330,
     "metadata": {},
     "output_type": "execute_result"
    },
    {
     "data": {
      "image/png": "[encoded data removed]",
      "text/plain": [
       "<Figure size 720x432 with 1 Axes>"
      ]
     },
     "metadata": {
      "needs_background": "light"
     },
     "output_type": "display_data"
    }
   ],
   "source": [
    "plt.figure(figsize=(10,6))\n",
    "sns.scatterplot(titan['Age'], titan['Survived'],data=titan)"
   ]
  },
  {
   "cell_type": "code",
   "execution_count": 331,
   "id": "d7a7c943",
   "metadata": {},
   "outputs": [
    {
     "data": {
      "text/plain": [
       "<AxesSubplot:xlabel='Fare', ylabel='Survived'>"
      ]
     },
     "execution_count": 331,
     "metadata": {},
     "output_type": "execute_result"
    },
    {
     "data": {
      "image/png": "[encoded data removed]",
      "text/plain": [
       "<Figure size 720x432 with 1 Axes>"
      ]
     },
     "metadata": {
      "needs_background": "light"
     },
     "output_type": "display_data"
    }
   ],
   "source": [
    "plt.figure(figsize=(10,6))\n",
    "sns.scatterplot(titan['Fare'], titan['Survived'],data=titan)"
   ]
  },
  {
   "cell_type": "code",
   "execution_count": 332,
   "id": "8316cf62",
   "metadata": {},
   "outputs": [
    {
     "data": {
      "text/plain": [
       "<AxesSubplot:xlabel='SibSp', ylabel='Survived'>"
      ]
     },
     "execution_count": 332,
     "metadata": {},
     "output_type": "execute_result"
    },
    {
     "data": {
      "image/png": "[encoded data removed]",
      "text/plain": [
       "<Figure size 720x432 with 1 Axes>"
      ]
     },
     "metadata": {
      "needs_background": "light"
     },
     "output_type": "display_data"
    }
   ],
   "source": [
    "plt.figure(figsize=(10,6))\n",
    "sns.scatterplot(titan['SibSp'],titan['Survived'],data=titan)"
   ]
  },
  {
   "cell_type": "markdown",
   "id": "a140d346",
   "metadata": {},
   "source": [
    "### Observation-4\n",
    "\n",
    "In the above datasets some columns have outliers.\n",
    "\n",
    "1) As we can see, cabin column has outliers. For example, the max values is 146 while its mean is 53 .The mean is sensitive to outliers but the fact that mean is so small compared to the max value indicates the outliers are present.\n",
    "\n",
    "2) Similarly, the max Age is 80 while the mean age is 29,we can say outliers are present.\n",
    "\n",
    "3) Same in the Sibsp 75th percentile value is 1 while max sibsp is 8, this condition shows the presence of outliers.\n",
    "\n",
    "4) Similarly, the max fare is 512 while the mean fare is 32,we can say outliers are present.\n",
    "\n",
    "5) Pclass, Embarked, sex and Survived columns do not have any outliers, because the gap between max and mean is negligible. "
   ]
  },
  {
   "cell_type": "markdown",
   "id": "59b2398c",
   "metadata": {},
   "source": [
    ".\n",
    "\n",
    "###### Checking Skewness"
   ]
  },
  {
   "cell_type": "code",
   "execution_count": 333,
   "id": "db7040e8",
   "metadata": {},
   "outputs": [
    {
     "data": {
      "text/plain": [
       "Survived    0.478523\n",
       "Pclass     -0.630548\n",
       "Sex        -0.618921\n",
       "Age         0.657753\n",
       "SibSp       3.695352\n",
       "Parch       2.749117\n",
       "Fare        4.787317\n",
       "Cabin       2.268926\n",
       "Embarked   -1.264823\n",
       "dtype: float64"
      ]
     },
     "execution_count": 333,
     "metadata": {},
     "output_type": "execute_result"
    }
   ],
   "source": [
    "titan.skew()"
   ]
  },
  {
   "cell_type": "code",
   "execution_count": 334,
   "id": "08a61113",
   "metadata": {},
   "outputs": [
    {
     "data": {
      "image/png": "[encoded data removed]",
      "text/plain": [
       "<Figure size 1080x720 with 9 Axes>"
      ]
     },
     "metadata": {
      "needs_background": "light"
     },
     "output_type": "display_data"
    }
   ],
   "source": [
    "titan.hist(figsize=(15,10))\n",
    "plt.show()"
   ]
  },
  {
   "cell_type": "markdown",
   "id": "19fc3dd1",
   "metadata": {},
   "source": [
    "### Observation-5:\n",
    "\n",
    "In the above dataset most of the columns has skewness :\n",
    "\n",
    "* High skewness represents data imbalancy.\n",
    "\n",
    "* Less skewness represents that our data are equally distributed.\n",
    "\n",
    "1) Fare(4.78) and Sibsp(3.6) columns are highly skewed or we can say high skewness are present in these columns.\n",
    "\n",
    "2) In Parch(2.7), Cabin(2.26) columns are showing high skewness.\n",
    "\n",
    "3) Embarked column showing negative(-1.23) skewd data.\n",
    "\n",
    "4) similarly, Pclass has also showing some negative skewness.\n",
    "\n",
    "skewness by Describe method :\n",
    "\n",
    "5) In parch column mean is 0.38 and median is 0, i.e. mean is greater then median showing skewness.\n",
    "\n",
    "6) In fare column mean is 32.20 and median is 31, i.e. mean is greater then median showing some skewness.\n",
    "\n",
    "6) Cabin column also has some skewness because mean is 53.63 and median is 47, i.e. mean is greater then median."
   ]
  },
  {
   "cell_type": "markdown",
   "id": "37285177",
   "metadata": {},
   "source": [
    ".\n",
    "\n",
    "\n",
    "###### Checking Correlation :"
   ]
  },
  {
   "cell_type": "code",
   "execution_count": 335,
   "id": "4483cac9",
   "metadata": {},
   "outputs": [],
   "source": [
    "Target_survived=titan.iloc[:,0]"
   ]
  },
  {
   "cell_type": "code",
   "execution_count": 336,
   "id": "ba6d9598",
   "metadata": {},
   "outputs": [],
   "source": [
    "titan[\"Target_survived\"]=Target_survived"
   ]
  },
  {
   "cell_type": "code",
   "execution_count": 337,
   "id": "d74223b4",
   "metadata": {},
   "outputs": [],
   "source": [
    "titan.drop(['Survived'],axis=1,inplace=True)"
   ]
  },
  {
   "cell_type": "code",
   "execution_count": 338,
   "id": "32efc8ab",
   "metadata": {},
   "outputs": [
    {
     "data": {
      "text/plain": [
       "Sex               -0.543351\n",
       "Pclass            -0.338481\n",
       "Embarked          -0.167675\n",
       "Age               -0.052872\n",
       "SibSp             -0.035322\n",
       "Parch              0.081629\n",
       "Cabin              0.175690\n",
       "Fare               0.257307\n",
       "Target_survived    1.000000\n",
       "Name: Target_survived, dtype: float64"
      ]
     },
     "execution_count": 338,
     "metadata": {},
     "output_type": "execute_result"
    }
   ],
   "source": [
    "pp=titan.corr()['Target_survived'].sort_values()\n",
    "pp"
   ]
  },
  {
   "cell_type": "code",
   "execution_count": 339,
   "id": "a8286025",
   "metadata": {},
   "outputs": [
    {
     "data": {
      "image/png": "[encoded data removed]",
      "text/plain": [
       "<Figure size 864x504 with 2 Axes>"
      ]
     },
     "metadata": {
      "needs_background": "light"
     },
     "output_type": "display_data"
    }
   ],
   "source": [
    "plt.figure(figsize=(12,7))\n",
    "sns.heatmap(titan.corr(),annot=True,cmap=\"Blues\")\n",
    "plt.show()"
   ]
  },
  {
   "cell_type": "code",
   "execution_count": 340,
   "id": "9cdba8a2",
   "metadata": {},
   "outputs": [
    {
     "data": {
      "text/plain": [
       "<AxesSubplot:xlabel='SibSp', ylabel='Parch'>"
      ]
     },
     "execution_count": 340,
     "metadata": {},
     "output_type": "execute_result"
    },
    {
     "data": {
      "image/png": "[encoded data removed]",
      "text/plain": [
       "<Figure size 432x288 with 1 Axes>"
      ]
     },
     "metadata": {
      "needs_background": "light"
     },
     "output_type": "display_data"
    }
   ],
   "source": [
    "sns.lineplot(data=titan,x='SibSp',y='Parch')"
   ]
  },
  {
   "cell_type": "code",
   "execution_count": 341,
   "id": "ead01f06",
   "metadata": {},
   "outputs": [
    {
     "data": {
      "text/plain": [
       "<AxesSubplot:xlabel='Parch', ylabel='Cabin'>"
      ]
     },
     "execution_count": 341,
     "metadata": {},
     "output_type": "execute_result"
    },
    {
     "data": {
      "image/png": "[encoded data removed]",
      "text/plain": [
       "<Figure size 432x288 with 1 Axes>"
      ]
     },
     "metadata": {
      "needs_background": "light"
     },
     "output_type": "display_data"
    }
   ],
   "source": [
    "sns.lineplot(data=titan,x='Parch',y='Cabin')"
   ]
  },
  {
   "cell_type": "code",
   "execution_count": 342,
   "id": "79358dae",
   "metadata": {},
   "outputs": [
    {
     "data": {
      "text/plain": [
       "<AxesSubplot:xlabel='Parch', ylabel='Fare'>"
      ]
     },
     "execution_count": 342,
     "metadata": {},
     "output_type": "execute_result"
    },
    {
     "data": {
      "image/png": "[encoded data removed]",
      "text/plain": [
       "<Figure size 432x288 with 1 Axes>"
      ]
     },
     "metadata": {
      "needs_background": "light"
     },
     "output_type": "display_data"
    }
   ],
   "source": [
    "sns.lineplot(data=titan,x='Parch',y='Fare')"
   ]
  },
  {
   "cell_type": "code",
   "execution_count": 343,
   "id": "8d4aed7b",
   "metadata": {},
   "outputs": [
    {
     "data": {
      "text/plain": [
       "<AxesSubplot:xlabel='Target_survived', ylabel='Parch'>"
      ]
     },
     "execution_count": 343,
     "metadata": {},
     "output_type": "execute_result"
    },
    {
     "data": {
      "image/png": "[encoded data removed]",
      "text/plain": [
       "<Figure size 432x288 with 1 Axes>"
      ]
     },
     "metadata": {
      "needs_background": "light"
     },
     "output_type": "display_data"
    }
   ],
   "source": [
    "sns.lineplot(data=titan,x='Target_survived',y='Parch')"
   ]
  },
  {
   "cell_type": "markdown",
   "id": "0c5eff66",
   "metadata": {},
   "source": [
    "### Observation-6\n",
    "\n",
    "From the above outcomes we can say that:\n",
    "\n",
    "we are considering a good bond when the correlation is in the range of -0.5 to +0.5 .\n",
    "\n",
    "There is no good correlation between the columns. we can not say that any of two columns is making a strong bond.\n",
    "so there are no chances to adopt multicollinearity(VIF).\n",
    "\n",
    "1. Sex and Embarked column has negative correlation with the target column which can be considered as a poor bond.\n",
    "\n",
    "\n",
    "2. Parch columns has 8.2 percent correlation with the target column which can be considered as weak bond.\n",
    "\n",
    "\n",
    "3. Fare has 26 percent correlation with the target column which can be considered as a good bond.\n",
    "\n",
    "\n",
    "4. Pclass and  Sbsp column has negative correlation with the target column which can be considered as a poor bond.\n",
    "\n",
    "\n",
    "5. Cabin column has 18 percent correlation with target column , which can be considered as a avg.bond.\n",
    "\n",
    "\n",
    "6. SibSp and Parch column has normal correlation with each other ,if one increases second also increases.\n",
    "\n",
    "\n",
    "7. Increase in no. of parents and children is increasing the cabin till the point 3rd . More then 3 parents and children used."
   ]
  },
  {
   "cell_type": "markdown",
   "id": "5049a9ac",
   "metadata": {},
   "source": [
    "# Data preprocessing"
   ]
  },
  {
   "cell_type": "code",
   "execution_count": 344,
   "id": "280ce7e0",
   "metadata": {},
   "outputs": [],
   "source": [
    "x=titan.iloc[:,0:-1]\n",
    "y=titan.iloc[:,-1]"
   ]
  },
  {
   "cell_type": "code",
   "execution_count": 345,
   "id": "c6a8bde7",
   "metadata": {},
   "outputs": [
    {
     "data": {
      "text/plain": [
       "(891, 8)"
      ]
     },
     "execution_count": 345,
     "metadata": {},
     "output_type": "execute_result"
    }
   ],
   "source": [
    "x.shape"
   ]
  },
  {
   "cell_type": "code",
   "execution_count": 346,
   "id": "d6aae656",
   "metadata": {},
   "outputs": [
    {
     "data": {
      "text/plain": [
       "(891,)"
      ]
     },
     "execution_count": 346,
     "metadata": {},
     "output_type": "execute_result"
    }
   ],
   "source": [
    "y.shape"
   ]
  },
  {
   "cell_type": "code",
   "execution_count": 347,
   "id": "e9ac2ad6",
   "metadata": {},
   "outputs": [
    {
     "data": {
      "text/plain": [
       "Index(['Pclass', 'Sex', 'Age', 'SibSp', 'Parch', 'Fare', 'Cabin', 'Embarked'], dtype='object')"
      ]
     },
     "execution_count": 347,
     "metadata": {},
     "output_type": "execute_result"
    }
   ],
   "source": [
    "xcl=x.columns\n",
    "xcl"
   ]
  },
  {
   "cell_type": "markdown",
   "id": "17cef6ab",
   "metadata": {},
   "source": [
    ".\n",
    "\n",
    "##### Removing Outliers"
   ]
  },
  {
   "cell_type": "code",
   "execution_count": 348,
   "id": "3e383103",
   "metadata": {},
   "outputs": [],
   "source": [
    "import scipy\n",
    "from scipy.stats import zscore"
   ]
  },
  {
   "cell_type": "code",
   "execution_count": 349,
   "id": "93faee7d",
   "metadata": {},
   "outputs": [
    {
     "data": {
      "text/plain": [
       "(891, 8)"
      ]
     },
     "execution_count": 349,
     "metadata": {},
     "output_type": "execute_result"
    }
   ],
   "source": [
    "z=np.abs(zscore(x))\n",
    "z.shape"
   ]
  },
  {
   "cell_type": "code",
   "execution_count": 350,
   "id": "7ff7c1ee",
   "metadata": {},
   "outputs": [
    {
     "name": "stdout",
     "output_type": "stream",
     "text": [
      "(array([  6,  10,  13,  16,  25,  27,  50,  59,  66,  68,  71,  75,  86,\n",
      "        88,  96, 116, 118, 119, 128, 148, 159, 164, 167, 171, 180, 182,\n",
      "       183, 193, 201, 205, 233, 251, 258, 261, 262, 266, 278, 299, 309,\n",
      "       311, 324, 337, 339, 340, 341, 345, 360, 370, 377, 380, 386, 394,\n",
      "       434, 437, 438, 438, 456, 462, 480, 493, 516, 527, 541, 542, 557,\n",
      "       558, 567, 577, 585, 610, 618, 630, 638, 662, 672, 678, 679, 683,\n",
      "       686, 689, 699, 700, 715, 716, 724, 730, 736, 737, 742, 745, 772,\n",
      "       774, 776, 779, 787, 792, 809, 813, 824, 835, 846, 850, 851, 858,\n",
      "       863, 885], dtype=int64), array([6, 6, 4, 3, 4, 5, 3, 3, 6, 3, 3, 6, 4, 5, 2, 2, 5, 3, 6, 6, 3, 3,\n",
      "       4, 3, 3, 3, 6, 6, 3, 6, 3, 6, 5, 3, 6, 3, 3, 5, 6, 5, 3, 6, 6, 6,\n",
      "       5, 6, 4, 6, 5, 5, 3, 6, 6, 4, 4, 5, 6, 6, 3, 2, 6, 5, 3, 3, 5, 6,\n",
      "       4, 6, 6, 4, 6, 2, 4, 6, 2, 4, 5, 3, 3, 5, 6, 5, 6, 5, 6, 5, 4, 5,\n",
      "       5, 2, 6, 4, 6, 5, 3, 3, 6, 3, 3, 6, 3, 3, 2, 4, 3, 4], dtype=int64))\n"
     ]
    }
   ],
   "source": [
    "threshold=3\n",
    "print(np.where(z>3))"
   ]
  },
  {
   "cell_type": "code",
   "execution_count": 351,
   "id": "cb3cd77a",
   "metadata": {},
   "outputs": [],
   "source": [
    "x=x[(z<3).all(axis=1)]"
   ]
  },
  {
   "cell_type": "code",
   "execution_count": 352,
   "id": "c463401c",
   "metadata": {},
   "outputs": [],
   "source": [
    "y=y[(z<3).all(axis=1)]"
   ]
  },
  {
   "cell_type": "code",
   "execution_count": 353,
   "id": "a1d26fdf",
   "metadata": {},
   "outputs": [
    {
     "name": "stdout",
     "output_type": "stream",
     "text": [
      "size of x is (786, 8)\n",
      "size of y is (786,)\n"
     ]
    }
   ],
   "source": [
    "print(\"size of x is\",x.shape)\n",
    "print(\"size of y is\",y.shape)"
   ]
  },
  {
   "cell_type": "markdown",
   "id": "4236746e",
   "metadata": {},
   "source": [
    ".\n",
    "\n",
    "##### Removing Skewness\n",
    "\n",
    "We are using power transformation technique to remove skeness"
   ]
  },
  {
   "cell_type": "code",
   "execution_count": 354,
   "id": "0a150b81",
   "metadata": {},
   "outputs": [],
   "source": [
    "from sklearn.preprocessing import power_transform"
   ]
  },
  {
   "cell_type": "code",
   "execution_count": 355,
   "id": "ba285b44",
   "metadata": {},
   "outputs": [],
   "source": [
    "x=power_transform(x,method='yeo-johnson')"
   ]
  },
  {
   "cell_type": "code",
   "execution_count": 356,
   "id": "8a42f8a7",
   "metadata": {},
   "outputs": [
    {
     "data": {
      "text/plain": [
       "array([[ 0.85539573,  0.711159  , -0.49270048, ..., -0.81137417,\n",
       "        -0.15241316,  0.6138499 ],\n",
       "       [-1.49437355, -1.4061553 ,  0.79941695, ...,  1.57732674,\n",
       "         1.71485526, -1.77563521],\n",
       "       [ 0.85539573, -1.4061553 , -0.15175191, ..., -0.71962956,\n",
       "        -0.15241316,  0.6138499 ],\n",
       "       ...,\n",
       "       [ 0.85539573, -1.4061553 , -0.32040217, ...,  0.42078696,\n",
       "        -0.15241316,  0.6138499 ],\n",
       "       [-1.49437355,  0.711159  , -0.15175191, ...,  0.68010369,\n",
       "         0.61986458, -1.77563521],\n",
       "       [ 0.85539573,  0.711159  ,  0.33545488, ..., -0.74269295,\n",
       "        -0.15241316, -1.22675332]])"
      ]
     },
     "execution_count": 356,
     "metadata": {},
     "output_type": "execute_result"
    }
   ],
   "source": [
    "x"
   ]
  },
  {
   "cell_type": "markdown",
   "id": "ced18c20",
   "metadata": {},
   "source": [
    ".\n",
    "\n",
    "##### Adopting Scaling technique to scale the data"
   ]
  },
  {
   "cell_type": "code",
   "execution_count": 357,
   "id": "c3841b9f",
   "metadata": {},
   "outputs": [],
   "source": [
    "from sklearn.preprocessing import StandardScaler"
   ]
  },
  {
   "cell_type": "code",
   "execution_count": 358,
   "id": "419d6986",
   "metadata": {},
   "outputs": [],
   "source": [
    "sc=StandardScaler()"
   ]
  },
  {
   "cell_type": "code",
   "execution_count": 359,
   "id": "ec7deee5",
   "metadata": {},
   "outputs": [],
   "source": [
    "x=sc.fit_transform(x)"
   ]
  },
  {
   "cell_type": "code",
   "execution_count": 360,
   "id": "0c2e7149",
   "metadata": {},
   "outputs": [
    {
     "data": {
      "text/html": [
       "<div>\n",
       "<style scoped>\n",
       "    .dataframe tbody tr th:only-of-type {\n",
       "        vertical-align: middle;\n",
       "    }\n",
       "\n",
       "    .dataframe tbody tr th {\n",
       "        vertical-align: top;\n",
       "    }\n",
       "\n",
       "    .dataframe thead th {\n",
       "        text-align: right;\n",
       "    }\n",
       "</style>\n",
       "<table border=\"1\" class=\"dataframe\">\n",
       "  <thead>\n",
       "    <tr style=\"text-align: right;\">\n",
       "      <th></th>\n",
       "      <th>Pclass</th>\n",
       "      <th>Sex</th>\n",
       "      <th>Age</th>\n",
       "      <th>SibSp</th>\n",
       "      <th>Parch</th>\n",
       "      <th>Fare</th>\n",
       "      <th>Cabin</th>\n",
       "      <th>Embarked</th>\n",
       "    </tr>\n",
       "  </thead>\n",
       "  <tbody>\n",
       "    <tr>\n",
       "      <th>0</th>\n",
       "      <td>0.855396</td>\n",
       "      <td>0.711159</td>\n",
       "      <td>-0.492700</td>\n",
       "      <td>1.579823</td>\n",
       "      <td>-0.469563</td>\n",
       "      <td>-0.811374</td>\n",
       "      <td>-0.152413</td>\n",
       "      <td>0.613850</td>\n",
       "    </tr>\n",
       "    <tr>\n",
       "      <th>1</th>\n",
       "      <td>-1.494374</td>\n",
       "      <td>-1.406155</td>\n",
       "      <td>0.799417</td>\n",
       "      <td>1.579823</td>\n",
       "      <td>-0.469563</td>\n",
       "      <td>1.577327</td>\n",
       "      <td>1.714855</td>\n",
       "      <td>-1.775635</td>\n",
       "    </tr>\n",
       "    <tr>\n",
       "      <th>2</th>\n",
       "      <td>0.855396</td>\n",
       "      <td>-1.406155</td>\n",
       "      <td>-0.151752</td>\n",
       "      <td>-0.623204</td>\n",
       "      <td>-0.469563</td>\n",
       "      <td>-0.719630</td>\n",
       "      <td>-0.152413</td>\n",
       "      <td>0.613850</td>\n",
       "    </tr>\n",
       "    <tr>\n",
       "      <th>3</th>\n",
       "      <td>-1.494374</td>\n",
       "      <td>-1.406155</td>\n",
       "      <td>0.570022</td>\n",
       "      <td>1.579823</td>\n",
       "      <td>-0.469563</td>\n",
       "      <td>1.275043</td>\n",
       "      <td>0.333265</td>\n",
       "      <td>0.613850</td>\n",
       "    </tr>\n",
       "    <tr>\n",
       "      <th>4</th>\n",
       "      <td>0.855396</td>\n",
       "      <td>0.711159</td>\n",
       "      <td>0.570022</td>\n",
       "      <td>-0.623204</td>\n",
       "      <td>-0.469563</td>\n",
       "      <td>-0.703446</td>\n",
       "      <td>-0.152413</td>\n",
       "      <td>0.613850</td>\n",
       "    </tr>\n",
       "    <tr>\n",
       "      <th>...</th>\n",
       "      <td>...</td>\n",
       "      <td>...</td>\n",
       "      <td>...</td>\n",
       "      <td>...</td>\n",
       "      <td>...</td>\n",
       "      <td>...</td>\n",
       "      <td>...</td>\n",
       "      <td>...</td>\n",
       "    </tr>\n",
       "    <tr>\n",
       "      <th>781</th>\n",
       "      <td>-0.649149</td>\n",
       "      <td>0.711159</td>\n",
       "      <td>-0.068686</td>\n",
       "      <td>-0.623204</td>\n",
       "      <td>-0.469563</td>\n",
       "      <td>-0.202172</td>\n",
       "      <td>-0.152413</td>\n",
       "      <td>0.613850</td>\n",
       "    </tr>\n",
       "    <tr>\n",
       "      <th>782</th>\n",
       "      <td>-1.494374</td>\n",
       "      <td>-1.406155</td>\n",
       "      <td>-0.758904</td>\n",
       "      <td>-0.623204</td>\n",
       "      <td>-0.469563</td>\n",
       "      <td>0.680104</td>\n",
       "      <td>-1.337080</td>\n",
       "      <td>0.613850</td>\n",
       "    </tr>\n",
       "    <tr>\n",
       "      <th>783</th>\n",
       "      <td>0.855396</td>\n",
       "      <td>-1.406155</td>\n",
       "      <td>-0.320402</td>\n",
       "      <td>1.579823</td>\n",
       "      <td>2.148443</td>\n",
       "      <td>0.420787</td>\n",
       "      <td>-0.152413</td>\n",
       "      <td>0.613850</td>\n",
       "    </tr>\n",
       "    <tr>\n",
       "      <th>784</th>\n",
       "      <td>-1.494374</td>\n",
       "      <td>0.711159</td>\n",
       "      <td>-0.151752</td>\n",
       "      <td>-0.623204</td>\n",
       "      <td>-0.469563</td>\n",
       "      <td>0.680104</td>\n",
       "      <td>0.619865</td>\n",
       "      <td>-1.775635</td>\n",
       "    </tr>\n",
       "    <tr>\n",
       "      <th>785</th>\n",
       "      <td>0.855396</td>\n",
       "      <td>0.711159</td>\n",
       "      <td>0.335455</td>\n",
       "      <td>-0.623204</td>\n",
       "      <td>-0.469563</td>\n",
       "      <td>-0.742693</td>\n",
       "      <td>-0.152413</td>\n",
       "      <td>-1.226753</td>\n",
       "    </tr>\n",
       "  </tbody>\n",
       "</table>\n",
       "<p>786 rows × 8 columns</p>\n",
       "</div>"
      ],
      "text/plain": [
       "       Pclass       Sex       Age     SibSp     Parch      Fare     Cabin  \\\n",
       "0    0.855396  0.711159 -0.492700  1.579823 -0.469563 -0.811374 -0.152413   \n",
       "1   -1.494374 -1.406155  0.799417  1.579823 -0.469563  1.577327  1.714855   \n",
       "2    0.855396 -1.406155 -0.151752 -0.623204 -0.469563 -0.719630 -0.152413   \n",
       "3   -1.494374 -1.406155  0.570022  1.579823 -0.469563  1.275043  0.333265   \n",
       "4    0.855396  0.711159  0.570022 -0.623204 -0.469563 -0.703446 -0.152413   \n",
       "..        ...       ...       ...       ...       ...       ...       ...   \n",
       "781 -0.649149  0.711159 -0.068686 -0.623204 -0.469563 -0.202172 -0.152413   \n",
       "782 -1.494374 -1.406155 -0.758904 -0.623204 -0.469563  0.680104 -1.337080   \n",
       "783  0.855396 -1.406155 -0.320402  1.579823  2.148443  0.420787 -0.152413   \n",
       "784 -1.494374  0.711159 -0.151752 -0.623204 -0.469563  0.680104  0.619865   \n",
       "785  0.855396  0.711159  0.335455 -0.623204 -0.469563 -0.742693 -0.152413   \n",
       "\n",
       "     Embarked  \n",
       "0    0.613850  \n",
       "1   -1.775635  \n",
       "2    0.613850  \n",
       "3    0.613850  \n",
       "4    0.613850  \n",
       "..        ...  \n",
       "781  0.613850  \n",
       "782  0.613850  \n",
       "783  0.613850  \n",
       "784 -1.775635  \n",
       "785 -1.226753  \n",
       "\n",
       "[786 rows x 8 columns]"
      ]
     },
     "execution_count": 360,
     "metadata": {},
     "output_type": "execute_result"
    }
   ],
   "source": [
    "x=pd.DataFrame(x,columns=xcl)\n",
    "x"
   ]
  },
  {
   "cell_type": "markdown",
   "id": "58f6e023",
   "metadata": {},
   "source": [
    ".\n",
    "\n",
    "##### Adopting SMOTE :\n",
    "\n",
    "The purpose of smote is to make the imbalanced dataset to the balancing dataset by creating synthathic samples."
   ]
  },
  {
   "cell_type": "code",
   "execution_count": 361,
   "id": "51e18ca8",
   "metadata": {},
   "outputs": [],
   "source": [
    "from imblearn.over_sampling import SMOTE"
   ]
  },
  {
   "cell_type": "code",
   "execution_count": 362,
   "id": "55f6090d",
   "metadata": {},
   "outputs": [
    {
     "data": {
      "text/plain": [
       "<AxesSubplot:xlabel='Target_survived', ylabel='count'>"
      ]
     },
     "execution_count": 362,
     "metadata": {},
     "output_type": "execute_result"
    },
    {
     "data": {
      "image/png": "[encoded data removed]",
      "text/plain": [
       "<Figure size 432x288 with 1 Axes>"
      ]
     },
     "metadata": {
      "needs_background": "light"
     },
     "output_type": "display_data"
    }
   ],
   "source": [
    "sns.countplot(y)"
   ]
  },
  {
   "cell_type": "code",
   "execution_count": 363,
   "id": "ccc24140",
   "metadata": {},
   "outputs": [],
   "source": [
    "smt=SMOTE()"
   ]
  },
  {
   "cell_type": "code",
   "execution_count": 364,
   "id": "ad81f72a",
   "metadata": {},
   "outputs": [],
   "source": [
    "x_new,y_new=smt.fit_resample(x,y)"
   ]
  },
  {
   "cell_type": "code",
   "execution_count": 365,
   "id": "5adfe063",
   "metadata": {},
   "outputs": [
    {
     "data": {
      "text/plain": [
       "(970, 8)"
      ]
     },
     "execution_count": 365,
     "metadata": {},
     "output_type": "execute_result"
    }
   ],
   "source": [
    "x_new.shape"
   ]
  },
  {
   "cell_type": "code",
   "execution_count": 366,
   "id": "9de927a0",
   "metadata": {},
   "outputs": [
    {
     "data": {
      "text/plain": [
       "(970,)"
      ]
     },
     "execution_count": 366,
     "metadata": {},
     "output_type": "execute_result"
    }
   ],
   "source": [
    "y_new.shape"
   ]
  },
  {
   "cell_type": "code",
   "execution_count": 367,
   "id": "b70a856e",
   "metadata": {},
   "outputs": [
    {
     "data": {
      "text/plain": [
       "<AxesSubplot:xlabel='Target_survived', ylabel='count'>"
      ]
     },
     "execution_count": 367,
     "metadata": {},
     "output_type": "execute_result"
    },
    {
     "data": {
      "image/png": "[encoded data removed]",
      "text/plain": [
       "<Figure size 432x288 with 1 Axes>"
      ]
     },
     "metadata": {
      "needs_background": "light"
     },
     "output_type": "display_data"
    }
   ],
   "source": [
    "sns.countplot(y_new)"
   ]
  },
  {
   "cell_type": "markdown",
   "id": "11bc50dc",
   "metadata": {},
   "source": [
    "######  Importing Important lib."
   ]
  },
  {
   "cell_type": "code",
   "execution_count": 368,
   "id": "cf4094ef",
   "metadata": {},
   "outputs": [],
   "source": [
    "from sklearn.model_selection import train_test_split\n",
    "from sklearn.linear_model import LogisticRegression\n",
    "from sklearn.metrics import confusion_matrix,classification_report\n",
    "from sklearn.metrics import accuracy_score\n",
    "import warnings\n",
    "warnings.filterwarnings(\"ignore\")"
   ]
  },
  {
   "cell_type": "markdown",
   "id": "b7bc048e",
   "metadata": {},
   "source": [
    "###### Best random state"
   ]
  },
  {
   "cell_type": "code",
   "execution_count": 369,
   "id": "c05694b9",
   "metadata": {},
   "outputs": [
    {
     "name": "stdout",
     "output_type": "stream",
     "text": [
      "accuracy 0.8 random_state  0\n",
      "accuracy 0.8 random_state  1\n",
      "accuracy 0.9 random_state  2\n",
      "accuracy 0.7 random_state  3\n",
      "accuracy 0.9 random_state  4\n",
      "accuracy 0.6 random_state  5\n",
      "accuracy 0.7 random_state  6\n",
      "accuracy 0.75 random_state  7\n",
      "accuracy 0.8 random_state  8\n",
      "accuracy 0.9 random_state  9\n",
      "accuracy 0.75 random_state  10\n",
      "accuracy 0.7 random_state  11\n",
      "accuracy 0.95 random_state  12\n",
      "accuracy 0.9 random_state  13\n",
      "accuracy 0.7 random_state  14\n",
      "accuracy 0.9 random_state  15\n",
      "accuracy 0.75 random_state  16\n",
      "accuracy 0.8 random_state  17\n",
      "accuracy 0.65 random_state  18\n",
      "accuracy 0.8 random_state  19\n",
      "accuracy 0.6 random_state  20\n",
      "accuracy 0.8 random_state  21\n",
      "accuracy 0.7 random_state  22\n",
      "accuracy 0.8 random_state  23\n",
      "accuracy 0.8 random_state  24\n",
      "accuracy 0.8 random_state  25\n",
      "accuracy 0.7 random_state  26\n",
      "accuracy 0.95 random_state  27\n",
      "accuracy 0.95 random_state  28\n",
      "accuracy 0.85 random_state  29\n",
      "accuracy 0.75 random_state  30\n",
      "accuracy 0.8 random_state  31\n",
      "accuracy 0.8 random_state  32\n",
      "accuracy 0.75 random_state  33\n",
      "accuracy 0.6 random_state  34\n",
      "accuracy 0.8 random_state  35\n",
      "accuracy 0.85 random_state  36\n",
      "accuracy 0.8 random_state  37\n",
      "accuracy 0.95 random_state  38\n",
      "accuracy 0.8 random_state  39\n",
      "accuracy 0.7 random_state  40\n",
      "accuracy 0.85 random_state  41\n",
      "accuracy 0.75 random_state  42\n",
      "accuracy 0.95 random_state  43\n",
      "accuracy 0.85 random_state  44\n",
      "accuracy 0.9 random_state  45\n",
      "accuracy 0.6 random_state  46\n",
      "accuracy 0.6 random_state  47\n",
      "accuracy 0.85 random_state  48\n",
      "accuracy 0.7 random_state  49\n",
      "accuracy 0.85 random_state  50\n",
      "accuracy 0.85 random_state  51\n",
      "accuracy 0.95 random_state  52\n",
      "accuracy 0.8 random_state  53\n",
      "accuracy 0.85 random_state  54\n",
      "accuracy 0.85 random_state  55\n",
      "accuracy 0.9 random_state  56\n",
      "accuracy 0.85 random_state  57\n",
      "accuracy 0.9 random_state  58\n",
      "accuracy 0.75 random_state  59\n",
      "accuracy 0.8 random_state  60\n",
      "accuracy 0.65 random_state  61\n",
      "accuracy 0.85 random_state  62\n",
      "accuracy 0.6 random_state  63\n",
      "accuracy 0.85 random_state  64\n",
      "accuracy 0.9 random_state  65\n",
      "accuracy 0.75 random_state  66\n",
      "accuracy 0.6 random_state  67\n",
      "accuracy 0.85 random_state  68\n",
      "accuracy 0.7 random_state  69\n",
      "accuracy 0.85 random_state  70\n",
      "accuracy 0.85 random_state  71\n",
      "accuracy 0.9 random_state  72\n",
      "accuracy 0.85 random_state  73\n",
      "accuracy 0.6 random_state  74\n",
      "accuracy 0.9 random_state  75\n",
      "accuracy 0.95 random_state  76\n",
      "accuracy 0.85 random_state  77\n",
      "accuracy 0.75 random_state  78\n",
      "accuracy 0.7 random_state  79\n",
      "accuracy 0.85 random_state  80\n",
      "accuracy 0.8 random_state  81\n",
      "accuracy 0.85 random_state  82\n",
      "accuracy 0.7 random_state  83\n",
      "accuracy 0.65 random_state  84\n",
      "accuracy 0.8 random_state  85\n",
      "accuracy 0.85 random_state  86\n",
      "accuracy 0.85 random_state  87\n",
      "accuracy 0.8 random_state  88\n",
      "accuracy 0.8 random_state  89\n",
      "accuracy 0.8 random_state  90\n",
      "accuracy 0.85 random_state  91\n",
      "accuracy 0.75 random_state  92\n",
      "accuracy 0.8 random_state  93\n",
      "accuracy 0.8 random_state  94\n",
      "accuracy 0.8 random_state  95\n",
      "accuracy 0.65 random_state  96\n",
      "accuracy 0.7 random_state  97\n",
      "accuracy 0.75 random_state  98\n",
      "accuracy 0.8 random_state  99\n",
      "accuracy 0.85 random_state  100\n",
      "accuracy 0.8 random_state  101\n",
      "accuracy 0.85 random_state  102\n",
      "accuracy 0.8 random_state  103\n",
      "accuracy 0.85 random_state  104\n",
      "accuracy 0.85 random_state  105\n",
      "accuracy 0.7 random_state  106\n",
      "accuracy 0.95 random_state  107\n",
      "accuracy 0.65 random_state  108\n",
      "accuracy 0.8 random_state  109\n",
      "accuracy 0.75 random_state  110\n",
      "accuracy 0.75 random_state  111\n",
      "accuracy 0.8 random_state  112\n",
      "accuracy 0.7 random_state  113\n",
      "accuracy 0.9 random_state  114\n",
      "accuracy 0.8 random_state  115\n",
      "accuracy 0.85 random_state  116\n",
      "accuracy 0.7 random_state  117\n",
      "accuracy 0.6 random_state  118\n",
      "accuracy 0.7 random_state  119\n",
      "accuracy 0.85 random_state  120\n",
      "accuracy 0.85 random_state  121\n",
      "accuracy 0.8 random_state  122\n",
      "accuracy 0.7 random_state  123\n",
      "accuracy 0.8 random_state  124\n",
      "accuracy 0.8 random_state  125\n",
      "accuracy 0.75 random_state  126\n",
      "accuracy 0.9 random_state  127\n",
      "accuracy 0.7 random_state  128\n",
      "accuracy 0.8 random_state  129\n",
      "accuracy 0.65 random_state  130\n",
      "accuracy 0.95 random_state  131\n",
      "accuracy 0.65 random_state  132\n",
      "accuracy 0.9 random_state  133\n",
      "accuracy 0.65 random_state  134\n",
      "accuracy 0.9 random_state  135\n",
      "accuracy 0.85 random_state  136\n",
      "accuracy 0.75 random_state  137\n",
      "accuracy 0.8 random_state  138\n",
      "accuracy 0.9 random_state  139\n",
      "accuracy 0.75 random_state  140\n",
      "accuracy 0.75 random_state  141\n",
      "accuracy 0.85 random_state  142\n",
      "accuracy 0.85 random_state  143\n",
      "accuracy 0.7 random_state  144\n",
      "accuracy 0.85 random_state  145\n",
      "accuracy 0.75 random_state  146\n",
      "accuracy 0.95 random_state  147\n",
      "accuracy 0.9 random_state  148\n",
      "accuracy 0.75 random_state  149\n",
      "accuracy 0.85 random_state  150\n",
      "accuracy 0.65 random_state  151\n",
      "accuracy 0.6 random_state  152\n",
      "accuracy 0.75 random_state  153\n",
      "accuracy 0.65 random_state  154\n",
      "accuracy 0.7 random_state  155\n",
      "accuracy 0.85 random_state  156\n",
      "accuracy 0.8 random_state  157\n",
      "accuracy 0.65 random_state  158\n",
      "accuracy 0.85 random_state  159\n",
      "accuracy 0.85 random_state  160\n",
      "accuracy 0.7 random_state  161\n",
      "accuracy 0.85 random_state  162\n",
      "accuracy 0.65 random_state  163\n",
      "accuracy 0.8 random_state  164\n",
      "accuracy 0.7 random_state  165\n",
      "accuracy 0.85 random_state  166\n",
      "accuracy 0.65 random_state  167\n",
      "accuracy 0.8 random_state  168\n",
      "accuracy 0.85 random_state  169\n",
      "accuracy 0.85 random_state  170\n",
      "accuracy 0.75 random_state  171\n",
      "accuracy 0.95 random_state  172\n",
      "accuracy 0.75 random_state  173\n",
      "accuracy 0.85 random_state  174\n",
      "accuracy 0.8 random_state  175\n",
      "accuracy 0.85 random_state  176\n",
      "accuracy 0.85 random_state  177\n",
      "accuracy 0.75 random_state  178\n",
      "accuracy 0.8 random_state  179\n",
      "accuracy 0.9 random_state  180\n",
      "accuracy 0.9 random_state  181\n",
      "accuracy 0.8 random_state  182\n",
      "accuracy 0.65 random_state  183\n",
      "accuracy 0.85 random_state  184\n",
      "accuracy 0.65 random_state  185\n",
      "accuracy 0.9 random_state  186\n",
      "accuracy 0.65 random_state  187\n",
      "accuracy 0.8 random_state  188\n",
      "accuracy 0.75 random_state  189\n",
      "accuracy 0.7 random_state  190\n",
      "accuracy 0.85 random_state  191\n",
      "accuracy 0.8 random_state  192\n",
      "accuracy 0.75 random_state  193\n",
      "accuracy 0.85 random_state  194\n",
      "accuracy 0.9 random_state  195\n",
      "accuracy 0.75 random_state  196\n",
      "accuracy 0.55 random_state  197\n",
      "accuracy 0.75 random_state  198\n",
      "accuracy 0.9 random_state  199\n"
     ]
    }
   ],
   "source": [
    "maxauc=0\n",
    "maxrs=0\n",
    "\n",
    "for i in range(0,200):\n",
    "    x_train,x_test,y_train,y_test=train_test_split(x_new,y_new,test_size=20,random_state=i)\n",
    "    LR=LogisticRegression()\n",
    "    LR.fit(x_train,y_train)\n",
    "    pred=LR.predict(x_test)\n",
    "    acc=accuracy_score(y_test,pred)\n",
    "    print('accuracy',acc,'random_state ',i)\n",
    "\n",
    "    if acc>maxauc:\n",
    "        maxauc=acc\n",
    "        maxrs=i"
   ]
  },
  {
   "cell_type": "code",
   "execution_count": 370,
   "id": "025c7610",
   "metadata": {},
   "outputs": [
    {
     "name": "stdout",
     "output_type": "stream",
     "text": [
      "Best accuracy is 0.95 on random state 12\n"
     ]
    }
   ],
   "source": [
    "print(\"Best accuracy is\",maxauc,\"on random state\",maxrs) "
   ]
  },
  {
   "cell_type": "markdown",
   "id": "7970c7c7",
   "metadata": {},
   "source": [
    "###### Spliting the data set into training and testing"
   ]
  },
  {
   "cell_type": "code",
   "execution_count": 371,
   "id": "67f2b3a3",
   "metadata": {},
   "outputs": [],
   "source": [
    "x_train,x_test,y_train,y_test=train_test_split(x,y,random_state=15,test_size=20)"
   ]
  },
  {
   "cell_type": "code",
   "execution_count": 372,
   "id": "474f0a7e",
   "metadata": {},
   "outputs": [
    {
     "data": {
      "text/plain": [
       "(970, 8)"
      ]
     },
     "execution_count": 372,
     "metadata": {},
     "output_type": "execute_result"
    }
   ],
   "source": [
    "x_new.shape"
   ]
  },
  {
   "cell_type": "code",
   "execution_count": 373,
   "id": "a32763b7",
   "metadata": {},
   "outputs": [
    {
     "name": "stdout",
     "output_type": "stream",
     "text": [
      "shape of input variable before spliting is (970, 8)\n",
      "shape of input variable after spliting is (766, 8)\n",
      "shape of target variable before spliting is  (970,)\n",
      "shape of target variable after spliting is  (766,)\n"
     ]
    }
   ],
   "source": [
    "print(\"shape of input variable before spliting is\",x_new.shape)\n",
    "print(\"shape of input variable after spliting is\",x_train.shape)\n",
    "print(\"shape of target variable before spliting is \",y_new.shape)\n",
    "print(\"shape of target variable after spliting is \",y_train.shape)"
   ]
  },
  {
   "cell_type": "markdown",
   "id": "15ba4d5b",
   "metadata": {},
   "source": [
    "### Logistic Regression"
   ]
  },
  {
   "cell_type": "code",
   "execution_count": 374,
   "id": "d4f37073",
   "metadata": {},
   "outputs": [
    {
     "name": "stdout",
     "output_type": "stream",
     "text": [
      "Accuracy - 90.0\n",
      "[[13  1]\n",
      " [ 1  5]]\n",
      "              precision    recall  f1-score   support\n",
      "\n",
      "           0       0.93      0.93      0.93        14\n",
      "           1       0.83      0.83      0.83         6\n",
      "\n",
      "    accuracy                           0.90        20\n",
      "   macro avg       0.88      0.88      0.88        20\n",
      "weighted avg       0.90      0.90      0.90        20\n",
      "\n"
     ]
    }
   ],
   "source": [
    "LR=LogisticRegression()\n",
    "LR.fit(x_train,y_train)\n",
    "pred=LR.predict(x_test)\n",
    "accuracy=accuracy_score(y_test,pred)\n",
    "print(\"Accuracy -\", accuracy*100)\n",
    "print(confusion_matrix(y_test,pred))\n",
    "print(classification_report(y_test,pred))"
   ]
  },
  {
   "cell_type": "markdown",
   "id": "65d75c35",
   "metadata": {},
   "source": [
    "##### Now we will use Diffrent Algorithium suh as :\n",
    "    1.K nearest neighbour \n",
    "    2.Naive bayes \n",
    "    3.Design tree\n",
    "    4.Support vector machine(svm) "
   ]
  },
  {
   "cell_type": "code",
   "execution_count": 375,
   "id": "8106b727",
   "metadata": {},
   "outputs": [],
   "source": [
    "import sklearn\n",
    "from sklearn.naive_bayes import GaussianNB\n",
    "from sklearn.tree import DecisionTreeClassifier\n",
    "from sklearn.svm import SVC\n",
    "from sklearn.neighbors import KNeighborsClassifier"
   ]
  },
  {
   "cell_type": "markdown",
   "id": "4d211905",
   "metadata": {},
   "source": [
    "###### KNeighborsClassifier"
   ]
  },
  {
   "cell_type": "code",
   "execution_count": 376,
   "id": "a286ffba",
   "metadata": {},
   "outputs": [
    {
     "name": "stdout",
     "output_type": "stream",
     "text": [
      "Accuracy-  85.0\n",
      "[[13  1]\n",
      " [ 2  4]]\n",
      "              precision    recall  f1-score   support\n",
      "\n",
      "           0       0.87      0.93      0.90        14\n",
      "           1       0.80      0.67      0.73         6\n",
      "\n",
      "    accuracy                           0.85        20\n",
      "   macro avg       0.83      0.80      0.81        20\n",
      "weighted avg       0.85      0.85      0.85        20\n",
      "\n"
     ]
    }
   ],
   "source": [
    "knn=KNeighborsClassifier(n_neighbors=5)\n",
    "knn.fit(x_train,y_train)\n",
    "pred=knn.predict(x_test)\n",
    "print(\"Accuracy- \",(accuracy_score(y_test,pred))*100)\n",
    "print(confusion_matrix(y_test,pred))\n",
    "print(classification_report(y_test,pred))"
   ]
  },
  {
   "cell_type": "markdown",
   "id": "03469214",
   "metadata": {},
   "source": [
    "###### DecisionTreeClassifier"
   ]
  },
  {
   "cell_type": "code",
   "execution_count": 377,
   "id": "69ddb2f6",
   "metadata": {},
   "outputs": [
    {
     "name": "stdout",
     "output_type": "stream",
     "text": [
      "From  gini\n",
      "Accuracy - 90.0\n",
      "[[14  0]\n",
      " [ 2  4]]\n",
      "              precision    recall  f1-score   support\n",
      "\n",
      "           0       0.88      1.00      0.93        14\n",
      "           1       1.00      0.67      0.80         6\n",
      "\n",
      "    accuracy                           0.90        20\n",
      "   macro avg       0.94      0.83      0.87        20\n",
      "weighted avg       0.91      0.90      0.89        20\n",
      "\n",
      "From  entropy\n",
      "Accuracy - 80.0\n",
      "[[12  2]\n",
      " [ 2  4]]\n",
      "              precision    recall  f1-score   support\n",
      "\n",
      "           0       0.86      0.86      0.86        14\n",
      "           1       0.67      0.67      0.67         6\n",
      "\n",
      "    accuracy                           0.80        20\n",
      "   macro avg       0.76      0.76      0.76        20\n",
      "weighted avg       0.80      0.80      0.80        20\n",
      "\n"
     ]
    }
   ],
   "source": [
    "lit=['gini','entropy']\n",
    "\n",
    "for i in lit:  \n",
    "    print(\"From \",i)\n",
    "    dct=DecisionTreeClassifier(criterion=i)\n",
    "    dct.fit(x_train,y_train)\n",
    "    pred=dct.predict(x_test)\n",
    "    print(\"Accuracy -\",(accuracy_score(y_test,pred)*100))\n",
    "    print(confusion_matrix(y_test,pred))\n",
    "    print(classification_report(y_test,pred))"
   ]
  },
  {
   "cell_type": "markdown",
   "id": "4117d7bd",
   "metadata": {},
   "source": [
    "###### Support vector machine classifier"
   ]
  },
  {
   "cell_type": "code",
   "execution_count": 378,
   "id": "2176a2b8",
   "metadata": {},
   "outputs": [
    {
     "name": "stdout",
     "output_type": "stream",
     "text": [
      "From rbf\n",
      "Accuracy - 90.0\n",
      "[[13  1]\n",
      " [ 1  5]]\n",
      "              precision    recall  f1-score   support\n",
      "\n",
      "           0       0.93      0.93      0.93        14\n",
      "           1       0.83      0.83      0.83         6\n",
      "\n",
      "    accuracy                           0.90        20\n",
      "   macro avg       0.88      0.88      0.88        20\n",
      "weighted avg       0.90      0.90      0.90        20\n",
      "\n",
      "From poly\n",
      "Accuracy - 95.0\n",
      "[[14  0]\n",
      " [ 1  5]]\n",
      "              precision    recall  f1-score   support\n",
      "\n",
      "           0       0.93      1.00      0.97        14\n",
      "           1       1.00      0.83      0.91         6\n",
      "\n",
      "    accuracy                           0.95        20\n",
      "   macro avg       0.97      0.92      0.94        20\n",
      "weighted avg       0.95      0.95      0.95        20\n",
      "\n"
     ]
    }
   ],
   "source": [
    "lip=['rbf','poly']\n",
    "\n",
    "for i in lip:\n",
    "    print(\"From\",i)\n",
    "    svm=SVC(kernel=i)\n",
    "    svm.fit(x_train,y_train)\n",
    "    pred=svm.predict(x_test)\n",
    "    print(\"Accuracy -\",(accuracy_score(y_test,pred)*100))\n",
    "    print(confusion_matrix(y_test,pred))\n",
    "    print(classification_report(y_test,pred))"
   ]
  },
  {
   "cell_type": "markdown",
   "id": "a9f97e99",
   "metadata": {},
   "source": [
    "###### Naive_bayes--GaussianNB"
   ]
  },
  {
   "cell_type": "code",
   "execution_count": 379,
   "id": "c557b024",
   "metadata": {},
   "outputs": [
    {
     "name": "stdout",
     "output_type": "stream",
     "text": [
      "Accuracy-  85.0\n",
      "[[12  2]\n",
      " [ 1  5]]\n",
      "              precision    recall  f1-score   support\n",
      "\n",
      "           0       0.92      0.86      0.89        14\n",
      "           1       0.71      0.83      0.77         6\n",
      "\n",
      "    accuracy                           0.85        20\n",
      "   macro avg       0.82      0.85      0.83        20\n",
      "weighted avg       0.86      0.85      0.85        20\n",
      "\n"
     ]
    }
   ],
   "source": [
    "gus=GaussianNB()\n",
    "gus.fit(x_train,y_train)\n",
    "pred=gus.predict(x_test)\n",
    "print(\"Accuracy- \",(accuracy_score(y_test,pred))*100)\n",
    "print(confusion_matrix(y_test,pred))\n",
    "print(classification_report(y_test,pred))"
   ]
  },
  {
   "cell_type": "markdown",
   "id": "87df9e35",
   "metadata": {},
   "source": [
    "### Cross-validation\n",
    "\n",
    " KNeighborsClassifie ,DecisionTreeClassifie(entropy) and Support vector machine(rbf) all the three classifiers are giving high accuracy.\n",
    "\n",
    " We are adopting cross-validation technique to see that our model is overfitted or not.\n",
    " \n",
    " This model is able to see the 360 degree view of the entire dataset.\n",
    " "
   ]
  },
  {
   "cell_type": "code",
   "execution_count": 380,
   "id": "4137a81e",
   "metadata": {},
   "outputs": [],
   "source": [
    "from sklearn.model_selection import cross_val_score"
   ]
  },
  {
   "cell_type": "code",
   "execution_count": 381,
   "id": "27c2871c",
   "metadata": {},
   "outputs": [
    {
     "name": "stdout",
     "output_type": "stream",
     "text": [
      "Cross validation of KNeighbors Classifier model is 0.8207061585696225\n"
     ]
    }
   ],
   "source": [
    "src=cross_val_score(knn , x , y , cv=7)\n",
    "print(\"Cross validation of KNeighbors Classifier model is\",src.mean())"
   ]
  },
  {
   "cell_type": "code",
   "execution_count": 382,
   "id": "f0ef0ef5",
   "metadata": {},
   "outputs": [
    {
     "name": "stdout",
     "output_type": "stream",
     "text": [
      "Cross validation of SVC  model is 0.8066529709228824\n"
     ]
    }
   ],
   "source": [
    "src=cross_val_score(svm , x , y , cv=7)\n",
    "print(\"Cross validation of SVC  model is\",src.mean())"
   ]
  },
  {
   "cell_type": "code",
   "execution_count": 383,
   "id": "75637db9",
   "metadata": {},
   "outputs": [
    {
     "name": "stdout",
     "output_type": "stream",
     "text": [
      "Cross validation of Decision tree Classifier model is 0.7723270724218892\n"
     ]
    }
   ],
   "source": [
    "src=cross_val_score(dct , x , y , cv=7)\n",
    "print(\"Cross validation of Decision tree Classifier model is\",src.mean())"
   ]
  },
  {
   "cell_type": "code",
   "execution_count": 384,
   "id": "2084a292",
   "metadata": {},
   "outputs": [
    {
     "name": "stdout",
     "output_type": "stream",
     "text": [
      "Cross validation of Naive bayes classifier (GaussianNB) Classifier model is 0.7774968394437421\n"
     ]
    }
   ],
   "source": [
    "src=cross_val_score(gus , x , y , cv=7)\n",
    "print(\"Cross validation of Naive bayes classifier (GaussianNB) Classifier model is\",src.mean())"
   ]
  },
  {
   "cell_type": "markdown",
   "id": "a5d305eb",
   "metadata": {},
   "source": [
    "## Bagging and Boosting"
   ]
  },
  {
   "cell_type": "markdown",
   "id": "ca258bca",
   "metadata": {},
   "source": [
    "###### Bagging\n",
    "\n",
    "###### RandomForestClassifier"
   ]
  },
  {
   "cell_type": "code",
   "execution_count": 385,
   "id": "ac6d8ae9",
   "metadata": {},
   "outputs": [],
   "source": [
    "from sklearn.ensemble import RandomForestClassifier"
   ]
  },
  {
   "cell_type": "code",
   "execution_count": 386,
   "id": "21e682f4",
   "metadata": {},
   "outputs": [
    {
     "name": "stdout",
     "output_type": "stream",
     "text": [
      "accuracy  85.0\n",
      "[[13  1]\n",
      " [ 2  4]]\n",
      "              precision    recall  f1-score   support\n",
      "\n",
      "           0       0.87      0.93      0.90        14\n",
      "           1       0.80      0.67      0.73         6\n",
      "\n",
      "    accuracy                           0.85        20\n",
      "   macro avg       0.83      0.80      0.81        20\n",
      "weighted avg       0.85      0.85      0.85        20\n",
      "\n"
     ]
    }
   ],
   "source": [
    "rfc=RandomForestClassifier(n_estimators=100,random_state=43)\n",
    "rfc.fit(x_train,y_train)\n",
    "pred=rfc.predict(x_test)\n",
    "print(\"accuracy \",(accuracy_score(y_test,pred)*100))\n",
    "print(confusion_matrix(y_test,pred))\n",
    "print(classification_report(y_test,pred))\n"
   ]
  },
  {
   "cell_type": "markdown",
   "id": "0e56fa90",
   "metadata": {},
   "source": [
    "###### Boosting"
   ]
  },
  {
   "cell_type": "markdown",
   "id": "5ab365c3",
   "metadata": {},
   "source": [
    "###### Boosting from AdaBoostClassifier"
   ]
  },
  {
   "cell_type": "code",
   "execution_count": 387,
   "id": "a464aa2b",
   "metadata": {},
   "outputs": [
    {
     "name": "stdout",
     "output_type": "stream",
     "text": [
      "accuracy  70.0\n",
      "[[14  0]\n",
      " [ 6  0]]\n",
      "              precision    recall  f1-score   support\n",
      "\n",
      "           0       0.70      1.00      0.82        14\n",
      "           1       0.00      0.00      0.00         6\n",
      "\n",
      "    accuracy                           0.70        20\n",
      "   macro avg       0.35      0.50      0.41        20\n",
      "weighted avg       0.49      0.70      0.58        20\n",
      "\n"
     ]
    }
   ],
   "source": [
    "from sklearn.ensemble import AdaBoostClassifier\n",
    "from sklearn.svm import SVC\n",
    "svm=SVC()\n",
    "\n",
    "ad=AdaBoostClassifier(n_estimators=150,base_estimator=svm,algorithm='SAMME')\n",
    "ad.fit(x_train,y_train)\n",
    "pred=ad.predict(x_test)\n",
    "print(\"accuracy \",(accuracy_score(y_test,pred)*100))\n",
    "print(confusion_matrix(y_test,pred))\n",
    "print(classification_report(y_test,pred))"
   ]
  },
  {
   "cell_type": "markdown",
   "id": "1ba4b4f6",
   "metadata": {},
   "source": [
    "###### Boosting From GradientBoostingClassifier"
   ]
  },
  {
   "cell_type": "code",
   "execution_count": 390,
   "id": "3f175bc2",
   "metadata": {},
   "outputs": [
    {
     "name": "stdout",
     "output_type": "stream",
     "text": [
      "accuracy  90.0\n",
      "[[14  0]\n",
      " [ 2  4]]\n",
      "              precision    recall  f1-score   support\n",
      "\n",
      "           0       0.88      1.00      0.93        14\n",
      "           1       1.00      0.67      0.80         6\n",
      "\n",
      "    accuracy                           0.90        20\n",
      "   macro avg       0.94      0.83      0.87        20\n",
      "weighted avg       0.91      0.90      0.89        20\n",
      "\n"
     ]
    }
   ],
   "source": [
    "from sklearn.ensemble import GradientBoostingClassifier\n",
    "gbc=GradientBoostingClassifier(n_estimators=150)\n",
    "gbc.fit(x_train,y_train)\n",
    "pred=gbc.predict(x_test)\n",
    "print(\"accuracy \",(accuracy_score(y_test,pred)*100))\n",
    "print(confusion_matrix(y_test,pred))\n",
    "print(classification_report(y_test,pred))"
   ]
  },
  {
   "cell_type": "code",
   "execution_count": 391,
   "id": "8cc9c8a3",
   "metadata": {},
   "outputs": [
    {
     "name": "stdout",
     "output_type": "stream",
     "text": [
      "Cross validation of Random forest Classifier model is 0.8079623442297272\n"
     ]
    }
   ],
   "source": [
    "src=cross_val_score(rfc , x , y , cv=7)\n",
    "print(\"Cross validation of Random forest Classifier model is\",src.mean())"
   ]
  },
  {
   "cell_type": "code",
   "execution_count": 392,
   "id": "bea31db7",
   "metadata": {},
   "outputs": [
    {
     "name": "stdout",
     "output_type": "stream",
     "text": [
      "Cross validation of Gradient boosting classifier model is 0.8257630485822647\n"
     ]
    }
   ],
   "source": [
    "src=cross_val_score(gbc , x , y , cv=7)\n",
    "print(\"Cross validation of Gradient boosting classifier model is\",src.mean())"
   ]
  },
  {
   "cell_type": "code",
   "execution_count": 393,
   "id": "8760939a",
   "metadata": {},
   "outputs": [
    {
     "name": "stdout",
     "output_type": "stream",
     "text": [
      "Cross validation of Adaboost Classifier model is 0.6170421708506412\n"
     ]
    }
   ],
   "source": [
    "src=cross_val_score(ad , x , y , cv=7)\n",
    "print(\"Cross validation of Adaboost Classifier model is\",src.mean())"
   ]
  },
  {
   "cell_type": "markdown",
   "id": "cb88e919",
   "metadata": {},
   "source": [
    "## Hyper Parameter tuning"
   ]
  },
  {
   "cell_type": "code",
   "execution_count": 394,
   "id": "f5b773e7",
   "metadata": {},
   "outputs": [],
   "source": [
    "from sklearn.model_selection import GridSearchCV"
   ]
  },
  {
   "cell_type": "code",
   "execution_count": 395,
   "id": "9499426d",
   "metadata": {},
   "outputs": [],
   "source": [
    "parameters = {\n",
    "    \"n_estimators\":[5,50,250,500],\n",
    "    \"max_depth\":[1,3,5,7,9],\n",
    "    \"learning_rate\":[0.01,0.1,1,10,100]}"
   ]
  },
  {
   "cell_type": "code",
   "execution_count": 396,
   "id": "d2192100",
   "metadata": {},
   "outputs": [
    {
     "data": {
      "text/plain": [
       "{'learning_rate': 0.1, 'max_depth': 3, 'n_estimators': 250}"
      ]
     },
     "execution_count": 396,
     "metadata": {},
     "output_type": "execute_result"
    }
   ],
   "source": [
    "GBC=GridSearchCV(GradientBoostingClassifier(),parameters,cv=5)\n",
    "GBC.fit(x_train,y_train)\n",
    "GBC.best_params_"
   ]
  },
  {
   "cell_type": "code",
   "execution_count": 397,
   "id": "dc16651e",
   "metadata": {},
   "outputs": [
    {
     "data": {
      "text/html": [
       "<style>#sk-container-id-4 {color: black;background-color: white;}#sk-container-id-4 pre{padding: 0;}#sk-container-id-4 div.sk-toggleable {background-color: white;}#sk-container-id-4 label.sk-toggleable__label {cursor: pointer;display: block;width: 100%;margin-bottom: 0;padding: 0.3em;box-sizing: border-box;text-align: center;}#sk-container-id-4 label.sk-toggleable__label-arrow:before {content: \"▸\";float: left;margin-right: 0.25em;color: #696969;}#sk-container-id-4 label.sk-toggleable__label-arrow:hover:before {color: black;}#sk-container-id-4 div.sk-estimator:hover label.sk-toggleable__label-arrow:before {color: black;}#sk-container-id-4 div.sk-toggleable__content {max-height: 0;max-width: 0;overflow: hidden;text-align: left;background-color: #f0f8ff;}#sk-container-id-4 div.sk-toggleable__content pre {margin: 0.2em;color: black;border-radius: 0.25em;background-color: #f0f8ff;}#sk-container-id-4 input.sk-toggleable__control:checked~div.sk-toggleable__content {max-height: 200px;max-width: 100%;overflow: auto;}#sk-container-id-4 input.sk-toggleable__control:checked~label.sk-toggleable__label-arrow:before {content: \"▾\";}#sk-container-id-4 div.sk-estimator input.sk-toggleable__control:checked~label.sk-toggleable__label {background-color: #d4ebff;}#sk-container-id-4 div.sk-label input.sk-toggleable__control:checked~label.sk-toggleable__label {background-color: #d4ebff;}#sk-container-id-4 input.sk-hidden--visually {border: 0;clip: rect(1px 1px 1px 1px);clip: rect(1px, 1px, 1px, 1px);height: 1px;margin: -1px;overflow: hidden;padding: 0;position: absolute;width: 1px;}#sk-container-id-4 div.sk-estimator {font-family: monospace;background-color: #f0f8ff;border: 1px dotted black;border-radius: 0.25em;box-sizing: border-box;margin-bottom: 0.5em;}#sk-container-id-4 div.sk-estimator:hover {background-color: #d4ebff;}#sk-container-id-4 div.sk-parallel-item::after {content: \"\";width: 100%;border-bottom: 1px solid gray;flex-grow: 1;}#sk-container-id-4 div.sk-label:hover label.sk-toggleable__label {background-color: #d4ebff;}#sk-container-id-4 div.sk-serial::before {content: \"\";position: absolute;border-left: 1px solid gray;box-sizing: border-box;top: 0;bottom: 0;left: 50%;z-index: 0;}#sk-container-id-4 div.sk-serial {display: flex;flex-direction: column;align-items: center;background-color: white;padding-right: 0.2em;padding-left: 0.2em;position: relative;}#sk-container-id-4 div.sk-item {position: relative;z-index: 1;}#sk-container-id-4 div.sk-parallel {display: flex;align-items: stretch;justify-content: center;background-color: white;position: relative;}#sk-container-id-4 div.sk-item::before, #sk-container-id-4 div.sk-parallel-item::before {content: \"\";position: absolute;border-left: 1px solid gray;box-sizing: border-box;top: 0;bottom: 0;left: 50%;z-index: -1;}#sk-container-id-4 div.sk-parallel-item {display: flex;flex-direction: column;z-index: 1;position: relative;background-color: white;}#sk-container-id-4 div.sk-parallel-item:first-child::after {align-self: flex-end;width: 50%;}#sk-container-id-4 div.sk-parallel-item:last-child::after {align-self: flex-start;width: 50%;}#sk-container-id-4 div.sk-parallel-item:only-child::after {width: 0;}#sk-container-id-4 div.sk-dashed-wrapped {border: 1px dashed gray;margin: 0 0.4em 0.5em 0.4em;box-sizing: border-box;padding-bottom: 0.4em;background-color: white;}#sk-container-id-4 div.sk-label label {font-family: monospace;font-weight: bold;display: inline-block;line-height: 1.2em;}#sk-container-id-4 div.sk-label-container {text-align: center;}#sk-container-id-4 div.sk-container {/* jupyter's `normalize.less` sets `[hidden] { display: none; }` but bootstrap.min.css set `[hidden] { display: none !important; }` so we also need the `!important` here to be able to override the default hidden behavior on the sphinx rendered scikit-learn.org. See: https://github.com/scikit-learn/scikit-learn/issues/21755 */display: inline-block !important;position: relative;}#sk-container-id-4 div.sk-text-repr-fallback {display: none;}</style><div id=\"sk-container-id-4\" class=\"sk-top-container\"><div class=\"sk-text-repr-fallback\"><pre>GradientBoostingClassifier(n_estimators=250)</pre><b>In a Jupyter environment, please rerun this cell to show the HTML representation or trust the notebook. <br />On GitHub, the HTML representation is unable to render, please try loading this page with nbviewer.org.</b></div><div class=\"sk-container\" hidden><div class=\"sk-item\"><div class=\"sk-estimator sk-toggleable\"><input class=\"sk-toggleable__control sk-hidden--visually\" id=\"sk-estimator-id-4\" type=\"checkbox\" checked><label for=\"sk-estimator-id-4\" class=\"sk-toggleable__label sk-toggleable__label-arrow\">GradientBoostingClassifier</label><div class=\"sk-toggleable__content\"><pre>GradientBoostingClassifier(n_estimators=250)</pre></div></div></div></div></div>"
      ],
      "text/plain": [
       "GradientBoostingClassifier(n_estimators=250)"
      ]
     },
     "execution_count": 397,
     "metadata": {},
     "output_type": "execute_result"
    }
   ],
   "source": [
    "GBC.best_estimator_"
   ]
  },
  {
   "cell_type": "code",
   "execution_count": 399,
   "id": "a0a5374a",
   "metadata": {},
   "outputs": [
    {
     "data": {
      "text/plain": [
       "0.9"
      ]
     },
     "execution_count": 399,
     "metadata": {},
     "output_type": "execute_result"
    }
   ],
   "source": [
    "GBC_pred=GBC.best_estimator_.predict(x_test)\n",
    "accuracy_score(y_test,GBC_pred)"
   ]
  },
  {
   "cell_type": "code",
   "execution_count": 244,
   "id": "e53c19a5",
   "metadata": {},
   "outputs": [],
   "source": [
    "#import joblib\n",
    "#joblib.dump(gsc.best_estimator_,'Titanic.pkl')"
   ]
  },
  {
   "cell_type": "markdown",
   "id": "ad76048f",
   "metadata": {},
   "source": [
    "#### As we see In the hyper parameter tuning the Gradient boosting classifier is giving highest accuracy i.e. 90%, so we will go with Gradient boosting classifier."
   ]
  },
  {
   "cell_type": "markdown",
   "id": "5061f135",
   "metadata": {},
   "source": [
    "## AUC-ROC Curve"
   ]
  },
  {
   "cell_type": "markdown",
   "id": "4704664f",
   "metadata": {},
   "source": [
    "###### AUC-ROC curve is the graphical representation of confusion matrix."
   ]
  },
  {
   "cell_type": "code",
   "execution_count": 401,
   "id": "f60bd234",
   "metadata": {},
   "outputs": [],
   "source": [
    "from sklearn.metrics import roc_curve\n",
    "from sklearn.metrics import roc_auc_score"
   ]
  },
  {
   "cell_type": "code",
   "execution_count": 404,
   "id": "1194e167",
   "metadata": {},
   "outputs": [],
   "source": [
    "y_pred_prob=GBC.best_estimator_.predict_proba(x_test)[:,-1]"
   ]
  },
  {
   "cell_type": "code",
   "execution_count": 405,
   "id": "7c561f48",
   "metadata": {},
   "outputs": [
    {
     "data": {
      "text/plain": [
       "array([0.08963998, 0.12124593, 0.09743734, 0.11328075, 0.04321886,\n",
       "       0.9527804 , 0.99184686, 0.18013929, 0.99344505, 0.14439294,\n",
       "       0.05070705, 0.84495325, 0.05397545, 0.09256907, 0.03335073,\n",
       "       0.02105559, 0.11208586, 0.44588516, 0.0305833 , 0.10058333])"
      ]
     },
     "execution_count": 405,
     "metadata": {},
     "output_type": "execute_result"
    }
   ],
   "source": [
    "y_pred_prob"
   ]
  },
  {
   "cell_type": "code",
   "execution_count": 406,
   "id": "ca27cc0b",
   "metadata": {},
   "outputs": [],
   "source": [
    "fpr,tpr,threshold=roc_curve(y_test,y_pred_prob)"
   ]
  },
  {
   "cell_type": "code",
   "execution_count": 407,
   "id": "2cf566a7",
   "metadata": {},
   "outputs": [
    {
     "data": {
      "image/png": "[encoded data removed]",
      "text/plain": [
       "<Figure size 432x288 with 1 Axes>"
      ]
     },
     "metadata": {
      "needs_background": "light"
     },
     "output_type": "display_data"
    }
   ],
   "source": [
    "plt.plot([0,1],[0,1],'k--')\n",
    "plt.plot(fpr,tpr,label='KNeighborsClassifier')\n",
    "plt.xlabel('False positive rate')\n",
    "plt.ylabel('True positive rate')\n",
    "plt.title(\"AUC-ROC Curve\")\n",
    "plt.show()"
   ]
  },
  {
   "cell_type": "code",
   "execution_count": 409,
   "id": "2e20c6e7",
   "metadata": {},
   "outputs": [],
   "source": [
    "auc_score=roc_auc_score(y_test,GBC.best_estimator_.predict(x_test))"
   ]
  },
  {
   "cell_type": "code",
   "execution_count": 410,
   "id": "80a1c3c9",
   "metadata": {},
   "outputs": [
    {
     "name": "stdout",
     "output_type": "stream",
     "text": [
      "0.8333333333333333\n"
     ]
    }
   ],
   "source": [
    "print((auc_score))"
   ]
  },
  {
   "cell_type": "markdown",
   "id": "471cedea",
   "metadata": {},
   "source": [
    "###### AUC-ROC curve score is 83.33 %"
   ]
  },
  {
   "cell_type": "markdown",
   "id": "31e12ab1",
   "metadata": {},
   "source": [
    "###### Saving the model"
   ]
  },
  {
   "cell_type": "code",
   "execution_count": 789,
   "id": "20250220",
   "metadata": {},
   "outputs": [],
   "source": [
    "import joblib"
   ]
  },
  {
   "cell_type": "code",
   "execution_count": 411,
   "id": "51b5346c",
   "metadata": {},
   "outputs": [
    {
     "data": {
      "text/plain": [
       "['titanic_final90%.obj']"
      ]
     },
     "execution_count": 411,
     "metadata": {},
     "output_type": "execute_result"
    }
   ],
   "source": [
    "joblib.dump(GBC.best_estimator_,\"titanic_final90%.obj\")"
   ]
  },
  {
   "cell_type": "code",
   "execution_count": 791,
   "id": "71e57eed",
   "metadata": {},
   "outputs": [],
   "source": [
    "# for loading the model -\n",
    "\n",
    "    # loaded_model=joblib.load(\"titanicfile.obj\")"
   ]
  },
  {
   "cell_type": "markdown",
   "id": "7265ecd5",
   "metadata": {},
   "source": [
    "# Conclusion :"
   ]
  },
  {
   "cell_type": "markdown",
   "id": "d807b3bf",
   "metadata": {},
   "source": [
    "From the above observations we are concluding that\n",
    "    \n",
    "   1. we had many null values in data set, to fill the NaN values we adopted simple imputer.\n",
    "   \n",
    "    \n",
    "   2. In order to replace the object data to the int values we used encoading technique.\n",
    "   \n",
    "\n",
    "   3. Some columns we dropped, because they was not more contributing to make prediction.\n",
    "   \n",
    "    \n",
    "   4. In our data set Some skewness and outliers was present, To remove this we used zscore method for outliers removing and power transformation method for skewness removing.\n",
    "   \n",
    "\n",
    "   5. For scaling the data set we used standard scaller technique.\n",
    "   \n",
    "    \n",
    "   6. Our data set was imbalanced, for balancing it SMOTE has been used.\n",
    "   \n",
    "\n",
    "   7. We used many classifier for predicting -\n",
    "    \n",
    "    like- \n",
    "          k nearest neighbour classifier\n",
    "          Naive bayes classifier(GaussianNB)\n",
    "          Design tree classifier\n",
    "          Support vector machine classifier \n",
    "          \n",
    "   8. In order to control overfitting and underfitting we adopted Cross validation.\n",
    "   \n",
    "   \n",
    "   9. For Bagging and boosting we have used Random forest classifier,Adaboost classifier and Gradient boosting classifier.\n",
    "   \n",
    "    \n",
    "   10. We have plotted AUC-ROC curve to plot confusion matrix and the Score of AUC-ROC curve is 83.33 %.\n",
    "   \n",
    "   11. we worked on Hyper parameter tuning on Gradient boosting classifier for boosting our model accuracy. \n",
    "   \n",
    "   \n",
    "   \n",
    "#### Finally we got Our best model Which is Gradient Boosting classifier, it gave the 90% accuracy. Which can be considered as good accuracy.\n",
    "   ##### Now our model is ready to predict.\n"
   ]
  },
  {
   "cell_type": "code",
   "execution_count": null,
   "id": "b7d21268",
   "metadata": {},
   "outputs": [],
   "source": []
  }
 ],
 "metadata": {
  "kernelspec": {
   "display_name": "Python 3 (ipykernel)",
   "language": "python",
   "name": "python3"
  },
  "language_info": {
   "codemirror_mode": {
    "name": "ipython",
    "version": 3
   },
   "file_extension": ".py",
   "mimetype": "text/x-python",
   "name": "python",
   "nbconvert_exporter": "python",
   "pygments_lexer": "ipython3",
   "version": "3.9.7"
  }
 },
 "nbformat": 4,
 "nbformat_minor": 5
}
