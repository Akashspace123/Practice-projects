{
 "cells": [
  {
   "cell_type": "markdown",
   "id": "048f719d",
   "metadata": {},
   "source": [
    "# Flight Price Prediction\n",
    "## Problem Statement:\n",
    "\n",
    "Flight ticket prices can be something hard to guess, today we might see a price, check out the price of the same flight tomorrow, it will be a different story. We might have often heard travellers saying that flight ticket prices are so unpredictable. Here you will be provided with prices of flight tickets for various airlines between the months of March and June of 2019 and between various cities.\n",
    "\n",
    "Size of training set: 10683 records\n",
    "\n",
    "Size of test set: 2671 records\n",
    "\n",
    "### FEATURES:\n",
    "\n",
    "Airline: The name of the airline.\n",
    "\n",
    "Date_of_Journey: The date of the journey\n",
    "\n",
    "Source: The source from which the service begins.\n",
    "\n",
    "Destination: The destination where the service ends.\n",
    "\n",
    "Route: The route taken by the flight to reach the destination.\n",
    "\n",
    "Dep_Time: The time when the journey starts from the source.\n",
    "\n",
    "Arrival_Time: Time of arrival at the destination.\n",
    "\n",
    "Duration: Total duration of the flight.\n",
    "\n",
    "Total_Stops: Total stops between the source and destination.\n",
    "\n",
    "Additional_Info: Additional information about the flight"
   ]
  },
  {
   "cell_type": "code",
   "execution_count": 1,
   "id": "bf59c3bb",
   "metadata": {},
   "outputs": [],
   "source": [
    "import pandas as pd\n",
    "import numpy as np\n",
    "import seaborn as sns\n",
    "import matplotlib.pyplot as plt\n",
    "import warnings \n",
    "warnings.filterwarnings(\"ignore\")    "
   ]
  },
  {
   "cell_type": "markdown",
   "id": "bfedf65c",
   "metadata": {},
   "source": [
    "## Training dataset"
   ]
  },
  {
   "cell_type": "code",
   "execution_count": 2,
   "id": "c82e9568",
   "metadata": {},
   "outputs": [],
   "source": [
    "train=pd.read_excel(r\"C:\\Users\\ABC\\OneDrive\\Desktop\\Data_Train.xlsx\")"
   ]
  },
  {
   "cell_type": "code",
   "execution_count": 3,
   "id": "2a95b8a1",
   "metadata": {},
   "outputs": [
    {
     "data": {
      "text/html": [
       "<div>\n",
       "<style scoped>\n",
       "    .dataframe tbody tr th:only-of-type {\n",
       "        vertical-align: middle;\n",
       "    }\n",
       "\n",
       "    .dataframe tbody tr th {\n",
       "        vertical-align: top;\n",
       "    }\n",
       "\n",
       "    .dataframe thead th {\n",
       "        text-align: right;\n",
       "    }\n",
       "</style>\n",
       "<table border=\"1\" class=\"dataframe\">\n",
       "  <thead>\n",
       "    <tr style=\"text-align: right;\">\n",
       "      <th></th>\n",
       "      <th>Airline</th>\n",
       "      <th>Date_of_Journey</th>\n",
       "      <th>Source</th>\n",
       "      <th>Destination</th>\n",
       "      <th>Route</th>\n",
       "      <th>Dep_Time</th>\n",
       "      <th>Arrival_Time</th>\n",
       "      <th>Duration</th>\n",
       "      <th>Total_Stops</th>\n",
       "      <th>Additional_Info</th>\n",
       "      <th>Price</th>\n",
       "    </tr>\n",
       "  </thead>\n",
       "  <tbody>\n",
       "    <tr>\n",
       "      <th>0</th>\n",
       "      <td>IndiGo</td>\n",
       "      <td>24/03/2019</td>\n",
       "      <td>Banglore</td>\n",
       "      <td>New Delhi</td>\n",
       "      <td>BLR → DEL</td>\n",
       "      <td>22:20</td>\n",
       "      <td>01:10 22 Mar</td>\n",
       "      <td>2h 50m</td>\n",
       "      <td>non-stop</td>\n",
       "      <td>No info</td>\n",
       "      <td>3897</td>\n",
       "    </tr>\n",
       "    <tr>\n",
       "      <th>1</th>\n",
       "      <td>Air India</td>\n",
       "      <td>1/05/2019</td>\n",
       "      <td>Kolkata</td>\n",
       "      <td>Banglore</td>\n",
       "      <td>CCU → IXR → BBI → BLR</td>\n",
       "      <td>05:50</td>\n",
       "      <td>13:15</td>\n",
       "      <td>7h 25m</td>\n",
       "      <td>2 stops</td>\n",
       "      <td>No info</td>\n",
       "      <td>7662</td>\n",
       "    </tr>\n",
       "    <tr>\n",
       "      <th>2</th>\n",
       "      <td>Jet Airways</td>\n",
       "      <td>9/06/2019</td>\n",
       "      <td>Delhi</td>\n",
       "      <td>Cochin</td>\n",
       "      <td>DEL → LKO → BOM → COK</td>\n",
       "      <td>09:25</td>\n",
       "      <td>04:25 10 Jun</td>\n",
       "      <td>19h</td>\n",
       "      <td>2 stops</td>\n",
       "      <td>No info</td>\n",
       "      <td>13882</td>\n",
       "    </tr>\n",
       "    <tr>\n",
       "      <th>3</th>\n",
       "      <td>IndiGo</td>\n",
       "      <td>12/05/2019</td>\n",
       "      <td>Kolkata</td>\n",
       "      <td>Banglore</td>\n",
       "      <td>CCU → NAG → BLR</td>\n",
       "      <td>18:05</td>\n",
       "      <td>23:30</td>\n",
       "      <td>5h 25m</td>\n",
       "      <td>1 stop</td>\n",
       "      <td>No info</td>\n",
       "      <td>6218</td>\n",
       "    </tr>\n",
       "    <tr>\n",
       "      <th>4</th>\n",
       "      <td>IndiGo</td>\n",
       "      <td>01/03/2019</td>\n",
       "      <td>Banglore</td>\n",
       "      <td>New Delhi</td>\n",
       "      <td>BLR → NAG → DEL</td>\n",
       "      <td>16:50</td>\n",
       "      <td>21:35</td>\n",
       "      <td>4h 45m</td>\n",
       "      <td>1 stop</td>\n",
       "      <td>No info</td>\n",
       "      <td>13302</td>\n",
       "    </tr>\n",
       "  </tbody>\n",
       "</table>\n",
       "</div>"
      ],
      "text/plain": [
       "       Airline Date_of_Journey    Source Destination                  Route  \\\n",
       "0       IndiGo      24/03/2019  Banglore   New Delhi              BLR → DEL   \n",
       "1    Air India       1/05/2019   Kolkata    Banglore  CCU → IXR → BBI → BLR   \n",
       "2  Jet Airways       9/06/2019     Delhi      Cochin  DEL → LKO → BOM → COK   \n",
       "3       IndiGo      12/05/2019   Kolkata    Banglore        CCU → NAG → BLR   \n",
       "4       IndiGo      01/03/2019  Banglore   New Delhi        BLR → NAG → DEL   \n",
       "\n",
       "  Dep_Time  Arrival_Time Duration Total_Stops Additional_Info  Price  \n",
       "0    22:20  01:10 22 Mar   2h 50m    non-stop         No info   3897  \n",
       "1    05:50         13:15   7h 25m     2 stops         No info   7662  \n",
       "2    09:25  04:25 10 Jun      19h     2 stops         No info  13882  \n",
       "3    18:05         23:30   5h 25m      1 stop         No info   6218  \n",
       "4    16:50         21:35   4h 45m      1 stop         No info  13302  "
      ]
     },
     "execution_count": 3,
     "metadata": {},
     "output_type": "execute_result"
    }
   ],
   "source": [
    "train.head()"
   ]
  },
  {
   "cell_type": "code",
   "execution_count": 4,
   "id": "7450b360",
   "metadata": {},
   "outputs": [
    {
     "data": {
      "text/plain": [
       "(10683, 11)"
      ]
     },
     "execution_count": 4,
     "metadata": {},
     "output_type": "execute_result"
    }
   ],
   "source": [
    "train.shape"
   ]
  },
  {
   "cell_type": "code",
   "execution_count": 5,
   "id": "bea6e51d",
   "metadata": {},
   "outputs": [
    {
     "name": "stdout",
     "output_type": "stream",
     "text": [
      "<class 'pandas.core.frame.DataFrame'>\n",
      "RangeIndex: 10683 entries, 0 to 10682\n",
      "Data columns (total 11 columns):\n",
      " #   Column           Non-Null Count  Dtype \n",
      "---  ------           --------------  ----- \n",
      " 0   Airline          10683 non-null  object\n",
      " 1   Date_of_Journey  10683 non-null  object\n",
      " 2   Source           10683 non-null  object\n",
      " 3   Destination      10683 non-null  object\n",
      " 4   Route            10682 non-null  object\n",
      " 5   Dep_Time         10683 non-null  object\n",
      " 6   Arrival_Time     10683 non-null  object\n",
      " 7   Duration         10683 non-null  object\n",
      " 8   Total_Stops      10682 non-null  object\n",
      " 9   Additional_Info  10683 non-null  object\n",
      " 10  Price            10683 non-null  int64 \n",
      "dtypes: int64(1), object(10)\n",
      "memory usage: 918.2+ KB\n"
     ]
    }
   ],
   "source": [
    "train.info()"
   ]
  },
  {
   "cell_type": "code",
   "execution_count": 6,
   "id": "07f5e0c8",
   "metadata": {},
   "outputs": [
    {
     "data": {
      "text/plain": [
       "Airline            object\n",
       "Date_of_Journey    object\n",
       "Source             object\n",
       "Destination        object\n",
       "Route              object\n",
       "Dep_Time           object\n",
       "Arrival_Time       object\n",
       "Duration           object\n",
       "Total_Stops        object\n",
       "Additional_Info    object\n",
       "Price               int64\n",
       "dtype: object"
      ]
     },
     "execution_count": 6,
     "metadata": {},
     "output_type": "execute_result"
    }
   ],
   "source": [
    "train.dtypes"
   ]
  },
  {
   "cell_type": "code",
   "execution_count": 7,
   "id": "733dd4a9",
   "metadata": {},
   "outputs": [
    {
     "data": {
      "text/plain": [
       "Airline            0\n",
       "Date_of_Journey    0\n",
       "Source             0\n",
       "Destination        0\n",
       "Route              1\n",
       "Dep_Time           0\n",
       "Arrival_Time       0\n",
       "Duration           0\n",
       "Total_Stops        1\n",
       "Additional_Info    0\n",
       "Price              0\n",
       "dtype: int64"
      ]
     },
     "execution_count": 7,
     "metadata": {},
     "output_type": "execute_result"
    }
   ],
   "source": [
    "train.isnull().sum()"
   ]
  },
  {
   "cell_type": "code",
   "execution_count": 8,
   "id": "a419150b",
   "metadata": {},
   "outputs": [
    {
     "data": {
      "image/png": "[encoded data removed]",
      "text/plain": [
       "<Figure size 1008x504 with 2 Axes>"
      ]
     },
     "metadata": {
      "needs_background": "light"
     },
     "output_type": "display_data"
    }
   ],
   "source": [
    "plt.figure(figsize=[14,7])\n",
    "sns.heatmap(train.isnull(),cmap='plasma')\n",
    "plt.show()"
   ]
  },
  {
   "cell_type": "markdown",
   "id": "23f8a997",
   "metadata": {},
   "source": [
    "### Observation-1\n",
    "\n",
    "In the above dataset :\n",
    "\n",
    "1) The size of table is 10683 * 11 i.e. no. of rows are 10683 and no. of columns are 11(including target).\n",
    "\n",
    "2) Out of 11 columns 1 columns(price) are continuous in nature and rest 10 are object data type.\n",
    "\n",
    "3) Null values(only 2) are present in the data set as we can see in the result, So we will drop 2 rows which have null values.\n",
    "\n",
    "4) In case of object data type, we will apply the encoding technique to convert the values in the numeric format"
   ]
  },
  {
   "cell_type": "markdown",
   "id": "1d96312a",
   "metadata": {},
   "source": [
    "## Working on Training Dataset"
   ]
  },
  {
   "cell_type": "markdown",
   "id": "cd885229",
   "metadata": {},
   "source": [
    "## EDA\n",
    "### Exploratory Data Analysis"
   ]
  },
  {
   "cell_type": "markdown",
   "id": "68095bfc",
   "metadata": {},
   "source": [
    "#### Dropping null value rows"
   ]
  },
  {
   "cell_type": "code",
   "execution_count": 9,
   "id": "86cf768f",
   "metadata": {},
   "outputs": [],
   "source": [
    "train.dropna(inplace=True)"
   ]
  },
  {
   "cell_type": "code",
   "execution_count": 10,
   "id": "0a2f9256",
   "metadata": {},
   "outputs": [
    {
     "data": {
      "text/plain": [
       "Airline            0\n",
       "Date_of_Journey    0\n",
       "Source             0\n",
       "Destination        0\n",
       "Route              0\n",
       "Dep_Time           0\n",
       "Arrival_Time       0\n",
       "Duration           0\n",
       "Total_Stops        0\n",
       "Additional_Info    0\n",
       "Price              0\n",
       "dtype: int64"
      ]
     },
     "execution_count": 10,
     "metadata": {},
     "output_type": "execute_result"
    }
   ],
   "source": [
    "train.isnull().sum()"
   ]
  },
  {
   "cell_type": "code",
   "execution_count": 11,
   "id": "8099cd7e",
   "metadata": {},
   "outputs": [
    {
     "data": {
      "text/plain": [
       "(10682, 11)"
      ]
     },
     "execution_count": 11,
     "metadata": {},
     "output_type": "execute_result"
    }
   ],
   "source": [
    "train.shape"
   ]
  },
  {
   "cell_type": "code",
   "execution_count": 12,
   "id": "d04dff0a",
   "metadata": {},
   "outputs": [
    {
     "name": "stdout",
     "output_type": "stream",
     "text": [
      "Jet Airways                          3849\n",
      "IndiGo                               2053\n",
      "Air India                            1751\n",
      "Multiple carriers                    1196\n",
      "SpiceJet                              818\n",
      "Vistara                               479\n",
      "Air Asia                              319\n",
      "GoAir                                 194\n",
      "Multiple carriers Premium economy      13\n",
      "Jet Airways Business                    6\n",
      "Vistara Premium economy                 3\n",
      "Trujet                                  1\n",
      "Name: Airline, dtype: int64\n"
     ]
    },
    {
     "data": {
      "image/png": "[encoded data removed]",
      "text/plain": [
       "<Figure size 1440x648 with 1 Axes>"
      ]
     },
     "metadata": {
      "needs_background": "light"
     },
     "output_type": "display_data"
    }
   ],
   "source": [
    "print(train['Airline'].value_counts())\n",
    "plt.figure(figsize=[20,9])\n",
    "sns.countplot(train['Airline'],palette='Set3')\n",
    "plt.show()"
   ]
  },
  {
   "cell_type": "code",
   "execution_count": 13,
   "id": "c9d4228e",
   "metadata": {},
   "outputs": [
    {
     "name": "stdout",
     "output_type": "stream",
     "text": [
      "Cochin       4536\n",
      "Banglore     2871\n",
      "Delhi        1265\n",
      "New Delhi     932\n",
      "Hyderabad     697\n",
      "Kolkata       381\n",
      "Name: Destination, dtype: int64\n"
     ]
    },
    {
     "data": {
      "image/png": "[encoded data removed]",
      "text/plain": [
       "<Figure size 1440x648 with 1 Axes>"
      ]
     },
     "metadata": {
      "needs_background": "light"
     },
     "output_type": "display_data"
    }
   ],
   "source": [
    "print(train['Destination'].value_counts())\n",
    "plt.figure(figsize=[20,9])\n",
    "sns.countplot(train['Destination'],palette='Set2_r')\n",
    "plt.show()"
   ]
  },
  {
   "cell_type": "code",
   "execution_count": 14,
   "id": "0b41007c",
   "metadata": {},
   "outputs": [
    {
     "name": "stdout",
     "output_type": "stream",
     "text": [
      "Delhi       4536\n",
      "Kolkata     2871\n",
      "Banglore    2197\n",
      "Mumbai       697\n",
      "Chennai      381\n",
      "Name: Source, dtype: int64\n"
     ]
    },
    {
     "data": {
      "image/png": "[encoded data removed]",
      "text/plain": [
       "<Figure size 576x576 with 1 Axes>"
      ]
     },
     "metadata": {},
     "output_type": "display_data"
    }
   ],
   "source": [
    "print(train['Source'].value_counts())\n",
    "train.Source.value_counts().plot.pie(explode=[0.1,0.1,0.1,0.1,0.1],shadow=True,figsize=(8,8),autopct='%1.1f%%',cmap='Set3')\n",
    "plt.show()"
   ]
  },
  {
   "cell_type": "code",
   "execution_count": 15,
   "id": "f385eb74",
   "metadata": {},
   "outputs": [
    {
     "name": "stdout",
     "output_type": "stream",
     "text": [
      "1 stop      5625\n",
      "non-stop    3491\n",
      "2 stops     1520\n",
      "3 stops       45\n",
      "4 stops        1\n",
      "Name: Total_Stops, dtype: int64\n"
     ]
    },
    {
     "data": {
      "image/png": "[encoded data removed]",
      "text/plain": [
       "<Figure size 1440x648 with 1 Axes>"
      ]
     },
     "metadata": {
      "needs_background": "light"
     },
     "output_type": "display_data"
    }
   ],
   "source": [
    "print(train['Total_Stops'].value_counts())\n",
    "plt.figure(figsize=[20,9])\n",
    "sns.countplot(y=train['Total_Stops'],palette='plasma')\n",
    "plt.show()"
   ]
  },
  {
   "cell_type": "code",
   "execution_count": 16,
   "id": "6cbd0c85",
   "metadata": {},
   "outputs": [
    {
     "data": {
      "text/plain": [
       "0                         No info\n",
       "1     In-flight meal not included\n",
       "2    No check-in baggage included\n",
       "3                 1 Short layover\n",
       "4                         No Info\n",
       "5                  1 Long layover\n",
       "6                 Change airports\n",
       "7                  Business class\n",
       "8                  Red-eye flight\n",
       "9                  2 Long layover\n",
       "dtype: object"
      ]
     },
     "execution_count": 16,
     "metadata": {},
     "output_type": "execute_result"
    }
   ],
   "source": [
    "pd.Series(train['Additional_Info'].unique())"
   ]
  },
  {
   "cell_type": "code",
   "execution_count": 17,
   "id": "1e824fbb",
   "metadata": {},
   "outputs": [
    {
     "data": {
      "text/plain": [
       "No info                         8344\n",
       "In-flight meal not included     1982\n",
       "No check-in baggage included     320\n",
       "1 Long layover                    19\n",
       "Change airports                    7\n",
       "Business class                     4\n",
       "No Info                            3\n",
       "1 Short layover                    1\n",
       "Red-eye flight                     1\n",
       "2 Long layover                     1\n",
       "Name: Additional_Info, dtype: int64"
      ]
     },
     "execution_count": 17,
     "metadata": {},
     "output_type": "execute_result"
    }
   ],
   "source": [
    "train['Additional_Info'].value_counts()"
   ]
  },
  {
   "cell_type": "markdown",
   "id": "2e18a977",
   "metadata": {},
   "source": [
    "### Observation-2\n",
    "\n",
    "From the above graph we can conclude that:\n",
    "\n",
    "1) Jet airways having a larget number of flights(3849) as compare to other airways.\n",
    "\n",
    "2) Indigo(2053), Air india(1751) and Multiple carriers(1196) airways standing over the 2nd, 3rd and 4th position and having good flights as comapre to others.\n",
    "\n",
    "3) Spicejet(818), Vistara(479), Air asia(319) and Go air(194) airways have a less number of flights and Multiple carriers Premium economy(13), Jet Airways Business(6), Turget(1) and Vistara Premium economy(3) airways have very less or we can say few number of flights as comapre to others.\n",
    "\n",
    "4) Destination- Cochin(4536), Banglore(2871) and Delhi(1265) cities are the most preferable destination by the peoples.\n",
    "\n",
    "5) New delhi(932), Hyderabad(697) and Kolkata(381) cities are also important destination for the peoples.\n",
    "\n",
    "6) Delhi, Kolkata ,Mumbai , Chennai and Banglore are the main source of flights but Delhi(42.5%) is the most preferable source for all the airways.\n",
    "\n",
    "7) When we see the total stops columns, Most of the flights takes one stopage(5625) and there are many flights also which takes zero stopage(3491). Number of 3 stopage is very less and some flights takes 2 stopage(1520) as well.\n",
    "\n",
    "8) When we see the Additional_info column, We can say that our 80% of data are having no info Therefore we can think to drop this column in upcoming stage."
   ]
  },
  {
   "cell_type": "markdown",
   "id": "face8c2a",
   "metadata": {},
   "source": [
    "### Checking Relations"
   ]
  },
  {
   "cell_type": "code",
   "execution_count": 18,
   "id": "d8770839",
   "metadata": {},
   "outputs": [
    {
     "data": {
      "text/plain": [
       "<Figure size 1080x648 with 0 Axes>"
      ]
     },
     "metadata": {},
     "output_type": "display_data"
    },
    {
     "data": {
      "image/png": "[encoded data removed]",
      "text/plain": [
       "<Figure size 360x360 with 1 Axes>"
      ]
     },
     "metadata": {
      "needs_background": "light"
     },
     "output_type": "display_data"
    }
   ],
   "source": [
    "plt.figure(figsize=[15,9])\n",
    "sns.catplot(data=train,x='Price',y='Airline') \n",
    "plt.show()"
   ]
  },
  {
   "cell_type": "code",
   "execution_count": 19,
   "id": "e2cf66b6",
   "metadata": {},
   "outputs": [
    {
     "data": {
      "text/plain": [
       "<Figure size 3600x1800 with 0 Axes>"
      ]
     },
     "metadata": {},
     "output_type": "display_data"
    },
    {
     "data": {
      "image/png": "[encoded data removed]",
      "text/plain": [
       "<Figure size 360x360 with 1 Axes>"
      ]
     },
     "metadata": {
      "needs_background": "light"
     },
     "output_type": "display_data"
    }
   ],
   "source": [
    "plt.figure(figsize=[50,25])\n",
    "sns.catplot(data=train,x='Source',y='Price') \n",
    "plt.show()"
   ]
  },
  {
   "cell_type": "code",
   "execution_count": 20,
   "id": "86b6aebe",
   "metadata": {},
   "outputs": [
    {
     "data": {
      "image/png": "[encoded data removed]",
      "text/plain": [
       "<Figure size 1080x648 with 1 Axes>"
      ]
     },
     "metadata": {
      "needs_background": "light"
     },
     "output_type": "display_data"
    }
   ],
   "source": [
    "plt.figure(figsize=[15,9])\n",
    "sns.scatterplot(data=train,x='Destination',y='Price') \n",
    "plt.show()"
   ]
  },
  {
   "cell_type": "code",
   "execution_count": 21,
   "id": "783ff0de",
   "metadata": {},
   "outputs": [
    {
     "data": {
      "image/png": "[encoded data removed]",
      "text/plain": [
       "<Figure size 1080x648 with 1 Axes>"
      ]
     },
     "metadata": {
      "needs_background": "light"
     },
     "output_type": "display_data"
    }
   ],
   "source": [
    "plt.figure(figsize=[15,9])\n",
    "sns.boxplot(data=train,x='Total_Stops',y='Price') \n",
    "plt.show()"
   ]
  },
  {
   "cell_type": "code",
   "execution_count": 22,
   "id": "1f1287fd",
   "metadata": {},
   "outputs": [
    {
     "data": {
      "text/plain": [
       "<seaborn.axisgrid.FacetGrid at 0x2d2bd284460>"
      ]
     },
     "execution_count": 22,
     "metadata": {},
     "output_type": "execute_result"
    },
    {
     "data": {
      "image/png": "[encoded data removed]",
      "text/plain": [
       "<Figure size 1530.88x360 with 1 Axes>"
      ]
     },
     "metadata": {
      "needs_background": "light"
     },
     "output_type": "display_data"
    }
   ],
   "source": [
    "sns.factorplot(x = 'Airline', y = 'Price', hue = 'Destination', data=train, aspect= 4, ci=None)"
   ]
  },
  {
   "cell_type": "code",
   "execution_count": 23,
   "id": "07ce563b",
   "metadata": {},
   "outputs": [
    {
     "data": {
      "text/plain": [
       "<seaborn.axisgrid.FacetGrid at 0x2d2bd900790>"
      ]
     },
     "execution_count": 23,
     "metadata": {},
     "output_type": "execute_result"
    },
    {
     "data": {
      "image/png": "[encoded data removed]",
      "text/plain": [
       "<Figure size 1520.62x360 with 1 Axes>"
      ]
     },
     "metadata": {
      "needs_background": "light"
     },
     "output_type": "display_data"
    }
   ],
   "source": [
    "sns.factorplot(x = 'Airline', y = 'Price', hue = 'Source', data=train, aspect= 4, ci=None)"
   ]
  },
  {
   "cell_type": "markdown",
   "id": "76d7cc94",
   "metadata": {},
   "source": [
    "### Observation-2(A)"
   ]
  },
  {
   "cell_type": "markdown",
   "id": "0608dfb7",
   "metadata": {},
   "source": [
    "As we can see in the in tyhe above graphs:\n",
    "    \n",
    "1) Price of jet airways is higher as compare to other airlines.\n",
    "\n",
    "2) The Ticket price of airline which starts with delhi and banglore are higher as compare to other sources.\n",
    "\n",
    "3) The Ticket price is higher when the destination is New delhi and coachin.\n",
    "\n",
    "4) Most of the airlines takes 1 or 2 stops to reach the destination point, and very less flights takes 4 stops to reach the destination point."
   ]
  },
  {
   "cell_type": "markdown",
   "id": "6bbb73f3",
   "metadata": {},
   "source": [
    "## Data preprocesssing"
   ]
  },
  {
   "cell_type": "code",
   "execution_count": 24,
   "id": "cb722292",
   "metadata": {},
   "outputs": [
    {
     "data": {
      "text/html": [
       "<div>\n",
       "<style scoped>\n",
       "    .dataframe tbody tr th:only-of-type {\n",
       "        vertical-align: middle;\n",
       "    }\n",
       "\n",
       "    .dataframe tbody tr th {\n",
       "        vertical-align: top;\n",
       "    }\n",
       "\n",
       "    .dataframe thead th {\n",
       "        text-align: right;\n",
       "    }\n",
       "</style>\n",
       "<table border=\"1\" class=\"dataframe\">\n",
       "  <thead>\n",
       "    <tr style=\"text-align: right;\">\n",
       "      <th></th>\n",
       "      <th>Airline</th>\n",
       "      <th>Date_of_Journey</th>\n",
       "      <th>Source</th>\n",
       "      <th>Destination</th>\n",
       "      <th>Route</th>\n",
       "      <th>Dep_Time</th>\n",
       "      <th>Arrival_Time</th>\n",
       "      <th>Duration</th>\n",
       "      <th>Total_Stops</th>\n",
       "      <th>Additional_Info</th>\n",
       "      <th>Price</th>\n",
       "    </tr>\n",
       "  </thead>\n",
       "  <tbody>\n",
       "    <tr>\n",
       "      <th>0</th>\n",
       "      <td>IndiGo</td>\n",
       "      <td>24/03/2019</td>\n",
       "      <td>Banglore</td>\n",
       "      <td>New Delhi</td>\n",
       "      <td>BLR → DEL</td>\n",
       "      <td>22:20</td>\n",
       "      <td>01:10 22 Mar</td>\n",
       "      <td>2h 50m</td>\n",
       "      <td>non-stop</td>\n",
       "      <td>No info</td>\n",
       "      <td>3897</td>\n",
       "    </tr>\n",
       "    <tr>\n",
       "      <th>1</th>\n",
       "      <td>Air India</td>\n",
       "      <td>1/05/2019</td>\n",
       "      <td>Kolkata</td>\n",
       "      <td>Banglore</td>\n",
       "      <td>CCU → IXR → BBI → BLR</td>\n",
       "      <td>05:50</td>\n",
       "      <td>13:15</td>\n",
       "      <td>7h 25m</td>\n",
       "      <td>2 stops</td>\n",
       "      <td>No info</td>\n",
       "      <td>7662</td>\n",
       "    </tr>\n",
       "    <tr>\n",
       "      <th>2</th>\n",
       "      <td>Jet Airways</td>\n",
       "      <td>9/06/2019</td>\n",
       "      <td>Delhi</td>\n",
       "      <td>Cochin</td>\n",
       "      <td>DEL → LKO → BOM → COK</td>\n",
       "      <td>09:25</td>\n",
       "      <td>04:25 10 Jun</td>\n",
       "      <td>19h</td>\n",
       "      <td>2 stops</td>\n",
       "      <td>No info</td>\n",
       "      <td>13882</td>\n",
       "    </tr>\n",
       "    <tr>\n",
       "      <th>3</th>\n",
       "      <td>IndiGo</td>\n",
       "      <td>12/05/2019</td>\n",
       "      <td>Kolkata</td>\n",
       "      <td>Banglore</td>\n",
       "      <td>CCU → NAG → BLR</td>\n",
       "      <td>18:05</td>\n",
       "      <td>23:30</td>\n",
       "      <td>5h 25m</td>\n",
       "      <td>1 stop</td>\n",
       "      <td>No info</td>\n",
       "      <td>6218</td>\n",
       "    </tr>\n",
       "    <tr>\n",
       "      <th>4</th>\n",
       "      <td>IndiGo</td>\n",
       "      <td>01/03/2019</td>\n",
       "      <td>Banglore</td>\n",
       "      <td>New Delhi</td>\n",
       "      <td>BLR → NAG → DEL</td>\n",
       "      <td>16:50</td>\n",
       "      <td>21:35</td>\n",
       "      <td>4h 45m</td>\n",
       "      <td>1 stop</td>\n",
       "      <td>No info</td>\n",
       "      <td>13302</td>\n",
       "    </tr>\n",
       "  </tbody>\n",
       "</table>\n",
       "</div>"
      ],
      "text/plain": [
       "       Airline Date_of_Journey    Source Destination                  Route  \\\n",
       "0       IndiGo      24/03/2019  Banglore   New Delhi              BLR → DEL   \n",
       "1    Air India       1/05/2019   Kolkata    Banglore  CCU → IXR → BBI → BLR   \n",
       "2  Jet Airways       9/06/2019     Delhi      Cochin  DEL → LKO → BOM → COK   \n",
       "3       IndiGo      12/05/2019   Kolkata    Banglore        CCU → NAG → BLR   \n",
       "4       IndiGo      01/03/2019  Banglore   New Delhi        BLR → NAG → DEL   \n",
       "\n",
       "  Dep_Time  Arrival_Time Duration Total_Stops Additional_Info  Price  \n",
       "0    22:20  01:10 22 Mar   2h 50m    non-stop         No info   3897  \n",
       "1    05:50         13:15   7h 25m     2 stops         No info   7662  \n",
       "2    09:25  04:25 10 Jun      19h     2 stops         No info  13882  \n",
       "3    18:05         23:30   5h 25m      1 stop         No info   6218  \n",
       "4    16:50         21:35   4h 45m      1 stop         No info  13302  "
      ]
     },
     "execution_count": 24,
     "metadata": {},
     "output_type": "execute_result"
    }
   ],
   "source": [
    "train.head()"
   ]
  },
  {
   "cell_type": "markdown",
   "id": "adbf57c3",
   "metadata": {},
   "source": [
    "#### We have some columns which demands to convert in date time format because our machine will not able learn that format which we got from the excel sheet, So we will change the format of some columns which is releted to date time.\n",
    "\n",
    "1) Date_of_Journey\n",
    "\n",
    "2) Dep_Time\n",
    "\n",
    "3) Arrival_Time\n",
    "\n",
    "4) Duration"
   ]
  },
  {
   "cell_type": "markdown",
   "id": "e8faeaa4",
   "metadata": {},
   "source": [
    "### 1) Date_of_Journey"
   ]
  },
  {
   "cell_type": "code",
   "execution_count": 25,
   "id": "3a181f17",
   "metadata": {},
   "outputs": [],
   "source": [
    "train['Journey_day']=pd.to_datetime(train['Date_of_Journey'],format='%d/%m/%Y').dt.day"
   ]
  },
  {
   "cell_type": "code",
   "execution_count": 26,
   "id": "c187ab0c",
   "metadata": {},
   "outputs": [],
   "source": [
    "train['Journey_month']=pd.to_datetime(train['Date_of_Journey'],format='%d/%m/%Y').dt.day"
   ]
  },
  {
   "cell_type": "code",
   "execution_count": 27,
   "id": "44cc3342",
   "metadata": {},
   "outputs": [],
   "source": [
    "train.drop(['Date_of_Journey'],axis=1,inplace=True)"
   ]
  },
  {
   "cell_type": "markdown",
   "id": "4973d5e6",
   "metadata": {},
   "source": [
    "### 2) Dep_Time"
   ]
  },
  {
   "cell_type": "code",
   "execution_count": 28,
   "id": "012897d5",
   "metadata": {},
   "outputs": [],
   "source": [
    "train['Dep_hour']=pd.to_datetime(train['Dep_Time']).dt.hour"
   ]
  },
  {
   "cell_type": "code",
   "execution_count": 29,
   "id": "01d78854",
   "metadata": {},
   "outputs": [],
   "source": [
    "train['Dep_min']=pd.to_datetime(train['Dep_Time']).dt.minute"
   ]
  },
  {
   "cell_type": "code",
   "execution_count": 30,
   "id": "53b0eccb",
   "metadata": {},
   "outputs": [],
   "source": [
    "train.drop(['Dep_Time'],axis=1,inplace=True)"
   ]
  },
  {
   "cell_type": "markdown",
   "id": "38fc355c",
   "metadata": {},
   "source": [
    "### 3) Arrival_Time"
   ]
  },
  {
   "cell_type": "code",
   "execution_count": 31,
   "id": "3ddd6c9f",
   "metadata": {},
   "outputs": [],
   "source": [
    "train['Arrival_hour']=pd.to_datetime(train['Arrival_Time']).dt.hour\n",
    "train['Arrival_min']=pd.to_datetime(train['Arrival_Time']).dt.minute"
   ]
  },
  {
   "cell_type": "code",
   "execution_count": 32,
   "id": "b7046d90",
   "metadata": {},
   "outputs": [],
   "source": [
    "train.drop(['Arrival_Time'],axis=1,inplace=True)"
   ]
  },
  {
   "cell_type": "markdown",
   "id": "9d314aa3",
   "metadata": {},
   "source": [
    "### 4) Duration"
   ]
  },
  {
   "cell_type": "code",
   "execution_count": 33,
   "id": "22baa7d3",
   "metadata": {},
   "outputs": [],
   "source": [
    "duration=list(train['Duration'])"
   ]
  },
  {
   "cell_type": "code",
   "execution_count": 34,
   "id": "66c63831",
   "metadata": {},
   "outputs": [],
   "source": [
    "duration = list(train[\"Duration\"])\n",
    "\n",
    "for i in range(len(duration)):\n",
    "    if len(duration[i].split()) != 2:    \n",
    "        if \"h\" in duration[i]:\n",
    "            duration[i] = duration[i].strip() + \" 0m\"   \n",
    "        else:\n",
    "            duration[i] = \"0h \" + duration[i]           \n",
    "\n",
    "duration_hours = []\n",
    "duration_mins = []\n",
    "for i in range(len(duration)):\n",
    "    duration_hours.append(int(duration[i].split(sep = \"h\")[0]))    \n",
    "    duration_mins.append(int(duration[i].split(sep = \"m\")[0].split()[-1]))"
   ]
  },
  {
   "cell_type": "code",
   "execution_count": 35,
   "id": "00a974ef",
   "metadata": {},
   "outputs": [],
   "source": [
    "train.drop(['Duration'],axis=1,inplace=True)"
   ]
  },
  {
   "cell_type": "code",
   "execution_count": 36,
   "id": "0858283e",
   "metadata": {},
   "outputs": [],
   "source": [
    "train['Duration_hour']=duration_hours\n",
    "train['Duration_min']=duration_mins"
   ]
  },
  {
   "cell_type": "markdown",
   "id": "7233ab5f",
   "metadata": {},
   "source": [
    "### Dropping Additional_info columns because this column is not so much important for model building"
   ]
  },
  {
   "cell_type": "code",
   "execution_count": 37,
   "id": "78354788",
   "metadata": {},
   "outputs": [],
   "source": [
    "train.drop(['Additional_Info'],axis=1,inplace=True)"
   ]
  },
  {
   "cell_type": "markdown",
   "id": "1add5f81",
   "metadata": {},
   "source": [
    "."
   ]
  },
  {
   "cell_type": "code",
   "execution_count": 38,
   "id": "0b2de540",
   "metadata": {},
   "outputs": [
    {
     "data": {
      "text/html": [
       "<div>\n",
       "<style scoped>\n",
       "    .dataframe tbody tr th:only-of-type {\n",
       "        vertical-align: middle;\n",
       "    }\n",
       "\n",
       "    .dataframe tbody tr th {\n",
       "        vertical-align: top;\n",
       "    }\n",
       "\n",
       "    .dataframe thead th {\n",
       "        text-align: right;\n",
       "    }\n",
       "</style>\n",
       "<table border=\"1\" class=\"dataframe\">\n",
       "  <thead>\n",
       "    <tr style=\"text-align: right;\">\n",
       "      <th></th>\n",
       "      <th>Airline</th>\n",
       "      <th>Source</th>\n",
       "      <th>Destination</th>\n",
       "      <th>Route</th>\n",
       "      <th>Total_Stops</th>\n",
       "      <th>Price</th>\n",
       "      <th>Journey_day</th>\n",
       "      <th>Journey_month</th>\n",
       "      <th>Dep_hour</th>\n",
       "      <th>Dep_min</th>\n",
       "      <th>Arrival_hour</th>\n",
       "      <th>Arrival_min</th>\n",
       "      <th>Duration_hour</th>\n",
       "      <th>Duration_min</th>\n",
       "    </tr>\n",
       "  </thead>\n",
       "  <tbody>\n",
       "    <tr>\n",
       "      <th>0</th>\n",
       "      <td>IndiGo</td>\n",
       "      <td>Banglore</td>\n",
       "      <td>New Delhi</td>\n",
       "      <td>BLR → DEL</td>\n",
       "      <td>non-stop</td>\n",
       "      <td>3897</td>\n",
       "      <td>24</td>\n",
       "      <td>24</td>\n",
       "      <td>22</td>\n",
       "      <td>20</td>\n",
       "      <td>1</td>\n",
       "      <td>10</td>\n",
       "      <td>2</td>\n",
       "      <td>50</td>\n",
       "    </tr>\n",
       "    <tr>\n",
       "      <th>1</th>\n",
       "      <td>Air India</td>\n",
       "      <td>Kolkata</td>\n",
       "      <td>Banglore</td>\n",
       "      <td>CCU → IXR → BBI → BLR</td>\n",
       "      <td>2 stops</td>\n",
       "      <td>7662</td>\n",
       "      <td>1</td>\n",
       "      <td>1</td>\n",
       "      <td>5</td>\n",
       "      <td>50</td>\n",
       "      <td>13</td>\n",
       "      <td>15</td>\n",
       "      <td>7</td>\n",
       "      <td>25</td>\n",
       "    </tr>\n",
       "    <tr>\n",
       "      <th>2</th>\n",
       "      <td>Jet Airways</td>\n",
       "      <td>Delhi</td>\n",
       "      <td>Cochin</td>\n",
       "      <td>DEL → LKO → BOM → COK</td>\n",
       "      <td>2 stops</td>\n",
       "      <td>13882</td>\n",
       "      <td>9</td>\n",
       "      <td>9</td>\n",
       "      <td>9</td>\n",
       "      <td>25</td>\n",
       "      <td>4</td>\n",
       "      <td>25</td>\n",
       "      <td>19</td>\n",
       "      <td>0</td>\n",
       "    </tr>\n",
       "    <tr>\n",
       "      <th>3</th>\n",
       "      <td>IndiGo</td>\n",
       "      <td>Kolkata</td>\n",
       "      <td>Banglore</td>\n",
       "      <td>CCU → NAG → BLR</td>\n",
       "      <td>1 stop</td>\n",
       "      <td>6218</td>\n",
       "      <td>12</td>\n",
       "      <td>12</td>\n",
       "      <td>18</td>\n",
       "      <td>5</td>\n",
       "      <td>23</td>\n",
       "      <td>30</td>\n",
       "      <td>5</td>\n",
       "      <td>25</td>\n",
       "    </tr>\n",
       "    <tr>\n",
       "      <th>4</th>\n",
       "      <td>IndiGo</td>\n",
       "      <td>Banglore</td>\n",
       "      <td>New Delhi</td>\n",
       "      <td>BLR → NAG → DEL</td>\n",
       "      <td>1 stop</td>\n",
       "      <td>13302</td>\n",
       "      <td>1</td>\n",
       "      <td>1</td>\n",
       "      <td>16</td>\n",
       "      <td>50</td>\n",
       "      <td>21</td>\n",
       "      <td>35</td>\n",
       "      <td>4</td>\n",
       "      <td>45</td>\n",
       "    </tr>\n",
       "  </tbody>\n",
       "</table>\n",
       "</div>"
      ],
      "text/plain": [
       "       Airline    Source Destination                  Route Total_Stops  \\\n",
       "0       IndiGo  Banglore   New Delhi              BLR → DEL    non-stop   \n",
       "1    Air India   Kolkata    Banglore  CCU → IXR → BBI → BLR     2 stops   \n",
       "2  Jet Airways     Delhi      Cochin  DEL → LKO → BOM → COK     2 stops   \n",
       "3       IndiGo   Kolkata    Banglore        CCU → NAG → BLR      1 stop   \n",
       "4       IndiGo  Banglore   New Delhi        BLR → NAG → DEL      1 stop   \n",
       "\n",
       "   Price  Journey_day  Journey_month  Dep_hour  Dep_min  Arrival_hour  \\\n",
       "0   3897           24             24        22       20             1   \n",
       "1   7662            1              1         5       50            13   \n",
       "2  13882            9              9         9       25             4   \n",
       "3   6218           12             12        18        5            23   \n",
       "4  13302            1              1        16       50            21   \n",
       "\n",
       "   Arrival_min  Duration_hour  Duration_min  \n",
       "0           10              2            50  \n",
       "1           15              7            25  \n",
       "2           25             19             0  \n",
       "3           30              5            25  \n",
       "4           35              4            45  "
      ]
     },
     "execution_count": 38,
     "metadata": {},
     "output_type": "execute_result"
    }
   ],
   "source": [
    "train.head()"
   ]
  },
  {
   "cell_type": "markdown",
   "id": "b365a56e",
   "metadata": {},
   "source": [
    "### Checking relation between route column and total stops column."
   ]
  },
  {
   "cell_type": "code",
   "execution_count": 39,
   "id": "d8b956d9",
   "metadata": {},
   "outputs": [
    {
     "data": {
      "text/plain": [
       "DEL → BOM → COK          2376\n",
       "BLR → DEL                1552\n",
       "CCU → BOM → BLR           979\n",
       "CCU → BLR                 724\n",
       "BOM → HYD                 621\n",
       "                         ... \n",
       "CCU → VTZ → BLR             1\n",
       "CCU → IXZ → MAA → BLR       1\n",
       "BOM → COK → MAA → HYD       1\n",
       "BOM → CCU → HYD             1\n",
       "BOM → BBI → HYD             1\n",
       "Name: Route, Length: 128, dtype: int64"
      ]
     },
     "execution_count": 39,
     "metadata": {},
     "output_type": "execute_result"
    }
   ],
   "source": [
    "train['Route'].value_counts()"
   ]
  },
  {
   "cell_type": "code",
   "execution_count": 40,
   "id": "08c8cc1c",
   "metadata": {},
   "outputs": [
    {
     "data": {
      "text/plain": [
       "array(['BLR → DEL', 'CCU → IXR → BBI → BLR', 'DEL → LKO → BOM → COK',\n",
       "       'CCU → NAG → BLR', 'BLR → NAG → DEL', 'CCU → BLR',\n",
       "       'BLR → BOM → DEL', 'DEL → BOM → COK', 'DEL → BLR → COK',\n",
       "       'MAA → CCU', 'CCU → BOM → BLR', 'DEL → AMD → BOM → COK',\n",
       "       'DEL → PNQ → COK', 'DEL → CCU → BOM → COK', 'BLR → COK → DEL',\n",
       "       'DEL → IDR → BOM → COK', 'DEL → LKO → COK',\n",
       "       'CCU → GAU → DEL → BLR', 'DEL → NAG → BOM → COK',\n",
       "       'CCU → MAA → BLR', 'DEL → HYD → COK', 'CCU → HYD → BLR',\n",
       "       'DEL → COK', 'CCU → DEL → BLR', 'BLR → BOM → AMD → DEL',\n",
       "       'BOM → DEL → HYD', 'DEL → MAA → COK', 'BOM → HYD',\n",
       "       'DEL → BHO → BOM → COK', 'DEL → JAI → BOM → COK',\n",
       "       'DEL → ATQ → BOM → COK', 'DEL → JDH → BOM → COK',\n",
       "       'CCU → BBI → BOM → BLR', 'BLR → MAA → DEL',\n",
       "       'DEL → GOI → BOM → COK', 'DEL → BDQ → BOM → COK',\n",
       "       'CCU → JAI → BOM → BLR', 'CCU → BBI → BLR', 'BLR → HYD → DEL',\n",
       "       'DEL → TRV → COK', 'CCU → IXR → DEL → BLR',\n",
       "       'DEL → IXU → BOM → COK', 'CCU → IXB → BLR',\n",
       "       'BLR → BOM → JDH → DEL', 'DEL → UDR → BOM → COK',\n",
       "       'DEL → HYD → MAA → COK', 'CCU → BOM → COK → BLR',\n",
       "       'BLR → CCU → DEL', 'CCU → BOM → GOI → BLR',\n",
       "       'DEL → RPR → NAG → BOM → COK', 'DEL → HYD → BOM → COK',\n",
       "       'CCU → DEL → AMD → BLR', 'CCU → PNQ → BLR',\n",
       "       'BLR → CCU → GAU → DEL', 'CCU → DEL → COK → BLR',\n",
       "       'BLR → PNQ → DEL', 'BOM → JDH → DEL → HYD',\n",
       "       'BLR → BOM → BHO → DEL', 'DEL → AMD → COK', 'BLR → LKO → DEL',\n",
       "       'CCU → GAU → BLR', 'BOM → GOI → HYD', 'CCU → BOM → AMD → BLR',\n",
       "       'CCU → BBI → IXR → DEL → BLR', 'DEL → DED → BOM → COK',\n",
       "       'DEL → MAA → BOM → COK', 'BLR → AMD → DEL', 'BLR → VGA → DEL',\n",
       "       'CCU → JAI → DEL → BLR', 'CCU → AMD → BLR',\n",
       "       'CCU → VNS → DEL → BLR', 'BLR → BOM → IDR → DEL',\n",
       "       'BLR → BBI → DEL', 'BLR → GOI → DEL', 'BOM → AMD → ISK → HYD',\n",
       "       'BOM → DED → DEL → HYD', 'DEL → IXC → BOM → COK',\n",
       "       'CCU → PAT → BLR', 'BLR → CCU → BBI → DEL',\n",
       "       'CCU → BBI → HYD → BLR', 'BLR → BOM → NAG → DEL',\n",
       "       'BLR → CCU → BBI → HYD → DEL', 'BLR → GAU → DEL',\n",
       "       'BOM → BHO → DEL → HYD', 'BOM → JLR → HYD',\n",
       "       'BLR → HYD → VGA → DEL', 'CCU → KNU → BLR',\n",
       "       'CCU → BOM → PNQ → BLR', 'DEL → BBI → COK',\n",
       "       'BLR → VGA → HYD → DEL', 'BOM → JDH → JAI → DEL → HYD',\n",
       "       'DEL → GWL → IDR → BOM → COK', 'CCU → RPR → HYD → BLR',\n",
       "       'CCU → VTZ → BLR', 'CCU → DEL → VGA → BLR',\n",
       "       'BLR → BOM → IDR → GWL → DEL', 'CCU → DEL → COK → TRV → BLR',\n",
       "       'BOM → COK → MAA → HYD', 'BOM → NDC → HYD', 'BLR → BDQ → DEL',\n",
       "       'CCU → BOM → TRV → BLR', 'CCU → BOM → HBX → BLR',\n",
       "       'BOM → BDQ → DEL → HYD', 'BOM → CCU → HYD',\n",
       "       'BLR → TRV → COK → DEL', 'BLR → IDR → DEL',\n",
       "       'CCU → IXZ → MAA → BLR', 'CCU → GAU → IMF → DEL → BLR',\n",
       "       'BOM → GOI → PNQ → HYD', 'BOM → BLR → CCU → BBI → HYD',\n",
       "       'BOM → MAA → HYD', 'BLR → BOM → UDR → DEL',\n",
       "       'BOM → UDR → DEL → HYD', 'BLR → VGA → VTZ → DEL',\n",
       "       'BLR → HBX → BOM → BHO → DEL', 'CCU → IXA → BLR',\n",
       "       'BOM → RPR → VTZ → HYD', 'BLR → HBX → BOM → AMD → DEL',\n",
       "       'BOM → IDR → DEL → HYD', 'BOM → BLR → HYD', 'BLR → STV → DEL',\n",
       "       'CCU → IXB → DEL → BLR', 'BOM → JAI → DEL → HYD',\n",
       "       'BOM → VNS → DEL → HYD', 'BLR → HBX → BOM → NAG → DEL',\n",
       "       'BLR → BOM → IXC → DEL', 'BLR → CCU → BBI → HYD → VGA → DEL',\n",
       "       'BOM → BBI → HYD'], dtype=object)"
      ]
     },
     "execution_count": 40,
     "metadata": {},
     "output_type": "execute_result"
    }
   ],
   "source": [
    "train['Route'].unique()"
   ]
  },
  {
   "cell_type": "code",
   "execution_count": 41,
   "id": "f41c1d97",
   "metadata": {},
   "outputs": [
    {
     "data": {
      "text/plain": [
       "1 stop      5625\n",
       "non-stop    3491\n",
       "2 stops     1520\n",
       "3 stops       45\n",
       "4 stops        1\n",
       "Name: Total_Stops, dtype: int64"
      ]
     },
     "execution_count": 41,
     "metadata": {},
     "output_type": "execute_result"
    }
   ],
   "source": [
    "train['Total_Stops'].value_counts()"
   ]
  },
  {
   "cell_type": "markdown",
   "id": "6d0e3adb",
   "metadata": {},
   "source": [
    "### Observation-3\n",
    "\n",
    "As we can see Route and total_stops columns are providing same information, So we can think to drop one of them.\n",
    "We are droping route column."
   ]
  },
  {
   "cell_type": "code",
   "execution_count": 42,
   "id": "7555f24d",
   "metadata": {},
   "outputs": [],
   "source": [
    "train.drop(['Route'],axis=1,inplace=True)"
   ]
  },
  {
   "cell_type": "code",
   "execution_count": 43,
   "id": "b6435719",
   "metadata": {},
   "outputs": [],
   "source": [
    "train['Total_Stops']=train['Total_Stops'].replace({'1 stop':1,'non-stop':0,'2 stops':2,'3 stops':3,'4 stops':4})"
   ]
  },
  {
   "cell_type": "code",
   "execution_count": 44,
   "id": "50391461",
   "metadata": {},
   "outputs": [
    {
     "data": {
      "text/plain": [
       "1    5625\n",
       "0    3491\n",
       "2    1520\n",
       "3      45\n",
       "4       1\n",
       "Name: Total_Stops, dtype: int64"
      ]
     },
     "execution_count": 44,
     "metadata": {},
     "output_type": "execute_result"
    }
   ],
   "source": [
    "train['Total_Stops'].value_counts()"
   ]
  },
  {
   "cell_type": "markdown",
   "id": "a45b3e39",
   "metadata": {},
   "source": [
    "."
   ]
  },
  {
   "cell_type": "code",
   "execution_count": 45,
   "id": "dd6533db",
   "metadata": {},
   "outputs": [
    {
     "data": {
      "text/html": [
       "<div>\n",
       "<style scoped>\n",
       "    .dataframe tbody tr th:only-of-type {\n",
       "        vertical-align: middle;\n",
       "    }\n",
       "\n",
       "    .dataframe tbody tr th {\n",
       "        vertical-align: top;\n",
       "    }\n",
       "\n",
       "    .dataframe thead th {\n",
       "        text-align: right;\n",
       "    }\n",
       "</style>\n",
       "<table border=\"1\" class=\"dataframe\">\n",
       "  <thead>\n",
       "    <tr style=\"text-align: right;\">\n",
       "      <th></th>\n",
       "      <th>Airline</th>\n",
       "      <th>Source</th>\n",
       "      <th>Destination</th>\n",
       "      <th>Total_Stops</th>\n",
       "      <th>Price</th>\n",
       "      <th>Journey_day</th>\n",
       "      <th>Journey_month</th>\n",
       "      <th>Dep_hour</th>\n",
       "      <th>Dep_min</th>\n",
       "      <th>Arrival_hour</th>\n",
       "      <th>Arrival_min</th>\n",
       "      <th>Duration_hour</th>\n",
       "      <th>Duration_min</th>\n",
       "    </tr>\n",
       "  </thead>\n",
       "  <tbody>\n",
       "    <tr>\n",
       "      <th>0</th>\n",
       "      <td>IndiGo</td>\n",
       "      <td>Banglore</td>\n",
       "      <td>New Delhi</td>\n",
       "      <td>0</td>\n",
       "      <td>3897</td>\n",
       "      <td>24</td>\n",
       "      <td>24</td>\n",
       "      <td>22</td>\n",
       "      <td>20</td>\n",
       "      <td>1</td>\n",
       "      <td>10</td>\n",
       "      <td>2</td>\n",
       "      <td>50</td>\n",
       "    </tr>\n",
       "    <tr>\n",
       "      <th>1</th>\n",
       "      <td>Air India</td>\n",
       "      <td>Kolkata</td>\n",
       "      <td>Banglore</td>\n",
       "      <td>2</td>\n",
       "      <td>7662</td>\n",
       "      <td>1</td>\n",
       "      <td>1</td>\n",
       "      <td>5</td>\n",
       "      <td>50</td>\n",
       "      <td>13</td>\n",
       "      <td>15</td>\n",
       "      <td>7</td>\n",
       "      <td>25</td>\n",
       "    </tr>\n",
       "    <tr>\n",
       "      <th>2</th>\n",
       "      <td>Jet Airways</td>\n",
       "      <td>Delhi</td>\n",
       "      <td>Cochin</td>\n",
       "      <td>2</td>\n",
       "      <td>13882</td>\n",
       "      <td>9</td>\n",
       "      <td>9</td>\n",
       "      <td>9</td>\n",
       "      <td>25</td>\n",
       "      <td>4</td>\n",
       "      <td>25</td>\n",
       "      <td>19</td>\n",
       "      <td>0</td>\n",
       "    </tr>\n",
       "    <tr>\n",
       "      <th>3</th>\n",
       "      <td>IndiGo</td>\n",
       "      <td>Kolkata</td>\n",
       "      <td>Banglore</td>\n",
       "      <td>1</td>\n",
       "      <td>6218</td>\n",
       "      <td>12</td>\n",
       "      <td>12</td>\n",
       "      <td>18</td>\n",
       "      <td>5</td>\n",
       "      <td>23</td>\n",
       "      <td>30</td>\n",
       "      <td>5</td>\n",
       "      <td>25</td>\n",
       "    </tr>\n",
       "    <tr>\n",
       "      <th>4</th>\n",
       "      <td>IndiGo</td>\n",
       "      <td>Banglore</td>\n",
       "      <td>New Delhi</td>\n",
       "      <td>1</td>\n",
       "      <td>13302</td>\n",
       "      <td>1</td>\n",
       "      <td>1</td>\n",
       "      <td>16</td>\n",
       "      <td>50</td>\n",
       "      <td>21</td>\n",
       "      <td>35</td>\n",
       "      <td>4</td>\n",
       "      <td>45</td>\n",
       "    </tr>\n",
       "  </tbody>\n",
       "</table>\n",
       "</div>"
      ],
      "text/plain": [
       "       Airline    Source Destination  Total_Stops  Price  Journey_day  \\\n",
       "0       IndiGo  Banglore   New Delhi            0   3897           24   \n",
       "1    Air India   Kolkata    Banglore            2   7662            1   \n",
       "2  Jet Airways     Delhi      Cochin            2  13882            9   \n",
       "3       IndiGo   Kolkata    Banglore            1   6218           12   \n",
       "4       IndiGo  Banglore   New Delhi            1  13302            1   \n",
       "\n",
       "   Journey_month  Dep_hour  Dep_min  Arrival_hour  Arrival_min  Duration_hour  \\\n",
       "0             24        22       20             1           10              2   \n",
       "1              1         5       50            13           15              7   \n",
       "2              9         9       25             4           25             19   \n",
       "3             12        18        5            23           30              5   \n",
       "4              1        16       50            21           35              4   \n",
       "\n",
       "   Duration_min  \n",
       "0            50  \n",
       "1            25  \n",
       "2             0  \n",
       "3            25  \n",
       "4            45  "
      ]
     },
     "execution_count": 45,
     "metadata": {},
     "output_type": "execute_result"
    }
   ],
   "source": [
    "train.head()"
   ]
  },
  {
   "cell_type": "markdown",
   "id": "cd93d4ea",
   "metadata": {},
   "source": [
    "## Adopting Encoding technique"
   ]
  },
  {
   "cell_type": "markdown",
   "id": "639f3ed4",
   "metadata": {},
   "source": [
    "We will use encoding technique on three columns :\n",
    "    \n",
    "1) Airline\n",
    "    \n",
    "2) Source\n",
    "    \n",
    "3) Destination\n",
    "    \n",
    "For this we are using One hot encoding technique to encode the data.    "
   ]
  },
  {
   "cell_type": "markdown",
   "id": "105c24f5",
   "metadata": {},
   "source": [
    "### 1) Airline"
   ]
  },
  {
   "cell_type": "code",
   "execution_count": 46,
   "id": "077e7e14",
   "metadata": {},
   "outputs": [],
   "source": [
    "Airline =train[['Airline']]"
   ]
  },
  {
   "cell_type": "code",
   "execution_count": 47,
   "id": "87936b34",
   "metadata": {},
   "outputs": [],
   "source": [
    "Airline=pd.get_dummies(Airline,drop_first=True)"
   ]
  },
  {
   "cell_type": "code",
   "execution_count": 48,
   "id": "a5c657b1",
   "metadata": {},
   "outputs": [
    {
     "data": {
      "text/html": [
       "<div>\n",
       "<style scoped>\n",
       "    .dataframe tbody tr th:only-of-type {\n",
       "        vertical-align: middle;\n",
       "    }\n",
       "\n",
       "    .dataframe tbody tr th {\n",
       "        vertical-align: top;\n",
       "    }\n",
       "\n",
       "    .dataframe thead th {\n",
       "        text-align: right;\n",
       "    }\n",
       "</style>\n",
       "<table border=\"1\" class=\"dataframe\">\n",
       "  <thead>\n",
       "    <tr style=\"text-align: right;\">\n",
       "      <th></th>\n",
       "      <th>Airline_Air India</th>\n",
       "      <th>Airline_GoAir</th>\n",
       "      <th>Airline_IndiGo</th>\n",
       "      <th>Airline_Jet Airways</th>\n",
       "      <th>Airline_Jet Airways Business</th>\n",
       "      <th>Airline_Multiple carriers</th>\n",
       "      <th>Airline_Multiple carriers Premium economy</th>\n",
       "      <th>Airline_SpiceJet</th>\n",
       "      <th>Airline_Trujet</th>\n",
       "      <th>Airline_Vistara</th>\n",
       "      <th>Airline_Vistara Premium economy</th>\n",
       "    </tr>\n",
       "  </thead>\n",
       "  <tbody>\n",
       "    <tr>\n",
       "      <th>0</th>\n",
       "      <td>0</td>\n",
       "      <td>0</td>\n",
       "      <td>1</td>\n",
       "      <td>0</td>\n",
       "      <td>0</td>\n",
       "      <td>0</td>\n",
       "      <td>0</td>\n",
       "      <td>0</td>\n",
       "      <td>0</td>\n",
       "      <td>0</td>\n",
       "      <td>0</td>\n",
       "    </tr>\n",
       "    <tr>\n",
       "      <th>1</th>\n",
       "      <td>1</td>\n",
       "      <td>0</td>\n",
       "      <td>0</td>\n",
       "      <td>0</td>\n",
       "      <td>0</td>\n",
       "      <td>0</td>\n",
       "      <td>0</td>\n",
       "      <td>0</td>\n",
       "      <td>0</td>\n",
       "      <td>0</td>\n",
       "      <td>0</td>\n",
       "    </tr>\n",
       "    <tr>\n",
       "      <th>2</th>\n",
       "      <td>0</td>\n",
       "      <td>0</td>\n",
       "      <td>0</td>\n",
       "      <td>1</td>\n",
       "      <td>0</td>\n",
       "      <td>0</td>\n",
       "      <td>0</td>\n",
       "      <td>0</td>\n",
       "      <td>0</td>\n",
       "      <td>0</td>\n",
       "      <td>0</td>\n",
       "    </tr>\n",
       "    <tr>\n",
       "      <th>3</th>\n",
       "      <td>0</td>\n",
       "      <td>0</td>\n",
       "      <td>1</td>\n",
       "      <td>0</td>\n",
       "      <td>0</td>\n",
       "      <td>0</td>\n",
       "      <td>0</td>\n",
       "      <td>0</td>\n",
       "      <td>0</td>\n",
       "      <td>0</td>\n",
       "      <td>0</td>\n",
       "    </tr>\n",
       "    <tr>\n",
       "      <th>4</th>\n",
       "      <td>0</td>\n",
       "      <td>0</td>\n",
       "      <td>1</td>\n",
       "      <td>0</td>\n",
       "      <td>0</td>\n",
       "      <td>0</td>\n",
       "      <td>0</td>\n",
       "      <td>0</td>\n",
       "      <td>0</td>\n",
       "      <td>0</td>\n",
       "      <td>0</td>\n",
       "    </tr>\n",
       "  </tbody>\n",
       "</table>\n",
       "</div>"
      ],
      "text/plain": [
       "   Airline_Air India  Airline_GoAir  Airline_IndiGo  Airline_Jet Airways  \\\n",
       "0                  0              0               1                    0   \n",
       "1                  1              0               0                    0   \n",
       "2                  0              0               0                    1   \n",
       "3                  0              0               1                    0   \n",
       "4                  0              0               1                    0   \n",
       "\n",
       "   Airline_Jet Airways Business  Airline_Multiple carriers  \\\n",
       "0                             0                          0   \n",
       "1                             0                          0   \n",
       "2                             0                          0   \n",
       "3                             0                          0   \n",
       "4                             0                          0   \n",
       "\n",
       "   Airline_Multiple carriers Premium economy  Airline_SpiceJet  \\\n",
       "0                                          0                 0   \n",
       "1                                          0                 0   \n",
       "2                                          0                 0   \n",
       "3                                          0                 0   \n",
       "4                                          0                 0   \n",
       "\n",
       "   Airline_Trujet  Airline_Vistara  Airline_Vistara Premium economy  \n",
       "0               0                0                                0  \n",
       "1               0                0                                0  \n",
       "2               0                0                                0  \n",
       "3               0                0                                0  \n",
       "4               0                0                                0  "
      ]
     },
     "execution_count": 48,
     "metadata": {},
     "output_type": "execute_result"
    }
   ],
   "source": [
    "Airline.head()"
   ]
  },
  {
   "cell_type": "markdown",
   "id": "b6c603c0",
   "metadata": {},
   "source": [
    "### 2) Source"
   ]
  },
  {
   "cell_type": "code",
   "execution_count": 49,
   "id": "44157312",
   "metadata": {},
   "outputs": [],
   "source": [
    "Source=train[['Source']]"
   ]
  },
  {
   "cell_type": "code",
   "execution_count": 50,
   "id": "f3ff59fa",
   "metadata": {},
   "outputs": [],
   "source": [
    "Source=pd.get_dummies(Source,drop_first=True)"
   ]
  },
  {
   "cell_type": "code",
   "execution_count": 51,
   "id": "140619b8",
   "metadata": {},
   "outputs": [
    {
     "data": {
      "text/html": [
       "<div>\n",
       "<style scoped>\n",
       "    .dataframe tbody tr th:only-of-type {\n",
       "        vertical-align: middle;\n",
       "    }\n",
       "\n",
       "    .dataframe tbody tr th {\n",
       "        vertical-align: top;\n",
       "    }\n",
       "\n",
       "    .dataframe thead th {\n",
       "        text-align: right;\n",
       "    }\n",
       "</style>\n",
       "<table border=\"1\" class=\"dataframe\">\n",
       "  <thead>\n",
       "    <tr style=\"text-align: right;\">\n",
       "      <th></th>\n",
       "      <th>Source_Chennai</th>\n",
       "      <th>Source_Delhi</th>\n",
       "      <th>Source_Kolkata</th>\n",
       "      <th>Source_Mumbai</th>\n",
       "    </tr>\n",
       "  </thead>\n",
       "  <tbody>\n",
       "    <tr>\n",
       "      <th>0</th>\n",
       "      <td>0</td>\n",
       "      <td>0</td>\n",
       "      <td>0</td>\n",
       "      <td>0</td>\n",
       "    </tr>\n",
       "    <tr>\n",
       "      <th>1</th>\n",
       "      <td>0</td>\n",
       "      <td>0</td>\n",
       "      <td>1</td>\n",
       "      <td>0</td>\n",
       "    </tr>\n",
       "    <tr>\n",
       "      <th>2</th>\n",
       "      <td>0</td>\n",
       "      <td>1</td>\n",
       "      <td>0</td>\n",
       "      <td>0</td>\n",
       "    </tr>\n",
       "    <tr>\n",
       "      <th>3</th>\n",
       "      <td>0</td>\n",
       "      <td>0</td>\n",
       "      <td>1</td>\n",
       "      <td>0</td>\n",
       "    </tr>\n",
       "    <tr>\n",
       "      <th>4</th>\n",
       "      <td>0</td>\n",
       "      <td>0</td>\n",
       "      <td>0</td>\n",
       "      <td>0</td>\n",
       "    </tr>\n",
       "  </tbody>\n",
       "</table>\n",
       "</div>"
      ],
      "text/plain": [
       "   Source_Chennai  Source_Delhi  Source_Kolkata  Source_Mumbai\n",
       "0               0             0               0              0\n",
       "1               0             0               1              0\n",
       "2               0             1               0              0\n",
       "3               0             0               1              0\n",
       "4               0             0               0              0"
      ]
     },
     "execution_count": 51,
     "metadata": {},
     "output_type": "execute_result"
    }
   ],
   "source": [
    "Source.head()"
   ]
  },
  {
   "cell_type": "markdown",
   "id": "7abe63ae",
   "metadata": {},
   "source": [
    "### 3) Destination"
   ]
  },
  {
   "cell_type": "code",
   "execution_count": 52,
   "id": "eb773cc1",
   "metadata": {},
   "outputs": [],
   "source": [
    "Destination=train[['Destination']]"
   ]
  },
  {
   "cell_type": "code",
   "execution_count": 53,
   "id": "d41caa18",
   "metadata": {},
   "outputs": [],
   "source": [
    "Destination=pd.get_dummies(Destination,drop_first=True)"
   ]
  },
  {
   "cell_type": "code",
   "execution_count": 54,
   "id": "d26a7cb4",
   "metadata": {},
   "outputs": [
    {
     "data": {
      "text/html": [
       "<div>\n",
       "<style scoped>\n",
       "    .dataframe tbody tr th:only-of-type {\n",
       "        vertical-align: middle;\n",
       "    }\n",
       "\n",
       "    .dataframe tbody tr th {\n",
       "        vertical-align: top;\n",
       "    }\n",
       "\n",
       "    .dataframe thead th {\n",
       "        text-align: right;\n",
       "    }\n",
       "</style>\n",
       "<table border=\"1\" class=\"dataframe\">\n",
       "  <thead>\n",
       "    <tr style=\"text-align: right;\">\n",
       "      <th></th>\n",
       "      <th>Destination_Cochin</th>\n",
       "      <th>Destination_Delhi</th>\n",
       "      <th>Destination_Hyderabad</th>\n",
       "      <th>Destination_Kolkata</th>\n",
       "      <th>Destination_New Delhi</th>\n",
       "    </tr>\n",
       "  </thead>\n",
       "  <tbody>\n",
       "    <tr>\n",
       "      <th>0</th>\n",
       "      <td>0</td>\n",
       "      <td>0</td>\n",
       "      <td>0</td>\n",
       "      <td>0</td>\n",
       "      <td>1</td>\n",
       "    </tr>\n",
       "    <tr>\n",
       "      <th>1</th>\n",
       "      <td>0</td>\n",
       "      <td>0</td>\n",
       "      <td>0</td>\n",
       "      <td>0</td>\n",
       "      <td>0</td>\n",
       "    </tr>\n",
       "    <tr>\n",
       "      <th>2</th>\n",
       "      <td>1</td>\n",
       "      <td>0</td>\n",
       "      <td>0</td>\n",
       "      <td>0</td>\n",
       "      <td>0</td>\n",
       "    </tr>\n",
       "    <tr>\n",
       "      <th>3</th>\n",
       "      <td>0</td>\n",
       "      <td>0</td>\n",
       "      <td>0</td>\n",
       "      <td>0</td>\n",
       "      <td>0</td>\n",
       "    </tr>\n",
       "    <tr>\n",
       "      <th>4</th>\n",
       "      <td>0</td>\n",
       "      <td>0</td>\n",
       "      <td>0</td>\n",
       "      <td>0</td>\n",
       "      <td>1</td>\n",
       "    </tr>\n",
       "  </tbody>\n",
       "</table>\n",
       "</div>"
      ],
      "text/plain": [
       "   Destination_Cochin  Destination_Delhi  Destination_Hyderabad  \\\n",
       "0                   0                  0                      0   \n",
       "1                   0                  0                      0   \n",
       "2                   1                  0                      0   \n",
       "3                   0                  0                      0   \n",
       "4                   0                  0                      0   \n",
       "\n",
       "   Destination_Kolkata  Destination_New Delhi  \n",
       "0                    0                      1  \n",
       "1                    0                      0  \n",
       "2                    0                      0  \n",
       "3                    0                      0  \n",
       "4                    0                      1  "
      ]
     },
     "execution_count": 54,
     "metadata": {},
     "output_type": "execute_result"
    }
   ],
   "source": [
    "Destination.head()"
   ]
  },
  {
   "cell_type": "markdown",
   "id": "e172e9b6",
   "metadata": {},
   "source": [
    "### Dropping above three columns"
   ]
  },
  {
   "cell_type": "code",
   "execution_count": 55,
   "id": "245e65e4",
   "metadata": {},
   "outputs": [],
   "source": [
    "train.drop(['Airline'],axis=1,inplace=True)\n",
    "train.drop(['Source'],axis=1,inplace=True)\n",
    "train.drop(['Destination'],axis=1,inplace=True)"
   ]
  },
  {
   "cell_type": "markdown",
   "id": "ee646ea1",
   "metadata": {},
   "source": [
    "### Concatinating Data Frame"
   ]
  },
  {
   "cell_type": "code",
   "execution_count": 56,
   "id": "e0e349af",
   "metadata": {},
   "outputs": [],
   "source": [
    "train=pd.concat([train,Airline,Source,Destination],axis=1)"
   ]
  },
  {
   "cell_type": "code",
   "execution_count": 57,
   "id": "ab1a4fdc",
   "metadata": {},
   "outputs": [
    {
     "data": {
      "text/html": [
       "<div>\n",
       "<style scoped>\n",
       "    .dataframe tbody tr th:only-of-type {\n",
       "        vertical-align: middle;\n",
       "    }\n",
       "\n",
       "    .dataframe tbody tr th {\n",
       "        vertical-align: top;\n",
       "    }\n",
       "\n",
       "    .dataframe thead th {\n",
       "        text-align: right;\n",
       "    }\n",
       "</style>\n",
       "<table border=\"1\" class=\"dataframe\">\n",
       "  <thead>\n",
       "    <tr style=\"text-align: right;\">\n",
       "      <th></th>\n",
       "      <th>Total_Stops</th>\n",
       "      <th>Price</th>\n",
       "      <th>Journey_day</th>\n",
       "      <th>Journey_month</th>\n",
       "      <th>Dep_hour</th>\n",
       "      <th>Dep_min</th>\n",
       "      <th>Arrival_hour</th>\n",
       "      <th>Arrival_min</th>\n",
       "      <th>Duration_hour</th>\n",
       "      <th>Duration_min</th>\n",
       "      <th>...</th>\n",
       "      <th>Airline_Vistara Premium economy</th>\n",
       "      <th>Source_Chennai</th>\n",
       "      <th>Source_Delhi</th>\n",
       "      <th>Source_Kolkata</th>\n",
       "      <th>Source_Mumbai</th>\n",
       "      <th>Destination_Cochin</th>\n",
       "      <th>Destination_Delhi</th>\n",
       "      <th>Destination_Hyderabad</th>\n",
       "      <th>Destination_Kolkata</th>\n",
       "      <th>Destination_New Delhi</th>\n",
       "    </tr>\n",
       "  </thead>\n",
       "  <tbody>\n",
       "    <tr>\n",
       "      <th>0</th>\n",
       "      <td>0</td>\n",
       "      <td>3897</td>\n",
       "      <td>24</td>\n",
       "      <td>24</td>\n",
       "      <td>22</td>\n",
       "      <td>20</td>\n",
       "      <td>1</td>\n",
       "      <td>10</td>\n",
       "      <td>2</td>\n",
       "      <td>50</td>\n",
       "      <td>...</td>\n",
       "      <td>0</td>\n",
       "      <td>0</td>\n",
       "      <td>0</td>\n",
       "      <td>0</td>\n",
       "      <td>0</td>\n",
       "      <td>0</td>\n",
       "      <td>0</td>\n",
       "      <td>0</td>\n",
       "      <td>0</td>\n",
       "      <td>1</td>\n",
       "    </tr>\n",
       "    <tr>\n",
       "      <th>1</th>\n",
       "      <td>2</td>\n",
       "      <td>7662</td>\n",
       "      <td>1</td>\n",
       "      <td>1</td>\n",
       "      <td>5</td>\n",
       "      <td>50</td>\n",
       "      <td>13</td>\n",
       "      <td>15</td>\n",
       "      <td>7</td>\n",
       "      <td>25</td>\n",
       "      <td>...</td>\n",
       "      <td>0</td>\n",
       "      <td>0</td>\n",
       "      <td>0</td>\n",
       "      <td>1</td>\n",
       "      <td>0</td>\n",
       "      <td>0</td>\n",
       "      <td>0</td>\n",
       "      <td>0</td>\n",
       "      <td>0</td>\n",
       "      <td>0</td>\n",
       "    </tr>\n",
       "    <tr>\n",
       "      <th>2</th>\n",
       "      <td>2</td>\n",
       "      <td>13882</td>\n",
       "      <td>9</td>\n",
       "      <td>9</td>\n",
       "      <td>9</td>\n",
       "      <td>25</td>\n",
       "      <td>4</td>\n",
       "      <td>25</td>\n",
       "      <td>19</td>\n",
       "      <td>0</td>\n",
       "      <td>...</td>\n",
       "      <td>0</td>\n",
       "      <td>0</td>\n",
       "      <td>1</td>\n",
       "      <td>0</td>\n",
       "      <td>0</td>\n",
       "      <td>1</td>\n",
       "      <td>0</td>\n",
       "      <td>0</td>\n",
       "      <td>0</td>\n",
       "      <td>0</td>\n",
       "    </tr>\n",
       "    <tr>\n",
       "      <th>3</th>\n",
       "      <td>1</td>\n",
       "      <td>6218</td>\n",
       "      <td>12</td>\n",
       "      <td>12</td>\n",
       "      <td>18</td>\n",
       "      <td>5</td>\n",
       "      <td>23</td>\n",
       "      <td>30</td>\n",
       "      <td>5</td>\n",
       "      <td>25</td>\n",
       "      <td>...</td>\n",
       "      <td>0</td>\n",
       "      <td>0</td>\n",
       "      <td>0</td>\n",
       "      <td>1</td>\n",
       "      <td>0</td>\n",
       "      <td>0</td>\n",
       "      <td>0</td>\n",
       "      <td>0</td>\n",
       "      <td>0</td>\n",
       "      <td>0</td>\n",
       "    </tr>\n",
       "    <tr>\n",
       "      <th>4</th>\n",
       "      <td>1</td>\n",
       "      <td>13302</td>\n",
       "      <td>1</td>\n",
       "      <td>1</td>\n",
       "      <td>16</td>\n",
       "      <td>50</td>\n",
       "      <td>21</td>\n",
       "      <td>35</td>\n",
       "      <td>4</td>\n",
       "      <td>45</td>\n",
       "      <td>...</td>\n",
       "      <td>0</td>\n",
       "      <td>0</td>\n",
       "      <td>0</td>\n",
       "      <td>0</td>\n",
       "      <td>0</td>\n",
       "      <td>0</td>\n",
       "      <td>0</td>\n",
       "      <td>0</td>\n",
       "      <td>0</td>\n",
       "      <td>1</td>\n",
       "    </tr>\n",
       "  </tbody>\n",
       "</table>\n",
       "<p>5 rows × 30 columns</p>\n",
       "</div>"
      ],
      "text/plain": [
       "   Total_Stops  Price  Journey_day  Journey_month  Dep_hour  Dep_min  \\\n",
       "0            0   3897           24             24        22       20   \n",
       "1            2   7662            1              1         5       50   \n",
       "2            2  13882            9              9         9       25   \n",
       "3            1   6218           12             12        18        5   \n",
       "4            1  13302            1              1        16       50   \n",
       "\n",
       "   Arrival_hour  Arrival_min  Duration_hour  Duration_min  ...  \\\n",
       "0             1           10              2            50  ...   \n",
       "1            13           15              7            25  ...   \n",
       "2             4           25             19             0  ...   \n",
       "3            23           30              5            25  ...   \n",
       "4            21           35              4            45  ...   \n",
       "\n",
       "   Airline_Vistara Premium economy  Source_Chennai  Source_Delhi  \\\n",
       "0                                0               0             0   \n",
       "1                                0               0             0   \n",
       "2                                0               0             1   \n",
       "3                                0               0             0   \n",
       "4                                0               0             0   \n",
       "\n",
       "   Source_Kolkata  Source_Mumbai  Destination_Cochin  Destination_Delhi  \\\n",
       "0               0              0                   0                  0   \n",
       "1               1              0                   0                  0   \n",
       "2               0              0                   1                  0   \n",
       "3               1              0                   0                  0   \n",
       "4               0              0                   0                  0   \n",
       "\n",
       "   Destination_Hyderabad  Destination_Kolkata  Destination_New Delhi  \n",
       "0                      0                    0                      1  \n",
       "1                      0                    0                      0  \n",
       "2                      0                    0                      0  \n",
       "3                      0                    0                      0  \n",
       "4                      0                    0                      1  \n",
       "\n",
       "[5 rows x 30 columns]"
      ]
     },
     "execution_count": 57,
     "metadata": {},
     "output_type": "execute_result"
    }
   ],
   "source": [
    "train.head()"
   ]
  },
  {
   "cell_type": "code",
   "execution_count": 58,
   "id": "1d4fc4b0",
   "metadata": {},
   "outputs": [
    {
     "data": {
      "text/plain": [
       "Index(['Total_Stops', 'Price', 'Journey_day', 'Journey_month', 'Dep_hour',\n",
       "       'Dep_min', 'Arrival_hour', 'Arrival_min', 'Duration_hour',\n",
       "       'Duration_min', 'Airline_Air India', 'Airline_GoAir', 'Airline_IndiGo',\n",
       "       'Airline_Jet Airways', 'Airline_Jet Airways Business',\n",
       "       'Airline_Multiple carriers',\n",
       "       'Airline_Multiple carriers Premium economy', 'Airline_SpiceJet',\n",
       "       'Airline_Trujet', 'Airline_Vistara', 'Airline_Vistara Premium economy',\n",
       "       'Source_Chennai', 'Source_Delhi', 'Source_Kolkata', 'Source_Mumbai',\n",
       "       'Destination_Cochin', 'Destination_Delhi', 'Destination_Hyderabad',\n",
       "       'Destination_Kolkata', 'Destination_New Delhi'],\n",
       "      dtype='object')"
      ]
     },
     "execution_count": 58,
     "metadata": {},
     "output_type": "execute_result"
    }
   ],
   "source": [
    "train.columns"
   ]
  },
  {
   "cell_type": "markdown",
   "id": "6eca071a",
   "metadata": {},
   "source": [
    "."
   ]
  },
  {
   "cell_type": "markdown",
   "id": "a97bf642",
   "metadata": {},
   "source": [
    "."
   ]
  },
  {
   "cell_type": "markdown",
   "id": "1516446c",
   "metadata": {},
   "source": [
    "# Testing Dataset"
   ]
  },
  {
   "cell_type": "code",
   "execution_count": 59,
   "id": "ebd74009",
   "metadata": {},
   "outputs": [],
   "source": [
    "test=pd.read_excel(r\"C:\\Users\\ABC\\OneDrive\\Desktop\\Test_set.xlsx\")"
   ]
  },
  {
   "cell_type": "code",
   "execution_count": 60,
   "id": "09fb4e6a",
   "metadata": {},
   "outputs": [
    {
     "data": {
      "text/html": [
       "<div>\n",
       "<style scoped>\n",
       "    .dataframe tbody tr th:only-of-type {\n",
       "        vertical-align: middle;\n",
       "    }\n",
       "\n",
       "    .dataframe tbody tr th {\n",
       "        vertical-align: top;\n",
       "    }\n",
       "\n",
       "    .dataframe thead th {\n",
       "        text-align: right;\n",
       "    }\n",
       "</style>\n",
       "<table border=\"1\" class=\"dataframe\">\n",
       "  <thead>\n",
       "    <tr style=\"text-align: right;\">\n",
       "      <th></th>\n",
       "      <th>Airline</th>\n",
       "      <th>Date_of_Journey</th>\n",
       "      <th>Source</th>\n",
       "      <th>Destination</th>\n",
       "      <th>Route</th>\n",
       "      <th>Dep_Time</th>\n",
       "      <th>Arrival_Time</th>\n",
       "      <th>Duration</th>\n",
       "      <th>Total_Stops</th>\n",
       "      <th>Additional_Info</th>\n",
       "    </tr>\n",
       "  </thead>\n",
       "  <tbody>\n",
       "    <tr>\n",
       "      <th>0</th>\n",
       "      <td>Jet Airways</td>\n",
       "      <td>6/06/2019</td>\n",
       "      <td>Delhi</td>\n",
       "      <td>Cochin</td>\n",
       "      <td>DEL → BOM → COK</td>\n",
       "      <td>17:30</td>\n",
       "      <td>04:25 07 Jun</td>\n",
       "      <td>10h 55m</td>\n",
       "      <td>1 stop</td>\n",
       "      <td>No info</td>\n",
       "    </tr>\n",
       "    <tr>\n",
       "      <th>1</th>\n",
       "      <td>IndiGo</td>\n",
       "      <td>12/05/2019</td>\n",
       "      <td>Kolkata</td>\n",
       "      <td>Banglore</td>\n",
       "      <td>CCU → MAA → BLR</td>\n",
       "      <td>06:20</td>\n",
       "      <td>10:20</td>\n",
       "      <td>4h</td>\n",
       "      <td>1 stop</td>\n",
       "      <td>No info</td>\n",
       "    </tr>\n",
       "    <tr>\n",
       "      <th>2</th>\n",
       "      <td>Jet Airways</td>\n",
       "      <td>21/05/2019</td>\n",
       "      <td>Delhi</td>\n",
       "      <td>Cochin</td>\n",
       "      <td>DEL → BOM → COK</td>\n",
       "      <td>19:15</td>\n",
       "      <td>19:00 22 May</td>\n",
       "      <td>23h 45m</td>\n",
       "      <td>1 stop</td>\n",
       "      <td>In-flight meal not included</td>\n",
       "    </tr>\n",
       "    <tr>\n",
       "      <th>3</th>\n",
       "      <td>Multiple carriers</td>\n",
       "      <td>21/05/2019</td>\n",
       "      <td>Delhi</td>\n",
       "      <td>Cochin</td>\n",
       "      <td>DEL → BOM → COK</td>\n",
       "      <td>08:00</td>\n",
       "      <td>21:00</td>\n",
       "      <td>13h</td>\n",
       "      <td>1 stop</td>\n",
       "      <td>No info</td>\n",
       "    </tr>\n",
       "    <tr>\n",
       "      <th>4</th>\n",
       "      <td>Air Asia</td>\n",
       "      <td>24/06/2019</td>\n",
       "      <td>Banglore</td>\n",
       "      <td>Delhi</td>\n",
       "      <td>BLR → DEL</td>\n",
       "      <td>23:55</td>\n",
       "      <td>02:45 25 Jun</td>\n",
       "      <td>2h 50m</td>\n",
       "      <td>non-stop</td>\n",
       "      <td>No info</td>\n",
       "    </tr>\n",
       "  </tbody>\n",
       "</table>\n",
       "</div>"
      ],
      "text/plain": [
       "             Airline Date_of_Journey    Source Destination            Route  \\\n",
       "0        Jet Airways       6/06/2019     Delhi      Cochin  DEL → BOM → COK   \n",
       "1             IndiGo      12/05/2019   Kolkata    Banglore  CCU → MAA → BLR   \n",
       "2        Jet Airways      21/05/2019     Delhi      Cochin  DEL → BOM → COK   \n",
       "3  Multiple carriers      21/05/2019     Delhi      Cochin  DEL → BOM → COK   \n",
       "4           Air Asia      24/06/2019  Banglore       Delhi        BLR → DEL   \n",
       "\n",
       "  Dep_Time  Arrival_Time Duration Total_Stops              Additional_Info  \n",
       "0    17:30  04:25 07 Jun  10h 55m      1 stop                      No info  \n",
       "1    06:20         10:20       4h      1 stop                      No info  \n",
       "2    19:15  19:00 22 May  23h 45m      1 stop  In-flight meal not included  \n",
       "3    08:00         21:00      13h      1 stop                      No info  \n",
       "4    23:55  02:45 25 Jun   2h 50m    non-stop                      No info  "
      ]
     },
     "execution_count": 60,
     "metadata": {},
     "output_type": "execute_result"
    }
   ],
   "source": [
    "test.head()"
   ]
  },
  {
   "cell_type": "code",
   "execution_count": 61,
   "id": "7670b903",
   "metadata": {},
   "outputs": [
    {
     "data": {
      "text/plain": [
       "(2671, 10)"
      ]
     },
     "execution_count": 61,
     "metadata": {},
     "output_type": "execute_result"
    }
   ],
   "source": [
    "test.shape"
   ]
  },
  {
   "cell_type": "code",
   "execution_count": 62,
   "id": "79986870",
   "metadata": {},
   "outputs": [
    {
     "data": {
      "text/plain": [
       "Index(['Airline', 'Date_of_Journey', 'Source', 'Destination', 'Route',\n",
       "       'Dep_Time', 'Arrival_Time', 'Duration', 'Total_Stops',\n",
       "       'Additional_Info'],\n",
       "      dtype='object')"
      ]
     },
     "execution_count": 62,
     "metadata": {},
     "output_type": "execute_result"
    }
   ],
   "source": [
    "test.columns"
   ]
  },
  {
   "cell_type": "code",
   "execution_count": 63,
   "id": "4a80414f",
   "metadata": {},
   "outputs": [
    {
     "name": "stdout",
     "output_type": "stream",
     "text": [
      "<class 'pandas.core.frame.DataFrame'>\n",
      "RangeIndex: 2671 entries, 0 to 2670\n",
      "Data columns (total 10 columns):\n",
      " #   Column           Non-Null Count  Dtype \n",
      "---  ------           --------------  ----- \n",
      " 0   Airline          2671 non-null   object\n",
      " 1   Date_of_Journey  2671 non-null   object\n",
      " 2   Source           2671 non-null   object\n",
      " 3   Destination      2671 non-null   object\n",
      " 4   Route            2671 non-null   object\n",
      " 5   Dep_Time         2671 non-null   object\n",
      " 6   Arrival_Time     2671 non-null   object\n",
      " 7   Duration         2671 non-null   object\n",
      " 8   Total_Stops      2671 non-null   object\n",
      " 9   Additional_Info  2671 non-null   object\n",
      "dtypes: object(10)\n",
      "memory usage: 208.8+ KB\n"
     ]
    }
   ],
   "source": [
    "test.info()"
   ]
  },
  {
   "cell_type": "code",
   "execution_count": 64,
   "id": "a3d18f27",
   "metadata": {},
   "outputs": [
    {
     "data": {
      "text/plain": [
       "Airline            0\n",
       "Date_of_Journey    0\n",
       "Source             0\n",
       "Destination        0\n",
       "Route              0\n",
       "Dep_Time           0\n",
       "Arrival_Time       0\n",
       "Duration           0\n",
       "Total_Stops        0\n",
       "Additional_Info    0\n",
       "dtype: int64"
      ]
     },
     "execution_count": 64,
     "metadata": {},
     "output_type": "execute_result"
    }
   ],
   "source": [
    "test.isnull().sum()"
   ]
  },
  {
   "cell_type": "markdown",
   "id": "be5261f5",
   "metadata": {},
   "source": [
    "#### We have some columns which demands to convert in date time format because our machine will not able learn that format which we got from the excel sheet, So we will change the format of some columns which is releted to date time.\n",
    "\n",
    "1) Date_of_Journey\n",
    "\n",
    "2) Dep_Time\n",
    "\n",
    "3) Arrival_Time\n",
    "\n",
    "4) Duration"
   ]
  },
  {
   "cell_type": "markdown",
   "id": "3d568da6",
   "metadata": {},
   "source": [
    "### 1) Date_of_Journey"
   ]
  },
  {
   "cell_type": "code",
   "execution_count": 65,
   "id": "b0ced87f",
   "metadata": {},
   "outputs": [],
   "source": [
    "test['Journey_day']=pd.to_datetime(test['Date_of_Journey'],format='%d/%m/%Y').dt.day"
   ]
  },
  {
   "cell_type": "code",
   "execution_count": 66,
   "id": "8af1d2dd",
   "metadata": {},
   "outputs": [],
   "source": [
    "test['Journey_month']=pd.to_datetime(test['Date_of_Journey'],format='%d/%m/%Y').dt.day"
   ]
  },
  {
   "cell_type": "code",
   "execution_count": 67,
   "id": "c845ef01",
   "metadata": {},
   "outputs": [],
   "source": [
    "test.drop(['Date_of_Journey'],axis=1,inplace=True)"
   ]
  },
  {
   "cell_type": "markdown",
   "id": "d2ae747e",
   "metadata": {},
   "source": [
    "### 2) Dep_Time"
   ]
  },
  {
   "cell_type": "code",
   "execution_count": 68,
   "id": "b87ec28e",
   "metadata": {},
   "outputs": [],
   "source": [
    "test['Dep_hour']=pd.to_datetime(test['Dep_Time']).dt.hour"
   ]
  },
  {
   "cell_type": "code",
   "execution_count": 69,
   "id": "dd1397c9",
   "metadata": {},
   "outputs": [],
   "source": [
    "test['Dep_min']=pd.to_datetime(test['Dep_Time']).dt.minute"
   ]
  },
  {
   "cell_type": "code",
   "execution_count": 70,
   "id": "53c366be",
   "metadata": {},
   "outputs": [],
   "source": [
    "test.drop(['Dep_Time'],axis=1,inplace=True)"
   ]
  },
  {
   "cell_type": "markdown",
   "id": "c66e5b13",
   "metadata": {},
   "source": [
    "### 3) Arrival_Time"
   ]
  },
  {
   "cell_type": "code",
   "execution_count": 71,
   "id": "e50bf2ae",
   "metadata": {},
   "outputs": [],
   "source": [
    "test['Arrival_hour']=pd.to_datetime(test['Arrival_Time']).dt.hour\n",
    "test['Arrival_min']=pd.to_datetime(test['Arrival_Time']).dt.minute"
   ]
  },
  {
   "cell_type": "code",
   "execution_count": 72,
   "id": "41a82cdd",
   "metadata": {},
   "outputs": [],
   "source": [
    "test.drop(['Arrival_Time'],axis=1,inplace=True)"
   ]
  },
  {
   "cell_type": "markdown",
   "id": "4826eb41",
   "metadata": {},
   "source": [
    "### 4) Duration"
   ]
  },
  {
   "cell_type": "code",
   "execution_count": 73,
   "id": "89613bd8",
   "metadata": {},
   "outputs": [],
   "source": [
    "duration=list(test['Duration'])"
   ]
  },
  {
   "cell_type": "code",
   "execution_count": 74,
   "id": "8cf41745",
   "metadata": {},
   "outputs": [],
   "source": [
    "for i in range(len(duration)):\n",
    "    if len(duration[i].split()) != 2:    \n",
    "        if \"h\" in duration[i]:\n",
    "            duration[i] = duration[i].strip() + \" 0m\"   \n",
    "        else:\n",
    "            duration[i] = \"0h \" + duration[i]           \n",
    "\n",
    "duration_hours = []\n",
    "duration_mins = []\n",
    "for i in range(len(duration)):\n",
    "    duration_hours.append(int(duration[i].split(sep = \"h\")[0]))    \n",
    "    duration_mins.append(int(duration[i].split(sep = \"m\")[0].split()[-1]))"
   ]
  },
  {
   "cell_type": "code",
   "execution_count": 75,
   "id": "0151222d",
   "metadata": {},
   "outputs": [],
   "source": [
    "test['Duration_hour']=duration_hours\n",
    "test['Duration_min']=duration_mins"
   ]
  },
  {
   "cell_type": "code",
   "execution_count": 76,
   "id": "d8fd8a97",
   "metadata": {},
   "outputs": [],
   "source": [
    "test.drop(['Duration'],axis=1,inplace=True)"
   ]
  },
  {
   "cell_type": "markdown",
   "id": "502df48b",
   "metadata": {},
   "source": [
    "### Dropping Additional_info columns because this column is not so much important for model building"
   ]
  },
  {
   "cell_type": "code",
   "execution_count": 77,
   "id": "1bbce218",
   "metadata": {},
   "outputs": [],
   "source": [
    "test.drop(['Additional_Info'],axis=1,inplace=True)"
   ]
  },
  {
   "cell_type": "code",
   "execution_count": 78,
   "id": "281f0ad6",
   "metadata": {},
   "outputs": [
    {
     "data": {
      "text/html": [
       "<div>\n",
       "<style scoped>\n",
       "    .dataframe tbody tr th:only-of-type {\n",
       "        vertical-align: middle;\n",
       "    }\n",
       "\n",
       "    .dataframe tbody tr th {\n",
       "        vertical-align: top;\n",
       "    }\n",
       "\n",
       "    .dataframe thead th {\n",
       "        text-align: right;\n",
       "    }\n",
       "</style>\n",
       "<table border=\"1\" class=\"dataframe\">\n",
       "  <thead>\n",
       "    <tr style=\"text-align: right;\">\n",
       "      <th></th>\n",
       "      <th>Airline</th>\n",
       "      <th>Source</th>\n",
       "      <th>Destination</th>\n",
       "      <th>Route</th>\n",
       "      <th>Total_Stops</th>\n",
       "      <th>Journey_day</th>\n",
       "      <th>Journey_month</th>\n",
       "      <th>Dep_hour</th>\n",
       "      <th>Dep_min</th>\n",
       "      <th>Arrival_hour</th>\n",
       "      <th>Arrival_min</th>\n",
       "      <th>Duration_hour</th>\n",
       "      <th>Duration_min</th>\n",
       "    </tr>\n",
       "  </thead>\n",
       "  <tbody>\n",
       "    <tr>\n",
       "      <th>0</th>\n",
       "      <td>Jet Airways</td>\n",
       "      <td>Delhi</td>\n",
       "      <td>Cochin</td>\n",
       "      <td>DEL → BOM → COK</td>\n",
       "      <td>1 stop</td>\n",
       "      <td>6</td>\n",
       "      <td>6</td>\n",
       "      <td>17</td>\n",
       "      <td>30</td>\n",
       "      <td>4</td>\n",
       "      <td>25</td>\n",
       "      <td>10</td>\n",
       "      <td>55</td>\n",
       "    </tr>\n",
       "    <tr>\n",
       "      <th>1</th>\n",
       "      <td>IndiGo</td>\n",
       "      <td>Kolkata</td>\n",
       "      <td>Banglore</td>\n",
       "      <td>CCU → MAA → BLR</td>\n",
       "      <td>1 stop</td>\n",
       "      <td>12</td>\n",
       "      <td>12</td>\n",
       "      <td>6</td>\n",
       "      <td>20</td>\n",
       "      <td>10</td>\n",
       "      <td>20</td>\n",
       "      <td>4</td>\n",
       "      <td>0</td>\n",
       "    </tr>\n",
       "    <tr>\n",
       "      <th>2</th>\n",
       "      <td>Jet Airways</td>\n",
       "      <td>Delhi</td>\n",
       "      <td>Cochin</td>\n",
       "      <td>DEL → BOM → COK</td>\n",
       "      <td>1 stop</td>\n",
       "      <td>21</td>\n",
       "      <td>21</td>\n",
       "      <td>19</td>\n",
       "      <td>15</td>\n",
       "      <td>19</td>\n",
       "      <td>0</td>\n",
       "      <td>23</td>\n",
       "      <td>45</td>\n",
       "    </tr>\n",
       "    <tr>\n",
       "      <th>3</th>\n",
       "      <td>Multiple carriers</td>\n",
       "      <td>Delhi</td>\n",
       "      <td>Cochin</td>\n",
       "      <td>DEL → BOM → COK</td>\n",
       "      <td>1 stop</td>\n",
       "      <td>21</td>\n",
       "      <td>21</td>\n",
       "      <td>8</td>\n",
       "      <td>0</td>\n",
       "      <td>21</td>\n",
       "      <td>0</td>\n",
       "      <td>13</td>\n",
       "      <td>0</td>\n",
       "    </tr>\n",
       "    <tr>\n",
       "      <th>4</th>\n",
       "      <td>Air Asia</td>\n",
       "      <td>Banglore</td>\n",
       "      <td>Delhi</td>\n",
       "      <td>BLR → DEL</td>\n",
       "      <td>non-stop</td>\n",
       "      <td>24</td>\n",
       "      <td>24</td>\n",
       "      <td>23</td>\n",
       "      <td>55</td>\n",
       "      <td>2</td>\n",
       "      <td>45</td>\n",
       "      <td>2</td>\n",
       "      <td>50</td>\n",
       "    </tr>\n",
       "  </tbody>\n",
       "</table>\n",
       "</div>"
      ],
      "text/plain": [
       "             Airline    Source Destination            Route Total_Stops  \\\n",
       "0        Jet Airways     Delhi      Cochin  DEL → BOM → COK      1 stop   \n",
       "1             IndiGo   Kolkata    Banglore  CCU → MAA → BLR      1 stop   \n",
       "2        Jet Airways     Delhi      Cochin  DEL → BOM → COK      1 stop   \n",
       "3  Multiple carriers     Delhi      Cochin  DEL → BOM → COK      1 stop   \n",
       "4           Air Asia  Banglore       Delhi        BLR → DEL    non-stop   \n",
       "\n",
       "   Journey_day  Journey_month  Dep_hour  Dep_min  Arrival_hour  Arrival_min  \\\n",
       "0            6              6        17       30             4           25   \n",
       "1           12             12         6       20            10           20   \n",
       "2           21             21        19       15            19            0   \n",
       "3           21             21         8        0            21            0   \n",
       "4           24             24        23       55             2           45   \n",
       "\n",
       "   Duration_hour  Duration_min  \n",
       "0             10            55  \n",
       "1              4             0  \n",
       "2             23            45  \n",
       "3             13             0  \n",
       "4              2            50  "
      ]
     },
     "execution_count": 78,
     "metadata": {},
     "output_type": "execute_result"
    }
   ],
   "source": [
    "test.head()"
   ]
  },
  {
   "cell_type": "markdown",
   "id": "ee4e7f63",
   "metadata": {},
   "source": [
    "### Checking relation between route column and total stop column."
   ]
  },
  {
   "cell_type": "code",
   "execution_count": 79,
   "id": "8af9d724",
   "metadata": {},
   "outputs": [
    {
     "data": {
      "text/plain": [
       "DEL → BOM → COK                624\n",
       "BLR → DEL                      389\n",
       "CCU → BOM → BLR                253\n",
       "CCU → BLR                      172\n",
       "BOM → HYD                      164\n",
       "                              ... \n",
       "BLR → BOM → IDR → GWL → DEL      1\n",
       "BLR → GOI → DEL                  1\n",
       "CCU → PAT → BLR                  1\n",
       "BLR → VGA → DEL                  1\n",
       "BOM → GOI → PNQ → HYD            1\n",
       "Name: Route, Length: 100, dtype: int64"
      ]
     },
     "execution_count": 79,
     "metadata": {},
     "output_type": "execute_result"
    }
   ],
   "source": [
    "test['Route'].value_counts()"
   ]
  },
  {
   "cell_type": "code",
   "execution_count": 80,
   "id": "e862a2b7",
   "metadata": {},
   "outputs": [
    {
     "data": {
      "text/plain": [
       "array(['DEL → BOM → COK', 'CCU → MAA → BLR', 'BLR → DEL',\n",
       "       'BLR → TRV → DEL', 'CCU → HYD → BLR', 'CCU → BLR',\n",
       "       'CCU → BOM → BLR', 'DEL → MAA → BOM → COK', 'DEL → HYD → COK',\n",
       "       'BLR → BOM → DEL', 'CCU → DEL → BLR', 'DEL → JAI → BOM → COK',\n",
       "       'DEL → BHO → BOM → COK', 'BOM → HYD', 'CCU → PNQ → BLR',\n",
       "       'MAA → CCU', 'CCU → BOM → COK → BLR', 'DEL → BLR → COK',\n",
       "       'DEL → HYD → MAA → COK', 'DEL → MAA → COK',\n",
       "       'CCU → IXR → BBI → BOM → BLR', 'CCU → DEL → AMD → BLR',\n",
       "       'DEL → COK', 'CCU → JAI → BOM → BLR', 'DEL → LKO → COK',\n",
       "       'CCU → IXB → BLR', 'DEL → CCU → BOM → COK',\n",
       "       'CCU → GAU → DEL → BLR', 'BLR → COK → DEL',\n",
       "       'BLR → BOM → NAG → DEL', 'CCU → BBI → BOM → BLR',\n",
       "       'BLR → AMD → DEL', 'BOM → DEL → HYD', 'DEL → GOI → BOM → COK',\n",
       "       'DEL → IXU → BOM → COK', 'DEL → HYD → BOM → COK',\n",
       "       'CCU → DEL → COK → BLR', 'BLR → GOI → DEL',\n",
       "       'BLR → BOM → BHO → DEL', 'DEL → IDR → BOM → COK',\n",
       "       'DEL → AMD → BOM → COK', 'DEL → RPR → NAG → BOM → COK',\n",
       "       'DEL → NAG → BOM → COK', 'CCU → PAT → BLR',\n",
       "       'BLR → HYD → VGA → DEL', 'BLR → BOM → IXC → DEL',\n",
       "       'BLR → BOM → IDR → DEL', 'CCU → VNS → DEL → BLR',\n",
       "       'CCU → BBI → BLR', 'BLR → MAA → DEL', 'CCU → IXR → DEL → BLR',\n",
       "       'CCU → BOM → GOI → BLR', 'DEL → ATQ → BOM → COK',\n",
       "       'BLR → VGA → DEL', 'DEL → BDQ → BOM → COK', 'BLR → HYD → DEL',\n",
       "       'BLR → BOM → AMD → DEL', 'DEL → DED → BOM → COK',\n",
       "       'DEL → AMD → COK', 'CCU → BOM → HBX → BLR', 'BLR → STV → DEL',\n",
       "       'CCU → KNU → BLR', 'DEL → TRV → COK', 'BLR → CCU → GAU → DEL',\n",
       "       'DEL → UDR → BOM → COK', 'BOM → BLR → HYD',\n",
       "       'CCU → BOM → AMD → BLR', 'DEL → JDH → BOM → COK',\n",
       "       'DEL → PNQ → COK', 'DEL → GWL → IDR → BOM → COK',\n",
       "       'BLR → BOM → IDR → GWL → DEL', 'BLR → BDQ → DEL',\n",
       "       'BOM → JDH → DEL → HYD', 'CCU → GAU → BLR',\n",
       "       'BLR → BOM → UDR → DEL', 'BLR → BBI → DEL',\n",
       "       'BOM → VGA → TIR → HYD', 'CCU → DEL → VGA → BLR',\n",
       "       'DEL → LKO → BOM → COK', 'CCU → JAI → DEL → BLR',\n",
       "       'CCU → NAG → BLR', 'BOM → JAI → DEL → HYD', 'BLR → CCU → DEL',\n",
       "       'BLR → VGA → VTZ → DEL', 'CCU → BOM → TRV → BLR',\n",
       "       'BOM → GOI → HYD', 'BOM → IXC → DEL → HYD',\n",
       "       'CCU → DEL → COK → TRV → BLR', 'BLR → GAU → DEL',\n",
       "       'BLR → BOM → JDH → DEL', 'DEL → IXC → BOM → COK',\n",
       "       'CCU → BBI → HYD → BLR', 'BLR → VGA → HYD → DEL',\n",
       "       'BLR → NAG → DEL', 'CCU → AMD → BLR', 'BOM → AMD → ISK → HYD',\n",
       "       'BLR → CCU → BBI → HYD → VGA → DEL', 'CCU → BBI → IXR → DEL → BLR',\n",
       "       'CCU → IXR → BBI → BLR', 'BOM → GOI → PNQ → HYD'], dtype=object)"
      ]
     },
     "execution_count": 80,
     "metadata": {},
     "output_type": "execute_result"
    }
   ],
   "source": [
    "test['Route'].unique()"
   ]
  },
  {
   "cell_type": "code",
   "execution_count": 81,
   "id": "2c7f39fb",
   "metadata": {},
   "outputs": [
    {
     "data": {
      "text/plain": [
       "1 stop      1431\n",
       "non-stop     849\n",
       "2 stops      379\n",
       "3 stops       11\n",
       "4 stops        1\n",
       "Name: Total_Stops, dtype: int64"
      ]
     },
     "execution_count": 81,
     "metadata": {},
     "output_type": "execute_result"
    }
   ],
   "source": [
    "test['Total_Stops'].value_counts()"
   ]
  },
  {
   "cell_type": "markdown",
   "id": "1dbfc79d",
   "metadata": {},
   "source": [
    "#### As we can see Route and total_stops columns are providing same information, So we can think to drop one of them.\n",
    "#### We are droping route column."
   ]
  },
  {
   "cell_type": "code",
   "execution_count": 82,
   "id": "5c84da6e",
   "metadata": {},
   "outputs": [],
   "source": [
    "test.drop(['Route'],axis=1,inplace=True)"
   ]
  },
  {
   "cell_type": "code",
   "execution_count": 83,
   "id": "e1c68755",
   "metadata": {},
   "outputs": [],
   "source": [
    "test['Total_Stops']=test['Total_Stops'].replace({'1 stop':1,'non-stop':0,'2 stops':2,'3 stops':3,'4 stops':4})"
   ]
  },
  {
   "cell_type": "code",
   "execution_count": 84,
   "id": "5c499bf5",
   "metadata": {},
   "outputs": [
    {
     "data": {
      "text/plain": [
       "1    1431\n",
       "0     849\n",
       "2     379\n",
       "3      11\n",
       "4       1\n",
       "Name: Total_Stops, dtype: int64"
      ]
     },
     "execution_count": 84,
     "metadata": {},
     "output_type": "execute_result"
    }
   ],
   "source": [
    "test['Total_Stops'].value_counts()"
   ]
  },
  {
   "cell_type": "code",
   "execution_count": 85,
   "id": "725faa38",
   "metadata": {},
   "outputs": [
    {
     "data": {
      "text/html": [
       "<div>\n",
       "<style scoped>\n",
       "    .dataframe tbody tr th:only-of-type {\n",
       "        vertical-align: middle;\n",
       "    }\n",
       "\n",
       "    .dataframe tbody tr th {\n",
       "        vertical-align: top;\n",
       "    }\n",
       "\n",
       "    .dataframe thead th {\n",
       "        text-align: right;\n",
       "    }\n",
       "</style>\n",
       "<table border=\"1\" class=\"dataframe\">\n",
       "  <thead>\n",
       "    <tr style=\"text-align: right;\">\n",
       "      <th></th>\n",
       "      <th>Airline</th>\n",
       "      <th>Source</th>\n",
       "      <th>Destination</th>\n",
       "      <th>Total_Stops</th>\n",
       "      <th>Journey_day</th>\n",
       "      <th>Journey_month</th>\n",
       "      <th>Dep_hour</th>\n",
       "      <th>Dep_min</th>\n",
       "      <th>Arrival_hour</th>\n",
       "      <th>Arrival_min</th>\n",
       "      <th>Duration_hour</th>\n",
       "      <th>Duration_min</th>\n",
       "    </tr>\n",
       "  </thead>\n",
       "  <tbody>\n",
       "    <tr>\n",
       "      <th>0</th>\n",
       "      <td>Jet Airways</td>\n",
       "      <td>Delhi</td>\n",
       "      <td>Cochin</td>\n",
       "      <td>1</td>\n",
       "      <td>6</td>\n",
       "      <td>6</td>\n",
       "      <td>17</td>\n",
       "      <td>30</td>\n",
       "      <td>4</td>\n",
       "      <td>25</td>\n",
       "      <td>10</td>\n",
       "      <td>55</td>\n",
       "    </tr>\n",
       "    <tr>\n",
       "      <th>1</th>\n",
       "      <td>IndiGo</td>\n",
       "      <td>Kolkata</td>\n",
       "      <td>Banglore</td>\n",
       "      <td>1</td>\n",
       "      <td>12</td>\n",
       "      <td>12</td>\n",
       "      <td>6</td>\n",
       "      <td>20</td>\n",
       "      <td>10</td>\n",
       "      <td>20</td>\n",
       "      <td>4</td>\n",
       "      <td>0</td>\n",
       "    </tr>\n",
       "    <tr>\n",
       "      <th>2</th>\n",
       "      <td>Jet Airways</td>\n",
       "      <td>Delhi</td>\n",
       "      <td>Cochin</td>\n",
       "      <td>1</td>\n",
       "      <td>21</td>\n",
       "      <td>21</td>\n",
       "      <td>19</td>\n",
       "      <td>15</td>\n",
       "      <td>19</td>\n",
       "      <td>0</td>\n",
       "      <td>23</td>\n",
       "      <td>45</td>\n",
       "    </tr>\n",
       "    <tr>\n",
       "      <th>3</th>\n",
       "      <td>Multiple carriers</td>\n",
       "      <td>Delhi</td>\n",
       "      <td>Cochin</td>\n",
       "      <td>1</td>\n",
       "      <td>21</td>\n",
       "      <td>21</td>\n",
       "      <td>8</td>\n",
       "      <td>0</td>\n",
       "      <td>21</td>\n",
       "      <td>0</td>\n",
       "      <td>13</td>\n",
       "      <td>0</td>\n",
       "    </tr>\n",
       "    <tr>\n",
       "      <th>4</th>\n",
       "      <td>Air Asia</td>\n",
       "      <td>Banglore</td>\n",
       "      <td>Delhi</td>\n",
       "      <td>0</td>\n",
       "      <td>24</td>\n",
       "      <td>24</td>\n",
       "      <td>23</td>\n",
       "      <td>55</td>\n",
       "      <td>2</td>\n",
       "      <td>45</td>\n",
       "      <td>2</td>\n",
       "      <td>50</td>\n",
       "    </tr>\n",
       "  </tbody>\n",
       "</table>\n",
       "</div>"
      ],
      "text/plain": [
       "             Airline    Source Destination  Total_Stops  Journey_day  \\\n",
       "0        Jet Airways     Delhi      Cochin            1            6   \n",
       "1             IndiGo   Kolkata    Banglore            1           12   \n",
       "2        Jet Airways     Delhi      Cochin            1           21   \n",
       "3  Multiple carriers     Delhi      Cochin            1           21   \n",
       "4           Air Asia  Banglore       Delhi            0           24   \n",
       "\n",
       "   Journey_month  Dep_hour  Dep_min  Arrival_hour  Arrival_min  Duration_hour  \\\n",
       "0              6        17       30             4           25             10   \n",
       "1             12         6       20            10           20              4   \n",
       "2             21        19       15            19            0             23   \n",
       "3             21         8        0            21            0             13   \n",
       "4             24        23       55             2           45              2   \n",
       "\n",
       "   Duration_min  \n",
       "0            55  \n",
       "1             0  \n",
       "2            45  \n",
       "3             0  \n",
       "4            50  "
      ]
     },
     "execution_count": 85,
     "metadata": {},
     "output_type": "execute_result"
    }
   ],
   "source": [
    "test.head()"
   ]
  },
  {
   "cell_type": "markdown",
   "id": "dccea632",
   "metadata": {},
   "source": [
    "### Adopting Encoding technique"
   ]
  },
  {
   "cell_type": "markdown",
   "id": "a19bc87c",
   "metadata": {},
   "source": [
    "We will use encoding technique on three columns :\n",
    "    \n",
    "1) Airline\n",
    "    \n",
    "2) Source\n",
    "    \n",
    "3) Destination\n",
    "    \n",
    "For this we are using One hot encoding technique to encode the data. "
   ]
  },
  {
   "cell_type": "markdown",
   "id": "c83bd791",
   "metadata": {},
   "source": [
    "### 1) Airline"
   ]
  },
  {
   "cell_type": "code",
   "execution_count": 86,
   "id": "277e1f67",
   "metadata": {},
   "outputs": [],
   "source": [
    "Airline =test[['Airline']]"
   ]
  },
  {
   "cell_type": "code",
   "execution_count": 87,
   "id": "7ff47bed",
   "metadata": {},
   "outputs": [],
   "source": [
    "Airline=pd.get_dummies(Airline,drop_first=True)"
   ]
  },
  {
   "cell_type": "code",
   "execution_count": 88,
   "id": "35047cc0",
   "metadata": {},
   "outputs": [
    {
     "data": {
      "text/html": [
       "<div>\n",
       "<style scoped>\n",
       "    .dataframe tbody tr th:only-of-type {\n",
       "        vertical-align: middle;\n",
       "    }\n",
       "\n",
       "    .dataframe tbody tr th {\n",
       "        vertical-align: top;\n",
       "    }\n",
       "\n",
       "    .dataframe thead th {\n",
       "        text-align: right;\n",
       "    }\n",
       "</style>\n",
       "<table border=\"1\" class=\"dataframe\">\n",
       "  <thead>\n",
       "    <tr style=\"text-align: right;\">\n",
       "      <th></th>\n",
       "      <th>Airline_Air India</th>\n",
       "      <th>Airline_GoAir</th>\n",
       "      <th>Airline_IndiGo</th>\n",
       "      <th>Airline_Jet Airways</th>\n",
       "      <th>Airline_Jet Airways Business</th>\n",
       "      <th>Airline_Multiple carriers</th>\n",
       "      <th>Airline_Multiple carriers Premium economy</th>\n",
       "      <th>Airline_SpiceJet</th>\n",
       "      <th>Airline_Vistara</th>\n",
       "      <th>Airline_Vistara Premium economy</th>\n",
       "    </tr>\n",
       "  </thead>\n",
       "  <tbody>\n",
       "    <tr>\n",
       "      <th>0</th>\n",
       "      <td>0</td>\n",
       "      <td>0</td>\n",
       "      <td>0</td>\n",
       "      <td>1</td>\n",
       "      <td>0</td>\n",
       "      <td>0</td>\n",
       "      <td>0</td>\n",
       "      <td>0</td>\n",
       "      <td>0</td>\n",
       "      <td>0</td>\n",
       "    </tr>\n",
       "    <tr>\n",
       "      <th>1</th>\n",
       "      <td>0</td>\n",
       "      <td>0</td>\n",
       "      <td>1</td>\n",
       "      <td>0</td>\n",
       "      <td>0</td>\n",
       "      <td>0</td>\n",
       "      <td>0</td>\n",
       "      <td>0</td>\n",
       "      <td>0</td>\n",
       "      <td>0</td>\n",
       "    </tr>\n",
       "    <tr>\n",
       "      <th>2</th>\n",
       "      <td>0</td>\n",
       "      <td>0</td>\n",
       "      <td>0</td>\n",
       "      <td>1</td>\n",
       "      <td>0</td>\n",
       "      <td>0</td>\n",
       "      <td>0</td>\n",
       "      <td>0</td>\n",
       "      <td>0</td>\n",
       "      <td>0</td>\n",
       "    </tr>\n",
       "    <tr>\n",
       "      <th>3</th>\n",
       "      <td>0</td>\n",
       "      <td>0</td>\n",
       "      <td>0</td>\n",
       "      <td>0</td>\n",
       "      <td>0</td>\n",
       "      <td>1</td>\n",
       "      <td>0</td>\n",
       "      <td>0</td>\n",
       "      <td>0</td>\n",
       "      <td>0</td>\n",
       "    </tr>\n",
       "    <tr>\n",
       "      <th>4</th>\n",
       "      <td>0</td>\n",
       "      <td>0</td>\n",
       "      <td>0</td>\n",
       "      <td>0</td>\n",
       "      <td>0</td>\n",
       "      <td>0</td>\n",
       "      <td>0</td>\n",
       "      <td>0</td>\n",
       "      <td>0</td>\n",
       "      <td>0</td>\n",
       "    </tr>\n",
       "  </tbody>\n",
       "</table>\n",
       "</div>"
      ],
      "text/plain": [
       "   Airline_Air India  Airline_GoAir  Airline_IndiGo  Airline_Jet Airways  \\\n",
       "0                  0              0               0                    1   \n",
       "1                  0              0               1                    0   \n",
       "2                  0              0               0                    1   \n",
       "3                  0              0               0                    0   \n",
       "4                  0              0               0                    0   \n",
       "\n",
       "   Airline_Jet Airways Business  Airline_Multiple carriers  \\\n",
       "0                             0                          0   \n",
       "1                             0                          0   \n",
       "2                             0                          0   \n",
       "3                             0                          1   \n",
       "4                             0                          0   \n",
       "\n",
       "   Airline_Multiple carriers Premium economy  Airline_SpiceJet  \\\n",
       "0                                          0                 0   \n",
       "1                                          0                 0   \n",
       "2                                          0                 0   \n",
       "3                                          0                 0   \n",
       "4                                          0                 0   \n",
       "\n",
       "   Airline_Vistara  Airline_Vistara Premium economy  \n",
       "0                0                                0  \n",
       "1                0                                0  \n",
       "2                0                                0  \n",
       "3                0                                0  \n",
       "4                0                                0  "
      ]
     },
     "execution_count": 88,
     "metadata": {},
     "output_type": "execute_result"
    }
   ],
   "source": [
    "Airline.head()"
   ]
  },
  {
   "cell_type": "markdown",
   "id": "073ba040",
   "metadata": {},
   "source": [
    "### 2) Source"
   ]
  },
  {
   "cell_type": "code",
   "execution_count": 89,
   "id": "767218f9",
   "metadata": {},
   "outputs": [],
   "source": [
    "Source=test[['Source']]"
   ]
  },
  {
   "cell_type": "code",
   "execution_count": 90,
   "id": "79167b2d",
   "metadata": {},
   "outputs": [],
   "source": [
    "Source=pd.get_dummies(Source,drop_first=True)"
   ]
  },
  {
   "cell_type": "code",
   "execution_count": 91,
   "id": "acf253b0",
   "metadata": {},
   "outputs": [
    {
     "data": {
      "text/html": [
       "<div>\n",
       "<style scoped>\n",
       "    .dataframe tbody tr th:only-of-type {\n",
       "        vertical-align: middle;\n",
       "    }\n",
       "\n",
       "    .dataframe tbody tr th {\n",
       "        vertical-align: top;\n",
       "    }\n",
       "\n",
       "    .dataframe thead th {\n",
       "        text-align: right;\n",
       "    }\n",
       "</style>\n",
       "<table border=\"1\" class=\"dataframe\">\n",
       "  <thead>\n",
       "    <tr style=\"text-align: right;\">\n",
       "      <th></th>\n",
       "      <th>Source_Chennai</th>\n",
       "      <th>Source_Delhi</th>\n",
       "      <th>Source_Kolkata</th>\n",
       "      <th>Source_Mumbai</th>\n",
       "    </tr>\n",
       "  </thead>\n",
       "  <tbody>\n",
       "    <tr>\n",
       "      <th>0</th>\n",
       "      <td>0</td>\n",
       "      <td>1</td>\n",
       "      <td>0</td>\n",
       "      <td>0</td>\n",
       "    </tr>\n",
       "    <tr>\n",
       "      <th>1</th>\n",
       "      <td>0</td>\n",
       "      <td>0</td>\n",
       "      <td>1</td>\n",
       "      <td>0</td>\n",
       "    </tr>\n",
       "    <tr>\n",
       "      <th>2</th>\n",
       "      <td>0</td>\n",
       "      <td>1</td>\n",
       "      <td>0</td>\n",
       "      <td>0</td>\n",
       "    </tr>\n",
       "    <tr>\n",
       "      <th>3</th>\n",
       "      <td>0</td>\n",
       "      <td>1</td>\n",
       "      <td>0</td>\n",
       "      <td>0</td>\n",
       "    </tr>\n",
       "    <tr>\n",
       "      <th>4</th>\n",
       "      <td>0</td>\n",
       "      <td>0</td>\n",
       "      <td>0</td>\n",
       "      <td>0</td>\n",
       "    </tr>\n",
       "  </tbody>\n",
       "</table>\n",
       "</div>"
      ],
      "text/plain": [
       "   Source_Chennai  Source_Delhi  Source_Kolkata  Source_Mumbai\n",
       "0               0             1               0              0\n",
       "1               0             0               1              0\n",
       "2               0             1               0              0\n",
       "3               0             1               0              0\n",
       "4               0             0               0              0"
      ]
     },
     "execution_count": 91,
     "metadata": {},
     "output_type": "execute_result"
    }
   ],
   "source": [
    "Source.head()"
   ]
  },
  {
   "cell_type": "markdown",
   "id": "efd3fc5f",
   "metadata": {},
   "source": [
    "### 3) Destination"
   ]
  },
  {
   "cell_type": "code",
   "execution_count": 92,
   "id": "0ec4e2b4",
   "metadata": {},
   "outputs": [],
   "source": [
    "Destination=test[['Destination']]"
   ]
  },
  {
   "cell_type": "code",
   "execution_count": 93,
   "id": "09014805",
   "metadata": {},
   "outputs": [],
   "source": [
    "Destination=pd.get_dummies(Destination,drop_first=True)"
   ]
  },
  {
   "cell_type": "code",
   "execution_count": 94,
   "id": "f3ddeb60",
   "metadata": {},
   "outputs": [
    {
     "data": {
      "text/html": [
       "<div>\n",
       "<style scoped>\n",
       "    .dataframe tbody tr th:only-of-type {\n",
       "        vertical-align: middle;\n",
       "    }\n",
       "\n",
       "    .dataframe tbody tr th {\n",
       "        vertical-align: top;\n",
       "    }\n",
       "\n",
       "    .dataframe thead th {\n",
       "        text-align: right;\n",
       "    }\n",
       "</style>\n",
       "<table border=\"1\" class=\"dataframe\">\n",
       "  <thead>\n",
       "    <tr style=\"text-align: right;\">\n",
       "      <th></th>\n",
       "      <th>Destination_Cochin</th>\n",
       "      <th>Destination_Delhi</th>\n",
       "      <th>Destination_Hyderabad</th>\n",
       "      <th>Destination_Kolkata</th>\n",
       "      <th>Destination_New Delhi</th>\n",
       "    </tr>\n",
       "  </thead>\n",
       "  <tbody>\n",
       "    <tr>\n",
       "      <th>0</th>\n",
       "      <td>1</td>\n",
       "      <td>0</td>\n",
       "      <td>0</td>\n",
       "      <td>0</td>\n",
       "      <td>0</td>\n",
       "    </tr>\n",
       "    <tr>\n",
       "      <th>1</th>\n",
       "      <td>0</td>\n",
       "      <td>0</td>\n",
       "      <td>0</td>\n",
       "      <td>0</td>\n",
       "      <td>0</td>\n",
       "    </tr>\n",
       "    <tr>\n",
       "      <th>2</th>\n",
       "      <td>1</td>\n",
       "      <td>0</td>\n",
       "      <td>0</td>\n",
       "      <td>0</td>\n",
       "      <td>0</td>\n",
       "    </tr>\n",
       "    <tr>\n",
       "      <th>3</th>\n",
       "      <td>1</td>\n",
       "      <td>0</td>\n",
       "      <td>0</td>\n",
       "      <td>0</td>\n",
       "      <td>0</td>\n",
       "    </tr>\n",
       "    <tr>\n",
       "      <th>4</th>\n",
       "      <td>0</td>\n",
       "      <td>1</td>\n",
       "      <td>0</td>\n",
       "      <td>0</td>\n",
       "      <td>0</td>\n",
       "    </tr>\n",
       "  </tbody>\n",
       "</table>\n",
       "</div>"
      ],
      "text/plain": [
       "   Destination_Cochin  Destination_Delhi  Destination_Hyderabad  \\\n",
       "0                   1                  0                      0   \n",
       "1                   0                  0                      0   \n",
       "2                   1                  0                      0   \n",
       "3                   1                  0                      0   \n",
       "4                   0                  1                      0   \n",
       "\n",
       "   Destination_Kolkata  Destination_New Delhi  \n",
       "0                    0                      0  \n",
       "1                    0                      0  \n",
       "2                    0                      0  \n",
       "3                    0                      0  \n",
       "4                    0                      0  "
      ]
     },
     "execution_count": 94,
     "metadata": {},
     "output_type": "execute_result"
    }
   ],
   "source": [
    "Destination.head()"
   ]
  },
  {
   "cell_type": "markdown",
   "id": "e9a39625",
   "metadata": {},
   "source": [
    "### Droping above three columns"
   ]
  },
  {
   "cell_type": "code",
   "execution_count": 95,
   "id": "08ffd0a8",
   "metadata": {},
   "outputs": [],
   "source": [
    "test.drop(['Airline'],axis=1,inplace=True)\n",
    "test.drop(['Source'],axis=1,inplace=True)\n",
    "test.drop(['Destination'],axis=1,inplace=True)"
   ]
  },
  {
   "cell_type": "markdown",
   "id": "9a7c33d5",
   "metadata": {},
   "source": [
    "### Concatinating Data Frame"
   ]
  },
  {
   "cell_type": "code",
   "execution_count": 96,
   "id": "ae334a26",
   "metadata": {},
   "outputs": [],
   "source": [
    "test=pd.concat([test,Airline,Source,Destination],axis=1)"
   ]
  },
  {
   "cell_type": "code",
   "execution_count": 97,
   "id": "b3cd9194",
   "metadata": {},
   "outputs": [
    {
     "data": {
      "text/html": [
       "<div>\n",
       "<style scoped>\n",
       "    .dataframe tbody tr th:only-of-type {\n",
       "        vertical-align: middle;\n",
       "    }\n",
       "\n",
       "    .dataframe tbody tr th {\n",
       "        vertical-align: top;\n",
       "    }\n",
       "\n",
       "    .dataframe thead th {\n",
       "        text-align: right;\n",
       "    }\n",
       "</style>\n",
       "<table border=\"1\" class=\"dataframe\">\n",
       "  <thead>\n",
       "    <tr style=\"text-align: right;\">\n",
       "      <th></th>\n",
       "      <th>Total_Stops</th>\n",
       "      <th>Journey_day</th>\n",
       "      <th>Journey_month</th>\n",
       "      <th>Dep_hour</th>\n",
       "      <th>Dep_min</th>\n",
       "      <th>Arrival_hour</th>\n",
       "      <th>Arrival_min</th>\n",
       "      <th>Duration_hour</th>\n",
       "      <th>Duration_min</th>\n",
       "      <th>Airline_Air India</th>\n",
       "      <th>...</th>\n",
       "      <th>Airline_Vistara Premium economy</th>\n",
       "      <th>Source_Chennai</th>\n",
       "      <th>Source_Delhi</th>\n",
       "      <th>Source_Kolkata</th>\n",
       "      <th>Source_Mumbai</th>\n",
       "      <th>Destination_Cochin</th>\n",
       "      <th>Destination_Delhi</th>\n",
       "      <th>Destination_Hyderabad</th>\n",
       "      <th>Destination_Kolkata</th>\n",
       "      <th>Destination_New Delhi</th>\n",
       "    </tr>\n",
       "  </thead>\n",
       "  <tbody>\n",
       "    <tr>\n",
       "      <th>0</th>\n",
       "      <td>1</td>\n",
       "      <td>6</td>\n",
       "      <td>6</td>\n",
       "      <td>17</td>\n",
       "      <td>30</td>\n",
       "      <td>4</td>\n",
       "      <td>25</td>\n",
       "      <td>10</td>\n",
       "      <td>55</td>\n",
       "      <td>0</td>\n",
       "      <td>...</td>\n",
       "      <td>0</td>\n",
       "      <td>0</td>\n",
       "      <td>1</td>\n",
       "      <td>0</td>\n",
       "      <td>0</td>\n",
       "      <td>1</td>\n",
       "      <td>0</td>\n",
       "      <td>0</td>\n",
       "      <td>0</td>\n",
       "      <td>0</td>\n",
       "    </tr>\n",
       "    <tr>\n",
       "      <th>1</th>\n",
       "      <td>1</td>\n",
       "      <td>12</td>\n",
       "      <td>12</td>\n",
       "      <td>6</td>\n",
       "      <td>20</td>\n",
       "      <td>10</td>\n",
       "      <td>20</td>\n",
       "      <td>4</td>\n",
       "      <td>0</td>\n",
       "      <td>0</td>\n",
       "      <td>...</td>\n",
       "      <td>0</td>\n",
       "      <td>0</td>\n",
       "      <td>0</td>\n",
       "      <td>1</td>\n",
       "      <td>0</td>\n",
       "      <td>0</td>\n",
       "      <td>0</td>\n",
       "      <td>0</td>\n",
       "      <td>0</td>\n",
       "      <td>0</td>\n",
       "    </tr>\n",
       "    <tr>\n",
       "      <th>2</th>\n",
       "      <td>1</td>\n",
       "      <td>21</td>\n",
       "      <td>21</td>\n",
       "      <td>19</td>\n",
       "      <td>15</td>\n",
       "      <td>19</td>\n",
       "      <td>0</td>\n",
       "      <td>23</td>\n",
       "      <td>45</td>\n",
       "      <td>0</td>\n",
       "      <td>...</td>\n",
       "      <td>0</td>\n",
       "      <td>0</td>\n",
       "      <td>1</td>\n",
       "      <td>0</td>\n",
       "      <td>0</td>\n",
       "      <td>1</td>\n",
       "      <td>0</td>\n",
       "      <td>0</td>\n",
       "      <td>0</td>\n",
       "      <td>0</td>\n",
       "    </tr>\n",
       "    <tr>\n",
       "      <th>3</th>\n",
       "      <td>1</td>\n",
       "      <td>21</td>\n",
       "      <td>21</td>\n",
       "      <td>8</td>\n",
       "      <td>0</td>\n",
       "      <td>21</td>\n",
       "      <td>0</td>\n",
       "      <td>13</td>\n",
       "      <td>0</td>\n",
       "      <td>0</td>\n",
       "      <td>...</td>\n",
       "      <td>0</td>\n",
       "      <td>0</td>\n",
       "      <td>1</td>\n",
       "      <td>0</td>\n",
       "      <td>0</td>\n",
       "      <td>1</td>\n",
       "      <td>0</td>\n",
       "      <td>0</td>\n",
       "      <td>0</td>\n",
       "      <td>0</td>\n",
       "    </tr>\n",
       "    <tr>\n",
       "      <th>4</th>\n",
       "      <td>0</td>\n",
       "      <td>24</td>\n",
       "      <td>24</td>\n",
       "      <td>23</td>\n",
       "      <td>55</td>\n",
       "      <td>2</td>\n",
       "      <td>45</td>\n",
       "      <td>2</td>\n",
       "      <td>50</td>\n",
       "      <td>0</td>\n",
       "      <td>...</td>\n",
       "      <td>0</td>\n",
       "      <td>0</td>\n",
       "      <td>0</td>\n",
       "      <td>0</td>\n",
       "      <td>0</td>\n",
       "      <td>0</td>\n",
       "      <td>1</td>\n",
       "      <td>0</td>\n",
       "      <td>0</td>\n",
       "      <td>0</td>\n",
       "    </tr>\n",
       "  </tbody>\n",
       "</table>\n",
       "<p>5 rows × 28 columns</p>\n",
       "</div>"
      ],
      "text/plain": [
       "   Total_Stops  Journey_day  Journey_month  Dep_hour  Dep_min  Arrival_hour  \\\n",
       "0            1            6              6        17       30             4   \n",
       "1            1           12             12         6       20            10   \n",
       "2            1           21             21        19       15            19   \n",
       "3            1           21             21         8        0            21   \n",
       "4            0           24             24        23       55             2   \n",
       "\n",
       "   Arrival_min  Duration_hour  Duration_min  Airline_Air India  ...  \\\n",
       "0           25             10            55                  0  ...   \n",
       "1           20              4             0                  0  ...   \n",
       "2            0             23            45                  0  ...   \n",
       "3            0             13             0                  0  ...   \n",
       "4           45              2            50                  0  ...   \n",
       "\n",
       "   Airline_Vistara Premium economy  Source_Chennai  Source_Delhi  \\\n",
       "0                                0               0             1   \n",
       "1                                0               0             0   \n",
       "2                                0               0             1   \n",
       "3                                0               0             1   \n",
       "4                                0               0             0   \n",
       "\n",
       "   Source_Kolkata  Source_Mumbai  Destination_Cochin  Destination_Delhi  \\\n",
       "0               0              0                   1                  0   \n",
       "1               1              0                   0                  0   \n",
       "2               0              0                   1                  0   \n",
       "3               0              0                   1                  0   \n",
       "4               0              0                   0                  1   \n",
       "\n",
       "   Destination_Hyderabad  Destination_Kolkata  Destination_New Delhi  \n",
       "0                      0                    0                      0  \n",
       "1                      0                    0                      0  \n",
       "2                      0                    0                      0  \n",
       "3                      0                    0                      0  \n",
       "4                      0                    0                      0  \n",
       "\n",
       "[5 rows x 28 columns]"
      ]
     },
     "execution_count": 97,
     "metadata": {},
     "output_type": "execute_result"
    }
   ],
   "source": [
    "test.head()"
   ]
  },
  {
   "cell_type": "code",
   "execution_count": 98,
   "id": "8f5772e2",
   "metadata": {},
   "outputs": [
    {
     "data": {
      "text/plain": [
       "Index(['Total_Stops', 'Journey_day', 'Journey_month', 'Dep_hour', 'Dep_min',\n",
       "       'Arrival_hour', 'Arrival_min', 'Duration_hour', 'Duration_min',\n",
       "       'Airline_Air India', 'Airline_GoAir', 'Airline_IndiGo',\n",
       "       'Airline_Jet Airways', 'Airline_Jet Airways Business',\n",
       "       'Airline_Multiple carriers',\n",
       "       'Airline_Multiple carriers Premium economy', 'Airline_SpiceJet',\n",
       "       'Airline_Vistara', 'Airline_Vistara Premium economy', 'Source_Chennai',\n",
       "       'Source_Delhi', 'Source_Kolkata', 'Source_Mumbai', 'Destination_Cochin',\n",
       "       'Destination_Delhi', 'Destination_Hyderabad', 'Destination_Kolkata',\n",
       "       'Destination_New Delhi'],\n",
       "      dtype='object')"
      ]
     },
     "execution_count": 98,
     "metadata": {},
     "output_type": "execute_result"
    }
   ],
   "source": [
    "test.columns"
   ]
  },
  {
   "cell_type": "markdown",
   "id": "97e83524",
   "metadata": {},
   "source": [
    "."
   ]
  },
  {
   "cell_type": "markdown",
   "id": "e3782dbb",
   "metadata": {},
   "source": [
    "."
   ]
  },
  {
   "cell_type": "markdown",
   "id": "fef3e723",
   "metadata": {},
   "source": [
    "### ------------------------------------------------------------------------------------------------------------------------------"
   ]
  },
  {
   "cell_type": "code",
   "execution_count": 99,
   "id": "14a56e3c",
   "metadata": {},
   "outputs": [
    {
     "data": {
      "text/plain": [
       "(10682, 30)"
      ]
     },
     "execution_count": 99,
     "metadata": {},
     "output_type": "execute_result"
    }
   ],
   "source": [
    "train.shape"
   ]
  },
  {
   "cell_type": "code",
   "execution_count": 100,
   "id": "a26dd5ba",
   "metadata": {},
   "outputs": [],
   "source": [
    "y=train['Price']"
   ]
  },
  {
   "cell_type": "code",
   "execution_count": 101,
   "id": "127e32a1",
   "metadata": {},
   "outputs": [],
   "source": [
    "x=train.drop(['Price'],axis=1)"
   ]
  },
  {
   "cell_type": "code",
   "execution_count": 102,
   "id": "d31056fe",
   "metadata": {},
   "outputs": [
    {
     "data": {
      "text/plain": [
       "(10682, 29)"
      ]
     },
     "execution_count": 102,
     "metadata": {},
     "output_type": "execute_result"
    }
   ],
   "source": [
    "x.shape"
   ]
  },
  {
   "cell_type": "code",
   "execution_count": 103,
   "id": "4ae7d60e",
   "metadata": {},
   "outputs": [
    {
     "data": {
      "text/plain": [
       "(10682,)"
      ]
     },
     "execution_count": 103,
     "metadata": {},
     "output_type": "execute_result"
    }
   ],
   "source": [
    "y.shape"
   ]
  },
  {
   "cell_type": "markdown",
   "id": "20b4a9b2",
   "metadata": {},
   "source": [
    "## Model learning phase-prediction phase"
   ]
  },
  {
   "cell_type": "markdown",
   "id": "e9e7d5e7",
   "metadata": {},
   "source": [
    "#### So basically it will become important to know which type of machine learning model we are going to construct.It depends on the target.\n",
    "Here we are going to use Regression model because our target column is continous in nature.\n",
    "\n",
    "For Regression model, Some matrix we are going to find like:\n",
    "\n",
    "1) R2 Score.\n",
    "\n",
    "2) Mean absolute error.\n",
    "\n",
    "3) Mean squared error.\n",
    "\n",
    "4) Root mean squared error.\n",
    "\n",
    "\n",
    "#### Models\n",
    "\n",
    "1. Logistic regression\n",
    "\n",
    "2. Decision Tree Regressor\n",
    "\n",
    "3. KNeighbors Regressor\n",
    "\n",
    "4. Support vectod machine Regressor\n",
    "\n",
    "5. Random Forest Regressor\n",
    "\n",
    "6. AdaBoost Regressor\n",
    "\n",
    "7. Gradient Boosting Regressor\n",
    "\n",
    "8. XGboost Regressor\n",
    "\n",
    "9. Naive bayes Regressor"
   ]
  },
  {
   "cell_type": "code",
   "execution_count": 104,
   "id": "42947106",
   "metadata": {},
   "outputs": [],
   "source": [
    "from sklearn.model_selection import train_test_split, cross_val_score, GridSearchCV\n",
    "from sklearn.linear_model import LinearRegression,Lasso,Ridge,ElasticNet\n",
    "from sklearn.tree import DecisionTreeRegressor\n",
    "from sklearn.ensemble import RandomForestRegressor, AdaBoostRegressor,GradientBoostingRegressor\n",
    "from sklearn.neighbors import KNeighborsRegressor\n",
    "from sklearn.metrics import mean_squared_error, r2_score, mean_absolute_error\n",
    "import xgboost as xg\n",
    "from sklearn.svm import SVR"
   ]
  },
  {
   "cell_type": "code",
   "execution_count": 105,
   "id": "35bdee67",
   "metadata": {},
   "outputs": [],
   "source": [
    "def model_select(model):\n",
    "    max_score=0\n",
    "    max_state=0\n",
    "    for p in range(0,150):\n",
    "        x_train, x_test, y_train, y_test = train_test_split(x,y,test_size=0.22, random_state=p)\n",
    "        md=model()\n",
    "        md.fit(x_train,y_train)\n",
    "        predict=md.predict(x_test)\n",
    "        r2score=r2_score(y_test,predict)\n",
    "        if r2score>max_score:\n",
    "            max_score=r2score\n",
    "            max_state=p\n",
    "    print(\"Max score is {} with random state {}\".format(max_score,max_state))"
   ]
  },
  {
   "cell_type": "markdown",
   "id": "981f35bb",
   "metadata": {},
   "source": [
    "## Linear Regression"
   ]
  },
  {
   "cell_type": "markdown",
   "id": "9de2f7a9",
   "metadata": {},
   "source": [
    "Finding best random state by calling model_select function"
   ]
  },
  {
   "cell_type": "code",
   "execution_count": 106,
   "id": "69c05306",
   "metadata": {},
   "outputs": [
    {
     "name": "stdout",
     "output_type": "stream",
     "text": [
      "Max score is 0.6662353309119071 with random state 79\n"
     ]
    }
   ],
   "source": [
    "model_select(LinearRegression)"
   ]
  },
  {
   "cell_type": "code",
   "execution_count": 107,
   "id": "2d264520",
   "metadata": {},
   "outputs": [],
   "source": [
    "x_train,x_test,y_train,y_test=train_test_split(x,y,test_size=0.22,random_state=79)"
   ]
  },
  {
   "cell_type": "code",
   "execution_count": 109,
   "id": "8cb00165",
   "metadata": {},
   "outputs": [
    {
     "name": "stdout",
     "output_type": "stream",
     "text": [
      "Mean_squared error: 7364063.406579466\n",
      "Mean absolute error: 1950.2473855266849\n",
      "r2_score: 0.6662353309119071\n",
      "Root mean squared error: 2713.680785681961\n"
     ]
    }
   ],
   "source": [
    "lr=LinearRegression()\n",
    "lr.fit(x_train,y_train)\n",
    "pred=lr.predict(x_test)\n",
    "\n",
    "print('Mean_squared error:',mean_squared_error(y_test,pred))\n",
    "print('Mean absolute error:',mean_absolute_error(y_test,pred))\n",
    "print('r2_score:',r2_score(y_test,pred))\n",
    "print('Root mean squared error:',np.sqrt(mean_squared_error(y_test,pred)))"
   ]
  },
  {
   "cell_type": "code",
   "execution_count": 110,
   "id": "4e97a93b",
   "metadata": {},
   "outputs": [
    {
     "name": "stdout",
     "output_type": "stream",
     "text": [
      "Cross validation score when cv = 8 --- 0.6118353212790812\n",
      "Cross validation score when cv = 9 --- 0.611242795448287\n",
      "Cross validation score when cv = 10 --- 0.6112864045999102\n",
      "Cross validation score when cv = 11 --- 0.6107537121471606\n",
      "Cross validation score when cv = 12 --- 0.6115883149363666\n",
      "Cross validation score when cv = 13 --- 0.6112231086102302\n",
      "Cross validation score when cv = 14 --- 0.6113202077111156\n"
     ]
    }
   ],
   "source": [
    "for i in range(8,15):\n",
    "    cvs=cross_val_score(lr,x,y,cv=i)\n",
    "    print(\"Cross validation score when cv =\",i,'---',cvs.mean())"
   ]
  },
  {
   "cell_type": "code",
   "execution_count": 136,
   "id": "fee5fe4a",
   "metadata": {},
   "outputs": [],
   "source": [
    "r2_Scorelr=66.62\n",
    "cross_vallr=61.18\n",
    "diffrencelr=66.62-61.18\n",
    "cvlr=8"
   ]
  },
  {
   "cell_type": "markdown",
   "id": "406d7509",
   "metadata": {},
   "source": [
    "## Decision tree regressor"
   ]
  },
  {
   "cell_type": "markdown",
   "id": "dd2874a9",
   "metadata": {},
   "source": [
    "Finding best random state by calling model_select function"
   ]
  },
  {
   "cell_type": "code",
   "execution_count": 112,
   "id": "2229e515",
   "metadata": {},
   "outputs": [
    {
     "name": "stdout",
     "output_type": "stream",
     "text": [
      "Max score is 0.7120800299391745 with random state 94\n"
     ]
    }
   ],
   "source": [
    "model_select(DecisionTreeRegressor)"
   ]
  },
  {
   "cell_type": "code",
   "execution_count": 116,
   "id": "21fecf97",
   "metadata": {},
   "outputs": [],
   "source": [
    "x_train,x_test,y_train,y_test=train_test_split(x,y,test_size=0.22,random_state=94)"
   ]
  },
  {
   "cell_type": "code",
   "execution_count": 117,
   "id": "2b8a1c56",
   "metadata": {},
   "outputs": [
    {
     "name": "stdout",
     "output_type": "stream",
     "text": [
      "r2 score :  0.7099620487244125\n",
      "Mean absoluate error : 1627.2348889023922\n",
      "Means squred error: 7236195.812328768\n",
      "Root mean squred error:  2690.0178089240912\n"
     ]
    }
   ],
   "source": [
    "Dt=DecisionTreeRegressor()\n",
    "Dt.fit(x_train,y_train)\n",
    "pred=Dt.predict(x_test)\n",
    "print(\"r2 score : \",r2_score(y_test,pred))\n",
    "print(\"Mean absoluate error :\",mean_absolute_error(y_test,pred))\n",
    "print(\"Means squred error:\" ,mean_squared_error(y_test,pred))\n",
    "print(\"Root mean squred error: \",np.sqrt(mean_squared_error(y_test,pred)))"
   ]
  },
  {
   "cell_type": "code",
   "execution_count": 118,
   "id": "3a11421b",
   "metadata": {},
   "outputs": [
    {
     "name": "stdout",
     "output_type": "stream",
     "text": [
      "Cross validation score when cv = 8    0.6521218835812083\n",
      "Cross validation score when cv = 9    0.6515989050576532\n",
      "Cross validation score when cv = 10    0.6538064611214909\n",
      "Cross validation score when cv = 11    0.6501384703990296\n",
      "Cross validation score when cv = 12    0.6479355359155089\n",
      "Cross validation score when cv = 13    0.6525136515213534\n",
      "Cross validation score when cv = 14    0.6556050865519504\n"
     ]
    }
   ],
   "source": [
    "for i in range(8,15):\n",
    "    cvs=cross_val_score(Dt,x,y,cv=i)\n",
    "    print(\"Cross validation score when cv =\",i,'  ',cvs.mean())"
   ]
  },
  {
   "cell_type": "code",
   "execution_count": 137,
   "id": "c2162887",
   "metadata": {},
   "outputs": [],
   "source": [
    "r2_Scoredt=70.87\n",
    "cross_valdt=65.56\n",
    "diffrencedt=70.87-65.56\n",
    "cvdt=14"
   ]
  },
  {
   "cell_type": "markdown",
   "id": "380113d1",
   "metadata": {},
   "source": [
    "## KNeighbor regressor\n",
    "\n",
    "Finding best random state by calling model_select function"
   ]
  },
  {
   "cell_type": "code",
   "execution_count": 120,
   "id": "dd91385f",
   "metadata": {},
   "outputs": [
    {
     "name": "stdout",
     "output_type": "stream",
     "text": [
      "Max score is 0.602006814955836 with random state 99\n"
     ]
    }
   ],
   "source": [
    "model_select(KNeighborsRegressor)"
   ]
  },
  {
   "cell_type": "code",
   "execution_count": 121,
   "id": "4b433ad0",
   "metadata": {},
   "outputs": [],
   "source": [
    "x_train,x_test,y_train,y_test=train_test_split(x,y,test_size=0.22,random_state=99)"
   ]
  },
  {
   "cell_type": "code",
   "execution_count": 122,
   "id": "b9ade7a6",
   "metadata": {},
   "outputs": [
    {
     "name": "stdout",
     "output_type": "stream",
     "text": [
      "r2 score : 0.602006814955836\n",
      "Mean absolute error: 1895.8739259889408\n",
      "Mean squred error : 7647710.256095279\n",
      "Root mean squred error: 2765.449376881681\n"
     ]
    }
   ],
   "source": [
    "knn=KNeighborsRegressor()\n",
    "knn.fit(x_train,y_train)\n",
    "pred=knn.predict(x_test)\n",
    "print(\"r2 score :\",r2_score(y_test,pred))\n",
    "print(\"Mean absolute error:\",mean_absolute_error(y_test,pred))\n",
    "print(\"Mean squred error :\",mean_squared_error(y_test,pred))\n",
    "print(\"Root mean squred error:\",np.sqrt(mean_squared_error(y_test,pred)))"
   ]
  },
  {
   "cell_type": "code",
   "execution_count": 123,
   "id": "1c049326",
   "metadata": {},
   "outputs": [
    {
     "name": "stdout",
     "output_type": "stream",
     "text": [
      "Cross validation score when cv = 7 --- 0.5503308924164078\n",
      "Cross validation score when cv = 8 --- 0.5468641707991098\n",
      "Cross validation score when cv = 9 --- 0.5481647131137756\n",
      "Cross validation score when cv = 10 --- 0.553573185981259\n",
      "Cross validation score when cv = 11 --- 0.5530721405422444\n",
      "Cross validation score when cv = 12 --- 0.5515993780558832\n",
      "Cross validation score when cv = 13 --- 0.5550303804078478\n",
      "Cross validation score when cv = 14 --- 0.5547032876353359\n"
     ]
    }
   ],
   "source": [
    "for i in range(7,15):\n",
    "    cvs=cross_val_score(knn,x,y,cv=i)\n",
    "    print(\"Cross validation score when cv =\",i,'---',cvs.mean())"
   ]
  },
  {
   "cell_type": "code",
   "execution_count": 138,
   "id": "7ad780da",
   "metadata": {},
   "outputs": [],
   "source": [
    "r2_Scoreknn=60.20\n",
    "cross_valknn=55.50\n",
    "diffrenceknn=60.20-55.50\n",
    "cvknn=13"
   ]
  },
  {
   "cell_type": "markdown",
   "id": "84f2c604",
   "metadata": {},
   "source": [
    "## Lasso Regressor"
   ]
  },
  {
   "cell_type": "code",
   "execution_count": 125,
   "id": "cad3830c",
   "metadata": {},
   "outputs": [
    {
     "name": "stdout",
     "output_type": "stream",
     "text": [
      "Max score is 0.6663451241235426 with random state 79\n"
     ]
    }
   ],
   "source": [
    "model_select(Lasso)"
   ]
  },
  {
   "cell_type": "code",
   "execution_count": 126,
   "id": "f246a664",
   "metadata": {},
   "outputs": [],
   "source": [
    "x_train,x_test,y_train,y_test=train_test_split(x,y,test_size=0.22,random_state=79)"
   ]
  },
  {
   "cell_type": "code",
   "execution_count": 127,
   "id": "95baa1fe",
   "metadata": {},
   "outputs": [
    {
     "name": "stdout",
     "output_type": "stream",
     "text": [
      "r2 score : 0.6663451241235426\n",
      "Mean absolute error: 1949.1239150448166\n",
      "Mean squred error : 7361640.968715371\n",
      "Root mean squred error: 2713.234410941187\n"
     ]
    }
   ],
   "source": [
    "lss=Lasso()\n",
    "lss.fit(x_train,y_train)\n",
    "pred=lss.predict(x_test)\n",
    "print(\"r2 score :\",r2_score(y_test,pred))\n",
    "print(\"Mean absolute error:\",mean_absolute_error(y_test,pred))\n",
    "print(\"Mean squred error :\",mean_squared_error(y_test,pred))\n",
    "print(\"Root mean squred error:\",np.sqrt(mean_squared_error(y_test,pred)))"
   ]
  },
  {
   "cell_type": "code",
   "execution_count": 128,
   "id": "39796739",
   "metadata": {},
   "outputs": [
    {
     "name": "stdout",
     "output_type": "stream",
     "text": [
      "Cross validation score when cv = 7 --- 0.6113230424382083\n",
      "Cross validation score when cv = 8 --- 0.6115468831547075\n",
      "Cross validation score when cv = 9 --- 0.6110698032774668\n",
      "Cross validation score when cv = 10 --- 0.6111256726987744\n",
      "Cross validation score when cv = 11 --- 0.6105169776037127\n",
      "Cross validation score when cv = 12 --- 0.6113472884975838\n",
      "Cross validation score when cv = 13 --- 0.6110534109533208\n",
      "Cross validation score when cv = 14 --- 0.6111500566954806\n"
     ]
    }
   ],
   "source": [
    "for i in range(7,15):\n",
    "    cvs=cross_val_score(lss,x,y,cv=i)\n",
    "    print(\"Cross validation score when cv =\",i,'---',cvs.mean())"
   ]
  },
  {
   "cell_type": "code",
   "execution_count": 164,
   "id": "8ffb0f4b",
   "metadata": {},
   "outputs": [],
   "source": [
    "r2_Scorelss=66.63\n",
    "cross_vallss=61.13\n",
    "diffrencelss=66.63-61.13\n",
    "cvklss=7"
   ]
  },
  {
   "cell_type": "markdown",
   "id": "f3891b1e",
   "metadata": {},
   "source": [
    "## Ridge Regressor"
   ]
  },
  {
   "cell_type": "code",
   "execution_count": 132,
   "id": "6f534a8d",
   "metadata": {},
   "outputs": [
    {
     "name": "stdout",
     "output_type": "stream",
     "text": [
      "Max score is 0.6605109280608573 with random state 79\n"
     ]
    }
   ],
   "source": [
    "model_select(Ridge)"
   ]
  },
  {
   "cell_type": "code",
   "execution_count": 133,
   "id": "d71e488b",
   "metadata": {},
   "outputs": [],
   "source": [
    "x_train,x_test,y_train,y_test=train_test_split(x,y,test_size=0.22,random_state=79)"
   ]
  },
  {
   "cell_type": "code",
   "execution_count": 134,
   "id": "483d62e6",
   "metadata": {},
   "outputs": [
    {
     "name": "stdout",
     "output_type": "stream",
     "text": [
      "r2 score : 0.6605109280608573\n",
      "Mean absolute error: 1959.1907073842335\n",
      "Mean squred error : 7490364.56863808\n",
      "Root mean squred error: 2736.8530411109177\n"
     ]
    }
   ],
   "source": [
    "ri=Ridge()\n",
    "ri.fit(x_train,y_train)\n",
    "pred=ri.predict(x_test)\n",
    "print(\"r2 score :\",r2_score(y_test,pred))\n",
    "print(\"Mean absolute error:\",mean_absolute_error(y_test,pred))\n",
    "print(\"Mean squred error :\",mean_squared_error(y_test,pred))\n",
    "print(\"Root mean squred error:\",np.sqrt(mean_squared_error(y_test,pred)))"
   ]
  },
  {
   "cell_type": "code",
   "execution_count": 140,
   "id": "b91e4651",
   "metadata": {},
   "outputs": [
    {
     "name": "stdout",
     "output_type": "stream",
     "text": [
      "Cross validation score when cv = 7 --- 0.6104026075072884\n",
      "Cross validation score when cv = 8 --- 0.6105513505006479\n",
      "Cross validation score when cv = 9 --- 0.6102113193215423\n",
      "Cross validation score when cv = 10 --- 0.6102360699534564\n",
      "Cross validation score when cv = 11 --- 0.6095399841779998\n",
      "Cross validation score when cv = 12 --- 0.6104534128800237\n",
      "Cross validation score when cv = 13 --- 0.6103515611278686\n",
      "Cross validation score when cv = 14 --- 0.610489726966103\n"
     ]
    }
   ],
   "source": [
    "for i in range(7,15):\n",
    "    cvs=cross_val_score(ri,x,y,cv=i)\n",
    "    print(\"Cross validation score when cv =\",i,'---',cvs.mean())"
   ]
  },
  {
   "cell_type": "code",
   "execution_count": 165,
   "id": "ac81d83a",
   "metadata": {},
   "outputs": [],
   "source": [
    "r2_Scoreri=66.05\n",
    "cross_valri=61\n",
    "diffrenceri=66.05-61\n",
    "cvri=7"
   ]
  },
  {
   "cell_type": "markdown",
   "id": "5df22181",
   "metadata": {},
   "source": [
    "## Ensamble technique --"
   ]
  },
  {
   "cell_type": "markdown",
   "id": "f5d3aa47",
   "metadata": {},
   "source": [
    "## Random forest classifier\n",
    "Finding best random state by calling model_select function"
   ]
  },
  {
   "cell_type": "code",
   "execution_count": 144,
   "id": "543c3f11",
   "metadata": {},
   "outputs": [
    {
     "name": "stdout",
     "output_type": "stream",
     "text": [
      "Max score is 0.78641700201012 with random state 58\n"
     ]
    }
   ],
   "source": [
    "model_select(RandomForestRegressor)"
   ]
  },
  {
   "cell_type": "code",
   "execution_count": 145,
   "id": "3e9f3270",
   "metadata": {},
   "outputs": [],
   "source": [
    "x_train,x_test,y_train,y_test=train_test_split(x,y,test_size=0.22,random_state=58)"
   ]
  },
  {
   "cell_type": "code",
   "execution_count": 146,
   "id": "6e955d90",
   "metadata": {},
   "outputs": [
    {
     "name": "stdout",
     "output_type": "stream",
     "text": [
      "r2 score: 0.7836346228938977\n",
      "Mean absolute error 1429.7904049424499\n",
      "Mean squared error: 4876588.979238847\n",
      "Root mean squared error: 2208.3000202053267\n"
     ]
    }
   ],
   "source": [
    "rfr=RandomForestRegressor()\n",
    "rfr.fit(x_train,y_train)\n",
    "pred=rfr.predict(x_test)\n",
    "print(\"r2 score:\",r2_score(y_test,pred))\n",
    "print(\"Mean absolute error\",mean_absolute_error(y_test,pred))\n",
    "print(\"Mean squared error:\",mean_squared_error(y_test,pred))\n",
    "print(\"Root mean squared error:\",np.sqrt(mean_squared_error(y_test,pred)))"
   ]
  },
  {
   "cell_type": "code",
   "execution_count": 147,
   "id": "9be34f1a",
   "metadata": {},
   "outputs": [
    {
     "name": "stdout",
     "output_type": "stream",
     "text": [
      "Cross validation score when cv = 7 --- 0.747786094299002\n",
      "Cross validation score when cv = 8 --- 0.7467924553878718\n",
      "Cross validation score when cv = 9 --- 0.7462595174430932\n",
      "Cross validation score when cv = 10 --- 0.7488861327271282\n",
      "Cross validation score when cv = 11 --- 0.7434534251964398\n",
      "Cross validation score when cv = 12 --- 0.7442368796124402\n",
      "Cross validation score when cv = 13 --- 0.7467345642956447\n",
      "Cross validation score when cv = 14 --- 0.7446884055107929\n"
     ]
    }
   ],
   "source": [
    "for i in range(7,15):\n",
    "    cvs=cross_val_score(rfr,x,y,cv=i)\n",
    "    print(\"Cross validation score when cv =\",i,'---',cvs.mean())"
   ]
  },
  {
   "cell_type": "code",
   "execution_count": 148,
   "id": "b69cb2cd",
   "metadata": {},
   "outputs": [],
   "source": [
    "r2_Scorerfr=78.36\n",
    "cross_vallrfr=74.88\n",
    "diffrencerfr=78.36-74.88\n",
    "cvklrfr=10"
   ]
  },
  {
   "cell_type": "markdown",
   "id": "baee646c",
   "metadata": {},
   "source": [
    "## AdaBoostRegressor"
   ]
  },
  {
   "cell_type": "markdown",
   "id": "2b496dba",
   "metadata": {},
   "source": [
    "Finding best random state by calling model_select function"
   ]
  },
  {
   "cell_type": "code",
   "execution_count": 149,
   "id": "9b8d684a",
   "metadata": {},
   "outputs": [
    {
     "name": "stdout",
     "output_type": "stream",
     "text": [
      "Max score is 0.508944413240423 with random state 63\n"
     ]
    }
   ],
   "source": [
    "model_select(AdaBoostRegressor)"
   ]
  },
  {
   "cell_type": "code",
   "execution_count": 150,
   "id": "6f555933",
   "metadata": {},
   "outputs": [],
   "source": [
    "x_train,x_test,y_train,y_test=train_test_split(x,y,test_size=0.20,random_state=63)"
   ]
  },
  {
   "cell_type": "code",
   "execution_count": 151,
   "id": "0f9b9b14",
   "metadata": {},
   "outputs": [
    {
     "name": "stdout",
     "output_type": "stream",
     "text": [
      "r2 score: 0.4716222671171826\n",
      "Mean absolute error: 2555.7028256936696\n",
      "Mean squared error: 12525179.848037273\n",
      "Root mean squared error: 3539.0930827031484\n"
     ]
    }
   ],
   "source": [
    "ada=AdaBoostRegressor()\n",
    "ada.fit(x_train,y_train)\n",
    "pred=ada.predict(x_test)\n",
    "print(\"r2 score:\",r2_score(y_test,pred))\n",
    "print(\"Mean absolute error:\",mean_absolute_error(y_test,pred))\n",
    "print(\"Mean squared error:\",mean_squared_error(y_test,pred))\n",
    "print(\"Root mean squared error:\",np.sqrt(mean_squared_error(y_test,pred)))"
   ]
  },
  {
   "cell_type": "code",
   "execution_count": 152,
   "id": "e02cd864",
   "metadata": {},
   "outputs": [
    {
     "name": "stdout",
     "output_type": "stream",
     "text": [
      "Cross validation score when cv = 7 --- 0.12127768617600103\n",
      "Cross validation score when cv = 8 --- 0.14367857036768084\n",
      "Cross validation score when cv = 9 --- 0.11111890335321932\n",
      "Cross validation score when cv = 10 --- 0.19701905187383728\n",
      "Cross validation score when cv = 11 --- 0.16680889886902134\n"
     ]
    }
   ],
   "source": [
    "for i in range(7,12):\n",
    "    cvs=cross_val_score(ada,x,y,cv=i)\n",
    "    print(\"Cross validation score when cv =\",i,'---',cvs.mean())"
   ]
  },
  {
   "cell_type": "code",
   "execution_count": 153,
   "id": "0220544f",
   "metadata": {},
   "outputs": [],
   "source": [
    "r2_Scoreada=47.16\n",
    "cross_vallada=14.36\n",
    "diffrenceada=47.16-14.36\n",
    "cvklada=8"
   ]
  },
  {
   "cell_type": "markdown",
   "id": "5080eed4",
   "metadata": {},
   "source": [
    "## GradientBoostingRegressor\n",
    "Finding best random state by calling model_select function"
   ]
  },
  {
   "cell_type": "code",
   "execution_count": 154,
   "id": "87f1b81c",
   "metadata": {},
   "outputs": [
    {
     "name": "stdout",
     "output_type": "stream",
     "text": [
      "Max score is 0.7677606364408838 with random state 58\n"
     ]
    }
   ],
   "source": [
    "model_select(GradientBoostingRegressor)"
   ]
  },
  {
   "cell_type": "code",
   "execution_count": 155,
   "id": "60707bae",
   "metadata": {},
   "outputs": [],
   "source": [
    "x_train,x_test,y_train,y_test=train_test_split(x,y,test_size=0.20,random_state=58)"
   ]
  },
  {
   "cell_type": "code",
   "execution_count": 156,
   "id": "9e4660be",
   "metadata": {},
   "outputs": [
    {
     "name": "stdout",
     "output_type": "stream",
     "text": [
      "r2 score: 0.7696027223986832\n",
      "Mean absolute error: 1639.8790007530567\n",
      "Mean squared error: 5261457.485026913\n",
      "Root mean squared error: 2293.786713063556\n"
     ]
    }
   ],
   "source": [
    "gbr=GradientBoostingRegressor()\n",
    "gbr.fit(x_train,y_train)\n",
    "pred=gbr.predict(x_test)\n",
    "print(\"r2 score:\",r2_score(y_test,pred))\n",
    "print(\"Mean absolute error:\",mean_absolute_error(y_test,pred))\n",
    "print(\"Mean squared error:\",mean_squared_error(y_test,pred))\n",
    "print(\"Root mean squared error:\",np.sqrt(mean_squared_error(y_test,pred)))"
   ]
  },
  {
   "cell_type": "code",
   "execution_count": 157,
   "id": "5f5c6ecb",
   "metadata": {},
   "outputs": [
    {
     "name": "stdout",
     "output_type": "stream",
     "text": [
      "Cross validation score when cv = 7 --- 0.7187413590767893\n",
      "Cross validation score when cv = 8 --- 0.7188883695457606\n",
      "Cross validation score when cv = 9 --- 0.7189543250324192\n",
      "Cross validation score when cv = 10 --- 0.7203763866736322\n",
      "Cross validation score when cv = 11 --- 0.7177733026933262\n",
      "Cross validation score when cv = 12 --- 0.7189403348244966\n",
      "Cross validation score when cv = 13 --- 0.7188811336810149\n",
      "Cross validation score when cv = 14 --- 0.7196098549386447\n"
     ]
    }
   ],
   "source": [
    "for i in range(7,15):\n",
    "    cvs=cross_val_score(gbr,x,y,cv=i)\n",
    "    print(\"Cross validation score when cv =\",i,'---',cvs.mean())"
   ]
  },
  {
   "cell_type": "code",
   "execution_count": 158,
   "id": "a3ed1e0c",
   "metadata": {},
   "outputs": [],
   "source": [
    "r2_Scoregbr=76.77\n",
    "cross_vallgbr=71.96\n",
    "diffrencegbr=76.77-71.96\n",
    "cvklgbr=14"
   ]
  },
  {
   "cell_type": "markdown",
   "id": "a4ad18d5",
   "metadata": {},
   "source": [
    "## Xg Boost regressor"
   ]
  },
  {
   "cell_type": "markdown",
   "id": "7fd71dc7",
   "metadata": {},
   "source": [
    "Finding best random state by calling model_select function"
   ]
  },
  {
   "cell_type": "code",
   "execution_count": 159,
   "id": "81f87f8f",
   "metadata": {},
   "outputs": [
    {
     "name": "stdout",
     "output_type": "stream",
     "text": [
      "Max score is 0.8276755566283553 with random state 58\n"
     ]
    }
   ],
   "source": [
    "model_select(xg.XGBRegressor)"
   ]
  },
  {
   "cell_type": "code",
   "execution_count": 160,
   "id": "47759cdb",
   "metadata": {},
   "outputs": [],
   "source": [
    "x_train,x_test,y_train,y_test=train_test_split(x,y,test_size=0.22,random_state=58)"
   ]
  },
  {
   "cell_type": "code",
   "execution_count": 161,
   "id": "b3393d20",
   "metadata": {},
   "outputs": [
    {
     "name": "stdout",
     "output_type": "stream",
     "text": [
      "r2 score: 0.8276755566283553\n",
      "Mean absolute error: 1342.3718278853248\n",
      "Mean squared error: 3883964.6741980063\n",
      "Root mean squared error: 1970.7776825908106\n"
     ]
    }
   ],
   "source": [
    "XG=xg.XGBRegressor()\n",
    "XG.fit(x_train,y_train)\n",
    "pred=XG.predict(x_test)\n",
    "print(\"r2 score:\",r2_score(y_test,pred))\n",
    "print(\"Mean absolute error:\",mean_absolute_error(y_test,pred))\n",
    "print(\"Mean squared error:\",mean_squared_error(y_test,pred))\n",
    "print(\"Root mean squared error:\",np.sqrt(mean_squared_error(y_test,pred)))"
   ]
  },
  {
   "cell_type": "code",
   "execution_count": 162,
   "id": "c18951d3",
   "metadata": {},
   "outputs": [
    {
     "name": "stdout",
     "output_type": "stream",
     "text": [
      "Cross validation score when cv = 7 --- 0.7905086780119425\n",
      "Cross validation score when cv = 8 --- 0.7937019816461472\n",
      "Cross validation score when cv = 9 --- 0.7954768831267012\n",
      "Cross validation score when cv = 10 --- 0.7986025304301074\n",
      "Cross validation score when cv = 11 --- 0.7933318147790884\n",
      "Cross validation score when cv = 12 --- 0.7917256634203809\n",
      "Cross validation score when cv = 13 --- 0.7950106634637035\n",
      "Cross validation score when cv = 14 --- 0.7966323537389084\n"
     ]
    }
   ],
   "source": [
    "for i in range(7,15):\n",
    "    cvs=cross_val_score(XG,x,y,cv=i)\n",
    "    print(\"Cross validation score when cv =\",i,'---',cvs.mean())"
   ]
  },
  {
   "cell_type": "code",
   "execution_count": 166,
   "id": "b3dd7bfe",
   "metadata": {},
   "outputs": [],
   "source": [
    "r2_Scorexg=82.76\n",
    "cross_valxg=79.86\n",
    "diffrencexg=82.76-79.86\n",
    "cvklxg=10"
   ]
  },
  {
   "cell_type": "markdown",
   "id": "e62a6ff2",
   "metadata": {},
   "source": [
    "## Model comparision"
   ]
  },
  {
   "cell_type": "code",
   "execution_count": 177,
   "id": "210837b2",
   "metadata": {},
   "outputs": [],
   "source": [
    "mo={'R2_Score':[r2_Scorelr,r2_Scoredt,r2_Scoreknn,r2_Scorelss,r2_Scoreri,r2_Scorerfr,r2_Scoreada,r2_Scoregbr,r2_Scorexg],\n",
    "     'Cross_val_score':[cross_vallr,cross_valdt,cross_valknn,cross_vallss,cross_valri,cross_vallrfr,cross_vallada,cross_vallgbr,\n",
    "                        cross_valxg],\n",
    "     'Diffrence':[diffrencelr,diffrencedt,diffrenceknn,diffrencelss,diffrenceri,diffrencerfr,diffrenceada,diffrencegbr,\n",
    "                 diffrencexg],\n",
    "     'CV':[cvlr,cvdt,cvknn,cvklss,cvri,cvklrfr,cvklada,cvklgbr,cvklxg]}"
   ]
  },
  {
   "cell_type": "code",
   "execution_count": 178,
   "id": "b79f4ba7",
   "metadata": {},
   "outputs": [],
   "source": [
    "name=['Linear Regression','Decision Tree Regressor','K neighbors Regressor','Lasso Regressor','Ridge Regressor'\n",
    "      ,'Random forest regressor','Ada Boost Regressor','Gradient Boosting Regressor','XG Boost Regressor']"
   ]
  },
  {
   "cell_type": "code",
   "execution_count": 181,
   "id": "fb7d19df",
   "metadata": {},
   "outputs": [],
   "source": [
    "result=pd.DataFrame(mo,index=name)"
   ]
  },
  {
   "cell_type": "code",
   "execution_count": 182,
   "id": "8ed20a37",
   "metadata": {},
   "outputs": [
    {
     "data": {
      "text/html": [
       "<div>\n",
       "<style scoped>\n",
       "    .dataframe tbody tr th:only-of-type {\n",
       "        vertical-align: middle;\n",
       "    }\n",
       "\n",
       "    .dataframe tbody tr th {\n",
       "        vertical-align: top;\n",
       "    }\n",
       "\n",
       "    .dataframe thead th {\n",
       "        text-align: right;\n",
       "    }\n",
       "</style>\n",
       "<table border=\"1\" class=\"dataframe\">\n",
       "  <thead>\n",
       "    <tr style=\"text-align: right;\">\n",
       "      <th></th>\n",
       "      <th>R2_Score</th>\n",
       "      <th>Cross_val_score</th>\n",
       "      <th>Diffrence</th>\n",
       "      <th>CV</th>\n",
       "    </tr>\n",
       "  </thead>\n",
       "  <tbody>\n",
       "    <tr>\n",
       "      <th>Linear Regression</th>\n",
       "      <td>66.62</td>\n",
       "      <td>61.18</td>\n",
       "      <td>5.44</td>\n",
       "      <td>8</td>\n",
       "    </tr>\n",
       "    <tr>\n",
       "      <th>Decision Tree Regressor</th>\n",
       "      <td>70.87</td>\n",
       "      <td>65.56</td>\n",
       "      <td>5.31</td>\n",
       "      <td>14</td>\n",
       "    </tr>\n",
       "    <tr>\n",
       "      <th>K neighbors Regressor</th>\n",
       "      <td>60.20</td>\n",
       "      <td>55.50</td>\n",
       "      <td>4.70</td>\n",
       "      <td>13</td>\n",
       "    </tr>\n",
       "    <tr>\n",
       "      <th>Lasso Regressor</th>\n",
       "      <td>66.63</td>\n",
       "      <td>61.13</td>\n",
       "      <td>5.50</td>\n",
       "      <td>7</td>\n",
       "    </tr>\n",
       "    <tr>\n",
       "      <th>Ridge Regressor</th>\n",
       "      <td>66.05</td>\n",
       "      <td>61.00</td>\n",
       "      <td>5.05</td>\n",
       "      <td>7</td>\n",
       "    </tr>\n",
       "    <tr>\n",
       "      <th>Random forest regressor</th>\n",
       "      <td>78.36</td>\n",
       "      <td>74.88</td>\n",
       "      <td>3.48</td>\n",
       "      <td>10</td>\n",
       "    </tr>\n",
       "    <tr>\n",
       "      <th>Ada Boost Regressor</th>\n",
       "      <td>47.16</td>\n",
       "      <td>14.36</td>\n",
       "      <td>32.80</td>\n",
       "      <td>8</td>\n",
       "    </tr>\n",
       "    <tr>\n",
       "      <th>Gradient Boosting Regressor</th>\n",
       "      <td>76.77</td>\n",
       "      <td>71.96</td>\n",
       "      <td>4.81</td>\n",
       "      <td>14</td>\n",
       "    </tr>\n",
       "    <tr>\n",
       "      <th>XG Boost Regressor</th>\n",
       "      <td>82.76</td>\n",
       "      <td>79.86</td>\n",
       "      <td>2.90</td>\n",
       "      <td>10</td>\n",
       "    </tr>\n",
       "  </tbody>\n",
       "</table>\n",
       "</div>"
      ],
      "text/plain": [
       "                             R2_Score  Cross_val_score  Diffrence  CV\n",
       "Linear Regression               66.62            61.18       5.44   8\n",
       "Decision Tree Regressor         70.87            65.56       5.31  14\n",
       "K neighbors Regressor           60.20            55.50       4.70  13\n",
       "Lasso Regressor                 66.63            61.13       5.50   7\n",
       "Ridge Regressor                 66.05            61.00       5.05   7\n",
       "Random forest regressor         78.36            74.88       3.48  10\n",
       "Ada Boost Regressor             47.16            14.36      32.80   8\n",
       "Gradient Boosting Regressor     76.77            71.96       4.81  14\n",
       "XG Boost Regressor              82.76            79.86       2.90  10"
      ]
     },
     "execution_count": 182,
     "metadata": {},
     "output_type": "execute_result"
    }
   ],
   "source": [
    "result"
   ]
  },
  {
   "cell_type": "code",
   "execution_count": 184,
   "id": "a9fa9269",
   "metadata": {},
   "outputs": [],
   "source": [
    "aa=result.index"
   ]
  },
  {
   "cell_type": "code",
   "execution_count": 187,
   "id": "377ad011",
   "metadata": {},
   "outputs": [],
   "source": [
    "bb=result['Cross_val_score']"
   ]
  },
  {
   "cell_type": "code",
   "execution_count": 195,
   "id": "52901759",
   "metadata": {},
   "outputs": [
    {
     "data": {
      "text/plain": [
       "Text(0.5, 1.0, 'Model And its Accuracy')"
      ]
     },
     "execution_count": 195,
     "metadata": {},
     "output_type": "execute_result"
    },
    {
     "data": {
      "image/png": "[encoded data removed]",
      "text/plain": [
       "<Figure size 1152x720 with 1 Axes>"
      ]
     },
     "metadata": {
      "needs_background": "light"
     },
     "output_type": "display_data"
    }
   ],
   "source": [
    "plt.figure(figsize=[16,10])\n",
    "sns.barplot(data=result,x='Cross_val_score',y=result.index)\n",
    "plt.title('Model And its Accuracy',fontsize=20)"
   ]
  },
  {
   "cell_type": "markdown",
   "id": "34ac4cd8",
   "metadata": {},
   "source": [
    "## Best Model\n",
    "### We are chosing XG Boost Regressor as a best model, Because this model has least diffrence between, R2 score and cross validation score and also its accuracy is highest as compare to others.That is why we are choosing XG Boost \n",
    "### Model accuracy is : 82.76\n",
    "### Cross_validation score : 79.86\n",
    "### Diffrence : 2.90\n",
    "### Mean absolute error: 1342.37\n",
    "### Root mean squared error: 1970.77\n",
    ".\n",
    "\n",
    "."
   ]
  },
  {
   "cell_type": "markdown",
   "id": "f9360bbd",
   "metadata": {},
   "source": [
    "## Hyper Parameter tuning\n",
    "### Grid search cv"
   ]
  },
  {
   "cell_type": "code",
   "execution_count": 206,
   "id": "ef411e6a",
   "metadata": {},
   "outputs": [],
   "source": [
    "parameter= {\"learning_rate\" : [0.10, 0.20,0.40 ] ,\n",
    "            \"max_depth\" : [5,10, 12, 15],\n",
    "            \"min_child_weight\" : [ 1, 3, 5, 7 ],\n",
    "            \"gamma\" : [ 0.1, 0.2 , 0.3, 0.4 ]}"
   ]
  },
  {
   "cell_type": "code",
   "execution_count": 207,
   "id": "9cf6025a",
   "metadata": {},
   "outputs": [
    {
     "data": {
      "text/plain": [
       "{'gamma': 0.1, 'learning_rate': 0.2, 'max_depth': 5, 'min_child_weight': 1}"
      ]
     },
     "execution_count": 207,
     "metadata": {},
     "output_type": "execute_result"
    }
   ],
   "source": [
    "GSC=GridSearchCV(XG,parameter,cv=3)\n",
    "GSC.fit(x_train,y_train)\n",
    "GSC.best_params_"
   ]
  },
  {
   "cell_type": "code",
   "execution_count": 208,
   "id": "3806761a",
   "metadata": {},
   "outputs": [
    {
     "data": {
      "text/html": [
       "<style>#sk-container-id-2 {color: black;background-color: white;}#sk-container-id-2 pre{padding: 0;}#sk-container-id-2 div.sk-toggleable {background-color: white;}#sk-container-id-2 label.sk-toggleable__label {cursor: pointer;display: block;width: 100%;margin-bottom: 0;padding: 0.3em;box-sizing: border-box;text-align: center;}#sk-container-id-2 label.sk-toggleable__label-arrow:before {content: \"▸\";float: left;margin-right: 0.25em;color: #696969;}#sk-container-id-2 label.sk-toggleable__label-arrow:hover:before {color: black;}#sk-container-id-2 div.sk-estimator:hover label.sk-toggleable__label-arrow:before {color: black;}#sk-container-id-2 div.sk-toggleable__content {max-height: 0;max-width: 0;overflow: hidden;text-align: left;background-color: #f0f8ff;}#sk-container-id-2 div.sk-toggleable__content pre {margin: 0.2em;color: black;border-radius: 0.25em;background-color: #f0f8ff;}#sk-container-id-2 input.sk-toggleable__control:checked~div.sk-toggleable__content {max-height: 200px;max-width: 100%;overflow: auto;}#sk-container-id-2 input.sk-toggleable__control:checked~label.sk-toggleable__label-arrow:before {content: \"▾\";}#sk-container-id-2 div.sk-estimator input.sk-toggleable__control:checked~label.sk-toggleable__label {background-color: #d4ebff;}#sk-container-id-2 div.sk-label input.sk-toggleable__control:checked~label.sk-toggleable__label {background-color: #d4ebff;}#sk-container-id-2 input.sk-hidden--visually {border: 0;clip: rect(1px 1px 1px 1px);clip: rect(1px, 1px, 1px, 1px);height: 1px;margin: -1px;overflow: hidden;padding: 0;position: absolute;width: 1px;}#sk-container-id-2 div.sk-estimator {font-family: monospace;background-color: #f0f8ff;border: 1px dotted black;border-radius: 0.25em;box-sizing: border-box;margin-bottom: 0.5em;}#sk-container-id-2 div.sk-estimator:hover {background-color: #d4ebff;}#sk-container-id-2 div.sk-parallel-item::after {content: \"\";width: 100%;border-bottom: 1px solid gray;flex-grow: 1;}#sk-container-id-2 div.sk-label:hover label.sk-toggleable__label {background-color: #d4ebff;}#sk-container-id-2 div.sk-serial::before {content: \"\";position: absolute;border-left: 1px solid gray;box-sizing: border-box;top: 0;bottom: 0;left: 50%;z-index: 0;}#sk-container-id-2 div.sk-serial {display: flex;flex-direction: column;align-items: center;background-color: white;padding-right: 0.2em;padding-left: 0.2em;position: relative;}#sk-container-id-2 div.sk-item {position: relative;z-index: 1;}#sk-container-id-2 div.sk-parallel {display: flex;align-items: stretch;justify-content: center;background-color: white;position: relative;}#sk-container-id-2 div.sk-item::before, #sk-container-id-2 div.sk-parallel-item::before {content: \"\";position: absolute;border-left: 1px solid gray;box-sizing: border-box;top: 0;bottom: 0;left: 50%;z-index: -1;}#sk-container-id-2 div.sk-parallel-item {display: flex;flex-direction: column;z-index: 1;position: relative;background-color: white;}#sk-container-id-2 div.sk-parallel-item:first-child::after {align-self: flex-end;width: 50%;}#sk-container-id-2 div.sk-parallel-item:last-child::after {align-self: flex-start;width: 50%;}#sk-container-id-2 div.sk-parallel-item:only-child::after {width: 0;}#sk-container-id-2 div.sk-dashed-wrapped {border: 1px dashed gray;margin: 0 0.4em 0.5em 0.4em;box-sizing: border-box;padding-bottom: 0.4em;background-color: white;}#sk-container-id-2 div.sk-label label {font-family: monospace;font-weight: bold;display: inline-block;line-height: 1.2em;}#sk-container-id-2 div.sk-label-container {text-align: center;}#sk-container-id-2 div.sk-container {/* jupyter's `normalize.less` sets `[hidden] { display: none; }` but bootstrap.min.css set `[hidden] { display: none !important; }` so we also need the `!important` here to be able to override the default hidden behavior on the sphinx rendered scikit-learn.org. See: https://github.com/scikit-learn/scikit-learn/issues/21755 */display: inline-block !important;position: relative;}#sk-container-id-2 div.sk-text-repr-fallback {display: none;}</style><div id=\"sk-container-id-2\" class=\"sk-top-container\"><div class=\"sk-text-repr-fallback\"><pre>XGBRegressor(base_score=0.5, booster=&#x27;gbtree&#x27;, callbacks=None,\n",
       "             colsample_bylevel=1, colsample_bynode=1, colsample_bytree=1,\n",
       "             early_stopping_rounds=None, enable_categorical=False,\n",
       "             eval_metric=None, gamma=0.1, gpu_id=-1, grow_policy=&#x27;depthwise&#x27;,\n",
       "             importance_type=None, interaction_constraints=&#x27;&#x27;,\n",
       "             learning_rate=0.2, max_bin=256, max_cat_to_onehot=4,\n",
       "             max_delta_step=0, max_depth=5, max_leaves=0, min_child_weight=1,\n",
       "             missing=nan, monotone_constraints=&#x27;()&#x27;, n_estimators=100, n_jobs=0,\n",
       "             num_parallel_tree=1, predictor=&#x27;auto&#x27;, random_state=0, reg_alpha=0,\n",
       "             reg_lambda=1, ...)</pre><b>In a Jupyter environment, please rerun this cell to show the HTML representation or trust the notebook. <br />On GitHub, the HTML representation is unable to render, please try loading this page with nbviewer.org.</b></div><div class=\"sk-container\" hidden><div class=\"sk-item\"><div class=\"sk-estimator sk-toggleable\"><input class=\"sk-toggleable__control sk-hidden--visually\" id=\"sk-estimator-id-2\" type=\"checkbox\" checked><label for=\"sk-estimator-id-2\" class=\"sk-toggleable__label sk-toggleable__label-arrow\">XGBRegressor</label><div class=\"sk-toggleable__content\"><pre>XGBRegressor(base_score=0.5, booster=&#x27;gbtree&#x27;, callbacks=None,\n",
       "             colsample_bylevel=1, colsample_bynode=1, colsample_bytree=1,\n",
       "             early_stopping_rounds=None, enable_categorical=False,\n",
       "             eval_metric=None, gamma=0.1, gpu_id=-1, grow_policy=&#x27;depthwise&#x27;,\n",
       "             importance_type=None, interaction_constraints=&#x27;&#x27;,\n",
       "             learning_rate=0.2, max_bin=256, max_cat_to_onehot=4,\n",
       "             max_delta_step=0, max_depth=5, max_leaves=0, min_child_weight=1,\n",
       "             missing=nan, monotone_constraints=&#x27;()&#x27;, n_estimators=100, n_jobs=0,\n",
       "             num_parallel_tree=1, predictor=&#x27;auto&#x27;, random_state=0, reg_alpha=0,\n",
       "             reg_lambda=1, ...)</pre></div></div></div></div></div>"
      ],
      "text/plain": [
       "XGBRegressor(base_score=0.5, booster='gbtree', callbacks=None,\n",
       "             colsample_bylevel=1, colsample_bynode=1, colsample_bytree=1,\n",
       "             early_stopping_rounds=None, enable_categorical=False,\n",
       "             eval_metric=None, gamma=0.1, gpu_id=-1, grow_policy='depthwise',\n",
       "             importance_type=None, interaction_constraints='',\n",
       "             learning_rate=0.2, max_bin=256, max_cat_to_onehot=4,\n",
       "             max_delta_step=0, max_depth=5, max_leaves=0, min_child_weight=1,\n",
       "             missing=nan, monotone_constraints='()', n_estimators=100, n_jobs=0,\n",
       "             num_parallel_tree=1, predictor='auto', random_state=0, reg_alpha=0,\n",
       "             reg_lambda=1, ...)"
      ]
     },
     "execution_count": 208,
     "metadata": {},
     "output_type": "execute_result"
    }
   ],
   "source": [
    "GSC.best_estimator_"
   ]
  },
  {
   "cell_type": "code",
   "execution_count": 209,
   "id": "5b602dc0",
   "metadata": {},
   "outputs": [
    {
     "data": {
      "text/plain": [
       "0.8272244202612242"
      ]
     },
     "execution_count": 209,
     "metadata": {},
     "output_type": "execute_result"
    }
   ],
   "source": [
    "GSC_pred=GSC.best_estimator_.predict(x_test)\n",
    "r2_score(y_test,GSC_pred)"
   ]
  },
  {
   "cell_type": "code",
   "execution_count": 211,
   "id": "88d524cd",
   "metadata": {},
   "outputs": [
    {
     "name": "stdout",
     "output_type": "stream",
     "text": [
      "r2 score: 0.8272244202612242\n",
      "Mean absolute error: 1384.9857728115196\n",
      "Mean squared error: 3894132.6902896324\n",
      "Root mean squared error: 1973.3556927958102\n"
     ]
    }
   ],
   "source": [
    "XG_new=xg.XGBRegressor(gamma= 0.1, learning_rate= 0.2, max_depth= 5, min_child_weight= 1)\n",
    "XG_new.fit(x_train,y_train)\n",
    "pred=XG_new.predict(x_test)\n",
    "print(\"r2 score:\",r2_score(y_test,pred))\n",
    "print(\"Mean absolute error:\",mean_absolute_error(y_test,pred))\n",
    "print(\"Mean squared error:\",mean_squared_error(y_test,pred))\n",
    "print(\"Root mean squared error:\",np.sqrt(mean_squared_error(y_test,pred)))"
   ]
  },
  {
   "cell_type": "code",
   "execution_count": 214,
   "id": "45a5570f",
   "metadata": {},
   "outputs": [],
   "source": [
    "pred=XG_new.predict(x_test)"
   ]
  },
  {
   "cell_type": "code",
   "execution_count": 216,
   "id": "fc33c8e6",
   "metadata": {},
   "outputs": [
    {
     "data": {
      "image/png": "[encoded data removed]",
      "text/plain": [
       "<Figure size 720x648 with 1 Axes>"
      ]
     },
     "metadata": {
      "needs_background": "light"
     },
     "output_type": "display_data"
    }
   ],
   "source": [
    "plt.figure(figsize =(10,9))\n",
    "sns.distplot(y_test-pred,color='g')\n",
    "plt.show()"
   ]
  },
  {
   "cell_type": "code",
   "execution_count": 219,
   "id": "b4847c4f",
   "metadata": {},
   "outputs": [
    {
     "data": {
      "image/png": "[encoded data removed]",
      "text/plain": [
       "<Figure size 936x576 with 1 Axes>"
      ]
     },
     "metadata": {
      "needs_background": "light"
     },
     "output_type": "display_data"
    }
   ],
   "source": [
    "plt.figure(figsize=[13,8])\n",
    "plt.scatter(pred,y_test)\n",
    "plt.plot(y_test,y_test,linewidth=4,color='yellow')\n",
    "plt.show()"
   ]
  },
  {
   "cell_type": "markdown",
   "id": "c4859160",
   "metadata": {},
   "source": [
    "### We have done with Hyper parameter tuning.\n",
    "### Model-XG Boost regressor\n",
    "## Accuracy=82.72 %"
   ]
  },
  {
   "cell_type": "code",
   "execution_count": 220,
   "id": "7bf96e91",
   "metadata": {},
   "outputs": [],
   "source": [
    "import joblib"
   ]
  },
  {
   "cell_type": "code",
   "execution_count": 221,
   "id": "514670a0",
   "metadata": {},
   "outputs": [
    {
     "data": {
      "text/plain": [
       "['Flight_price1.pkl']"
      ]
     },
     "execution_count": 221,
     "metadata": {},
     "output_type": "execute_result"
    }
   ],
   "source": [
    "joblib.dump(XG_new,'Flight_price1.pkl')"
   ]
  },
  {
   "cell_type": "markdown",
   "id": "62c2a30f",
   "metadata": {},
   "source": [
    "## Prediction of Price"
   ]
  },
  {
   "cell_type": "code",
   "execution_count": 223,
   "id": "401958f0",
   "metadata": {},
   "outputs": [],
   "source": [
    "model=joblib.load('Flight_price1.pkl')"
   ]
  },
  {
   "cell_type": "code",
   "execution_count": 224,
   "id": "407e0e59",
   "metadata": {},
   "outputs": [],
   "source": [
    "prediction=model.predict(x_test)"
   ]
  },
  {
   "cell_type": "code",
   "execution_count": 225,
   "id": "f1013ac6",
   "metadata": {},
   "outputs": [],
   "source": [
    "final=pd.DataFrame([model.predict(x_test)[:],y_test[:]],index=['Predict','Original'])"
   ]
  },
  {
   "cell_type": "code",
   "execution_count": 229,
   "id": "d9e026c7",
   "metadata": {},
   "outputs": [
    {
     "data": {
      "text/html": [
       "<div>\n",
       "<style scoped>\n",
       "    .dataframe tbody tr th:only-of-type {\n",
       "        vertical-align: middle;\n",
       "    }\n",
       "\n",
       "    .dataframe tbody tr th {\n",
       "        vertical-align: top;\n",
       "    }\n",
       "\n",
       "    .dataframe thead th {\n",
       "        text-align: right;\n",
       "    }\n",
       "</style>\n",
       "<table border=\"1\" class=\"dataframe\">\n",
       "  <thead>\n",
       "    <tr style=\"text-align: right;\">\n",
       "      <th></th>\n",
       "      <th>1</th>\n",
       "      <th>2</th>\n",
       "      <th>3</th>\n",
       "      <th>4</th>\n",
       "      <th>5</th>\n",
       "      <th>6</th>\n",
       "      <th>7</th>\n",
       "      <th>8</th>\n",
       "      <th>9</th>\n",
       "      <th>10</th>\n",
       "      <th>...</th>\n",
       "      <th>2341</th>\n",
       "      <th>2342</th>\n",
       "      <th>2343</th>\n",
       "      <th>2344</th>\n",
       "      <th>2345</th>\n",
       "      <th>2346</th>\n",
       "      <th>2347</th>\n",
       "      <th>2348</th>\n",
       "      <th>2349</th>\n",
       "      <th>2350</th>\n",
       "    </tr>\n",
       "  </thead>\n",
       "  <tbody>\n",
       "    <tr>\n",
       "      <th>Predict</th>\n",
       "      <td>14052.839844</td>\n",
       "      <td>5941.509277</td>\n",
       "      <td>4713.57666</td>\n",
       "      <td>5297.589844</td>\n",
       "      <td>7754.015625</td>\n",
       "      <td>3848.594971</td>\n",
       "      <td>4250.816895</td>\n",
       "      <td>4432.433105</td>\n",
       "      <td>4611.470215</td>\n",
       "      <td>2696.540527</td>\n",
       "      <td>...</td>\n",
       "      <td>12170.010742</td>\n",
       "      <td>11236.625</td>\n",
       "      <td>4019.531494</td>\n",
       "      <td>8929.264648</td>\n",
       "      <td>6789.538574</td>\n",
       "      <td>6649.192871</td>\n",
       "      <td>11133.451172</td>\n",
       "      <td>11681.401367</td>\n",
       "      <td>4427.20459</td>\n",
       "      <td>7873.495117</td>\n",
       "    </tr>\n",
       "    <tr>\n",
       "      <th>Original</th>\n",
       "      <td>12819.000000</td>\n",
       "      <td>7276.000000</td>\n",
       "      <td>4804.00000</td>\n",
       "      <td>5678.000000</td>\n",
       "      <td>7878.000000</td>\n",
       "      <td>3971.000000</td>\n",
       "      <td>4174.000000</td>\n",
       "      <td>4174.000000</td>\n",
       "      <td>3597.000000</td>\n",
       "      <td>2050.000000</td>\n",
       "      <td>...</td>\n",
       "      <td>12373.000000</td>\n",
       "      <td>10844.000</td>\n",
       "      <td>3943.000000</td>\n",
       "      <td>11465.000000</td>\n",
       "      <td>6442.000000</td>\n",
       "      <td>6587.000000</td>\n",
       "      <td>15898.000000</td>\n",
       "      <td>15147.000000</td>\n",
       "      <td>4804.00000</td>\n",
       "      <td>4227.000000</td>\n",
       "    </tr>\n",
       "  </tbody>\n",
       "</table>\n",
       "<p>2 rows × 2350 columns</p>\n",
       "</div>"
      ],
      "text/plain": [
       "                  1            2           3            4            5     \\\n",
       "Predict   14052.839844  5941.509277  4713.57666  5297.589844  7754.015625   \n",
       "Original  12819.000000  7276.000000  4804.00000  5678.000000  7878.000000   \n",
       "\n",
       "                 6            7            8            9            10    \\\n",
       "Predict   3848.594971  4250.816895  4432.433105  4611.470215  2696.540527   \n",
       "Original  3971.000000  4174.000000  4174.000000  3597.000000  2050.000000   \n",
       "\n",
       "          ...          2341       2342         2343          2344  \\\n",
       "Predict   ...  12170.010742  11236.625  4019.531494   8929.264648   \n",
       "Original  ...  12373.000000  10844.000  3943.000000  11465.000000   \n",
       "\n",
       "                 2345         2346          2347          2348        2349  \\\n",
       "Predict   6789.538574  6649.192871  11133.451172  11681.401367  4427.20459   \n",
       "Original  6442.000000  6587.000000  15898.000000  15147.000000  4804.00000   \n",
       "\n",
       "                 2350  \n",
       "Predict   7873.495117  \n",
       "Original  4227.000000  \n",
       "\n",
       "[2 rows x 2350 columns]"
      ]
     },
     "execution_count": 229,
     "metadata": {},
     "output_type": "execute_result"
    }
   ],
   "source": [
    "final.iloc[:,1:]"
   ]
  },
  {
   "cell_type": "markdown",
   "id": "69c4fc1f",
   "metadata": {},
   "source": [
    "# Conclusion\n",
    "\n",
    "From the above observations we are concluding that\n",
    "\n",
    "1. We had no null values in data set, So we did not adopt imputation technique.\n",
    "\n",
    "2. In order to replace the object data to the int values we used encoading technique.\n",
    "\n",
    "    For this we used one hot encoder.\n",
    "\n",
    "3. Some columns we dropped, because they was not more contributing to make prediction.\n",
    "\n",
    "4. We have changed the format of date column in the day, month, year format So that our machine can easily understand the inputs of this column.Same work we did with age column and devide the age column in the group format.\n",
    "\n",
    "\n",
    "We used many Regressor for building our best model -\n",
    "\n",
    "like-\n",
    "\n",
    "A. Linear regression\n",
    "\n",
    "B. k nearest neighbour regressor\n",
    "\n",
    "c. Design tree regressor\n",
    "\n",
    "5. In order to control overfitting and underfitting we adopted Cross validation.\n",
    "\n",
    "6. For Bagging and boosting we have used Random forest regressor,Adaboost regressor and Gradient boosting regressor and xgboost regressor.\n",
    "\n",
    "7. we worked on Hyper parameter tuning on xgboost regressor for boosting our model accuracy.\n",
    "\n",
    "Finally we got our best model Which is xgboost regressor with  82.72 % accuracy.\n",
    "\n",
    "\n",
    "### Now our model is ready to predict. \n",
    "\n",
    "## Model name- Xg Boost Regressor\n",
    "## Accuracy - 82.72 %"
   ]
  },
  {
   "cell_type": "code",
   "execution_count": null,
   "id": "fca58c16",
   "metadata": {},
   "outputs": [],
   "source": []
  }
 ],
 "metadata": {
  "kernelspec": {
   "display_name": "Python 3 (ipykernel)",
   "language": "python",
   "name": "python3"
  },
  "language_info": {
   "codemirror_mode": {
    "name": "ipython",
    "version": 3
   },
   "file_extension": ".py",
   "mimetype": "text/x-python",
   "name": "python",
   "nbconvert_exporter": "python",
   "pygments_lexer": "ipython3",
   "version": "3.9.7"
  }
 },
 "nbformat": 4,
 "nbformat_minor": 5
}
