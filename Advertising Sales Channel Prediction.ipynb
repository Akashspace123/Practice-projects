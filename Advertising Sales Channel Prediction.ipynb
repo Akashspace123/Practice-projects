{
 "cells": [
  {
   "cell_type": "code",
   "execution_count": 1,
   "id": "7788e3c3",
   "metadata": {},
   "outputs": [],
   "source": [
    "import pandas as pd\n",
    "import numpy as np\n",
    "import matplotlib.pyplot as plt\n",
    "import seaborn as sns\n",
    "import warnings\n",
    "warnings.filterwarnings(\"ignore\")\n",
    "import sklearn"
   ]
  },
  {
   "cell_type": "code",
   "execution_count": 2,
   "id": "0ec92c5e",
   "metadata": {},
   "outputs": [
    {
     "data": {
      "text/html": [
       "<div>\n",
       "<style scoped>\n",
       "    .dataframe tbody tr th:only-of-type {\n",
       "        vertical-align: middle;\n",
       "    }\n",
       "\n",
       "    .dataframe tbody tr th {\n",
       "        vertical-align: top;\n",
       "    }\n",
       "\n",
       "    .dataframe thead th {\n",
       "        text-align: right;\n",
       "    }\n",
       "</style>\n",
       "<table border=\"1\" class=\"dataframe\">\n",
       "  <thead>\n",
       "    <tr style=\"text-align: right;\">\n",
       "      <th></th>\n",
       "      <th>Unnamed: 0</th>\n",
       "      <th>TV</th>\n",
       "      <th>radio</th>\n",
       "      <th>newspaper</th>\n",
       "      <th>sales</th>\n",
       "    </tr>\n",
       "  </thead>\n",
       "  <tbody>\n",
       "    <tr>\n",
       "      <th>0</th>\n",
       "      <td>1</td>\n",
       "      <td>230.1</td>\n",
       "      <td>37.8</td>\n",
       "      <td>69.2</td>\n",
       "      <td>22.1</td>\n",
       "    </tr>\n",
       "    <tr>\n",
       "      <th>1</th>\n",
       "      <td>2</td>\n",
       "      <td>44.5</td>\n",
       "      <td>39.3</td>\n",
       "      <td>45.1</td>\n",
       "      <td>10.4</td>\n",
       "    </tr>\n",
       "    <tr>\n",
       "      <th>2</th>\n",
       "      <td>3</td>\n",
       "      <td>17.2</td>\n",
       "      <td>45.9</td>\n",
       "      <td>69.3</td>\n",
       "      <td>9.3</td>\n",
       "    </tr>\n",
       "    <tr>\n",
       "      <th>3</th>\n",
       "      <td>4</td>\n",
       "      <td>151.5</td>\n",
       "      <td>41.3</td>\n",
       "      <td>58.5</td>\n",
       "      <td>18.5</td>\n",
       "    </tr>\n",
       "    <tr>\n",
       "      <th>4</th>\n",
       "      <td>5</td>\n",
       "      <td>180.8</td>\n",
       "      <td>10.8</td>\n",
       "      <td>58.4</td>\n",
       "      <td>12.9</td>\n",
       "    </tr>\n",
       "    <tr>\n",
       "      <th>...</th>\n",
       "      <td>...</td>\n",
       "      <td>...</td>\n",
       "      <td>...</td>\n",
       "      <td>...</td>\n",
       "      <td>...</td>\n",
       "    </tr>\n",
       "    <tr>\n",
       "      <th>195</th>\n",
       "      <td>196</td>\n",
       "      <td>38.2</td>\n",
       "      <td>3.7</td>\n",
       "      <td>13.8</td>\n",
       "      <td>7.6</td>\n",
       "    </tr>\n",
       "    <tr>\n",
       "      <th>196</th>\n",
       "      <td>197</td>\n",
       "      <td>94.2</td>\n",
       "      <td>4.9</td>\n",
       "      <td>8.1</td>\n",
       "      <td>9.7</td>\n",
       "    </tr>\n",
       "    <tr>\n",
       "      <th>197</th>\n",
       "      <td>198</td>\n",
       "      <td>177.0</td>\n",
       "      <td>9.3</td>\n",
       "      <td>6.4</td>\n",
       "      <td>12.8</td>\n",
       "    </tr>\n",
       "    <tr>\n",
       "      <th>198</th>\n",
       "      <td>199</td>\n",
       "      <td>283.6</td>\n",
       "      <td>42.0</td>\n",
       "      <td>66.2</td>\n",
       "      <td>25.5</td>\n",
       "    </tr>\n",
       "    <tr>\n",
       "      <th>199</th>\n",
       "      <td>200</td>\n",
       "      <td>232.1</td>\n",
       "      <td>8.6</td>\n",
       "      <td>8.7</td>\n",
       "      <td>13.4</td>\n",
       "    </tr>\n",
       "  </tbody>\n",
       "</table>\n",
       "<p>200 rows × 5 columns</p>\n",
       "</div>"
      ],
      "text/plain": [
       "     Unnamed: 0     TV  radio  newspaper  sales\n",
       "0             1  230.1   37.8       69.2   22.1\n",
       "1             2   44.5   39.3       45.1   10.4\n",
       "2             3   17.2   45.9       69.3    9.3\n",
       "3             4  151.5   41.3       58.5   18.5\n",
       "4             5  180.8   10.8       58.4   12.9\n",
       "..          ...    ...    ...        ...    ...\n",
       "195         196   38.2    3.7       13.8    7.6\n",
       "196         197   94.2    4.9        8.1    9.7\n",
       "197         198  177.0    9.3        6.4   12.8\n",
       "198         199  283.6   42.0       66.2   25.5\n",
       "199         200  232.1    8.6        8.7   13.4\n",
       "\n",
       "[200 rows x 5 columns]"
      ]
     },
     "execution_count": 2,
     "metadata": {},
     "output_type": "execute_result"
    }
   ],
   "source": [
    "adv=pd.read_csv(\"https://raw.githubusercontent.com/dsrscientist/DSData/master/Advertising.csv\")\n",
    "adv"
   ]
  },
  {
   "cell_type": "code",
   "execution_count": 3,
   "id": "2f6c97f5",
   "metadata": {},
   "outputs": [],
   "source": [
    "adv.drop([\"Unnamed: 0\"],axis=1,inplace=True)"
   ]
  },
  {
   "cell_type": "code",
   "execution_count": 4,
   "id": "686e9233",
   "metadata": {},
   "outputs": [
    {
     "data": {
      "text/plain": [
       "(200, 4)"
      ]
     },
     "execution_count": 4,
     "metadata": {},
     "output_type": "execute_result"
    }
   ],
   "source": [
    "adv.shape"
   ]
  },
  {
   "cell_type": "code",
   "execution_count": 5,
   "id": "056510ea",
   "metadata": {},
   "outputs": [
    {
     "data": {
      "text/plain": [
       "TV           float64\n",
       "radio        float64\n",
       "newspaper    float64\n",
       "sales        float64\n",
       "dtype: object"
      ]
     },
     "execution_count": 5,
     "metadata": {},
     "output_type": "execute_result"
    }
   ],
   "source": [
    "adv.dtypes"
   ]
  },
  {
   "cell_type": "code",
   "execution_count": 6,
   "id": "cb8ac61e",
   "metadata": {},
   "outputs": [
    {
     "data": {
      "text/plain": [
       "TV           0\n",
       "radio        0\n",
       "newspaper    0\n",
       "sales        0\n",
       "dtype: int64"
      ]
     },
     "execution_count": 6,
     "metadata": {},
     "output_type": "execute_result"
    }
   ],
   "source": [
    "adv.isnull().sum()"
   ]
  },
  {
   "cell_type": "code",
   "execution_count": 7,
   "id": "6b1bb2d8",
   "metadata": {},
   "outputs": [
    {
     "data": {
      "text/plain": [
       "<AxesSubplot:>"
      ]
     },
     "execution_count": 7,
     "metadata": {},
     "output_type": "execute_result"
    },
    {
     "data": {
      "image/png": "[encoded data removed]",
      "text/plain": [
       "<Figure size 432x288 with 2 Axes>"
      ]
     },
     "metadata": {
      "needs_background": "light"
     },
     "output_type": "display_data"
    }
   ],
   "source": [
    "sns.heatmap(adv.isnull(),cmap=\"mako\")"
   ]
  },
  {
   "cell_type": "markdown",
   "id": "9236f055",
   "metadata": {},
   "source": [
    "###### Observation-1 :\n",
    "\n",
    "In the above dataset :\n",
    "\n",
    "    1) All the input data are continuous in nature(absence of categorical data),So there is no need to converting the values into the numeric format i.e Encoading will not be used.\n",
    "    \n",
    "    2) The size of table is 200*4 i.e. no. of rows are 200 and no. of columns are 4(including target).\n",
    "    \n",
    "    3) Null values are not present, so there is no need to adopt imputation technique."
   ]
  },
  {
   "cell_type": "code",
   "execution_count": 8,
   "id": "8a9ffad9",
   "metadata": {},
   "outputs": [
    {
     "data": {
      "text/plain": [
       "<function matplotlib.pyplot.show(close=None, block=None)>"
      ]
     },
     "execution_count": 8,
     "metadata": {},
     "output_type": "execute_result"
    },
    {
     "data": {
      "image/png": "[encoded data removed]",
      "text/plain": [
       "<Figure size 432x288 with 1 Axes>"
      ]
     },
     "metadata": {
      "needs_background": "light"
     },
     "output_type": "display_data"
    }
   ],
   "source": [
    "sns.violinplot(x='TV',data=adv,color='y')\n",
    "plt.show"
   ]
  },
  {
   "cell_type": "code",
   "execution_count": 9,
   "id": "415eb9c6",
   "metadata": {},
   "outputs": [
    {
     "data": {
      "text/plain": [
       "<AxesSubplot:xlabel='radio'>"
      ]
     },
     "execution_count": 9,
     "metadata": {},
     "output_type": "execute_result"
    },
    {
     "data": {
      "image/png": "[encoded data removed]",
      "text/plain": [
       "<Figure size 432x288 with 1 Axes>"
      ]
     },
     "metadata": {
      "needs_background": "light"
     },
     "output_type": "display_data"
    }
   ],
   "source": [
    "sns.violinplot(x='radio',data=adv,color='b')"
   ]
  },
  {
   "cell_type": "code",
   "execution_count": 10,
   "id": "9bf5b4f3",
   "metadata": {},
   "outputs": [
    {
     "data": {
      "text/plain": [
       "<AxesSubplot:xlabel='newspaper'>"
      ]
     },
     "execution_count": 10,
     "metadata": {},
     "output_type": "execute_result"
    },
    {
     "data": {
      "image/png": "[encoded data removed]",
      "text/plain": [
       "<Figure size 432x288 with 1 Axes>"
      ]
     },
     "metadata": {
      "needs_background": "light"
     },
     "output_type": "display_data"
    }
   ],
   "source": [
    "sns.violinplot(x='newspaper',data=adv,color='g')"
   ]
  },
  {
   "cell_type": "markdown",
   "id": "522d92f0",
   "metadata": {},
   "source": [
    "##### Observation-2\n",
    "\n",
    "From the above data set --\n",
    "\n",
    "1. In the range of 100 to 200, maximum TV are being sold out.\n",
    "\n",
    "\n",
    "2. In the range of 10 to 40, maximum Radio are being sold out.\n",
    "\n",
    "\n",
    "3. In the range of 0 to 50, maximum newspaper are being sold out.\n",
    "\n",
    "\n",
    "We can say that the sale of Tv is higher as compare to radio and newspaper."
   ]
  },
  {
   "cell_type": "markdown",
   "id": "8664cb19",
   "metadata": {},
   "source": [
    "# EDA- \n",
    "    Exploratory Data Analysis (EDA): EDA process will give us the batter understanding towards the pattern of Dataset"
   ]
  },
  {
   "cell_type": "code",
   "execution_count": 11,
   "id": "8d5bd520",
   "metadata": {},
   "outputs": [
    {
     "data": {
      "text/html": [
       "<div>\n",
       "<style scoped>\n",
       "    .dataframe tbody tr th:only-of-type {\n",
       "        vertical-align: middle;\n",
       "    }\n",
       "\n",
       "    .dataframe tbody tr th {\n",
       "        vertical-align: top;\n",
       "    }\n",
       "\n",
       "    .dataframe thead th {\n",
       "        text-align: right;\n",
       "    }\n",
       "</style>\n",
       "<table border=\"1\" class=\"dataframe\">\n",
       "  <thead>\n",
       "    <tr style=\"text-align: right;\">\n",
       "      <th></th>\n",
       "      <th>TV</th>\n",
       "      <th>radio</th>\n",
       "      <th>newspaper</th>\n",
       "      <th>sales</th>\n",
       "    </tr>\n",
       "  </thead>\n",
       "  <tbody>\n",
       "    <tr>\n",
       "      <th>count</th>\n",
       "      <td>200.000000</td>\n",
       "      <td>200.000000</td>\n",
       "      <td>200.000000</td>\n",
       "      <td>200.000000</td>\n",
       "    </tr>\n",
       "    <tr>\n",
       "      <th>mean</th>\n",
       "      <td>147.042500</td>\n",
       "      <td>23.264000</td>\n",
       "      <td>30.554000</td>\n",
       "      <td>14.022500</td>\n",
       "    </tr>\n",
       "    <tr>\n",
       "      <th>std</th>\n",
       "      <td>85.854236</td>\n",
       "      <td>14.846809</td>\n",
       "      <td>21.778621</td>\n",
       "      <td>5.217457</td>\n",
       "    </tr>\n",
       "    <tr>\n",
       "      <th>min</th>\n",
       "      <td>0.700000</td>\n",
       "      <td>0.000000</td>\n",
       "      <td>0.300000</td>\n",
       "      <td>1.600000</td>\n",
       "    </tr>\n",
       "    <tr>\n",
       "      <th>25%</th>\n",
       "      <td>74.375000</td>\n",
       "      <td>9.975000</td>\n",
       "      <td>12.750000</td>\n",
       "      <td>10.375000</td>\n",
       "    </tr>\n",
       "    <tr>\n",
       "      <th>50%</th>\n",
       "      <td>149.750000</td>\n",
       "      <td>22.900000</td>\n",
       "      <td>25.750000</td>\n",
       "      <td>12.900000</td>\n",
       "    </tr>\n",
       "    <tr>\n",
       "      <th>75%</th>\n",
       "      <td>218.825000</td>\n",
       "      <td>36.525000</td>\n",
       "      <td>45.100000</td>\n",
       "      <td>17.400000</td>\n",
       "    </tr>\n",
       "    <tr>\n",
       "      <th>max</th>\n",
       "      <td>296.400000</td>\n",
       "      <td>49.600000</td>\n",
       "      <td>114.000000</td>\n",
       "      <td>27.000000</td>\n",
       "    </tr>\n",
       "  </tbody>\n",
       "</table>\n",
       "</div>"
      ],
      "text/plain": [
       "               TV       radio   newspaper       sales\n",
       "count  200.000000  200.000000  200.000000  200.000000\n",
       "mean   147.042500   23.264000   30.554000   14.022500\n",
       "std     85.854236   14.846809   21.778621    5.217457\n",
       "min      0.700000    0.000000    0.300000    1.600000\n",
       "25%     74.375000    9.975000   12.750000   10.375000\n",
       "50%    149.750000   22.900000   25.750000   12.900000\n",
       "75%    218.825000   36.525000   45.100000   17.400000\n",
       "max    296.400000   49.600000  114.000000   27.000000"
      ]
     },
     "execution_count": 11,
     "metadata": {},
     "output_type": "execute_result"
    }
   ],
   "source": [
    "adv.describe()"
   ]
  },
  {
   "cell_type": "code",
   "execution_count": 12,
   "id": "4515d1ef",
   "metadata": {},
   "outputs": [
    {
     "data": {
      "image/png": "[encoded data removed]",
      "text/plain": [
       "<Figure size 864x432 with 2 Axes>"
      ]
     },
     "metadata": {
      "needs_background": "light"
     },
     "output_type": "display_data"
    }
   ],
   "source": [
    "plt.figure(figsize=[12,6])\n",
    "sns.heatmap(adv.describe(),annot=True,cmap='RdPu')\n",
    "plt.show()"
   ]
  },
  {
   "cell_type": "markdown",
   "id": "a4003439",
   "metadata": {},
   "source": [
    "#### Observation-3\n",
    "\n",
    "From the above observation we can windup that-\n",
    "\n",
    "1. TV-\n",
    "\n",
    "       Mean=147.04\n",
    "       Std=85.58\n",
    "       Min=0.70\n",
    "       Max=296.40\n",
    "       25%=74.37\n",
    "       50%=149.75\n",
    "       75%=218.82\n",
    "   \n",
    "2. Radio-\n",
    "\n",
    "       Mean=23.26\n",
    "       Std=14.84\n",
    "       Min=0.00\n",
    "       Max=49.60\n",
    "       25%=22.90\n",
    "       50%=36.52\n",
    "       75%=36.52\n",
    "   \n",
    "3. Newspaper-\n",
    "\n",
    "       Mean=30.55\n",
    "       Std=21.77\n",
    "       Min=0.30\n",
    "       Max=114\n",
    "       25%=12.75\n",
    "       50%=25.75\n",
    "       75%=45.10"
   ]
  },
  {
   "cell_type": "markdown",
   "id": "19448015",
   "metadata": {},
   "source": [
    "From the above observation we can windup that-\n",
    "\n",
    "TV column -\n",
    "  \n",
    "  1. The difference between 25%tile, 50%tile and  75%tile is equal i.e. The chances of skewness is very low.\n",
    "  \n",
    "  2. The median is greater than mean i.e. some negative skewness may be present or negligible skewness may be present or not.\n",
    "  \n",
    "  3. The difference between mean and standard deviation is high i.e. Data are highly spreaded but outliers are upsent in the Tv column.\n",
    "\n",
    "\n",
    "Radio column -\n",
    "  \n",
    "  1. The difference between 25%tile, 50%tile and 75%tile is almost equal i.e. The chances of skewness is very low.\n",
    "  \n",
    "  2. The mean is greater than median i.e. some skewness may be present or negligible skewness may be present or not.\n",
    "  \n",
    "  3. The difference between mean and standard deviation is low i.e. Data are spreded but outliers are upsent in the Tv column.\n",
    "  \n",
    "Newspaper column -\n",
    "  \n",
    "  1. The difference between 25%tile and 50%tile is almost equal but the difference between 50%tile and 75%tile is little bit high that means some skewness will present.\n",
    "  \n",
    "  2. The median is greater then mean i.e. skewness is present in side the newspaper column.\n",
    "  \n",
    "  3. The difference between 75%tile and maximum is very high, it shows that chances of developing skewness is high.\n",
    "  \n",
    "  4. The standard deviation is high, So the outliers may be present in this column."
   ]
  },
  {
   "cell_type": "markdown",
   "id": "c94c1ff8",
   "metadata": {},
   "source": [
    "#### Checking Outliers"
   ]
  },
  {
   "cell_type": "code",
   "execution_count": 13,
   "id": "52c866a4",
   "metadata": {},
   "outputs": [
    {
     "data": {
      "image/png": "[encoded data removed]",
      "text/plain": [
       "<Figure size 864x360 with 4 Axes>"
      ]
     },
     "metadata": {
      "needs_background": "light"
     },
     "output_type": "display_data"
    }
   ],
   "source": [
    "adv.plot(kind='box',subplots=True,figsize=[12,5],color='g')\n",
    "plt.show()"
   ]
  },
  {
   "cell_type": "code",
   "execution_count": 14,
   "id": "311ade32",
   "metadata": {},
   "outputs": [
    {
     "data": {
      "text/plain": [
       "<matplotlib.collections.PathCollection at 0x219c72cc160>"
      ]
     },
     "execution_count": 14,
     "metadata": {},
     "output_type": "execute_result"
    },
    {
     "data": {
      "image/png": "[encoded data removed]",
      "text/plain": [
       "<Figure size 432x288 with 1 Axes>"
      ]
     },
     "metadata": {
      "needs_background": "light"
     },
     "output_type": "display_data"
    }
   ],
   "source": [
    "plt.scatter(adv['TV'],adv['sales'])"
   ]
  },
  {
   "cell_type": "code",
   "execution_count": 15,
   "id": "ce2de2e8",
   "metadata": {},
   "outputs": [
    {
     "data": {
      "text/plain": [
       "<matplotlib.collections.PathCollection at 0x219c7326880>"
      ]
     },
     "execution_count": 15,
     "metadata": {},
     "output_type": "execute_result"
    },
    {
     "data": {
      "image/png": "[encoded data removed]",
      "text/plain": [
       "<Figure size 432x288 with 1 Axes>"
      ]
     },
     "metadata": {
      "needs_background": "light"
     },
     "output_type": "display_data"
    }
   ],
   "source": [
    "plt.scatter(adv['radio'],adv['sales'])"
   ]
  },
  {
   "cell_type": "code",
   "execution_count": 16,
   "id": "45c5cf76",
   "metadata": {},
   "outputs": [
    {
     "data": {
      "text/plain": [
       "<matplotlib.collections.PathCollection at 0x219c72a3040>"
      ]
     },
     "execution_count": 16,
     "metadata": {},
     "output_type": "execute_result"
    },
    {
     "data": {
      "image/png": "[encoded data removed]",
      "text/plain": [
       "<Figure size 432x288 with 1 Axes>"
      ]
     },
     "metadata": {
      "needs_background": "light"
     },
     "output_type": "display_data"
    }
   ],
   "source": [
    "plt.scatter(adv['newspaper'],adv['sales'])"
   ]
  },
  {
   "cell_type": "markdown",
   "id": "36f48d67",
   "metadata": {},
   "source": [
    "#### Observation-4\n",
    "\n",
    "In the above datasets-\n",
    "\n",
    "1) As we can see, newspaper column has outliers. For example, the max values is 115 while its mean is 30 .The mean is sensitive to outliers but the fact that mean is so small compared to the max value indicates the outliers are peresnt.\n",
    "\n",
    "2) Similarly, in newspaper column means values is 30 and standard deviation is 21 its mean the data are highly spreded.\n",
    "\n",
    "3) The gap between 75%tile and max value in radio colum is not so high therefor the chances of outliers are negligible.\n",
    "\n",
    "4) Outliers are absent in Tv and sales columns.\n",
    "\n",
    "  only one column has outliers."
   ]
  },
  {
   "cell_type": "markdown",
   "id": "b846308f",
   "metadata": {},
   "source": [
    "#### Checking skewness"
   ]
  },
  {
   "cell_type": "code",
   "execution_count": 17,
   "id": "c06c52df",
   "metadata": {},
   "outputs": [
    {
     "data": {
      "text/plain": [
       "TV          -0.069853\n",
       "radio        0.094175\n",
       "newspaper    0.894720\n",
       "sales        0.407571\n",
       "dtype: float64"
      ]
     },
     "execution_count": 17,
     "metadata": {},
     "output_type": "execute_result"
    }
   ],
   "source": [
    "adv.skew()"
   ]
  },
  {
   "cell_type": "code",
   "execution_count": 18,
   "id": "a41557a7",
   "metadata": {},
   "outputs": [
    {
     "data": {
      "text/plain": [
       "<AxesSubplot:xlabel='TV', ylabel='Density'>"
      ]
     },
     "execution_count": 18,
     "metadata": {},
     "output_type": "execute_result"
    },
    {
     "data": {
      "image/png": "[encoded data removed]",
      "text/plain": [
       "<Figure size 432x288 with 1 Axes>"
      ]
     },
     "metadata": {
      "needs_background": "light"
     },
     "output_type": "display_data"
    }
   ],
   "source": [
    "sns.distplot(adv['TV'],color='y')"
   ]
  },
  {
   "cell_type": "code",
   "execution_count": 19,
   "id": "f6e772e4",
   "metadata": {},
   "outputs": [
    {
     "data": {
      "text/plain": [
       "<AxesSubplot:xlabel='radio', ylabel='Density'>"
      ]
     },
     "execution_count": 19,
     "metadata": {},
     "output_type": "execute_result"
    },
    {
     "data": {
      "image/png": "[encoded data removed]",
      "text/plain": [
       "<Figure size 432x288 with 1 Axes>"
      ]
     },
     "metadata": {
      "needs_background": "light"
     },
     "output_type": "display_data"
    }
   ],
   "source": [
    "sns.distplot(adv['radio'])"
   ]
  },
  {
   "cell_type": "code",
   "execution_count": 20,
   "id": "12ac10c2",
   "metadata": {},
   "outputs": [
    {
     "data": {
      "text/plain": [
       "<AxesSubplot:xlabel='newspaper', ylabel='Density'>"
      ]
     },
     "execution_count": 20,
     "metadata": {},
     "output_type": "execute_result"
    },
    {
     "data": {
      "image/png": "[encoded data removed]",
      "text/plain": [
       "<Figure size 432x288 with 1 Axes>"
      ]
     },
     "metadata": {
      "needs_background": "light"
     },
     "output_type": "display_data"
    }
   ],
   "source": [
    "sns.distplot(adv['newspaper'],color='r')"
   ]
  },
  {
   "cell_type": "code",
   "execution_count": 21,
   "id": "bad5097e",
   "metadata": {},
   "outputs": [
    {
     "data": {
      "text/plain": [
       "<AxesSubplot:xlabel='sales', ylabel='Density'>"
      ]
     },
     "execution_count": 21,
     "metadata": {},
     "output_type": "execute_result"
    },
    {
     "data": {
      "image/png": "[encoded data removed]",
      "text/plain": [
       "<Figure size 432x288 with 1 Axes>"
      ]
     },
     "metadata": {
      "needs_background": "light"
     },
     "output_type": "display_data"
    }
   ],
   "source": [
    "sns.distplot(adv['sales'])"
   ]
  },
  {
   "cell_type": "markdown",
   "id": "fa06a5bd",
   "metadata": {},
   "source": [
    "##### Observation-5\n",
    "\n",
    "In the above dataset only one columns has skewness :\n",
    "\n",
    "* High skewness represents data imbalancy.\n",
    "\n",
    "* Less skewness represents that our data are equally distributed.\n",
    "\n",
    "1) newspaper column are highly skewded(0.89) or we can say high skewness are present in this column.\n",
    "\n",
    "2) In radio(0.09),Tv(-0.06) and score(0.40) column, skewness is not present."
   ]
  },
  {
   "cell_type": "markdown",
   "id": "f512ec2d",
   "metadata": {},
   "source": [
    "#### Checking correlation"
   ]
  },
  {
   "cell_type": "code",
   "execution_count": 22,
   "id": "240f1c99",
   "metadata": {},
   "outputs": [
    {
     "data": {
      "text/html": [
       "<div>\n",
       "<style scoped>\n",
       "    .dataframe tbody tr th:only-of-type {\n",
       "        vertical-align: middle;\n",
       "    }\n",
       "\n",
       "    .dataframe tbody tr th {\n",
       "        vertical-align: top;\n",
       "    }\n",
       "\n",
       "    .dataframe thead th {\n",
       "        text-align: right;\n",
       "    }\n",
       "</style>\n",
       "<table border=\"1\" class=\"dataframe\">\n",
       "  <thead>\n",
       "    <tr style=\"text-align: right;\">\n",
       "      <th></th>\n",
       "      <th>TV</th>\n",
       "      <th>radio</th>\n",
       "      <th>newspaper</th>\n",
       "      <th>sales</th>\n",
       "    </tr>\n",
       "  </thead>\n",
       "  <tbody>\n",
       "    <tr>\n",
       "      <th>TV</th>\n",
       "      <td>1.000000</td>\n",
       "      <td>0.054809</td>\n",
       "      <td>0.056648</td>\n",
       "      <td>0.782224</td>\n",
       "    </tr>\n",
       "    <tr>\n",
       "      <th>radio</th>\n",
       "      <td>0.054809</td>\n",
       "      <td>1.000000</td>\n",
       "      <td>0.354104</td>\n",
       "      <td>0.576223</td>\n",
       "    </tr>\n",
       "    <tr>\n",
       "      <th>newspaper</th>\n",
       "      <td>0.056648</td>\n",
       "      <td>0.354104</td>\n",
       "      <td>1.000000</td>\n",
       "      <td>0.228299</td>\n",
       "    </tr>\n",
       "    <tr>\n",
       "      <th>sales</th>\n",
       "      <td>0.782224</td>\n",
       "      <td>0.576223</td>\n",
       "      <td>0.228299</td>\n",
       "      <td>1.000000</td>\n",
       "    </tr>\n",
       "  </tbody>\n",
       "</table>\n",
       "</div>"
      ],
      "text/plain": [
       "                 TV     radio  newspaper     sales\n",
       "TV         1.000000  0.054809   0.056648  0.782224\n",
       "radio      0.054809  1.000000   0.354104  0.576223\n",
       "newspaper  0.056648  0.354104   1.000000  0.228299\n",
       "sales      0.782224  0.576223   0.228299  1.000000"
      ]
     },
     "execution_count": 22,
     "metadata": {},
     "output_type": "execute_result"
    }
   ],
   "source": [
    "adv.corr()"
   ]
  },
  {
   "cell_type": "code",
   "execution_count": 23,
   "id": "e1975ad4",
   "metadata": {},
   "outputs": [
    {
     "data": {
      "text/plain": [
       "newspaper    0.228299\n",
       "radio        0.576223\n",
       "TV           0.782224\n",
       "sales        1.000000\n",
       "Name: sales, dtype: float64"
      ]
     },
     "execution_count": 23,
     "metadata": {},
     "output_type": "execute_result"
    }
   ],
   "source": [
    "adv.corr()['sales'].sort_values()"
   ]
  },
  {
   "cell_type": "code",
   "execution_count": 24,
   "id": "259fec3f",
   "metadata": {},
   "outputs": [
    {
     "data": {
      "text/plain": [
       "<AxesSubplot:>"
      ]
     },
     "execution_count": 24,
     "metadata": {},
     "output_type": "execute_result"
    },
    {
     "data": {
      "image/png": "[encoded data removed]",
      "text/plain": [
       "<Figure size 432x288 with 2 Axes>"
      ]
     },
     "metadata": {
      "needs_background": "light"
     },
     "output_type": "display_data"
    }
   ],
   "source": [
    "sns.heatmap(adv.corr(),cmap='Blues',annot=True)"
   ]
  },
  {
   "cell_type": "markdown",
   "id": "e65b6e83",
   "metadata": {},
   "source": [
    "#### Observation-6\n",
    "\n",
    "From the above outcomes we can say that:\n",
    "\n",
    "1. Tv column has 78 percent correlation with the target column which can be considered as a strong bond.\n",
    "\n",
    "\n",
    "2. Radio column has 58 percent correlation with the target column which can be considered as good bond.\n",
    "\n",
    "\n",
    "3. Newspaper has 23 percent correlation with the target column which can be considered as normal bond. \n",
    "\n",
    "We will not go for multicollinearity(VIF) because we have few columns and the column are not highly correleted with each other."
   ]
  },
  {
   "cell_type": "code",
   "execution_count": 25,
   "id": "b5659600",
   "metadata": {},
   "outputs": [],
   "source": [
    "from scipy.stats import skew"
   ]
  },
  {
   "cell_type": "code",
   "execution_count": 26,
   "id": "f2596946",
   "metadata": {},
   "outputs": [
    {
     "name": "stdout",
     "output_type": "stream",
     "text": [
      "TV\n"
     ]
    },
    {
     "data": {
      "image/png": "[encoded data removed]",
      "text/plain": [
       "<Figure size 360x360 with 1 Axes>"
      ]
     },
     "metadata": {
      "needs_background": "light"
     },
     "output_type": "display_data"
    },
    {
     "name": "stdout",
     "output_type": "stream",
     "text": [
      "radio\n"
     ]
    },
    {
     "data": {
      "image/png": "[encoded data removed]",
      "text/plain": [
       "<Figure size 360x360 with 1 Axes>"
      ]
     },
     "metadata": {
      "needs_background": "light"
     },
     "output_type": "display_data"
    },
    {
     "name": "stdout",
     "output_type": "stream",
     "text": [
      "newspaper\n"
     ]
    },
    {
     "data": {
      "image/png": "[encoded data removed]",
      "text/plain": [
       "<Figure size 360x360 with 1 Axes>"
      ]
     },
     "metadata": {
      "needs_background": "light"
     },
     "output_type": "display_data"
    },
    {
     "name": "stdout",
     "output_type": "stream",
     "text": [
      "sales\n"
     ]
    },
    {
     "data": {
      "image/png": "[encoded data removed]",
      "text/plain": [
       "<Figure size 360x360 with 1 Axes>"
      ]
     },
     "metadata": {
      "needs_background": "light"
     },
     "output_type": "display_data"
    }
   ],
   "source": [
    "for i in adv:\n",
    "    print(i)\n",
    "\n",
    "    sns.lmplot(x=\"sales\", y=i, data=adv)\n",
    "    plt.show()"
   ]
  },
  {
   "cell_type": "markdown",
   "id": "7d7d7453",
   "metadata": {},
   "source": [
    "#### Observation-7\n",
    "\n",
    "In the above dataset -\n",
    "\n",
    "1) Increase in number of TV sales resulting incrementing the number of Total sales.\n",
    "\n",
    "2) Radio column is directly proportional to sales hence increase in number of radio sales resulting incrementing the number of total sales.\n",
    "\n",
    "3) Newspaper is not so much contributing to grow the sale high, as we can see in the graph."
   ]
  },
  {
   "cell_type": "markdown",
   "id": "20de31f3",
   "metadata": {},
   "source": [
    "# Data Preprocessing"
   ]
  },
  {
   "cell_type": "code",
   "execution_count": 27,
   "id": "be400fb0",
   "metadata": {},
   "outputs": [],
   "source": [
    "x=adv.iloc[:,0:-1]"
   ]
  },
  {
   "cell_type": "code",
   "execution_count": 28,
   "id": "7e91b36c",
   "metadata": {},
   "outputs": [],
   "source": [
    "y=adv.iloc[:,-1]"
   ]
  },
  {
   "cell_type": "code",
   "execution_count": 29,
   "id": "89671ecb",
   "metadata": {},
   "outputs": [
    {
     "data": {
      "text/plain": [
       "(200, 3)"
      ]
     },
     "execution_count": 29,
     "metadata": {},
     "output_type": "execute_result"
    }
   ],
   "source": [
    "x.shape"
   ]
  },
  {
   "cell_type": "code",
   "execution_count": 30,
   "id": "9a35d870",
   "metadata": {},
   "outputs": [
    {
     "data": {
      "text/plain": [
       "(200,)"
      ]
     },
     "execution_count": 30,
     "metadata": {},
     "output_type": "execute_result"
    }
   ],
   "source": [
    "y.shape"
   ]
  },
  {
   "cell_type": "markdown",
   "id": "2190af52",
   "metadata": {},
   "source": [
    "### Removing outliers using Zscore"
   ]
  },
  {
   "cell_type": "code",
   "execution_count": 31,
   "id": "9486489d",
   "metadata": {},
   "outputs": [],
   "source": [
    "import scipy\n",
    "from scipy.stats import zscore"
   ]
  },
  {
   "cell_type": "code",
   "execution_count": 32,
   "id": "ee2f25a6",
   "metadata": {},
   "outputs": [
    {
     "data": {
      "text/plain": [
       "(200, 3)"
      ]
     },
     "execution_count": 32,
     "metadata": {},
     "output_type": "execute_result"
    }
   ],
   "source": [
    "z=np.abs(zscore(x))\n",
    "z.shape"
   ]
  },
  {
   "cell_type": "code",
   "execution_count": 33,
   "id": "881b7cd5",
   "metadata": {},
   "outputs": [
    {
     "name": "stdout",
     "output_type": "stream",
     "text": [
      "(array([ 16, 101], dtype=int64), array([2, 2], dtype=int64))\n"
     ]
    }
   ],
   "source": [
    "threshold=3\n",
    "print(np.where(z>3))"
   ]
  },
  {
   "cell_type": "code",
   "execution_count": 34,
   "id": "39756b87",
   "metadata": {},
   "outputs": [],
   "source": [
    "x=x[(z<3).all(axis=1)]"
   ]
  },
  {
   "cell_type": "code",
   "execution_count": 35,
   "id": "879b02a6",
   "metadata": {},
   "outputs": [
    {
     "data": {
      "text/plain": [
       "(198, 3)"
      ]
     },
     "execution_count": 35,
     "metadata": {},
     "output_type": "execute_result"
    }
   ],
   "source": [
    "x.shape"
   ]
  },
  {
   "cell_type": "code",
   "execution_count": 36,
   "id": "4574db98",
   "metadata": {},
   "outputs": [],
   "source": [
    "y=y[(z<3).all(axis=1)]"
   ]
  },
  {
   "cell_type": "code",
   "execution_count": 37,
   "id": "a7e34048",
   "metadata": {},
   "outputs": [
    {
     "data": {
      "text/plain": [
       "(198,)"
      ]
     },
     "execution_count": 37,
     "metadata": {},
     "output_type": "execute_result"
    }
   ],
   "source": [
    "y.shape"
   ]
  },
  {
   "cell_type": "code",
   "execution_count": 38,
   "id": "0d9a9302",
   "metadata": {},
   "outputs": [
    {
     "name": "stdout",
     "output_type": "stream",
     "text": [
      "Percent loss is  1.0\n"
     ]
    }
   ],
   "source": [
    "loss_percent=(200-198)/200*100\n",
    "print(\"Percent loss is \",loss_percent)"
   ]
  },
  {
   "cell_type": "markdown",
   "id": "5311d4e5",
   "metadata": {},
   "source": [
    "### Removing Skewness using squre root transformation technique"
   ]
  },
  {
   "cell_type": "code",
   "execution_count": 39,
   "id": "87e8ae07",
   "metadata": {},
   "outputs": [],
   "source": [
    "adv['newspaper']=np.sqrt(adv['newspaper'])"
   ]
  },
  {
   "cell_type": "code",
   "execution_count": 40,
   "id": "0024ad0e",
   "metadata": {},
   "outputs": [
    {
     "data": {
      "text/plain": [
       "TV          -0.069853\n",
       "radio        0.094175\n",
       "newspaper    0.062388\n",
       "sales        0.407571\n",
       "dtype: float64"
      ]
     },
     "execution_count": 40,
     "metadata": {},
     "output_type": "execute_result"
    }
   ],
   "source": [
    "adv.skew()"
   ]
  },
  {
   "cell_type": "code",
   "execution_count": 41,
   "id": "f591d267",
   "metadata": {},
   "outputs": [
    {
     "data": {
      "text/plain": [
       "<AxesSubplot:xlabel='newspaper', ylabel='Density'>"
      ]
     },
     "execution_count": 41,
     "metadata": {},
     "output_type": "execute_result"
    },
    {
     "data": {
      "image/png": "[encoded data removed]",
      "text/plain": [
       "<Figure size 432x288 with 1 Axes>"
      ]
     },
     "metadata": {
      "needs_background": "light"
     },
     "output_type": "display_data"
    }
   ],
   "source": [
    "sns.distplot(adv['newspaper'],color='green')"
   ]
  },
  {
   "cell_type": "code",
   "execution_count": 50,
   "id": "df1cdec1",
   "metadata": {},
   "outputs": [
    {
     "data": {
      "text/plain": [
       "<AxesSubplot:xlabel='TV', ylabel='Density'>"
      ]
     },
     "execution_count": 50,
     "metadata": {},
     "output_type": "execute_result"
    },
    {
     "data": {
      "image/png": "[encoded data removed]",
      "text/plain": [
       "<Figure size 432x288 with 1 Axes>"
      ]
     },
     "metadata": {
      "needs_background": "light"
     },
     "output_type": "display_data"
    }
   ],
   "source": [
    "sns.distplot(adv['TV'],color='y')"
   ]
  },
  {
   "cell_type": "code",
   "execution_count": 51,
   "id": "0b4a64a1",
   "metadata": {},
   "outputs": [
    {
     "data": {
      "text/plain": [
       "<AxesSubplot:xlabel='radio', ylabel='Density'>"
      ]
     },
     "execution_count": 51,
     "metadata": {},
     "output_type": "execute_result"
    },
    {
     "data": {
      "image/png": "[encoded data removed]",
      "text/plain": [
       "<Figure size 432x288 with 1 Axes>"
      ]
     },
     "metadata": {
      "needs_background": "light"
     },
     "output_type": "display_data"
    }
   ],
   "source": [
    "sns.distplot(adv['radio'])"
   ]
  },
  {
   "cell_type": "markdown",
   "id": "baf951c2",
   "metadata": {},
   "source": [
    "### Data scaling using MinMax scaler technique"
   ]
  },
  {
   "cell_type": "code",
   "execution_count": 42,
   "id": "334dd45e",
   "metadata": {},
   "outputs": [],
   "source": [
    "from sklearn.preprocessing import MinMaxScaler"
   ]
  },
  {
   "cell_type": "code",
   "execution_count": 43,
   "id": "5c568d4b",
   "metadata": {},
   "outputs": [],
   "source": [
    "mm=MinMaxScaler()"
   ]
  },
  {
   "cell_type": "code",
   "execution_count": 44,
   "id": "af7da37a",
   "metadata": {},
   "outputs": [],
   "source": [
    "x=mm.fit_transform(x)"
   ]
  },
  {
   "cell_type": "code",
   "execution_count": 45,
   "id": "34cd0d02",
   "metadata": {},
   "outputs": [
    {
     "data": {
      "text/html": [
       "<div>\n",
       "<style scoped>\n",
       "    .dataframe tbody tr th:only-of-type {\n",
       "        vertical-align: middle;\n",
       "    }\n",
       "\n",
       "    .dataframe tbody tr th {\n",
       "        vertical-align: top;\n",
       "    }\n",
       "\n",
       "    .dataframe thead th {\n",
       "        text-align: right;\n",
       "    }\n",
       "</style>\n",
       "<table border=\"1\" class=\"dataframe\">\n",
       "  <thead>\n",
       "    <tr style=\"text-align: right;\">\n",
       "      <th></th>\n",
       "      <th>TV</th>\n",
       "      <th>Radio</th>\n",
       "      <th>Newspaper</th>\n",
       "    </tr>\n",
       "  </thead>\n",
       "  <tbody>\n",
       "    <tr>\n",
       "      <th>0</th>\n",
       "      <td>0.783202</td>\n",
       "      <td>0.762097</td>\n",
       "      <td>0.773288</td>\n",
       "    </tr>\n",
       "    <tr>\n",
       "      <th>1</th>\n",
       "      <td>0.149539</td>\n",
       "      <td>0.792339</td>\n",
       "      <td>0.502806</td>\n",
       "    </tr>\n",
       "    <tr>\n",
       "      <th>2</th>\n",
       "      <td>0.056333</td>\n",
       "      <td>0.925403</td>\n",
       "      <td>0.774411</td>\n",
       "    </tr>\n",
       "    <tr>\n",
       "      <th>3</th>\n",
       "      <td>0.514851</td>\n",
       "      <td>0.832661</td>\n",
       "      <td>0.653199</td>\n",
       "    </tr>\n",
       "    <tr>\n",
       "      <th>4</th>\n",
       "      <td>0.614886</td>\n",
       "      <td>0.217742</td>\n",
       "      <td>0.652076</td>\n",
       "    </tr>\n",
       "    <tr>\n",
       "      <th>...</th>\n",
       "      <td>...</td>\n",
       "      <td>...</td>\n",
       "      <td>...</td>\n",
       "    </tr>\n",
       "    <tr>\n",
       "      <th>193</th>\n",
       "      <td>0.128030</td>\n",
       "      <td>0.074597</td>\n",
       "      <td>0.151515</td>\n",
       "    </tr>\n",
       "    <tr>\n",
       "      <th>194</th>\n",
       "      <td>0.319222</td>\n",
       "      <td>0.098790</td>\n",
       "      <td>0.087542</td>\n",
       "    </tr>\n",
       "    <tr>\n",
       "      <th>195</th>\n",
       "      <td>0.601912</td>\n",
       "      <td>0.187500</td>\n",
       "      <td>0.068462</td>\n",
       "    </tr>\n",
       "    <tr>\n",
       "      <th>196</th>\n",
       "      <td>0.965859</td>\n",
       "      <td>0.846774</td>\n",
       "      <td>0.739618</td>\n",
       "    </tr>\n",
       "    <tr>\n",
       "      <th>197</th>\n",
       "      <td>0.790031</td>\n",
       "      <td>0.173387</td>\n",
       "      <td>0.094276</td>\n",
       "    </tr>\n",
       "  </tbody>\n",
       "</table>\n",
       "<p>198 rows × 3 columns</p>\n",
       "</div>"
      ],
      "text/plain": [
       "           TV     Radio  Newspaper\n",
       "0    0.783202  0.762097   0.773288\n",
       "1    0.149539  0.792339   0.502806\n",
       "2    0.056333  0.925403   0.774411\n",
       "3    0.514851  0.832661   0.653199\n",
       "4    0.614886  0.217742   0.652076\n",
       "..        ...       ...        ...\n",
       "193  0.128030  0.074597   0.151515\n",
       "194  0.319222  0.098790   0.087542\n",
       "195  0.601912  0.187500   0.068462\n",
       "196  0.965859  0.846774   0.739618\n",
       "197  0.790031  0.173387   0.094276\n",
       "\n",
       "[198 rows x 3 columns]"
      ]
     },
     "execution_count": 45,
     "metadata": {},
     "output_type": "execute_result"
    }
   ],
   "source": [
    "x=pd.DataFrame(data=x,columns=(['TV','Radio','Newspaper']))\n",
    "x"
   ]
  },
  {
   "cell_type": "markdown",
   "id": "b8febb88",
   "metadata": {},
   "source": [
    "##### Importing  important lib."
   ]
  },
  {
   "cell_type": "code",
   "execution_count": 46,
   "id": "cd60b4fe",
   "metadata": {},
   "outputs": [],
   "source": [
    "from sklearn.model_selection import train_test_split\n",
    "from sklearn.linear_model import LinearRegression\n",
    "from sklearn.metrics import r2_score\n",
    "from sklearn.metrics import mean_absolute_error,mean_squared_error"
   ]
  },
  {
   "cell_type": "code",
   "execution_count": 47,
   "id": "ac630d18",
   "metadata": {},
   "outputs": [
    {
     "name": "stdout",
     "output_type": "stream",
     "text": [
      "At random state  0 the training accuracy is 0.8898322019518987\n",
      "At random state  0 the testing accuracy is 0.9098946359000559\n",
      "\n",
      "\n",
      "At random state  1 the training accuracy is 0.8946050839431845\n",
      "At random state  1 the testing accuracy is 0.891219907737298\n",
      "\n",
      "\n",
      "At random state  2 the training accuracy is 0.9105689646648081\n",
      "At random state  2 the testing accuracy is 0.8381266733637571\n",
      "\n",
      "\n",
      "At random state  3 the training accuracy is 0.8944143192604463\n",
      "At random state  3 the testing accuracy is 0.8980994665131536\n",
      "\n",
      "\n",
      "At random state  4 the training accuracy is 0.8981805823414822\n",
      "At random state  4 the testing accuracy is 0.8719021920124682\n",
      "\n",
      "\n",
      "At random state  5 the training accuracy is 0.899436801455173\n",
      "At random state  5 the testing accuracy is 0.8616494043950312\n",
      "\n",
      "\n",
      "At random state  6 the training accuracy is 0.8993028842288797\n",
      "At random state  6 the testing accuracy is 0.8760639888444905\n",
      "\n",
      "\n",
      "At random state  7 the training accuracy is 0.8907422790206732\n",
      "At random state  7 the testing accuracy is 0.9072259879826813\n",
      "\n",
      "\n",
      "At random state  8 the training accuracy is 0.9032084965142416\n",
      "At random state  8 the testing accuracy is 0.8622119821531382\n",
      "\n",
      "\n",
      "At random state  9 the training accuracy is 0.8896116143369225\n",
      "At random state  9 the testing accuracy is 0.9148867690563419\n",
      "\n",
      "\n",
      "At random state  10 the training accuracy is 0.9234109258384534\n",
      "At random state  10 the testing accuracy is 0.7847276428213542\n",
      "\n",
      "\n",
      "At random state  11 the training accuracy is 0.8849527337629283\n",
      "At random state  11 the testing accuracy is 0.9251344460664062\n",
      "\n",
      "\n",
      "At random state  12 the training accuracy is 0.893155890966673\n",
      "At random state  12 the testing accuracy is 0.9002147591940638\n",
      "\n",
      "\n",
      "At random state  13 the training accuracy is 0.9073685036587192\n",
      "At random state  13 the testing accuracy is 0.8379451608981883\n",
      "\n",
      "\n",
      "At random state  14 the training accuracy is 0.8856322875906846\n",
      "At random state  14 the testing accuracy is 0.9137433855890315\n",
      "\n",
      "\n",
      "At random state  15 the training accuracy is 0.8910311748322177\n",
      "At random state  15 the testing accuracy is 0.908668178012794\n",
      "\n",
      "\n",
      "At random state  16 the training accuracy is 0.8904589451941378\n",
      "At random state  16 the testing accuracy is 0.9092658921355935\n",
      "\n",
      "\n",
      "At random state  17 the training accuracy is 0.888899070609342\n",
      "At random state  17 the testing accuracy is 0.9158107183004833\n",
      "\n",
      "\n",
      "At random state  18 the training accuracy is 0.9107512319836958\n",
      "At random state  18 the testing accuracy is 0.8352581054144459\n",
      "\n",
      "\n",
      "At random state  19 the training accuracy is 0.8952937219888688\n",
      "At random state  19 the testing accuracy is 0.8777946475901687\n",
      "\n",
      "\n",
      "At random state  20 the training accuracy is 0.8861735393665224\n",
      "At random state  20 the testing accuracy is 0.9134618213607718\n",
      "\n",
      "\n",
      "At random state  21 the training accuracy is 0.884565335473425\n",
      "At random state  21 the testing accuracy is 0.9276910202519096\n",
      "\n",
      "\n",
      "At random state  22 the training accuracy is 0.8863623904193301\n",
      "At random state  22 the testing accuracy is 0.927225767417452\n",
      "\n",
      "\n",
      "At random state  23 the training accuracy is 0.8851633612750962\n",
      "At random state  23 the testing accuracy is 0.9280846835289062\n",
      "\n",
      "\n",
      "At random state  24 the training accuracy is 0.8809757910723603\n",
      "At random state  24 the testing accuracy is 0.9456025807476977\n",
      "\n",
      "\n",
      "At random state  25 the training accuracy is 0.8829622259449756\n",
      "At random state  25 the testing accuracy is 0.9371746629622535\n",
      "\n",
      "\n",
      "At random state  26 the training accuracy is 0.9048077861193833\n",
      "At random state  26 the testing accuracy is 0.8203780207359677\n",
      "\n",
      "\n",
      "At random state  27 the training accuracy is 0.9094784686975189\n",
      "At random state  27 the testing accuracy is 0.8226901107028124\n",
      "\n",
      "\n",
      "At random state  28 the training accuracy is 0.9151656207216119\n",
      "At random state  28 the testing accuracy is 0.8242122179832336\n",
      "\n",
      "\n",
      "At random state  29 the training accuracy is 0.9079314459560758\n",
      "At random state  29 the testing accuracy is 0.8429744958016212\n",
      "\n",
      "\n",
      "At random state  30 the training accuracy is 0.9129669348136418\n",
      "At random state  30 the testing accuracy is 0.8232112840158845\n",
      "\n",
      "\n",
      "At random state  31 the training accuracy is 0.8807741206684752\n",
      "At random state  31 the testing accuracy is 0.9322873954829172\n",
      "\n",
      "\n",
      "At random state  32 the training accuracy is 0.8879237528446708\n",
      "At random state  32 the testing accuracy is 0.9176590893491935\n",
      "\n",
      "\n",
      "At random state  33 the training accuracy is 0.888035916659505\n",
      "At random state  33 the testing accuracy is 0.9168199223474399\n",
      "\n",
      "\n",
      "At random state  34 the training accuracy is 0.8961381192278818\n",
      "At random state  34 the testing accuracy is 0.8842687782801527\n",
      "\n",
      "\n",
      "At random state  35 the training accuracy is 0.8902893064280746\n",
      "At random state  35 the testing accuracy is 0.9153905766088841\n",
      "\n",
      "\n",
      "At random state  36 the training accuracy is 0.8896329800738692\n",
      "At random state  36 the testing accuracy is 0.9127811165767806\n",
      "\n",
      "\n",
      "At random state  37 the training accuracy is 0.8928441817473719\n",
      "At random state  37 the testing accuracy is 0.9089901606257966\n",
      "\n",
      "\n",
      "At random state  38 the training accuracy is 0.8897925916435414\n",
      "At random state  38 the testing accuracy is 0.9172706638690491\n",
      "\n",
      "\n",
      "At random state  39 the training accuracy is 0.9035389723312434\n",
      "At random state  39 the testing accuracy is 0.8548912714848502\n",
      "\n",
      "\n",
      "At random state  40 the training accuracy is 0.8938865309825034\n",
      "At random state  40 the testing accuracy is 0.8933223521136453\n",
      "\n",
      "\n",
      "At random state  41 the training accuracy is 0.8990543250257402\n",
      "At random state  41 the testing accuracy is 0.8663464679495857\n",
      "\n",
      "\n",
      "At random state  42 the training accuracy is 0.8935961872087126\n",
      "At random state  42 the testing accuracy is 0.8989454779619588\n",
      "\n",
      "\n",
      "At random state  43 the training accuracy is 0.9003196624874753\n",
      "At random state  43 the testing accuracy is 0.8751484803695656\n",
      "\n",
      "\n",
      "At random state  44 the training accuracy is 0.9031303879771791\n",
      "At random state  44 the testing accuracy is 0.811700063229044\n",
      "\n",
      "\n",
      "At random state  45 the training accuracy is 0.8978187125535125\n",
      "At random state  45 the testing accuracy is 0.874742203797202\n",
      "\n",
      "\n",
      "At random state  46 the training accuracy is 0.899102111687532\n",
      "At random state  46 the testing accuracy is 0.8726271917983104\n",
      "\n",
      "\n",
      "At random state  47 the training accuracy is 0.8948929338032797\n",
      "At random state  47 the testing accuracy is 0.8922946750347814\n",
      "\n",
      "\n",
      "At random state  48 the training accuracy is 0.9019155855266181\n",
      "At random state  48 the testing accuracy is 0.866237899668671\n",
      "\n",
      "\n",
      "At random state  49 the training accuracy is 0.910538439235421\n",
      "At random state  49 the testing accuracy is 0.8351144932670392\n",
      "\n",
      "\n",
      "At random state  50 the training accuracy is 0.9009231461636191\n",
      "At random state  50 the testing accuracy is 0.8429785403092696\n",
      "\n",
      "\n",
      "At random state  51 the training accuracy is 0.8929482650783451\n",
      "At random state  51 the testing accuracy is 0.8969749608189315\n",
      "\n",
      "\n",
      "At random state  52 the training accuracy is 0.8947789773965512\n",
      "At random state  52 the testing accuracy is 0.892514599511717\n",
      "\n",
      "\n",
      "At random state  53 the training accuracy is 0.9048442016872695\n",
      "At random state  53 the testing accuracy is 0.8524939615808073\n",
      "\n",
      "\n",
      "At random state  54 the training accuracy is 0.8982293254785564\n",
      "At random state  54 the testing accuracy is 0.8776799027550093\n",
      "\n",
      "\n",
      "At random state  55 the training accuracy is 0.8934732789730451\n",
      "At random state  55 the testing accuracy is 0.8977109139390171\n",
      "\n",
      "\n",
      "At random state  56 the training accuracy is 0.9062773777328017\n",
      "At random state  56 the testing accuracy is 0.8436665154822789\n",
      "\n",
      "\n",
      "At random state  57 the training accuracy is 0.9032862954100991\n",
      "At random state  57 the testing accuracy is 0.865206036731957\n",
      "\n",
      "\n",
      "At random state  58 the training accuracy is 0.8815285101634734\n",
      "At random state  58 the testing accuracy is 0.9301139220125179\n",
      "\n",
      "\n",
      "At random state  59 the training accuracy is 0.8872670373538741\n",
      "At random state  59 the testing accuracy is 0.9184306555712065\n",
      "\n",
      "\n",
      "At random state  60 the training accuracy is 0.8985938448584895\n",
      "At random state  60 the testing accuracy is 0.8823000359749913\n",
      "\n",
      "\n",
      "At random state  61 the training accuracy is 0.9046156537711098\n",
      "At random state  61 the testing accuracy is 0.8532975619375341\n",
      "\n",
      "\n",
      "At random state  62 the training accuracy is 0.9006118694968954\n",
      "At random state  62 the testing accuracy is 0.8571507573921291\n",
      "\n",
      "\n",
      "At random state  63 the training accuracy is 0.8939151551704926\n",
      "At random state  63 the testing accuracy is 0.8972874269449632\n",
      "\n",
      "\n",
      "At random state  64 the training accuracy is 0.8860385862322467\n",
      "At random state  64 the testing accuracy is 0.9267279065103222\n",
      "\n",
      "\n",
      "At random state  65 the training accuracy is 0.8979269961140793\n",
      "At random state  65 the testing accuracy is 0.8825466552554458\n",
      "\n",
      "\n",
      "At random state  66 the training accuracy is 0.9005426396871374\n",
      "At random state  66 the testing accuracy is 0.8744920660734806\n",
      "\n",
      "\n",
      "At random state  67 the training accuracy is 0.8916079358605494\n",
      "At random state  67 the testing accuracy is 0.9057874401170471\n",
      "\n",
      "\n",
      "At random state  68 the training accuracy is 0.9033182509577266\n",
      "At random state  68 the testing accuracy is 0.8617429493016013\n",
      "\n",
      "\n"
     ]
    },
    {
     "name": "stdout",
     "output_type": "stream",
     "text": [
      "At random state  69 the training accuracy is 0.8914686052810469\n",
      "At random state  69 the testing accuracy is 0.9060706943218672\n",
      "\n",
      "\n",
      "At random state  70 the training accuracy is 0.8827162954196404\n",
      "At random state  70 the testing accuracy is 0.9265656652996626\n",
      "\n",
      "\n",
      "At random state  71 the training accuracy is 0.9094738850819296\n",
      "At random state  71 the testing accuracy is 0.8071830117377919\n",
      "\n",
      "\n",
      "At random state  72 the training accuracy is 0.8877647068250816\n",
      "At random state  72 the testing accuracy is 0.9212755833741662\n",
      "\n",
      "\n",
      "At random state  73 the training accuracy is 0.8960783562759226\n",
      "At random state  73 the testing accuracy is 0.8849214355996001\n",
      "\n",
      "\n",
      "At random state  74 the training accuracy is 0.8741050234782155\n",
      "At random state  74 the testing accuracy is 0.9298308020128558\n",
      "\n",
      "\n",
      "At random state  75 the training accuracy is 0.8953962394226144\n",
      "At random state  75 the testing accuracy is 0.8756772369429393\n",
      "\n",
      "\n",
      "At random state  76 the training accuracy is 0.9038582953449021\n",
      "At random state  76 the testing accuracy is 0.851612626570941\n",
      "\n",
      "\n",
      "At random state  77 the training accuracy is 0.8890301857718985\n",
      "At random state  77 the testing accuracy is 0.9166905563751221\n",
      "\n",
      "\n",
      "At random state  78 the training accuracy is 0.9134603355273572\n",
      "At random state  78 the testing accuracy is 0.7902344027203063\n",
      "\n",
      "\n",
      "At random state  79 the training accuracy is 0.8918146350991454\n",
      "At random state  79 the testing accuracy is 0.9014406236580842\n",
      "\n",
      "\n",
      "At random state  80 the training accuracy is 0.8926690585654801\n",
      "At random state  80 the testing accuracy is 0.9037187128234275\n",
      "\n",
      "\n",
      "At random state  81 the training accuracy is 0.8877828922449127\n",
      "At random state  81 the testing accuracy is 0.9199455602534607\n",
      "\n",
      "\n",
      "At random state  82 the training accuracy is 0.9090696813399116\n",
      "At random state  82 the testing accuracy is 0.839876824043998\n",
      "\n",
      "\n",
      "At random state  83 the training accuracy is 0.900459401377182\n",
      "At random state  83 the testing accuracy is 0.8791148089196503\n",
      "\n",
      "\n",
      "At random state  84 the training accuracy is 0.8835761124862845\n",
      "At random state  84 the testing accuracy is 0.9292654473438202\n",
      "\n",
      "\n",
      "At random state  85 the training accuracy is 0.9132027063640219\n",
      "At random state  85 the testing accuracy is 0.7705544702687279\n",
      "\n",
      "\n",
      "At random state  86 the training accuracy is 0.8925903351276707\n",
      "At random state  86 the testing accuracy is 0.9047661303024037\n",
      "\n",
      "\n",
      "At random state  87 the training accuracy is 0.9141328363442639\n",
      "At random state  87 the testing accuracy is 0.8087421010289433\n",
      "\n",
      "\n",
      "At random state  88 the training accuracy is 0.8972954404318595\n",
      "At random state  88 the testing accuracy is 0.8837353565017301\n",
      "\n",
      "\n",
      "At random state  89 the training accuracy is 0.903250960526272\n",
      "At random state  89 the testing accuracy is 0.845842124811012\n",
      "\n",
      "\n",
      "At random state  90 the training accuracy is 0.8791542940797823\n",
      "At random state  90 the testing accuracy is 0.9477136584598765\n",
      "\n",
      "\n",
      "At random state  91 the training accuracy is 0.8925537988702157\n",
      "At random state  91 the testing accuracy is 0.8986272987144843\n",
      "\n",
      "\n",
      "At random state  92 the training accuracy is 0.8937090017280401\n",
      "At random state  92 the testing accuracy is 0.8937806772897253\n",
      "\n",
      "\n",
      "At random state  93 the training accuracy is 0.908390049960135\n",
      "At random state  93 the testing accuracy is 0.8435303584836114\n",
      "\n",
      "\n",
      "At random state  94 the training accuracy is 0.9035778811399116\n",
      "At random state  94 the testing accuracy is 0.8679025522688202\n",
      "\n",
      "\n",
      "At random state  95 the training accuracy is 0.9081470930021118\n",
      "At random state  95 the testing accuracy is 0.8479116409360149\n",
      "\n",
      "\n",
      "At random state  96 the training accuracy is 0.9025829262386168\n",
      "At random state  96 the testing accuracy is 0.8549819020058949\n",
      "\n",
      "\n",
      "At random state  97 the training accuracy is 0.8941951908750972\n",
      "At random state  97 the testing accuracy is 0.8975724260460941\n",
      "\n",
      "\n",
      "At random state  98 the training accuracy is 0.9090516361378773\n",
      "At random state  98 the testing accuracy is 0.8382459156006745\n",
      "\n",
      "\n",
      "At random state  99 the training accuracy is 0.8832087051413472\n",
      "At random state  99 the testing accuracy is 0.9300192208914474\n",
      "\n",
      "\n"
     ]
    }
   ],
   "source": [
    "for i in range(0,100):\n",
    "    x_train,x_test,y_train,y_test=train_test_split(x,y,test_size=.20,random_state=i)\n",
    "    lr=LinearRegression()\n",
    "    lr.fit(x_train,y_train)\n",
    "    pred_train=lr.predict(x_train)\n",
    "    pred_test=lr.predict(x_test)\n",
    "    print(\"At random state \",i,'the training accuracy is',r2_score(y_train,pred_train))\n",
    "    print(\"At random state \",i,'the testing accuracy is',r2_score(y_test,pred_test))\n",
    "    print(\"\\n\")"
   ]
  },
  {
   "cell_type": "markdown",
   "id": "127fd19a",
   "metadata": {},
   "source": [
    "We found the best accuracy at random state 25 ."
   ]
  },
  {
   "cell_type": "markdown",
   "id": "bbe03530",
   "metadata": {},
   "source": [
    "##### Spliting the data into training and testing"
   ]
  },
  {
   "cell_type": "markdown",
   "id": "1a769972",
   "metadata": {},
   "source": [
    "### Linear Regression"
   ]
  },
  {
   "cell_type": "code",
   "execution_count": 48,
   "id": "e93065d2",
   "metadata": {},
   "outputs": [
    {
     "name": "stdout",
     "output_type": "stream",
     "text": [
      "r2 score :  0.9371746629622535\n",
      "Mean absoluate error : 1.089216915688596\n",
      "Mean squred error : 1.8911333489165194\n",
      "Root mean squred error:  1.3751848417272927\n"
     ]
    }
   ],
   "source": [
    "x_train,x_test,y_train,y_test=train_test_split(x,y,test_size=.20,random_state=25)\n",
    "lr.fit(x_train,y_train)\n",
    "pred_test=lr.predict(x_test)\n",
    "print(\"r2 score : \",r2_score(y_test,pred_test))\n",
    "print(\"Mean absoluate error :\",mean_absolute_error(y_test,pred_test))\n",
    "print(\"Mean squred error :\",mean_squared_error(y_test,pred_test))\n",
    "print(\"Root mean squred error: \",np.sqrt(mean_squared_error(y_test,pred_test)))"
   ]
  },
  {
   "cell_type": "markdown",
   "id": "f29a8532",
   "metadata": {},
   "source": [
    "."
   ]
  },
  {
   "cell_type": "markdown",
   "id": "e76984be",
   "metadata": {},
   "source": [
    "###### Now we will use Diffrent Algorithium suh as "
   ]
  },
  {
   "cell_type": "markdown",
   "id": "7bcf502d",
   "metadata": {},
   "source": [
    "1.K nearest neighbour regressor.\n",
    "\n",
    "2.Naive bayes regressor.\n",
    "\n",
    "3.Design tree regressor. \n",
    "\n",
    "4.Support vector machine(svm) regressor.    "
   ]
  },
  {
   "cell_type": "code",
   "execution_count": 52,
   "id": "ebbfe248",
   "metadata": {},
   "outputs": [],
   "source": [
    "import sklearn\n",
    "from sklearn.tree import DecisionTreeRegressor\n",
    "from sklearn.svm import SVR\n",
    "from sklearn.neighbors import KNeighborsRegressor"
   ]
  },
  {
   "cell_type": "code",
   "execution_count": 53,
   "id": "3e86a5d2",
   "metadata": {},
   "outputs": [
    {
     "name": "stdout",
     "output_type": "stream",
     "text": [
      "r2 score : 0.9574834346608375\n",
      "Mean absolute error: 0.8345000000000002\n",
      "Mean squred error : 1.2798100000000001\n",
      "Root mean squred error: 1.1312868778519445\n"
     ]
    }
   ],
   "source": [
    "knn=KNeighborsRegressor()\n",
    "knn.fit(x_train,y_train)\n",
    "pred=knn.predict(x_test)\n",
    "print(\"r2 score :\",r2_score(y_test,pred))\n",
    "print(\"Mean absolute error:\",mean_absolute_error(y_test,pred))\n",
    "print(\"Mean squred error :\",mean_squared_error(y_test,pred))\n",
    "print(\"Root mean squred error:\",np.sqrt(mean_squared_error(y_test,pred)))"
   ]
  },
  {
   "cell_type": "markdown",
   "id": "904f0f53",
   "metadata": {},
   "source": [
    "."
   ]
  },
  {
   "cell_type": "code",
   "execution_count": 54,
   "id": "3f41f81d",
   "metadata": {},
   "outputs": [
    {
     "name": "stdout",
     "output_type": "stream",
     "text": [
      "r2 score: 0.9462982568734764\n",
      "Mean absolute error: 0.9099999999999999\n",
      "Mean squared error: 1.6164999999999998\n",
      "Root mean squared error: 1.271416532848303\n"
     ]
    }
   ],
   "source": [
    "dt=DecisionTreeRegressor()\n",
    "dt.fit(x_train,y_train)\n",
    "pred=dt.predict(x_test)\n",
    "print(\"r2 score:\",r2_score(y_test,pred))\n",
    "print(\"Mean absolute error:\",mean_absolute_error(y_test,pred))\n",
    "print(\"Mean squared error:\",mean_squared_error(y_test,pred))\n",
    "print(\"Root mean squared error:\",np.sqrt(mean_squared_error(y_test,pred)))"
   ]
  },
  {
   "cell_type": "markdown",
   "id": "7bf847f3",
   "metadata": {},
   "source": [
    "."
   ]
  },
  {
   "cell_type": "code",
   "execution_count": 55,
   "id": "18ee31d3",
   "metadata": {},
   "outputs": [
    {
     "name": "stdout",
     "output_type": "stream",
     "text": [
      "r2 score: 0.9211545793530888\n",
      "Mean absolute error 0.9579703405637812\n",
      "Mean squared error: 2.3733609945480887\n",
      "Root mean squared error: 1.540571645379756\n"
     ]
    }
   ],
   "source": [
    "svr=SVR()\n",
    "svr.fit(x_train,y_train)\n",
    "pred=svr.predict(x_test)\n",
    "print(\"r2 score:\",r2_score(y_test,pred))\n",
    "print(\"Mean absolute error\",mean_absolute_error(y_test,pred))\n",
    "print(\"Mean squared error:\",mean_squared_error(y_test,pred))\n",
    "print(\"Root mean squared error:\",np.sqrt(mean_squared_error(y_test,pred)))"
   ]
  },
  {
   "cell_type": "markdown",
   "id": "e275be1b",
   "metadata": {},
   "source": [
    "### Cross-Validation "
   ]
  },
  {
   "cell_type": "markdown",
   "id": "90d3c05f",
   "metadata": {},
   "source": [
    "We are adopting Cross-validation technique to see that, our model is offerfitted or not."
   ]
  },
  {
   "cell_type": "code",
   "execution_count": 56,
   "id": "fd387569",
   "metadata": {},
   "outputs": [],
   "source": [
    "from sklearn.model_selection import cross_val_score"
   ]
  },
  {
   "cell_type": "code",
   "execution_count": 57,
   "id": "74572619",
   "metadata": {},
   "outputs": [
    {
     "name": "stdout",
     "output_type": "stream",
     "text": [
      "Cross validation score of Kneighbor regressor is 0.9488587105643586\n"
     ]
    }
   ],
   "source": [
    "cvr=cross_val_score(knn,x,y,cv=5)\n",
    "print(\"Cross validation score of Kneighbor regressor is\",cvr.mean())"
   ]
  },
  {
   "cell_type": "code",
   "execution_count": 58,
   "id": "43fc8681",
   "metadata": {},
   "outputs": [
    {
     "name": "stdout",
     "output_type": "stream",
     "text": [
      "Cross validation score of Decision Tree Regressor is 0.9539235797574191\n"
     ]
    }
   ],
   "source": [
    "cvr_2=cross_val_score(dt,x,y,cv=5)\n",
    "print(\"Cross validation score of Decision Tree Regressor is\",cvr_2.mean())"
   ]
  },
  {
   "cell_type": "code",
   "execution_count": 59,
   "id": "d3e65e24",
   "metadata": {},
   "outputs": [
    {
     "name": "stdout",
     "output_type": "stream",
     "text": [
      "Cross validation score of support vector machine regressor is 0.9203401233430398\n"
     ]
    }
   ],
   "source": [
    "cvr_3=cross_val_score(svr,x,y,cv=5)\n",
    "print(\"Cross validation score of support vector machine regressor is\",cvr_3.mean())"
   ]
  },
  {
   "cell_type": "code",
   "execution_count": 60,
   "id": "7c1b5639",
   "metadata": {},
   "outputs": [
    {
     "name": "stdout",
     "output_type": "stream",
     "text": [
      "Cross validation score of linear regression is 0.8853605756683912\n"
     ]
    }
   ],
   "source": [
    "cvr_4=cross_val_score(lr,x,y,cv=5)\n",
    "print(\"Cross validation score of linear regression is\",cvr_4.mean())"
   ]
  },
  {
   "cell_type": "markdown",
   "id": "6458f347",
   "metadata": {},
   "source": [
    "."
   ]
  },
  {
   "cell_type": "markdown",
   "id": "cbf26bb0",
   "metadata": {},
   "source": [
    "###### Out of all the above models, Decision tree regressor is giving 95.57% accuracy .which is highest accuracy.\n",
    "\n",
    "###### Now we will try to achieve best accury.In order to achieve highest accuracy we will adopt boosting technique."
   ]
  },
  {
   "cell_type": "markdown",
   "id": "434a96e2",
   "metadata": {},
   "source": [
    "1. Random forest regressor\n",
    "\n",
    "\n",
    "2. Adaboost regressor\n",
    "\n",
    "\n",
    "3. Gredient boosting regressor"
   ]
  },
  {
   "cell_type": "markdown",
   "id": "4803d37e",
   "metadata": {},
   "source": [
    "###### Random forest regressor"
   ]
  },
  {
   "cell_type": "code",
   "execution_count": 61,
   "id": "f3cc2c74",
   "metadata": {},
   "outputs": [],
   "source": [
    "from sklearn.ensemble import RandomForestRegressor"
   ]
  },
  {
   "cell_type": "code",
   "execution_count": 62,
   "id": "15f0708a",
   "metadata": {},
   "outputs": [],
   "source": [
    "from sklearn.ensemble import AdaBoostRegressor"
   ]
  },
  {
   "cell_type": "code",
   "execution_count": 63,
   "id": "b52a2239",
   "metadata": {},
   "outputs": [],
   "source": [
    "from sklearn.ensemble import GradientBoostingRegressor"
   ]
  },
  {
   "cell_type": "code",
   "execution_count": 64,
   "id": "b12d428f",
   "metadata": {},
   "outputs": [
    {
     "name": "stdout",
     "output_type": "stream",
     "text": [
      "r2 score: 0.9781423980701924\n",
      "Mean absolute error 0.6615249999999973\n",
      "Mean squared error: 0.6579453749999951\n",
      "Root mean squared error: 0.8111383205101305\n"
     ]
    }
   ],
   "source": [
    "rfr=RandomForestRegressor()\n",
    "rfr.fit(x_train,y_train)\n",
    "pred=rfr.predict(x_test)\n",
    "print(\"r2 score:\",r2_score(y_test,pred))\n",
    "print(\"Mean absolute error\",mean_absolute_error(y_test,pred))\n",
    "print(\"Mean squared error:\",mean_squared_error(y_test,pred))\n",
    "print(\"Root mean squared error:\",np.sqrt(mean_squared_error(y_test,pred)))"
   ]
  },
  {
   "cell_type": "markdown",
   "id": "456b716d",
   "metadata": {},
   "source": [
    "###### AdaBoostRegressor"
   ]
  },
  {
   "cell_type": "code",
   "execution_count": 65,
   "id": "6055d210",
   "metadata": {},
   "outputs": [
    {
     "name": "stdout",
     "output_type": "stream",
     "text": [
      "r2 score: 0.9579448534272802\n",
      "Mean absolute error: 0.8939403719904846\n",
      "Mean squared error: 1.2659206289567309\n",
      "Root mean squared error: 1.1251313829756642\n"
     ]
    }
   ],
   "source": [
    "ada=AdaBoostRegressor()\n",
    "ada.fit(x_train,y_train)\n",
    "pred=ada.predict(x_test)\n",
    "print(\"r2 score:\",r2_score(y_test,pred))\n",
    "print(\"Mean absolute error:\",mean_absolute_error(y_test,pred))\n",
    "print(\"Mean squared error:\",mean_squared_error(y_test,pred))\n",
    "print(\"Root mean squared error:\",np.sqrt(mean_squared_error(y_test,pred)))"
   ]
  },
  {
   "cell_type": "markdown",
   "id": "02716d05",
   "metadata": {},
   "source": [
    "###### GradientBoostingRegressor"
   ]
  },
  {
   "cell_type": "code",
   "execution_count": 66,
   "id": "73a328e0",
   "metadata": {},
   "outputs": [
    {
     "name": "stdout",
     "output_type": "stream",
     "text": [
      "r2 score: 0.9777214239696229\n",
      "Mean absolute error: 0.6260170523716111\n",
      "Mean squared error: 0.6706173032084928\n",
      "Root mean squared error: 0.8189122683221279\n"
     ]
    }
   ],
   "source": [
    "gbr=GradientBoostingRegressor()\n",
    "gbr.fit(x_train,y_train)\n",
    "pred=gbr.predict(x_test)\n",
    "print(\"r2 score:\",r2_score(y_test,pred))\n",
    "print(\"Mean absolute error:\",mean_absolute_error(y_test,pred))\n",
    "print(\"Mean squared error:\",mean_squared_error(y_test,pred))\n",
    "print(\"Root mean squared error:\",np.sqrt(mean_squared_error(y_test,pred)))"
   ]
  },
  {
   "cell_type": "markdown",
   "id": "bbd1d42d",
   "metadata": {},
   "source": [
    "#### Cross-Validation of Random forest, Adaboost and Gradient Boosting regressor model."
   ]
  },
  {
   "cell_type": "code",
   "execution_count": 70,
   "id": "0fda2b8a",
   "metadata": {},
   "outputs": [
    {
     "name": "stdout",
     "output_type": "stream",
     "text": [
      "Cross validation of Random forest regressor model is 0.9791523368725201\n"
     ]
    }
   ],
   "source": [
    "sr=cross_val_score(rfr , x , y , cv=10)\n",
    "print(\"Cross validation of Random forest regressor model is\",sr.mean())"
   ]
  },
  {
   "cell_type": "code",
   "execution_count": 71,
   "id": "f7f1a6e2",
   "metadata": {},
   "outputs": [
    {
     "name": "stdout",
     "output_type": "stream",
     "text": [
      "Cross validation of Adaboost regressor model is 0.9561096291128178\n"
     ]
    }
   ],
   "source": [
    "sr_1=cross_val_score(ada , x , y , cv=10)\n",
    "print(\"Cross validation of Adaboost regressor model is\",sr_1.mean())"
   ]
  },
  {
   "cell_type": "code",
   "execution_count": 72,
   "id": "4fe1cac5",
   "metadata": {},
   "outputs": [
    {
     "name": "stdout",
     "output_type": "stream",
     "text": [
      "Cross validation of Gradient Boosting regressor model is 0.9787717919495045\n"
     ]
    }
   ],
   "source": [
    "sr_2=cross_val_score(gbr , x , y , cv=8)\n",
    "print(\"Cross validation of Gradient Boosting regressor model is\",sr_2.mean())"
   ]
  },
  {
   "cell_type": "markdown",
   "id": "3f9e2d96",
   "metadata": {},
   "source": [
    "."
   ]
  },
  {
   "cell_type": "markdown",
   "id": "62c8b918",
   "metadata": {},
   "source": [
    "##### From the above Results we got two highest accuracy from the models:\n",
    "#####     1. Random forest regressor which is giving 97.91% accuracy.\n",
    "#####     2. Gradient boosting regressor which is giving 97.87% accuracy.\n",
    "##### We will go with Random forest regressor    \n",
    "    \n",
    "    "
   ]
  },
  {
   "cell_type": "markdown",
   "id": "e2b706cc",
   "metadata": {},
   "source": [
    "."
   ]
  },
  {
   "cell_type": "markdown",
   "id": "1393a5d5",
   "metadata": {},
   "source": [
    "# Hyper parameter tuning"
   ]
  },
  {
   "cell_type": "code",
   "execution_count": 93,
   "id": "1a30e05c",
   "metadata": {},
   "outputs": [],
   "source": [
    "from sklearn.model_selection import GridSearchCV  "
   ]
  },
  {
   "cell_type": "markdown",
   "id": "dc2dc3b3",
   "metadata": {},
   "source": [
    "###### For GradientBoostingRegressor"
   ]
  },
  {
   "cell_type": "code",
   "execution_count": 131,
   "id": "a9710a06",
   "metadata": {},
   "outputs": [],
   "source": [
    "parameters={\"max_features\":['auto','log2','sqrt'],\n",
    "           'max_depth':[5,6,7,8,9],\n",
    "           \"criterion\":['squared_error', 'absolute_error']}"
   ]
  },
  {
   "cell_type": "code",
   "execution_count": 132,
   "id": "75ccea8f",
   "metadata": {},
   "outputs": [
    {
     "data": {
      "text/plain": [
       "{'criterion': 'squared_error', 'max_depth': 5, 'max_features': 'auto'}"
      ]
     },
     "execution_count": 132,
     "metadata": {},
     "output_type": "execute_result"
    }
   ],
   "source": [
    "GSC=GridSearchCV(gbr,parameters,cv=10)\n",
    "GSC.fit(x_train,y_train)\n",
    "GSC.best_params_"
   ]
  },
  {
   "cell_type": "code",
   "execution_count": 133,
   "id": "7a377e11",
   "metadata": {},
   "outputs": [
    {
     "data": {
      "text/html": [
       "<style>#sk-container-id-12 {color: black;background-color: white;}#sk-container-id-12 pre{padding: 0;}#sk-container-id-12 div.sk-toggleable {background-color: white;}#sk-container-id-12 label.sk-toggleable__label {cursor: pointer;display: block;width: 100%;margin-bottom: 0;padding: 0.3em;box-sizing: border-box;text-align: center;}#sk-container-id-12 label.sk-toggleable__label-arrow:before {content: \"▸\";float: left;margin-right: 0.25em;color: #696969;}#sk-container-id-12 label.sk-toggleable__label-arrow:hover:before {color: black;}#sk-container-id-12 div.sk-estimator:hover label.sk-toggleable__label-arrow:before {color: black;}#sk-container-id-12 div.sk-toggleable__content {max-height: 0;max-width: 0;overflow: hidden;text-align: left;background-color: #f0f8ff;}#sk-container-id-12 div.sk-toggleable__content pre {margin: 0.2em;color: black;border-radius: 0.25em;background-color: #f0f8ff;}#sk-container-id-12 input.sk-toggleable__control:checked~div.sk-toggleable__content {max-height: 200px;max-width: 100%;overflow: auto;}#sk-container-id-12 input.sk-toggleable__control:checked~label.sk-toggleable__label-arrow:before {content: \"▾\";}#sk-container-id-12 div.sk-estimator input.sk-toggleable__control:checked~label.sk-toggleable__label {background-color: #d4ebff;}#sk-container-id-12 div.sk-label input.sk-toggleable__control:checked~label.sk-toggleable__label {background-color: #d4ebff;}#sk-container-id-12 input.sk-hidden--visually {border: 0;clip: rect(1px 1px 1px 1px);clip: rect(1px, 1px, 1px, 1px);height: 1px;margin: -1px;overflow: hidden;padding: 0;position: absolute;width: 1px;}#sk-container-id-12 div.sk-estimator {font-family: monospace;background-color: #f0f8ff;border: 1px dotted black;border-radius: 0.25em;box-sizing: border-box;margin-bottom: 0.5em;}#sk-container-id-12 div.sk-estimator:hover {background-color: #d4ebff;}#sk-container-id-12 div.sk-parallel-item::after {content: \"\";width: 100%;border-bottom: 1px solid gray;flex-grow: 1;}#sk-container-id-12 div.sk-label:hover label.sk-toggleable__label {background-color: #d4ebff;}#sk-container-id-12 div.sk-serial::before {content: \"\";position: absolute;border-left: 1px solid gray;box-sizing: border-box;top: 0;bottom: 0;left: 50%;z-index: 0;}#sk-container-id-12 div.sk-serial {display: flex;flex-direction: column;align-items: center;background-color: white;padding-right: 0.2em;padding-left: 0.2em;position: relative;}#sk-container-id-12 div.sk-item {position: relative;z-index: 1;}#sk-container-id-12 div.sk-parallel {display: flex;align-items: stretch;justify-content: center;background-color: white;position: relative;}#sk-container-id-12 div.sk-item::before, #sk-container-id-12 div.sk-parallel-item::before {content: \"\";position: absolute;border-left: 1px solid gray;box-sizing: border-box;top: 0;bottom: 0;left: 50%;z-index: -1;}#sk-container-id-12 div.sk-parallel-item {display: flex;flex-direction: column;z-index: 1;position: relative;background-color: white;}#sk-container-id-12 div.sk-parallel-item:first-child::after {align-self: flex-end;width: 50%;}#sk-container-id-12 div.sk-parallel-item:last-child::after {align-self: flex-start;width: 50%;}#sk-container-id-12 div.sk-parallel-item:only-child::after {width: 0;}#sk-container-id-12 div.sk-dashed-wrapped {border: 1px dashed gray;margin: 0 0.4em 0.5em 0.4em;box-sizing: border-box;padding-bottom: 0.4em;background-color: white;}#sk-container-id-12 div.sk-label label {font-family: monospace;font-weight: bold;display: inline-block;line-height: 1.2em;}#sk-container-id-12 div.sk-label-container {text-align: center;}#sk-container-id-12 div.sk-container {/* jupyter's `normalize.less` sets `[hidden] { display: none; }` but bootstrap.min.css set `[hidden] { display: none !important; }` so we also need the `!important` here to be able to override the default hidden behavior on the sphinx rendered scikit-learn.org. See: https://github.com/scikit-learn/scikit-learn/issues/21755 */display: inline-block !important;position: relative;}#sk-container-id-12 div.sk-text-repr-fallback {display: none;}</style><div id=\"sk-container-id-12\" class=\"sk-top-container\"><div class=\"sk-text-repr-fallback\"><pre>GradientBoostingRegressor(criterion=&#x27;squared_error&#x27;, max_depth=5,\n",
       "                          max_features=&#x27;auto&#x27;, n_estimators=50)</pre><b>In a Jupyter environment, please rerun this cell to show the HTML representation or trust the notebook. <br />On GitHub, the HTML representation is unable to render, please try loading this page with nbviewer.org.</b></div><div class=\"sk-container\" hidden><div class=\"sk-item\"><div class=\"sk-estimator sk-toggleable\"><input class=\"sk-toggleable__control sk-hidden--visually\" id=\"sk-estimator-id-12\" type=\"checkbox\" checked><label for=\"sk-estimator-id-12\" class=\"sk-toggleable__label sk-toggleable__label-arrow\">GradientBoostingRegressor</label><div class=\"sk-toggleable__content\"><pre>GradientBoostingRegressor(criterion=&#x27;squared_error&#x27;, max_depth=5,\n",
       "                          max_features=&#x27;auto&#x27;, n_estimators=50)</pre></div></div></div></div></div>"
      ],
      "text/plain": [
       "GradientBoostingRegressor(criterion='squared_error', max_depth=5,\n",
       "                          max_features='auto', n_estimators=50)"
      ]
     },
     "execution_count": 133,
     "metadata": {},
     "output_type": "execute_result"
    }
   ],
   "source": [
    "GSC.best_estimator_"
   ]
  },
  {
   "cell_type": "code",
   "execution_count": 134,
   "id": "c1a34895",
   "metadata": {},
   "outputs": [
    {
     "data": {
      "text/plain": [
       "0.9738462023056993"
      ]
     },
     "execution_count": 134,
     "metadata": {},
     "output_type": "execute_result"
    }
   ],
   "source": [
    "GSC_pred=GSC.best_estimator_.predict(x_test)\n",
    "r2_score(y_test,GSC_pred)"
   ]
  },
  {
   "cell_type": "markdown",
   "id": "84073c06",
   "metadata": {},
   "source": [
    "######  Random forest regressor"
   ]
  },
  {
   "cell_type": "code",
   "execution_count": 136,
   "id": "d59c7e79",
   "metadata": {},
   "outputs": [
    {
     "data": {
      "text/plain": [
       "{'criterion': 'absolute_error', 'max_depth': 7, 'max_features': 'auto'}"
      ]
     },
     "execution_count": 136,
     "metadata": {},
     "output_type": "execute_result"
    }
   ],
   "source": [
    "GSC=GridSearchCV(rfr,parameters,cv=8)\n",
    "GSC.fit(x_train,y_train)\n",
    "GSC.best_params_"
   ]
  },
  {
   "cell_type": "code",
   "execution_count": 137,
   "id": "1a7dd9cc",
   "metadata": {},
   "outputs": [
    {
     "data": {
      "text/html": [
       "<style>#sk-container-id-13 {color: black;background-color: white;}#sk-container-id-13 pre{padding: 0;}#sk-container-id-13 div.sk-toggleable {background-color: white;}#sk-container-id-13 label.sk-toggleable__label {cursor: pointer;display: block;width: 100%;margin-bottom: 0;padding: 0.3em;box-sizing: border-box;text-align: center;}#sk-container-id-13 label.sk-toggleable__label-arrow:before {content: \"▸\";float: left;margin-right: 0.25em;color: #696969;}#sk-container-id-13 label.sk-toggleable__label-arrow:hover:before {color: black;}#sk-container-id-13 div.sk-estimator:hover label.sk-toggleable__label-arrow:before {color: black;}#sk-container-id-13 div.sk-toggleable__content {max-height: 0;max-width: 0;overflow: hidden;text-align: left;background-color: #f0f8ff;}#sk-container-id-13 div.sk-toggleable__content pre {margin: 0.2em;color: black;border-radius: 0.25em;background-color: #f0f8ff;}#sk-container-id-13 input.sk-toggleable__control:checked~div.sk-toggleable__content {max-height: 200px;max-width: 100%;overflow: auto;}#sk-container-id-13 input.sk-toggleable__control:checked~label.sk-toggleable__label-arrow:before {content: \"▾\";}#sk-container-id-13 div.sk-estimator input.sk-toggleable__control:checked~label.sk-toggleable__label {background-color: #d4ebff;}#sk-container-id-13 div.sk-label input.sk-toggleable__control:checked~label.sk-toggleable__label {background-color: #d4ebff;}#sk-container-id-13 input.sk-hidden--visually {border: 0;clip: rect(1px 1px 1px 1px);clip: rect(1px, 1px, 1px, 1px);height: 1px;margin: -1px;overflow: hidden;padding: 0;position: absolute;width: 1px;}#sk-container-id-13 div.sk-estimator {font-family: monospace;background-color: #f0f8ff;border: 1px dotted black;border-radius: 0.25em;box-sizing: border-box;margin-bottom: 0.5em;}#sk-container-id-13 div.sk-estimator:hover {background-color: #d4ebff;}#sk-container-id-13 div.sk-parallel-item::after {content: \"\";width: 100%;border-bottom: 1px solid gray;flex-grow: 1;}#sk-container-id-13 div.sk-label:hover label.sk-toggleable__label {background-color: #d4ebff;}#sk-container-id-13 div.sk-serial::before {content: \"\";position: absolute;border-left: 1px solid gray;box-sizing: border-box;top: 0;bottom: 0;left: 50%;z-index: 0;}#sk-container-id-13 div.sk-serial {display: flex;flex-direction: column;align-items: center;background-color: white;padding-right: 0.2em;padding-left: 0.2em;position: relative;}#sk-container-id-13 div.sk-item {position: relative;z-index: 1;}#sk-container-id-13 div.sk-parallel {display: flex;align-items: stretch;justify-content: center;background-color: white;position: relative;}#sk-container-id-13 div.sk-item::before, #sk-container-id-13 div.sk-parallel-item::before {content: \"\";position: absolute;border-left: 1px solid gray;box-sizing: border-box;top: 0;bottom: 0;left: 50%;z-index: -1;}#sk-container-id-13 div.sk-parallel-item {display: flex;flex-direction: column;z-index: 1;position: relative;background-color: white;}#sk-container-id-13 div.sk-parallel-item:first-child::after {align-self: flex-end;width: 50%;}#sk-container-id-13 div.sk-parallel-item:last-child::after {align-self: flex-start;width: 50%;}#sk-container-id-13 div.sk-parallel-item:only-child::after {width: 0;}#sk-container-id-13 div.sk-dashed-wrapped {border: 1px dashed gray;margin: 0 0.4em 0.5em 0.4em;box-sizing: border-box;padding-bottom: 0.4em;background-color: white;}#sk-container-id-13 div.sk-label label {font-family: monospace;font-weight: bold;display: inline-block;line-height: 1.2em;}#sk-container-id-13 div.sk-label-container {text-align: center;}#sk-container-id-13 div.sk-container {/* jupyter's `normalize.less` sets `[hidden] { display: none; }` but bootstrap.min.css set `[hidden] { display: none !important; }` so we also need the `!important` here to be able to override the default hidden behavior on the sphinx rendered scikit-learn.org. See: https://github.com/scikit-learn/scikit-learn/issues/21755 */display: inline-block !important;position: relative;}#sk-container-id-13 div.sk-text-repr-fallback {display: none;}</style><div id=\"sk-container-id-13\" class=\"sk-top-container\"><div class=\"sk-text-repr-fallback\"><pre>RandomForestRegressor(criterion=&#x27;absolute_error&#x27;, max_depth=7,\n",
       "                      max_features=&#x27;auto&#x27;, n_estimators=50)</pre><b>In a Jupyter environment, please rerun this cell to show the HTML representation or trust the notebook. <br />On GitHub, the HTML representation is unable to render, please try loading this page with nbviewer.org.</b></div><div class=\"sk-container\" hidden><div class=\"sk-item\"><div class=\"sk-estimator sk-toggleable\"><input class=\"sk-toggleable__control sk-hidden--visually\" id=\"sk-estimator-id-13\" type=\"checkbox\" checked><label for=\"sk-estimator-id-13\" class=\"sk-toggleable__label sk-toggleable__label-arrow\">RandomForestRegressor</label><div class=\"sk-toggleable__content\"><pre>RandomForestRegressor(criterion=&#x27;absolute_error&#x27;, max_depth=7,\n",
       "                      max_features=&#x27;auto&#x27;, n_estimators=50)</pre></div></div></div></div></div>"
      ],
      "text/plain": [
       "RandomForestRegressor(criterion='absolute_error', max_depth=7,\n",
       "                      max_features='auto', n_estimators=50)"
      ]
     },
     "execution_count": 137,
     "metadata": {},
     "output_type": "execute_result"
    }
   ],
   "source": [
    "GSC.best_estimator_"
   ]
  },
  {
   "cell_type": "code",
   "execution_count": 138,
   "id": "11ca710b",
   "metadata": {},
   "outputs": [
    {
     "data": {
      "text/plain": [
       "0.9784063131523385"
      ]
     },
     "execution_count": 138,
     "metadata": {},
     "output_type": "execute_result"
    }
   ],
   "source": [
    "GSC_pred=GSC.best_estimator_.predict(x_test)\n",
    "r2_score(y_test,GSC_pred)"
   ]
  },
  {
   "cell_type": "markdown",
   "id": "a5842717",
   "metadata": {},
   "source": [
    "."
   ]
  },
  {
   "cell_type": "code",
   "execution_count": 139,
   "id": "8921aae2",
   "metadata": {},
   "outputs": [
    {
     "name": "stdout",
     "output_type": "stream",
     "text": [
      "r2 score: 0.9760330241807684\n",
      "Mean absolute error: 0.6472188451529931\n",
      "Mean squared error: 0.7214405744802104\n",
      "Root mean squared error: 0.8493765798985808\n"
     ]
    }
   ],
   "source": [
    "gbr=GradientBoostingRegressor(criterion='squared_error', max_depth=5,\n",
    "                          max_features='auto', n_estimators=50)\n",
    "gbr.fit(x_train,y_train)\n",
    "pred=gbr.predict(x_test)\n",
    "print(\"r2 score:\",r2_score(y_test,pred))\n",
    "print(\"Mean absolute error:\",mean_absolute_error(y_test,pred))\n",
    "print(\"Mean squared error:\",mean_squared_error(y_test,pred))\n",
    "print(\"Root mean squared error:\",np.sqrt(mean_squared_error(y_test,pred)))"
   ]
  },
  {
   "cell_type": "code",
   "execution_count": 140,
   "id": "8afd1895",
   "metadata": {},
   "outputs": [
    {
     "name": "stdout",
     "output_type": "stream",
     "text": [
      "r2 score: 0.9796877201280421\n",
      "Mean absolute error 0.6295499999999989\n",
      "Mean squared error: 0.6114289499999984\n",
      "Root mean squared error: 0.7819392239809936\n"
     ]
    }
   ],
   "source": [
    "rfr=RandomForestRegressor(criterion='absolute_error', max_depth=7,\n",
    "                      max_features='auto', n_estimators=50)\n",
    "rfr.fit(x_train,y_train)\n",
    "pred=rfr.predict(x_test)\n",
    "print(\"r2 score:\",r2_score(y_test,pred))\n",
    "print(\"Mean absolute error\",mean_absolute_error(y_test,pred))\n",
    "print(\"Mean squared error:\",mean_squared_error(y_test,pred))\n",
    "print(\"Root mean squared error:\",np.sqrt(mean_squared_error(y_test,pred)))"
   ]
  },
  {
   "cell_type": "markdown",
   "id": "f6266ac3",
   "metadata": {},
   "source": [
    "# We will save Random forest regressor model because it gives us the highest accuracy which is 97.96% or we can say we acchived 98% accuracy ."
   ]
  },
  {
   "cell_type": "markdown",
   "id": "f7a31c31",
   "metadata": {},
   "source": [
    "## Saving our best model--"
   ]
  },
  {
   "cell_type": "code",
   "execution_count": 141,
   "id": "93fd4471",
   "metadata": {},
   "outputs": [
    {
     "data": {
      "text/plain": [
       "['Sales_channel_prediction_1.pkl']"
      ]
     },
     "execution_count": 141,
     "metadata": {},
     "output_type": "execute_result"
    }
   ],
   "source": [
    "import joblib\n",
    "\n",
    "joblib.dump(RandomForestRegressor(),'Sales_channel_prediction_1.pkl')"
   ]
  },
  {
   "cell_type": "markdown",
   "id": "9ad3dae0",
   "metadata": {},
   "source": [
    "# Conclusion:"
   ]
  },
  {
   "cell_type": "markdown",
   "id": "2a65575f",
   "metadata": {},
   "source": [
    "From the above observation we can canclude that:\n",
    "    \n",
    "    1) In the original data set we had no null values,that is why we did not use imputation technique.\n",
    "    \n",
    "    2) Simmilarly we had all the numeric values in the data set that is why we did not go for encoding.\n",
    "    \n",
    "    3) One column has been dropped because it was giving index no. (unnamed :0).\n",
    "    \n",
    "    4) In the newspaper column some skewness was present, we removed the skewness with the help of squre root transformation.\n",
    "    \n",
    "    5) Few outliers was also present , to remove this we used ZScore method.\n",
    "    \n",
    "    6) Our data was not scalled , For scaling we adopted minmax scaler technique.\n",
    "    \n",
    "    7) Because our prediction based on continious data type, that is why we followed the regression technique.\n",
    "    \n",
    "    8) For prediction we used Some models like:\n",
    "        \n",
    "        a.Linier regression\n",
    "        \n",
    "        b.Decision tress regressor\n",
    "        \n",
    "        c.Support vector machine regressor\n",
    "        \n",
    "        d.Knaighbour regressor\n",
    "        \n",
    "    9) For boosting our accuracy we used :\n",
    "        \n",
    "        a.Adaboost regressor\n",
    "        \n",
    "        b.Random forest regressor\n",
    "        \n",
    "        c.Gradient boosting regressor.\n",
    "        \n",
    "    10) We have done Hyper parameter tuning with Grid Search CV, From this we got 97.84% accurac and got best parameters which is criterion='absolute_error', max_depth=7,\n",
    "                      max_features='auto', n_estimators=50\n",
    "    \n",
    "    11) Finally We saved our best accuracy model i.e. Random Forest regressor with the accuracy of 97.96%.\n",
    "    \n",
    " In the end we can say that, 97.96% accuracy is very good accuracy for any prediction.Now our model is ready to predict sales.   "
   ]
  },
  {
   "cell_type": "code",
   "execution_count": null,
   "id": "cafe3cc9",
   "metadata": {},
   "outputs": [],
   "source": []
  }
 ],
 "metadata": {
  "kernelspec": {
   "display_name": "Python 3 (ipykernel)",
   "language": "python",
   "name": "python3"
  },
  "language_info": {
   "codemirror_mode": {
    "name": "ipython",
    "version": 3
   },
   "file_extension": ".py",
   "mimetype": "text/x-python",
   "name": "python",
   "nbconvert_exporter": "python",
   "pygments_lexer": "ipython3",
   "version": "3.9.7"
  }
 },
 "nbformat": 4,
 "nbformat_minor": 5
}
