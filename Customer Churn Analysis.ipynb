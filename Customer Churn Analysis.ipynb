{
 "cells": [
  {
   "cell_type": "markdown",
   "id": "176ecb2f",
   "metadata": {},
   "source": [
    "## Customer Churn Analysis\n",
    "### Problem Statement:\n",
    "\n",
    "Customer churn is the percentage of customers that stopped using your company's product or service during a certain time frame.\n",
    "Customer churn is when a company’s customers stop doing business with that company. Businesses are very keen on measuring churn because keeping an existing customer is far less expensive than acquiring a new customer. New business involves working leads through a sales funnel, using marketing and sales budgets to gain additional customers. Existing customers will often have a higher volume of service consumption and can generate additional customer referrals.\n",
    "\n",
    "Customer retention can be achieved with good customer service and products. But the most effective way for a company to prevent attrition of customers is to truly know them. The vast volumes of data collected about customers can be used to build churn prediction models. Knowing who is most likely to defect means that a company can prioritise focused marketing efforts on that subset of their customer base.\n",
    "\n",
    "Preventing customer churn is critically important to the telecommunications sector, as the barriers to entry for switching services are so low. \n",
    "\n",
    "You will examine customer data from IBM Sample Data Sets with the aim of building and comparing several customer churn prediction models."
   ]
  },
  {
   "cell_type": "code",
   "execution_count": 1,
   "id": "b93809d4",
   "metadata": {},
   "outputs": [],
   "source": [
    "import pandas as pd\n",
    "import seaborn as sns\n",
    "import matplotlib.pyplot as plt\n",
    "import warnings\n",
    "warnings.filterwarnings(\"ignore\")"
   ]
  },
  {
   "cell_type": "code",
   "execution_count": 2,
   "id": "14661c0d",
   "metadata": {},
   "outputs": [],
   "source": [
    "cc=pd.read_csv(\"https://raw.githubusercontent.com/dsrscientist/DSData/master/Telecom_customer_churn.csv\")"
   ]
  },
  {
   "cell_type": "code",
   "execution_count": 3,
   "id": "03e4a285",
   "metadata": {},
   "outputs": [],
   "source": [
    "pd.set_option('display.max_columns',None)"
   ]
  },
  {
   "cell_type": "code",
   "execution_count": 4,
   "id": "b4e0521a",
   "metadata": {},
   "outputs": [
    {
     "data": {
      "text/html": [
       "<div>\n",
       "<style scoped>\n",
       "    .dataframe tbody tr th:only-of-type {\n",
       "        vertical-align: middle;\n",
       "    }\n",
       "\n",
       "    .dataframe tbody tr th {\n",
       "        vertical-align: top;\n",
       "    }\n",
       "\n",
       "    .dataframe thead th {\n",
       "        text-align: right;\n",
       "    }\n",
       "</style>\n",
       "<table border=\"1\" class=\"dataframe\">\n",
       "  <thead>\n",
       "    <tr style=\"text-align: right;\">\n",
       "      <th></th>\n",
       "      <th>customerID</th>\n",
       "      <th>gender</th>\n",
       "      <th>SeniorCitizen</th>\n",
       "      <th>Partner</th>\n",
       "      <th>Dependents</th>\n",
       "      <th>tenure</th>\n",
       "      <th>PhoneService</th>\n",
       "      <th>MultipleLines</th>\n",
       "      <th>InternetService</th>\n",
       "      <th>OnlineSecurity</th>\n",
       "      <th>OnlineBackup</th>\n",
       "      <th>DeviceProtection</th>\n",
       "      <th>TechSupport</th>\n",
       "      <th>StreamingTV</th>\n",
       "      <th>StreamingMovies</th>\n",
       "      <th>Contract</th>\n",
       "      <th>PaperlessBilling</th>\n",
       "      <th>PaymentMethod</th>\n",
       "      <th>MonthlyCharges</th>\n",
       "      <th>TotalCharges</th>\n",
       "      <th>Churn</th>\n",
       "    </tr>\n",
       "  </thead>\n",
       "  <tbody>\n",
       "    <tr>\n",
       "      <th>0</th>\n",
       "      <td>7590-VHVEG</td>\n",
       "      <td>Female</td>\n",
       "      <td>0</td>\n",
       "      <td>Yes</td>\n",
       "      <td>No</td>\n",
       "      <td>1</td>\n",
       "      <td>No</td>\n",
       "      <td>No phone service</td>\n",
       "      <td>DSL</td>\n",
       "      <td>No</td>\n",
       "      <td>Yes</td>\n",
       "      <td>No</td>\n",
       "      <td>No</td>\n",
       "      <td>No</td>\n",
       "      <td>No</td>\n",
       "      <td>Month-to-month</td>\n",
       "      <td>Yes</td>\n",
       "      <td>Electronic check</td>\n",
       "      <td>29.85</td>\n",
       "      <td>29.85</td>\n",
       "      <td>No</td>\n",
       "    </tr>\n",
       "    <tr>\n",
       "      <th>1</th>\n",
       "      <td>5575-GNVDE</td>\n",
       "      <td>Male</td>\n",
       "      <td>0</td>\n",
       "      <td>No</td>\n",
       "      <td>No</td>\n",
       "      <td>34</td>\n",
       "      <td>Yes</td>\n",
       "      <td>No</td>\n",
       "      <td>DSL</td>\n",
       "      <td>Yes</td>\n",
       "      <td>No</td>\n",
       "      <td>Yes</td>\n",
       "      <td>No</td>\n",
       "      <td>No</td>\n",
       "      <td>No</td>\n",
       "      <td>One year</td>\n",
       "      <td>No</td>\n",
       "      <td>Mailed check</td>\n",
       "      <td>56.95</td>\n",
       "      <td>1889.5</td>\n",
       "      <td>No</td>\n",
       "    </tr>\n",
       "    <tr>\n",
       "      <th>2</th>\n",
       "      <td>3668-QPYBK</td>\n",
       "      <td>Male</td>\n",
       "      <td>0</td>\n",
       "      <td>No</td>\n",
       "      <td>No</td>\n",
       "      <td>2</td>\n",
       "      <td>Yes</td>\n",
       "      <td>No</td>\n",
       "      <td>DSL</td>\n",
       "      <td>Yes</td>\n",
       "      <td>Yes</td>\n",
       "      <td>No</td>\n",
       "      <td>No</td>\n",
       "      <td>No</td>\n",
       "      <td>No</td>\n",
       "      <td>Month-to-month</td>\n",
       "      <td>Yes</td>\n",
       "      <td>Mailed check</td>\n",
       "      <td>53.85</td>\n",
       "      <td>108.15</td>\n",
       "      <td>Yes</td>\n",
       "    </tr>\n",
       "    <tr>\n",
       "      <th>3</th>\n",
       "      <td>7795-CFOCW</td>\n",
       "      <td>Male</td>\n",
       "      <td>0</td>\n",
       "      <td>No</td>\n",
       "      <td>No</td>\n",
       "      <td>45</td>\n",
       "      <td>No</td>\n",
       "      <td>No phone service</td>\n",
       "      <td>DSL</td>\n",
       "      <td>Yes</td>\n",
       "      <td>No</td>\n",
       "      <td>Yes</td>\n",
       "      <td>Yes</td>\n",
       "      <td>No</td>\n",
       "      <td>No</td>\n",
       "      <td>One year</td>\n",
       "      <td>No</td>\n",
       "      <td>Bank transfer (automatic)</td>\n",
       "      <td>42.30</td>\n",
       "      <td>1840.75</td>\n",
       "      <td>No</td>\n",
       "    </tr>\n",
       "    <tr>\n",
       "      <th>4</th>\n",
       "      <td>9237-HQITU</td>\n",
       "      <td>Female</td>\n",
       "      <td>0</td>\n",
       "      <td>No</td>\n",
       "      <td>No</td>\n",
       "      <td>2</td>\n",
       "      <td>Yes</td>\n",
       "      <td>No</td>\n",
       "      <td>Fiber optic</td>\n",
       "      <td>No</td>\n",
       "      <td>No</td>\n",
       "      <td>No</td>\n",
       "      <td>No</td>\n",
       "      <td>No</td>\n",
       "      <td>No</td>\n",
       "      <td>Month-to-month</td>\n",
       "      <td>Yes</td>\n",
       "      <td>Electronic check</td>\n",
       "      <td>70.70</td>\n",
       "      <td>151.65</td>\n",
       "      <td>Yes</td>\n",
       "    </tr>\n",
       "  </tbody>\n",
       "</table>\n",
       "</div>"
      ],
      "text/plain": [
       "   customerID  gender  SeniorCitizen Partner Dependents  tenure PhoneService  \\\n",
       "0  7590-VHVEG  Female              0     Yes         No       1           No   \n",
       "1  5575-GNVDE    Male              0      No         No      34          Yes   \n",
       "2  3668-QPYBK    Male              0      No         No       2          Yes   \n",
       "3  7795-CFOCW    Male              0      No         No      45           No   \n",
       "4  9237-HQITU  Female              0      No         No       2          Yes   \n",
       "\n",
       "      MultipleLines InternetService OnlineSecurity OnlineBackup  \\\n",
       "0  No phone service             DSL             No          Yes   \n",
       "1                No             DSL            Yes           No   \n",
       "2                No             DSL            Yes          Yes   \n",
       "3  No phone service             DSL            Yes           No   \n",
       "4                No     Fiber optic             No           No   \n",
       "\n",
       "  DeviceProtection TechSupport StreamingTV StreamingMovies        Contract  \\\n",
       "0               No          No          No              No  Month-to-month   \n",
       "1              Yes          No          No              No        One year   \n",
       "2               No          No          No              No  Month-to-month   \n",
       "3              Yes         Yes          No              No        One year   \n",
       "4               No          No          No              No  Month-to-month   \n",
       "\n",
       "  PaperlessBilling              PaymentMethod  MonthlyCharges TotalCharges  \\\n",
       "0              Yes           Electronic check           29.85        29.85   \n",
       "1               No               Mailed check           56.95       1889.5   \n",
       "2              Yes               Mailed check           53.85       108.15   \n",
       "3               No  Bank transfer (automatic)           42.30      1840.75   \n",
       "4              Yes           Electronic check           70.70       151.65   \n",
       "\n",
       "  Churn  \n",
       "0    No  \n",
       "1    No  \n",
       "2   Yes  \n",
       "3    No  \n",
       "4   Yes  "
      ]
     },
     "execution_count": 4,
     "metadata": {},
     "output_type": "execute_result"
    }
   ],
   "source": [
    "cc.head()"
   ]
  },
  {
   "cell_type": "code",
   "execution_count": 5,
   "id": "6af52714",
   "metadata": {},
   "outputs": [
    {
     "data": {
      "text/plain": [
       "(7043, 21)"
      ]
     },
     "execution_count": 5,
     "metadata": {},
     "output_type": "execute_result"
    }
   ],
   "source": [
    "cc.shape"
   ]
  },
  {
   "cell_type": "code",
   "execution_count": 6,
   "id": "51312b02",
   "metadata": {},
   "outputs": [
    {
     "data": {
      "text/plain": [
       "Index(['customerID', 'gender', 'SeniorCitizen', 'Partner', 'Dependents',\n",
       "       'tenure', 'PhoneService', 'MultipleLines', 'InternetService',\n",
       "       'OnlineSecurity', 'OnlineBackup', 'DeviceProtection', 'TechSupport',\n",
       "       'StreamingTV', 'StreamingMovies', 'Contract', 'PaperlessBilling',\n",
       "       'PaymentMethod', 'MonthlyCharges', 'TotalCharges', 'Churn'],\n",
       "      dtype='object')"
      ]
     },
     "execution_count": 6,
     "metadata": {},
     "output_type": "execute_result"
    }
   ],
   "source": [
    "cc.columns"
   ]
  },
  {
   "cell_type": "code",
   "execution_count": 7,
   "id": "f3a20201",
   "metadata": {},
   "outputs": [
    {
     "name": "stdout",
     "output_type": "stream",
     "text": [
      "<class 'pandas.core.frame.DataFrame'>\n",
      "RangeIndex: 7043 entries, 0 to 7042\n",
      "Data columns (total 21 columns):\n",
      " #   Column            Non-Null Count  Dtype  \n",
      "---  ------            --------------  -----  \n",
      " 0   customerID        7043 non-null   object \n",
      " 1   gender            7043 non-null   object \n",
      " 2   SeniorCitizen     7043 non-null   int64  \n",
      " 3   Partner           7043 non-null   object \n",
      " 4   Dependents        7043 non-null   object \n",
      " 5   tenure            7043 non-null   int64  \n",
      " 6   PhoneService      7043 non-null   object \n",
      " 7   MultipleLines     7043 non-null   object \n",
      " 8   InternetService   7043 non-null   object \n",
      " 9   OnlineSecurity    7043 non-null   object \n",
      " 10  OnlineBackup      7043 non-null   object \n",
      " 11  DeviceProtection  7043 non-null   object \n",
      " 12  TechSupport       7043 non-null   object \n",
      " 13  StreamingTV       7043 non-null   object \n",
      " 14  StreamingMovies   7043 non-null   object \n",
      " 15  Contract          7043 non-null   object \n",
      " 16  PaperlessBilling  7043 non-null   object \n",
      " 17  PaymentMethod     7043 non-null   object \n",
      " 18  MonthlyCharges    7043 non-null   float64\n",
      " 19  TotalCharges      7043 non-null   object \n",
      " 20  Churn             7043 non-null   object \n",
      "dtypes: float64(1), int64(2), object(18)\n",
      "memory usage: 1.1+ MB\n"
     ]
    }
   ],
   "source": [
    "cc.info()"
   ]
  },
  {
   "cell_type": "code",
   "execution_count": 8,
   "id": "eb5e0bda",
   "metadata": {},
   "outputs": [
    {
     "data": {
      "text/plain": [
       "customerID           object\n",
       "gender               object\n",
       "SeniorCitizen         int64\n",
       "Partner              object\n",
       "Dependents           object\n",
       "tenure                int64\n",
       "PhoneService         object\n",
       "MultipleLines        object\n",
       "InternetService      object\n",
       "OnlineSecurity       object\n",
       "OnlineBackup         object\n",
       "DeviceProtection     object\n",
       "TechSupport          object\n",
       "StreamingTV          object\n",
       "StreamingMovies      object\n",
       "Contract             object\n",
       "PaperlessBilling     object\n",
       "PaymentMethod        object\n",
       "MonthlyCharges      float64\n",
       "TotalCharges         object\n",
       "Churn                object\n",
       "dtype: object"
      ]
     },
     "execution_count": 8,
     "metadata": {},
     "output_type": "execute_result"
    }
   ],
   "source": [
    "cc.dtypes"
   ]
  },
  {
   "cell_type": "code",
   "execution_count": 9,
   "id": "58d0446a",
   "metadata": {},
   "outputs": [
    {
     "data": {
      "text/plain": [
       "customerID          0\n",
       "gender              0\n",
       "SeniorCitizen       0\n",
       "Partner             0\n",
       "Dependents          0\n",
       "tenure              0\n",
       "PhoneService        0\n",
       "MultipleLines       0\n",
       "InternetService     0\n",
       "OnlineSecurity      0\n",
       "OnlineBackup        0\n",
       "DeviceProtection    0\n",
       "TechSupport         0\n",
       "StreamingTV         0\n",
       "StreamingMovies     0\n",
       "Contract            0\n",
       "PaperlessBilling    0\n",
       "PaymentMethod       0\n",
       "MonthlyCharges      0\n",
       "TotalCharges        0\n",
       "Churn               0\n",
       "dtype: int64"
      ]
     },
     "execution_count": 9,
     "metadata": {},
     "output_type": "execute_result"
    }
   ],
   "source": [
    "cc.isnull().sum()"
   ]
  },
  {
   "cell_type": "code",
   "execution_count": 10,
   "id": "27bc8a9b",
   "metadata": {},
   "outputs": [
    {
     "data": {
      "image/png": "[encoded data removed]",
      "text/plain": [
       "<Figure size 1080x576 with 2 Axes>"
      ]
     },
     "metadata": {
      "needs_background": "light"
     },
     "output_type": "display_data"
    }
   ],
   "source": [
    "plt.figure(figsize=[15,8])\n",
    "sns.heatmap(cc.isnull(),cmap='nipy_spectral')\n",
    "plt.show()"
   ]
  },
  {
   "cell_type": "markdown",
   "id": "a2809faa",
   "metadata": {},
   "source": [
    "### Observation-1\n",
    "\n",
    "In the above dataset :\n",
    "\n",
    "1) The size of table is  7043 * 21 i.e. no. of rows are 7043 and no. of columns are 21(including target).\n",
    "\n",
    "2) Out of 21 columns 3 columns are continuous in nature and rest 18 are object type.\n",
    "\n",
    "3) Null values are not present in the data set as we can see in ths seaborn heatmap so there is no need to adopt imputation technique.\n",
    "\n",
    "4) In case of object data type, we will apply the encoding technique to convert the values in the numeric format."
   ]
  },
  {
   "cell_type": "markdown",
   "id": "38d9b9b6",
   "metadata": {},
   "source": [
    "# EDA\n",
    "###### Exploratory Data Analysis (EDA): \n",
    "    EDA process will give us the batter understanding towards the pattern of Dataset"
   ]
  },
  {
   "cell_type": "markdown",
   "id": "3e056b6d",
   "metadata": {},
   "source": [
    "### Univariate Analysis"
   ]
  },
  {
   "cell_type": "code",
   "execution_count": 11,
   "id": "9c4a601b",
   "metadata": {},
   "outputs": [
    {
     "name": "stdout",
     "output_type": "stream",
     "text": [
      "['No' 'Yes']\n",
      "\n",
      "\n",
      "No     5174\n",
      "Yes    1869\n",
      "Name: Churn, dtype: int64\n"
     ]
    },
    {
     "data": {
      "image/png": "[encoded data removed]",
      "text/plain": [
       "<Figure size 720x432 with 1 Axes>"
      ]
     },
     "metadata": {
      "needs_background": "light"
     },
     "output_type": "display_data"
    }
   ],
   "source": [
    "print(cc['Churn'].unique())\n",
    "print(\"\\n\")\n",
    "print(cc['Churn'].value_counts())   \n",
    "plt.figure(figsize=[10,6])\n",
    "sns.countplot(cc['Churn'],palette='rocket')\n",
    "plt.show()"
   ]
  },
  {
   "cell_type": "code",
   "execution_count": 12,
   "id": "5d1a4e59",
   "metadata": {},
   "outputs": [
    {
     "name": "stdout",
     "output_type": "stream",
     "text": [
      "['Female' 'Male']\n",
      "\n",
      "\n",
      "Male      3555\n",
      "Female    3488\n",
      "Name: gender, dtype: int64\n"
     ]
    },
    {
     "data": {
      "image/png": "[encoded data removed]",
      "text/plain": [
       "<Figure size 720x432 with 1 Axes>"
      ]
     },
     "metadata": {
      "needs_background": "light"
     },
     "output_type": "display_data"
    }
   ],
   "source": [
    "print(cc['gender'].unique())\n",
    "print(\"\\n\")\n",
    "print(cc['gender'].value_counts())   \n",
    "plt.figure(figsize=[10,6])\n",
    "sns.countplot(cc['gender'],palette='Blues')\n",
    "plt.show()"
   ]
  },
  {
   "cell_type": "code",
   "execution_count": 13,
   "id": "0556c605",
   "metadata": {},
   "outputs": [
    {
     "name": "stdout",
     "output_type": "stream",
     "text": [
      "[0 1]\n",
      "\n",
      "\n",
      "0    5901\n",
      "1    1142\n",
      "Name: SeniorCitizen, dtype: int64\n"
     ]
    },
    {
     "data": {
      "image/png": "[encoded data removed]",
      "text/plain": [
       "<Figure size 720x432 with 1 Axes>"
      ]
     },
     "metadata": {
      "needs_background": "light"
     },
     "output_type": "display_data"
    }
   ],
   "source": [
    "print(cc['SeniorCitizen'].unique())\n",
    "print(\"\\n\")\n",
    "print(cc['SeniorCitizen'].value_counts())   \n",
    "plt.figure(figsize=[10,6])\n",
    "sns.countplot(cc['SeniorCitizen'])\n",
    "plt.show()"
   ]
  },
  {
   "cell_type": "code",
   "execution_count": 14,
   "id": "891ed420",
   "metadata": {},
   "outputs": [
    {
     "name": "stdout",
     "output_type": "stream",
     "text": [
      "['Yes' 'No']\n",
      "\n",
      "\n",
      "No     3641\n",
      "Yes    3402\n",
      "Name: Partner, dtype: int64\n"
     ]
    },
    {
     "data": {
      "image/png": "[encoded data removed]",
      "text/plain": [
       "<Figure size 720x432 with 1 Axes>"
      ]
     },
     "metadata": {
      "needs_background": "light"
     },
     "output_type": "display_data"
    }
   ],
   "source": [
    "print(cc['Partner'].unique())\n",
    "print(\"\\n\")\n",
    "print(cc['Partner'].value_counts())   \n",
    "plt.figure(figsize=[10,6])\n",
    "sns.countplot(cc['Partner'],palette='Blues')\n",
    "plt.show()"
   ]
  },
  {
   "cell_type": "code",
   "execution_count": 15,
   "id": "21171ada",
   "metadata": {},
   "outputs": [
    {
     "name": "stdout",
     "output_type": "stream",
     "text": [
      "[ 1 34  2 45  8 22 10 28 62 13 16 58 49 25 69 52 71 21 12 30 47 72 17 27\n",
      "  5 46 11 70 63 43 15 60 18 66  9  3 31 50 64 56  7 42 35 48 29 65 38 68\n",
      " 32 55 37 36 41  6  4 33 67 23 57 61 14 20 53 40 59 24 44 19 54 51 26  0\n",
      " 39]\n",
      "\n",
      "\n",
      "1     613\n",
      "72    362\n",
      "2     238\n",
      "3     200\n",
      "4     176\n",
      "     ... \n",
      "28     57\n",
      "39     56\n",
      "44     51\n",
      "36     50\n",
      "0      11\n",
      "Name: tenure, Length: 73, dtype: int64\n"
     ]
    },
    {
     "data": {
      "image/png": "[encoded data removed]",
      "text/plain": [
       "<Figure size 720x1440 with 1 Axes>"
      ]
     },
     "metadata": {
      "needs_background": "light"
     },
     "output_type": "display_data"
    }
   ],
   "source": [
    "print(cc['tenure'].unique())\n",
    "print(\"\\n\")\n",
    "print(cc['tenure'].value_counts())   \n",
    "plt.figure(figsize=[10,20])\n",
    "sns.countplot(y=cc['tenure'])\n",
    "plt.show()"
   ]
  },
  {
   "cell_type": "code",
   "execution_count": 16,
   "id": "b9955371",
   "metadata": {},
   "outputs": [
    {
     "name": "stdout",
     "output_type": "stream",
     "text": [
      "['DSL' 'Fiber optic' 'No']\n",
      "\n",
      "\n",
      "Fiber optic    3096\n",
      "DSL            2421\n",
      "No             1526\n",
      "Name: InternetService, dtype: int64\n"
     ]
    },
    {
     "data": {
      "image/png": "[encoded data removed]",
      "text/plain": [
       "<Figure size 720x432 with 1 Axes>"
      ]
     },
     "metadata": {
      "needs_background": "light"
     },
     "output_type": "display_data"
    }
   ],
   "source": [
    "print(cc['InternetService'].unique())\n",
    "print(\"\\n\")\n",
    "print(cc['InternetService'].value_counts())   \n",
    "plt.figure(figsize=[10,6])\n",
    "sns.countplot(cc['InternetService'],palette='Set1')\n",
    "plt.show()"
   ]
  },
  {
   "cell_type": "code",
   "execution_count": 17,
   "id": "aeae294a",
   "metadata": {},
   "outputs": [
    {
     "name": "stdout",
     "output_type": "stream",
     "text": [
      "Month-to-month    3875\n",
      "Two year          1695\n",
      "One year          1473\n",
      "Name: Contract, dtype: int64\n"
     ]
    },
    {
     "data": {
      "text/plain": [
       "<AxesSubplot:ylabel='Contract'>"
      ]
     },
     "execution_count": 17,
     "metadata": {},
     "output_type": "execute_result"
    },
    {
     "data": {
      "image/png": "[encoded data removed]",
      "text/plain": [
       "<Figure size 504x504 with 1 Axes>"
      ]
     },
     "metadata": {},
     "output_type": "display_data"
    }
   ],
   "source": [
    "print(cc['Contract'].value_counts())\n",
    "cc.Contract.value_counts().plot.pie(explode=[0.1,0.1,0.1],shadow=True,autopct='%1.1f%%',cmap='Set3',figsize=(7,7))"
   ]
  },
  {
   "cell_type": "code",
   "execution_count": 18,
   "id": "15511047",
   "metadata": {},
   "outputs": [
    {
     "name": "stdout",
     "output_type": "stream",
     "text": [
      "['Electronic check' 'Mailed check' 'Bank transfer (automatic)'\n",
      " 'Credit card (automatic)']\n",
      "\n",
      "\n",
      "Electronic check             2365\n",
      "Mailed check                 1612\n",
      "Bank transfer (automatic)    1544\n",
      "Credit card (automatic)      1522\n",
      "Name: PaymentMethod, dtype: int64\n"
     ]
    },
    {
     "data": {
      "image/png": "[encoded data removed]",
      "text/plain": [
       "<Figure size 720x432 with 1 Axes>"
      ]
     },
     "metadata": {
      "needs_background": "light"
     },
     "output_type": "display_data"
    }
   ],
   "source": [
    "print(cc['PaymentMethod'].unique())\n",
    "print(\"\\n\")\n",
    "print(cc['PaymentMethod'].value_counts())   \n",
    "plt.figure(figsize=[10,6])\n",
    "sns.countplot(y=cc['PaymentMethod'],palette='Set2')\n",
    "plt.show()"
   ]
  },
  {
   "cell_type": "code",
   "execution_count": 19,
   "id": "892121a5",
   "metadata": {},
   "outputs": [
    {
     "name": "stdout",
     "output_type": "stream",
     "text": [
      "['Yes' 'No']\n",
      "\n",
      "\n",
      "Yes    4171\n",
      "No     2872\n",
      "Name: PaperlessBilling, dtype: int64\n"
     ]
    },
    {
     "data": {
      "image/png": "[encoded data removed]",
      "text/plain": [
       "<Figure size 720x432 with 1 Axes>"
      ]
     },
     "metadata": {
      "needs_background": "light"
     },
     "output_type": "display_data"
    }
   ],
   "source": [
    "print(cc['PaperlessBilling'].unique())\n",
    "print(\"\\n\")\n",
    "print(cc['PaperlessBilling'].value_counts())   \n",
    "plt.figure(figsize=[10,6])\n",
    "sns.countplot(cc['PaperlessBilling'],palette='tab20')\n",
    "plt.show()"
   ]
  },
  {
   "cell_type": "code",
   "execution_count": 20,
   "id": "5889a144",
   "metadata": {},
   "outputs": [
    {
     "name": "stdout",
     "output_type": "stream",
     "text": [
      "['No' 'Yes' 'No internet service']\n",
      "\n",
      "\n",
      "No                     2785\n",
      "Yes                    2732\n",
      "No internet service    1526\n",
      "Name: StreamingMovies, dtype: int64\n"
     ]
    },
    {
     "data": {
      "image/png": "[encoded data removed]",
      "text/plain": [
       "<Figure size 720x432 with 1 Axes>"
      ]
     },
     "metadata": {
      "needs_background": "light"
     },
     "output_type": "display_data"
    }
   ],
   "source": [
    "print(cc['StreamingMovies'].unique())\n",
    "print(\"\\n\")\n",
    "print(cc['StreamingMovies'].value_counts())   \n",
    "plt.figure(figsize=[10,6])\n",
    "sns.countplot(cc['StreamingMovies'],palette='tab10')\n",
    "plt.show()"
   ]
  },
  {
   "cell_type": "code",
   "execution_count": 21,
   "id": "22b11cad",
   "metadata": {},
   "outputs": [
    {
     "name": "stdout",
     "output_type": "stream",
     "text": [
      "['No' 'Yes' 'No internet service']\n",
      "\n",
      "\n",
      "No                     3473\n",
      "Yes                    2044\n",
      "No internet service    1526\n",
      "Name: TechSupport, dtype: int64\n"
     ]
    },
    {
     "data": {
      "image/png": "[encoded data removed]",
      "text/plain": [
       "<Figure size 720x432 with 1 Axes>"
      ]
     },
     "metadata": {
      "needs_background": "light"
     },
     "output_type": "display_data"
    }
   ],
   "source": [
    "print(cc['TechSupport'].unique())\n",
    "print(\"\\n\")\n",
    "print(cc['TechSupport'].value_counts())   \n",
    "plt.figure(figsize=[10,6])\n",
    "sns.countplot(cc['TechSupport'],palette='plasma')\n",
    "plt.show()"
   ]
  },
  {
   "cell_type": "code",
   "execution_count": 22,
   "id": "9c6af801",
   "metadata": {},
   "outputs": [
    {
     "name": "stdout",
     "output_type": "stream",
     "text": [
      "['No' 'Yes']\n",
      "\n",
      "\n",
      "Yes    6361\n",
      "No      682\n",
      "Name: PhoneService, dtype: int64\n"
     ]
    },
    {
     "data": {
      "image/png": "[encoded data removed]",
      "text/plain": [
       "<Figure size 720x432 with 1 Axes>"
      ]
     },
     "metadata": {
      "needs_background": "light"
     },
     "output_type": "display_data"
    }
   ],
   "source": [
    "print(cc['PhoneService'].unique())\n",
    "print(\"\\n\")\n",
    "print(cc['PhoneService'].value_counts())   \n",
    "plt.figure(figsize=[10,6])\n",
    "sns.countplot(cc['PhoneService'],palette='plasma')\n",
    "plt.show()"
   ]
  },
  {
   "cell_type": "markdown",
   "id": "647edc37",
   "metadata": {},
   "source": [
    "### Observation-2"
   ]
  },
  {
   "cell_type": "markdown",
   "id": "e31ac534",
   "metadata": {},
   "source": [
    "From the above results we conclude that:\n",
    "    \n",
    "1) In our data set customer churn is less means the numbers of churn is 1869 and no churn is 5174.\n",
    "\n",
    "2) If we see the gender column, both are same in numbers means number of female(3488) and number of males(3555) are equal.\n",
    "\n",
    "3) In the dataset the number of senior citizen is less, in numbers it is around 1142.\n",
    "\n",
    "4) Most of the people are using phone service, in numbers it is around 6361 and some people are also there who are not using phone service.\n",
    "\n",
    "5) Data of partners and non-partners are almost same.\n",
    "\n",
    "6) Many people have fiber optic(3096) as a internet service and in 2nd position DSL(2421) internet service is used by the people and many people are not using any internet service.\n",
    "\n",
    "7) Plenty of the people takes month-to-month(3875) plan as a contract as compare to other contracts plans. Less people are there who want to go for two year(1695) and one year(1473) contract plan.\n",
    "\n",
    "8) Electronic check(2365) is the most preferable way for payment because many people are using electronic check for doing payment.\n",
    "Mailed check(1612), bank transfer(1544) and credit card(1522) payment methods are standing on the same level for doing payment because people prefer to do the payment in online mode that is why most of the billing is done without paper.\n",
    "\n",
    "9) Large amount of coustumers have stayed with the company for the duration of 1 month. \n",
    "362 people have stayed with company for 75 months.\n",
    "238 people have stayed with company for 2 months.\n",
    "200 people have stayed with company for 3 months.\n",
    "\n",
    "10) Most of the people do not have tech support(3473) and some people do not have internet service(1526) and around 2044 people have tech support.  "
   ]
  },
  {
   "cell_type": "markdown",
   "id": "d35d8c3c",
   "metadata": {},
   "source": [
    "."
   ]
  },
  {
   "cell_type": "markdown",
   "id": "15eb3972",
   "metadata": {},
   "source": [
    "### Bivariate analysis"
   ]
  },
  {
   "cell_type": "code",
   "execution_count": 23,
   "id": "f7251b83",
   "metadata": {},
   "outputs": [
    {
     "data": {
      "text/plain": [
       "<AxesSubplot:xlabel='Churn', ylabel='count'>"
      ]
     },
     "execution_count": 23,
     "metadata": {},
     "output_type": "execute_result"
    },
    {
     "data": {
      "image/png": "[encoded data removed]",
      "text/plain": [
       "<Figure size 576x360 with 1 Axes>"
      ]
     },
     "metadata": {
      "needs_background": "light"
     },
     "output_type": "display_data"
    }
   ],
   "source": [
    "plt.figure(figsize=[8,5])\n",
    "sns.countplot(cc[\"Churn\"], hue=cc[\"gender\"],palette='terrain')"
   ]
  },
  {
   "cell_type": "code",
   "execution_count": 24,
   "id": "99d6a12c",
   "metadata": {},
   "outputs": [
    {
     "data": {
      "text/plain": [
       "<AxesSubplot:xlabel='Churn', ylabel='count'>"
      ]
     },
     "execution_count": 24,
     "metadata": {},
     "output_type": "execute_result"
    },
    {
     "data": {
      "image/png": "[encoded data removed]",
      "text/plain": [
       "<Figure size 576x360 with 1 Axes>"
      ]
     },
     "metadata": {
      "needs_background": "light"
     },
     "output_type": "display_data"
    }
   ],
   "source": [
    "plt.figure(figsize=[8,5])\n",
    "sns.countplot(cc[\"Churn\"], hue=cc[\"Contract\"],palette='Set2')"
   ]
  },
  {
   "cell_type": "code",
   "execution_count": 25,
   "id": "9755d224",
   "metadata": {},
   "outputs": [
    {
     "data": {
      "text/plain": [
       "<AxesSubplot:xlabel='Churn', ylabel='count'>"
      ]
     },
     "execution_count": 25,
     "metadata": {},
     "output_type": "execute_result"
    },
    {
     "data": {
      "image/png": "[encoded data removed]",
      "text/plain": [
       "<Figure size 576x360 with 1 Axes>"
      ]
     },
     "metadata": {
      "needs_background": "light"
     },
     "output_type": "display_data"
    }
   ],
   "source": [
    "plt.figure(figsize=[8,5])\n",
    "sns.countplot(cc[\"Churn\"], hue=cc[\"Partner\"],palette='plasma')"
   ]
  },
  {
   "cell_type": "code",
   "execution_count": 26,
   "id": "33fdd78b",
   "metadata": {},
   "outputs": [
    {
     "data": {
      "text/plain": [
       "<AxesSubplot:xlabel='Churn', ylabel='count'>"
      ]
     },
     "execution_count": 26,
     "metadata": {},
     "output_type": "execute_result"
    },
    {
     "data": {
      "image/png": "[encoded data removed]",
      "text/plain": [
       "<Figure size 576x360 with 1 Axes>"
      ]
     },
     "metadata": {
      "needs_background": "light"
     },
     "output_type": "display_data"
    }
   ],
   "source": [
    "plt.figure(figsize=[8,5])\n",
    "sns.countplot(cc[\"Churn\"], hue=cc[\"Dependents\"])"
   ]
  },
  {
   "cell_type": "code",
   "execution_count": 27,
   "id": "2c5aa8f8",
   "metadata": {},
   "outputs": [
    {
     "data": {
      "text/plain": [
       "<AxesSubplot:xlabel='count', ylabel='Churn'>"
      ]
     },
     "execution_count": 27,
     "metadata": {},
     "output_type": "execute_result"
    },
    {
     "data": {
      "image/png": "[encoded data removed]",
      "text/plain": [
       "<Figure size 720x360 with 1 Axes>"
      ]
     },
     "metadata": {
      "needs_background": "light"
     },
     "output_type": "display_data"
    }
   ],
   "source": [
    "plt.figure(figsize=[10,5])\n",
    "sns.countplot(y=cc[\"Churn\"], hue=cc[\"StreamingMovies\"],palette='Paired')"
   ]
  },
  {
   "cell_type": "code",
   "execution_count": 28,
   "id": "823ea77e",
   "metadata": {},
   "outputs": [
    {
     "data": {
      "text/plain": [
       "<AxesSubplot:xlabel='Churn', ylabel='count'>"
      ]
     },
     "execution_count": 28,
     "metadata": {},
     "output_type": "execute_result"
    },
    {
     "data": {
      "image/png": "[encoded data removed]",
      "text/plain": [
       "<Figure size 576x360 with 1 Axes>"
      ]
     },
     "metadata": {
      "needs_background": "light"
     },
     "output_type": "display_data"
    }
   ],
   "source": [
    "plt.figure(figsize=[8,5])\n",
    "sns.countplot(cc[\"Churn\"], hue=cc[\"TechSupport\"])"
   ]
  },
  {
   "cell_type": "code",
   "execution_count": 29,
   "id": "261355c2",
   "metadata": {},
   "outputs": [
    {
     "data": {
      "text/plain": [
       "<AxesSubplot:xlabel='Churn', ylabel='count'>"
      ]
     },
     "execution_count": 29,
     "metadata": {},
     "output_type": "execute_result"
    },
    {
     "data": {
      "image/png": "[encoded data removed]",
      "text/plain": [
       "<Figure size 576x360 with 1 Axes>"
      ]
     },
     "metadata": {
      "needs_background": "light"
     },
     "output_type": "display_data"
    }
   ],
   "source": [
    "plt.figure(figsize=[8,5])\n",
    "sns.countplot(cc[\"Churn\"], hue=cc[\"PhoneService\"])"
   ]
  },
  {
   "cell_type": "markdown",
   "id": "5c07b4b7",
   "metadata": {},
   "source": [
    "### Observation-3"
   ]
  },
  {
   "cell_type": "markdown",
   "id": "681206d9",
   "metadata": {},
   "source": [
    "1) Male and female both are equal when we compare the churn rate.\n",
    "\n",
    "2) Churn rate is high when nature of the contract is month to month and very less in one year and two year contract plan.\n",
    "\n",
    "3) Churn rate is low when the people have partner and churn rate is higher when there is no partner.\n",
    "\n",
    "4) When the person has dependents then the chances of churn become less we can say that churn rate would be high when person do not have dependents.\n",
    "\n",
    "5) The chances of customer churn are alomost same when the person, do movie streaming or not.\n",
    "\n",
    "6) Tech support also play important role in telecommunications sector. When customers do not have tech support then the chances of churn will be increase as we can see in the geraph.\n"
   ]
  },
  {
   "cell_type": "markdown",
   "id": "bee1e38d",
   "metadata": {},
   "source": [
    "## Data preprocessing"
   ]
  },
  {
   "cell_type": "markdown",
   "id": "19893275",
   "metadata": {},
   "source": [
    "#### Dropping CustomerID column because it is not so much important for building our model."
   ]
  },
  {
   "cell_type": "code",
   "execution_count": 30,
   "id": "40844534",
   "metadata": {},
   "outputs": [],
   "source": [
    "cc.drop(['customerID'],axis=1,inplace=True)"
   ]
  },
  {
   "cell_type": "code",
   "execution_count": 31,
   "id": "9c9f60d8",
   "metadata": {},
   "outputs": [
    {
     "data": {
      "text/html": [
       "<div>\n",
       "<style scoped>\n",
       "    .dataframe tbody tr th:only-of-type {\n",
       "        vertical-align: middle;\n",
       "    }\n",
       "\n",
       "    .dataframe tbody tr th {\n",
       "        vertical-align: top;\n",
       "    }\n",
       "\n",
       "    .dataframe thead th {\n",
       "        text-align: right;\n",
       "    }\n",
       "</style>\n",
       "<table border=\"1\" class=\"dataframe\">\n",
       "  <thead>\n",
       "    <tr style=\"text-align: right;\">\n",
       "      <th></th>\n",
       "      <th>gender</th>\n",
       "      <th>SeniorCitizen</th>\n",
       "      <th>Partner</th>\n",
       "      <th>Dependents</th>\n",
       "      <th>tenure</th>\n",
       "      <th>PhoneService</th>\n",
       "      <th>MultipleLines</th>\n",
       "      <th>InternetService</th>\n",
       "      <th>OnlineSecurity</th>\n",
       "      <th>OnlineBackup</th>\n",
       "      <th>DeviceProtection</th>\n",
       "      <th>TechSupport</th>\n",
       "      <th>StreamingTV</th>\n",
       "      <th>StreamingMovies</th>\n",
       "      <th>Contract</th>\n",
       "      <th>PaperlessBilling</th>\n",
       "      <th>PaymentMethod</th>\n",
       "      <th>MonthlyCharges</th>\n",
       "      <th>TotalCharges</th>\n",
       "      <th>Churn</th>\n",
       "    </tr>\n",
       "  </thead>\n",
       "  <tbody>\n",
       "    <tr>\n",
       "      <th>0</th>\n",
       "      <td>Female</td>\n",
       "      <td>0</td>\n",
       "      <td>Yes</td>\n",
       "      <td>No</td>\n",
       "      <td>1</td>\n",
       "      <td>No</td>\n",
       "      <td>No phone service</td>\n",
       "      <td>DSL</td>\n",
       "      <td>No</td>\n",
       "      <td>Yes</td>\n",
       "      <td>No</td>\n",
       "      <td>No</td>\n",
       "      <td>No</td>\n",
       "      <td>No</td>\n",
       "      <td>Month-to-month</td>\n",
       "      <td>Yes</td>\n",
       "      <td>Electronic check</td>\n",
       "      <td>29.85</td>\n",
       "      <td>29.85</td>\n",
       "      <td>No</td>\n",
       "    </tr>\n",
       "    <tr>\n",
       "      <th>1</th>\n",
       "      <td>Male</td>\n",
       "      <td>0</td>\n",
       "      <td>No</td>\n",
       "      <td>No</td>\n",
       "      <td>34</td>\n",
       "      <td>Yes</td>\n",
       "      <td>No</td>\n",
       "      <td>DSL</td>\n",
       "      <td>Yes</td>\n",
       "      <td>No</td>\n",
       "      <td>Yes</td>\n",
       "      <td>No</td>\n",
       "      <td>No</td>\n",
       "      <td>No</td>\n",
       "      <td>One year</td>\n",
       "      <td>No</td>\n",
       "      <td>Mailed check</td>\n",
       "      <td>56.95</td>\n",
       "      <td>1889.5</td>\n",
       "      <td>No</td>\n",
       "    </tr>\n",
       "    <tr>\n",
       "      <th>2</th>\n",
       "      <td>Male</td>\n",
       "      <td>0</td>\n",
       "      <td>No</td>\n",
       "      <td>No</td>\n",
       "      <td>2</td>\n",
       "      <td>Yes</td>\n",
       "      <td>No</td>\n",
       "      <td>DSL</td>\n",
       "      <td>Yes</td>\n",
       "      <td>Yes</td>\n",
       "      <td>No</td>\n",
       "      <td>No</td>\n",
       "      <td>No</td>\n",
       "      <td>No</td>\n",
       "      <td>Month-to-month</td>\n",
       "      <td>Yes</td>\n",
       "      <td>Mailed check</td>\n",
       "      <td>53.85</td>\n",
       "      <td>108.15</td>\n",
       "      <td>Yes</td>\n",
       "    </tr>\n",
       "    <tr>\n",
       "      <th>3</th>\n",
       "      <td>Male</td>\n",
       "      <td>0</td>\n",
       "      <td>No</td>\n",
       "      <td>No</td>\n",
       "      <td>45</td>\n",
       "      <td>No</td>\n",
       "      <td>No phone service</td>\n",
       "      <td>DSL</td>\n",
       "      <td>Yes</td>\n",
       "      <td>No</td>\n",
       "      <td>Yes</td>\n",
       "      <td>Yes</td>\n",
       "      <td>No</td>\n",
       "      <td>No</td>\n",
       "      <td>One year</td>\n",
       "      <td>No</td>\n",
       "      <td>Bank transfer (automatic)</td>\n",
       "      <td>42.30</td>\n",
       "      <td>1840.75</td>\n",
       "      <td>No</td>\n",
       "    </tr>\n",
       "    <tr>\n",
       "      <th>4</th>\n",
       "      <td>Female</td>\n",
       "      <td>0</td>\n",
       "      <td>No</td>\n",
       "      <td>No</td>\n",
       "      <td>2</td>\n",
       "      <td>Yes</td>\n",
       "      <td>No</td>\n",
       "      <td>Fiber optic</td>\n",
       "      <td>No</td>\n",
       "      <td>No</td>\n",
       "      <td>No</td>\n",
       "      <td>No</td>\n",
       "      <td>No</td>\n",
       "      <td>No</td>\n",
       "      <td>Month-to-month</td>\n",
       "      <td>Yes</td>\n",
       "      <td>Electronic check</td>\n",
       "      <td>70.70</td>\n",
       "      <td>151.65</td>\n",
       "      <td>Yes</td>\n",
       "    </tr>\n",
       "  </tbody>\n",
       "</table>\n",
       "</div>"
      ],
      "text/plain": [
       "   gender  SeniorCitizen Partner Dependents  tenure PhoneService  \\\n",
       "0  Female              0     Yes         No       1           No   \n",
       "1    Male              0      No         No      34          Yes   \n",
       "2    Male              0      No         No       2          Yes   \n",
       "3    Male              0      No         No      45           No   \n",
       "4  Female              0      No         No       2          Yes   \n",
       "\n",
       "      MultipleLines InternetService OnlineSecurity OnlineBackup  \\\n",
       "0  No phone service             DSL             No          Yes   \n",
       "1                No             DSL            Yes           No   \n",
       "2                No             DSL            Yes          Yes   \n",
       "3  No phone service             DSL            Yes           No   \n",
       "4                No     Fiber optic             No           No   \n",
       "\n",
       "  DeviceProtection TechSupport StreamingTV StreamingMovies        Contract  \\\n",
       "0               No          No          No              No  Month-to-month   \n",
       "1              Yes          No          No              No        One year   \n",
       "2               No          No          No              No  Month-to-month   \n",
       "3              Yes         Yes          No              No        One year   \n",
       "4               No          No          No              No  Month-to-month   \n",
       "\n",
       "  PaperlessBilling              PaymentMethod  MonthlyCharges TotalCharges  \\\n",
       "0              Yes           Electronic check           29.85        29.85   \n",
       "1               No               Mailed check           56.95       1889.5   \n",
       "2              Yes               Mailed check           53.85       108.15   \n",
       "3               No  Bank transfer (automatic)           42.30      1840.75   \n",
       "4              Yes           Electronic check           70.70       151.65   \n",
       "\n",
       "  Churn  \n",
       "0    No  \n",
       "1    No  \n",
       "2   Yes  \n",
       "3    No  \n",
       "4   Yes  "
      ]
     },
     "execution_count": 31,
     "metadata": {},
     "output_type": "execute_result"
    }
   ],
   "source": [
    "cc.head()"
   ]
  },
  {
   "cell_type": "markdown",
   "id": "e845fda4",
   "metadata": {},
   "source": [
    "### Adopting Encoding technique"
   ]
  },
  {
   "cell_type": "code",
   "execution_count": 32,
   "id": "f349389c",
   "metadata": {},
   "outputs": [],
   "source": [
    "from sklearn.preprocessing import LabelEncoder"
   ]
  },
  {
   "cell_type": "code",
   "execution_count": 33,
   "id": "98351cdc",
   "metadata": {},
   "outputs": [],
   "source": [
    "le=LabelEncoder()"
   ]
  },
  {
   "cell_type": "code",
   "execution_count": 34,
   "id": "310bad85",
   "metadata": {},
   "outputs": [],
   "source": [
    "cl=['gender', 'SeniorCitizen', 'Partner', 'Dependents', 'tenure',\n",
    "       'PhoneService', 'MultipleLines', 'InternetService', 'OnlineSecurity',\n",
    "       'OnlineBackup', 'DeviceProtection', 'TechSupport', 'StreamingTV',\n",
    "       'StreamingMovies', 'Contract', 'PaperlessBilling', 'PaymentMethod','Churn']"
   ]
  },
  {
   "cell_type": "code",
   "execution_count": 35,
   "id": "c21df6d0",
   "metadata": {},
   "outputs": [],
   "source": [
    "for i in cl:\n",
    "    cc[i]=le.fit_transform(cc[i])"
   ]
  },
  {
   "cell_type": "markdown",
   "id": "675adfa1",
   "metadata": {},
   "source": [
    "#### As we can see the  monthly Charge, Total Charges and Contract columns showing similar conclusion, If monthly charges increases contract and total charges also increases, If total charges decreases then monthly charges and contract also decreases.\n",
    "#### That is why we can drop monthly charges and total charges column."
   ]
  },
  {
   "cell_type": "code",
   "execution_count": 36,
   "id": "665ef4a0",
   "metadata": {},
   "outputs": [],
   "source": [
    "cc.drop(['TotalCharges'],axis=1,inplace=True)"
   ]
  },
  {
   "cell_type": "code",
   "execution_count": 37,
   "id": "748f4bae",
   "metadata": {},
   "outputs": [],
   "source": [
    "cc.drop(['MonthlyCharges'],axis=1,inplace=True)"
   ]
  },
  {
   "cell_type": "code",
   "execution_count": 38,
   "id": "3767cdbd",
   "metadata": {},
   "outputs": [
    {
     "data": {
      "text/html": [
       "<div>\n",
       "<style scoped>\n",
       "    .dataframe tbody tr th:only-of-type {\n",
       "        vertical-align: middle;\n",
       "    }\n",
       "\n",
       "    .dataframe tbody tr th {\n",
       "        vertical-align: top;\n",
       "    }\n",
       "\n",
       "    .dataframe thead th {\n",
       "        text-align: right;\n",
       "    }\n",
       "</style>\n",
       "<table border=\"1\" class=\"dataframe\">\n",
       "  <thead>\n",
       "    <tr style=\"text-align: right;\">\n",
       "      <th></th>\n",
       "      <th>gender</th>\n",
       "      <th>SeniorCitizen</th>\n",
       "      <th>Partner</th>\n",
       "      <th>Dependents</th>\n",
       "      <th>tenure</th>\n",
       "      <th>PhoneService</th>\n",
       "      <th>MultipleLines</th>\n",
       "      <th>InternetService</th>\n",
       "      <th>OnlineSecurity</th>\n",
       "      <th>OnlineBackup</th>\n",
       "      <th>DeviceProtection</th>\n",
       "      <th>TechSupport</th>\n",
       "      <th>StreamingTV</th>\n",
       "      <th>StreamingMovies</th>\n",
       "      <th>Contract</th>\n",
       "      <th>PaperlessBilling</th>\n",
       "      <th>PaymentMethod</th>\n",
       "      <th>Churn</th>\n",
       "    </tr>\n",
       "  </thead>\n",
       "  <tbody>\n",
       "    <tr>\n",
       "      <th>0</th>\n",
       "      <td>0</td>\n",
       "      <td>0</td>\n",
       "      <td>1</td>\n",
       "      <td>0</td>\n",
       "      <td>1</td>\n",
       "      <td>0</td>\n",
       "      <td>1</td>\n",
       "      <td>0</td>\n",
       "      <td>0</td>\n",
       "      <td>2</td>\n",
       "      <td>0</td>\n",
       "      <td>0</td>\n",
       "      <td>0</td>\n",
       "      <td>0</td>\n",
       "      <td>0</td>\n",
       "      <td>1</td>\n",
       "      <td>2</td>\n",
       "      <td>0</td>\n",
       "    </tr>\n",
       "    <tr>\n",
       "      <th>1</th>\n",
       "      <td>1</td>\n",
       "      <td>0</td>\n",
       "      <td>0</td>\n",
       "      <td>0</td>\n",
       "      <td>34</td>\n",
       "      <td>1</td>\n",
       "      <td>0</td>\n",
       "      <td>0</td>\n",
       "      <td>2</td>\n",
       "      <td>0</td>\n",
       "      <td>2</td>\n",
       "      <td>0</td>\n",
       "      <td>0</td>\n",
       "      <td>0</td>\n",
       "      <td>1</td>\n",
       "      <td>0</td>\n",
       "      <td>3</td>\n",
       "      <td>0</td>\n",
       "    </tr>\n",
       "    <tr>\n",
       "      <th>2</th>\n",
       "      <td>1</td>\n",
       "      <td>0</td>\n",
       "      <td>0</td>\n",
       "      <td>0</td>\n",
       "      <td>2</td>\n",
       "      <td>1</td>\n",
       "      <td>0</td>\n",
       "      <td>0</td>\n",
       "      <td>2</td>\n",
       "      <td>2</td>\n",
       "      <td>0</td>\n",
       "      <td>0</td>\n",
       "      <td>0</td>\n",
       "      <td>0</td>\n",
       "      <td>0</td>\n",
       "      <td>1</td>\n",
       "      <td>3</td>\n",
       "      <td>1</td>\n",
       "    </tr>\n",
       "    <tr>\n",
       "      <th>3</th>\n",
       "      <td>1</td>\n",
       "      <td>0</td>\n",
       "      <td>0</td>\n",
       "      <td>0</td>\n",
       "      <td>45</td>\n",
       "      <td>0</td>\n",
       "      <td>1</td>\n",
       "      <td>0</td>\n",
       "      <td>2</td>\n",
       "      <td>0</td>\n",
       "      <td>2</td>\n",
       "      <td>2</td>\n",
       "      <td>0</td>\n",
       "      <td>0</td>\n",
       "      <td>1</td>\n",
       "      <td>0</td>\n",
       "      <td>0</td>\n",
       "      <td>0</td>\n",
       "    </tr>\n",
       "    <tr>\n",
       "      <th>4</th>\n",
       "      <td>0</td>\n",
       "      <td>0</td>\n",
       "      <td>0</td>\n",
       "      <td>0</td>\n",
       "      <td>2</td>\n",
       "      <td>1</td>\n",
       "      <td>0</td>\n",
       "      <td>1</td>\n",
       "      <td>0</td>\n",
       "      <td>0</td>\n",
       "      <td>0</td>\n",
       "      <td>0</td>\n",
       "      <td>0</td>\n",
       "      <td>0</td>\n",
       "      <td>0</td>\n",
       "      <td>1</td>\n",
       "      <td>2</td>\n",
       "      <td>1</td>\n",
       "    </tr>\n",
       "    <tr>\n",
       "      <th>...</th>\n",
       "      <td>...</td>\n",
       "      <td>...</td>\n",
       "      <td>...</td>\n",
       "      <td>...</td>\n",
       "      <td>...</td>\n",
       "      <td>...</td>\n",
       "      <td>...</td>\n",
       "      <td>...</td>\n",
       "      <td>...</td>\n",
       "      <td>...</td>\n",
       "      <td>...</td>\n",
       "      <td>...</td>\n",
       "      <td>...</td>\n",
       "      <td>...</td>\n",
       "      <td>...</td>\n",
       "      <td>...</td>\n",
       "      <td>...</td>\n",
       "      <td>...</td>\n",
       "    </tr>\n",
       "    <tr>\n",
       "      <th>7038</th>\n",
       "      <td>1</td>\n",
       "      <td>0</td>\n",
       "      <td>1</td>\n",
       "      <td>1</td>\n",
       "      <td>24</td>\n",
       "      <td>1</td>\n",
       "      <td>2</td>\n",
       "      <td>0</td>\n",
       "      <td>2</td>\n",
       "      <td>0</td>\n",
       "      <td>2</td>\n",
       "      <td>2</td>\n",
       "      <td>2</td>\n",
       "      <td>2</td>\n",
       "      <td>1</td>\n",
       "      <td>1</td>\n",
       "      <td>3</td>\n",
       "      <td>0</td>\n",
       "    </tr>\n",
       "    <tr>\n",
       "      <th>7039</th>\n",
       "      <td>0</td>\n",
       "      <td>0</td>\n",
       "      <td>1</td>\n",
       "      <td>1</td>\n",
       "      <td>72</td>\n",
       "      <td>1</td>\n",
       "      <td>2</td>\n",
       "      <td>1</td>\n",
       "      <td>0</td>\n",
       "      <td>2</td>\n",
       "      <td>2</td>\n",
       "      <td>0</td>\n",
       "      <td>2</td>\n",
       "      <td>2</td>\n",
       "      <td>1</td>\n",
       "      <td>1</td>\n",
       "      <td>1</td>\n",
       "      <td>0</td>\n",
       "    </tr>\n",
       "    <tr>\n",
       "      <th>7040</th>\n",
       "      <td>0</td>\n",
       "      <td>0</td>\n",
       "      <td>1</td>\n",
       "      <td>1</td>\n",
       "      <td>11</td>\n",
       "      <td>0</td>\n",
       "      <td>1</td>\n",
       "      <td>0</td>\n",
       "      <td>2</td>\n",
       "      <td>0</td>\n",
       "      <td>0</td>\n",
       "      <td>0</td>\n",
       "      <td>0</td>\n",
       "      <td>0</td>\n",
       "      <td>0</td>\n",
       "      <td>1</td>\n",
       "      <td>2</td>\n",
       "      <td>0</td>\n",
       "    </tr>\n",
       "    <tr>\n",
       "      <th>7041</th>\n",
       "      <td>1</td>\n",
       "      <td>1</td>\n",
       "      <td>1</td>\n",
       "      <td>0</td>\n",
       "      <td>4</td>\n",
       "      <td>1</td>\n",
       "      <td>2</td>\n",
       "      <td>1</td>\n",
       "      <td>0</td>\n",
       "      <td>0</td>\n",
       "      <td>0</td>\n",
       "      <td>0</td>\n",
       "      <td>0</td>\n",
       "      <td>0</td>\n",
       "      <td>0</td>\n",
       "      <td>1</td>\n",
       "      <td>3</td>\n",
       "      <td>1</td>\n",
       "    </tr>\n",
       "    <tr>\n",
       "      <th>7042</th>\n",
       "      <td>1</td>\n",
       "      <td>0</td>\n",
       "      <td>0</td>\n",
       "      <td>0</td>\n",
       "      <td>66</td>\n",
       "      <td>1</td>\n",
       "      <td>0</td>\n",
       "      <td>1</td>\n",
       "      <td>2</td>\n",
       "      <td>0</td>\n",
       "      <td>2</td>\n",
       "      <td>2</td>\n",
       "      <td>2</td>\n",
       "      <td>2</td>\n",
       "      <td>2</td>\n",
       "      <td>1</td>\n",
       "      <td>0</td>\n",
       "      <td>0</td>\n",
       "    </tr>\n",
       "  </tbody>\n",
       "</table>\n",
       "<p>7043 rows × 18 columns</p>\n",
       "</div>"
      ],
      "text/plain": [
       "      gender  SeniorCitizen  Partner  Dependents  tenure  PhoneService  \\\n",
       "0          0              0        1           0       1             0   \n",
       "1          1              0        0           0      34             1   \n",
       "2          1              0        0           0       2             1   \n",
       "3          1              0        0           0      45             0   \n",
       "4          0              0        0           0       2             1   \n",
       "...      ...            ...      ...         ...     ...           ...   \n",
       "7038       1              0        1           1      24             1   \n",
       "7039       0              0        1           1      72             1   \n",
       "7040       0              0        1           1      11             0   \n",
       "7041       1              1        1           0       4             1   \n",
       "7042       1              0        0           0      66             1   \n",
       "\n",
       "      MultipleLines  InternetService  OnlineSecurity  OnlineBackup  \\\n",
       "0                 1                0               0             2   \n",
       "1                 0                0               2             0   \n",
       "2                 0                0               2             2   \n",
       "3                 1                0               2             0   \n",
       "4                 0                1               0             0   \n",
       "...             ...              ...             ...           ...   \n",
       "7038              2                0               2             0   \n",
       "7039              2                1               0             2   \n",
       "7040              1                0               2             0   \n",
       "7041              2                1               0             0   \n",
       "7042              0                1               2             0   \n",
       "\n",
       "      DeviceProtection  TechSupport  StreamingTV  StreamingMovies  Contract  \\\n",
       "0                    0            0            0                0         0   \n",
       "1                    2            0            0                0         1   \n",
       "2                    0            0            0                0         0   \n",
       "3                    2            2            0                0         1   \n",
       "4                    0            0            0                0         0   \n",
       "...                ...          ...          ...              ...       ...   \n",
       "7038                 2            2            2                2         1   \n",
       "7039                 2            0            2                2         1   \n",
       "7040                 0            0            0                0         0   \n",
       "7041                 0            0            0                0         0   \n",
       "7042                 2            2            2                2         2   \n",
       "\n",
       "      PaperlessBilling  PaymentMethod  Churn  \n",
       "0                    1              2      0  \n",
       "1                    0              3      0  \n",
       "2                    1              3      1  \n",
       "3                    0              0      0  \n",
       "4                    1              2      1  \n",
       "...                ...            ...    ...  \n",
       "7038                 1              3      0  \n",
       "7039                 1              1      0  \n",
       "7040                 1              2      0  \n",
       "7041                 1              3      1  \n",
       "7042                 1              0      0  \n",
       "\n",
       "[7043 rows x 18 columns]"
      ]
     },
     "execution_count": 38,
     "metadata": {},
     "output_type": "execute_result"
    }
   ],
   "source": [
    "cc"
   ]
  },
  {
   "cell_type": "code",
   "execution_count": 39,
   "id": "5ac42796",
   "metadata": {},
   "outputs": [
    {
     "data": {
      "image/png": "[encoded data removed]",
      "text/plain": [
       "<Figure size 1296x576 with 2 Axes>"
      ]
     },
     "metadata": {
      "needs_background": "light"
     },
     "output_type": "display_data"
    }
   ],
   "source": [
    "plt.figure(figsize=[18,8])\n",
    "sns.heatmap(cc.corr(),annot=True)\n",
    "plt.show()"
   ]
  },
  {
   "cell_type": "code",
   "execution_count": 40,
   "id": "426eb2e8",
   "metadata": {},
   "outputs": [
    {
     "data": {
      "text/plain": [
       "<AxesSubplot:>"
      ]
     },
     "execution_count": 40,
     "metadata": {},
     "output_type": "execute_result"
    },
    {
     "data": {
      "image/png": "[encoded data removed]",
      "text/plain": [
       "<Figure size 1080x360 with 1 Axes>"
      ]
     },
     "metadata": {
      "needs_background": "light"
     },
     "output_type": "display_data"
    }
   ],
   "source": [
    "plt.figure(figsize=[15,5])\n",
    "cc.corr()['Churn'].sort_values().drop(['Churn']).plot(kind='bar',color='y')"
   ]
  },
  {
   "cell_type": "markdown",
   "id": "2ff7b01b",
   "metadata": {},
   "source": [
    "### Observation-4"
   ]
  },
  {
   "cell_type": "markdown",
   "id": "281a20db",
   "metadata": {},
   "source": [
    "From the above results we can conclude that:\n",
    "    \n",
    "1) Contract and tenure columns have the negative correlation with the target column.\n",
    "\n",
    "2) PaperlessBilling, SeniorCitizen and PaymentMethod columns making positive correlation with the target column and we can considered this as a good bond.\n",
    "\n",
    "3) Online sequrity, tech support, online backup and dependents columns have negative correlation wth the target column, means one increases another one decreases.\n",
    "\n",
    "4) gender, phone service, multiplelines and streaming movies and TV columns has no correlation with the target column or we can say these columns making zero correlation with target column."
   ]
  },
  {
   "cell_type": "markdown",
   "id": "42952323",
   "metadata": {},
   "source": [
    "## VIF:\n",
    "### Variance inflation factor:"
   ]
  },
  {
   "cell_type": "code",
   "execution_count": 41,
   "id": "0b2b6306",
   "metadata": {},
   "outputs": [],
   "source": [
    "import statsmodels.api as sm\n",
    "from scipy import stats\n",
    "from statsmodels.stats.outliers_influence import variance_inflation_factor"
   ]
  },
  {
   "cell_type": "code",
   "execution_count": 42,
   "id": "56447f61",
   "metadata": {},
   "outputs": [],
   "source": [
    "def vif(x):\n",
    "    vif=pd.DataFrame()\n",
    "    vif['Variables']=x.columns\n",
    "    vif['VIF_Factor']=[variance_inflation_factor(x.values,i) for i in range(x.shape[1])]\n",
    "    return vif"
   ]
  },
  {
   "cell_type": "code",
   "execution_count": 43,
   "id": "9b7d1d47",
   "metadata": {},
   "outputs": [
    {
     "data": {
      "text/html": [
       "<div>\n",
       "<style scoped>\n",
       "    .dataframe tbody tr th:only-of-type {\n",
       "        vertical-align: middle;\n",
       "    }\n",
       "\n",
       "    .dataframe tbody tr th {\n",
       "        vertical-align: top;\n",
       "    }\n",
       "\n",
       "    .dataframe thead th {\n",
       "        text-align: right;\n",
       "    }\n",
       "</style>\n",
       "<table border=\"1\" class=\"dataframe\">\n",
       "  <thead>\n",
       "    <tr style=\"text-align: right;\">\n",
       "      <th></th>\n",
       "      <th>Variables</th>\n",
       "      <th>VIF_Factor</th>\n",
       "    </tr>\n",
       "  </thead>\n",
       "  <tbody>\n",
       "    <tr>\n",
       "      <th>0</th>\n",
       "      <td>gender</td>\n",
       "      <td>1.928061</td>\n",
       "    </tr>\n",
       "    <tr>\n",
       "      <th>1</th>\n",
       "      <td>SeniorCitizen</td>\n",
       "      <td>1.351828</td>\n",
       "    </tr>\n",
       "    <tr>\n",
       "      <th>2</th>\n",
       "      <td>Partner</td>\n",
       "      <td>2.817083</td>\n",
       "    </tr>\n",
       "    <tr>\n",
       "      <th>3</th>\n",
       "      <td>Dependents</td>\n",
       "      <td>1.948698</td>\n",
       "    </tr>\n",
       "    <tr>\n",
       "      <th>4</th>\n",
       "      <td>tenure</td>\n",
       "      <td>7.401032</td>\n",
       "    </tr>\n",
       "    <tr>\n",
       "      <th>5</th>\n",
       "      <td>PhoneService</td>\n",
       "      <td>8.264723</td>\n",
       "    </tr>\n",
       "    <tr>\n",
       "      <th>6</th>\n",
       "      <td>MultipleLines</td>\n",
       "      <td>2.447165</td>\n",
       "    </tr>\n",
       "    <tr>\n",
       "      <th>7</th>\n",
       "      <td>InternetService</td>\n",
       "      <td>3.099250</td>\n",
       "    </tr>\n",
       "    <tr>\n",
       "      <th>8</th>\n",
       "      <td>OnlineSecurity</td>\n",
       "      <td>2.259316</td>\n",
       "    </tr>\n",
       "    <tr>\n",
       "      <th>9</th>\n",
       "      <td>OnlineBackup</td>\n",
       "      <td>2.417770</td>\n",
       "    </tr>\n",
       "    <tr>\n",
       "      <th>10</th>\n",
       "      <td>DeviceProtection</td>\n",
       "      <td>2.586724</td>\n",
       "    </tr>\n",
       "    <tr>\n",
       "      <th>11</th>\n",
       "      <td>TechSupport</td>\n",
       "      <td>2.393544</td>\n",
       "    </tr>\n",
       "    <tr>\n",
       "      <th>12</th>\n",
       "      <td>StreamingTV</td>\n",
       "      <td>2.987130</td>\n",
       "    </tr>\n",
       "    <tr>\n",
       "      <th>13</th>\n",
       "      <td>StreamingMovies</td>\n",
       "      <td>3.016795</td>\n",
       "    </tr>\n",
       "    <tr>\n",
       "      <th>14</th>\n",
       "      <td>Contract</td>\n",
       "      <td>3.942501</td>\n",
       "    </tr>\n",
       "    <tr>\n",
       "      <th>15</th>\n",
       "      <td>PaperlessBilling</td>\n",
       "      <td>2.682422</td>\n",
       "    </tr>\n",
       "    <tr>\n",
       "      <th>16</th>\n",
       "      <td>PaymentMethod</td>\n",
       "      <td>2.954193</td>\n",
       "    </tr>\n",
       "    <tr>\n",
       "      <th>17</th>\n",
       "      <td>Churn</td>\n",
       "      <td>1.703538</td>\n",
       "    </tr>\n",
       "  </tbody>\n",
       "</table>\n",
       "</div>"
      ],
      "text/plain": [
       "           Variables  VIF_Factor\n",
       "0             gender    1.928061\n",
       "1      SeniorCitizen    1.351828\n",
       "2            Partner    2.817083\n",
       "3         Dependents    1.948698\n",
       "4             tenure    7.401032\n",
       "5       PhoneService    8.264723\n",
       "6      MultipleLines    2.447165\n",
       "7    InternetService    3.099250\n",
       "8     OnlineSecurity    2.259316\n",
       "9       OnlineBackup    2.417770\n",
       "10  DeviceProtection    2.586724\n",
       "11       TechSupport    2.393544\n",
       "12       StreamingTV    2.987130\n",
       "13   StreamingMovies    3.016795\n",
       "14          Contract    3.942501\n",
       "15  PaperlessBilling    2.682422\n",
       "16     PaymentMethod    2.954193\n",
       "17             Churn    1.703538"
      ]
     },
     "execution_count": 43,
     "metadata": {},
     "output_type": "execute_result"
    }
   ],
   "source": [
    "vif(cc)"
   ]
  },
  {
   "cell_type": "markdown",
   "id": "802ad930",
   "metadata": {},
   "source": [
    "We are dropping Phone service column because the vif factor of this column is highest(8.26)."
   ]
  },
  {
   "cell_type": "code",
   "execution_count": 44,
   "id": "9ebf2ff4",
   "metadata": {},
   "outputs": [],
   "source": [
    "cc.drop(['PhoneService'],axis=1,inplace=True)"
   ]
  },
  {
   "cell_type": "code",
   "execution_count": 45,
   "id": "03d49869",
   "metadata": {},
   "outputs": [
    {
     "data": {
      "text/html": [
       "<div>\n",
       "<style scoped>\n",
       "    .dataframe tbody tr th:only-of-type {\n",
       "        vertical-align: middle;\n",
       "    }\n",
       "\n",
       "    .dataframe tbody tr th {\n",
       "        vertical-align: top;\n",
       "    }\n",
       "\n",
       "    .dataframe thead th {\n",
       "        text-align: right;\n",
       "    }\n",
       "</style>\n",
       "<table border=\"1\" class=\"dataframe\">\n",
       "  <thead>\n",
       "    <tr style=\"text-align: right;\">\n",
       "      <th></th>\n",
       "      <th>Variables</th>\n",
       "      <th>VIF_Factor</th>\n",
       "    </tr>\n",
       "  </thead>\n",
       "  <tbody>\n",
       "    <tr>\n",
       "      <th>0</th>\n",
       "      <td>gender</td>\n",
       "      <td>1.885465</td>\n",
       "    </tr>\n",
       "    <tr>\n",
       "      <th>1</th>\n",
       "      <td>SeniorCitizen</td>\n",
       "      <td>1.348867</td>\n",
       "    </tr>\n",
       "    <tr>\n",
       "      <th>2</th>\n",
       "      <td>Partner</td>\n",
       "      <td>2.807441</td>\n",
       "    </tr>\n",
       "    <tr>\n",
       "      <th>3</th>\n",
       "      <td>Dependents</td>\n",
       "      <td>1.944432</td>\n",
       "    </tr>\n",
       "    <tr>\n",
       "      <th>4</th>\n",
       "      <td>tenure</td>\n",
       "      <td>7.215699</td>\n",
       "    </tr>\n",
       "    <tr>\n",
       "      <th>5</th>\n",
       "      <td>MultipleLines</td>\n",
       "      <td>2.436616</td>\n",
       "    </tr>\n",
       "    <tr>\n",
       "      <th>6</th>\n",
       "      <td>InternetService</td>\n",
       "      <td>2.342951</td>\n",
       "    </tr>\n",
       "    <tr>\n",
       "      <th>7</th>\n",
       "      <td>OnlineSecurity</td>\n",
       "      <td>2.218222</td>\n",
       "    </tr>\n",
       "    <tr>\n",
       "      <th>8</th>\n",
       "      <td>OnlineBackup</td>\n",
       "      <td>2.405655</td>\n",
       "    </tr>\n",
       "    <tr>\n",
       "      <th>9</th>\n",
       "      <td>DeviceProtection</td>\n",
       "      <td>2.582239</td>\n",
       "    </tr>\n",
       "    <tr>\n",
       "      <th>10</th>\n",
       "      <td>TechSupport</td>\n",
       "      <td>2.363317</td>\n",
       "    </tr>\n",
       "    <tr>\n",
       "      <th>11</th>\n",
       "      <td>StreamingTV</td>\n",
       "      <td>2.985467</td>\n",
       "    </tr>\n",
       "    <tr>\n",
       "      <th>12</th>\n",
       "      <td>StreamingMovies</td>\n",
       "      <td>3.015152</td>\n",
       "    </tr>\n",
       "    <tr>\n",
       "      <th>13</th>\n",
       "      <td>Contract</td>\n",
       "      <td>3.923460</td>\n",
       "    </tr>\n",
       "    <tr>\n",
       "      <th>14</th>\n",
       "      <td>PaperlessBilling</td>\n",
       "      <td>2.525800</td>\n",
       "    </tr>\n",
       "    <tr>\n",
       "      <th>15</th>\n",
       "      <td>PaymentMethod</td>\n",
       "      <td>2.660064</td>\n",
       "    </tr>\n",
       "    <tr>\n",
       "      <th>16</th>\n",
       "      <td>Churn</td>\n",
       "      <td>1.644197</td>\n",
       "    </tr>\n",
       "  </tbody>\n",
       "</table>\n",
       "</div>"
      ],
      "text/plain": [
       "           Variables  VIF_Factor\n",
       "0             gender    1.885465\n",
       "1      SeniorCitizen    1.348867\n",
       "2            Partner    2.807441\n",
       "3         Dependents    1.944432\n",
       "4             tenure    7.215699\n",
       "5      MultipleLines    2.436616\n",
       "6    InternetService    2.342951\n",
       "7     OnlineSecurity    2.218222\n",
       "8       OnlineBackup    2.405655\n",
       "9   DeviceProtection    2.582239\n",
       "10       TechSupport    2.363317\n",
       "11       StreamingTV    2.985467\n",
       "12   StreamingMovies    3.015152\n",
       "13          Contract    3.923460\n",
       "14  PaperlessBilling    2.525800\n",
       "15     PaymentMethod    2.660064\n",
       "16             Churn    1.644197"
      ]
     },
     "execution_count": 45,
     "metadata": {},
     "output_type": "execute_result"
    }
   ],
   "source": [
    "vif(cc)"
   ]
  },
  {
   "cell_type": "markdown",
   "id": "920b7d3c",
   "metadata": {},
   "source": [
    "## Model_learning phase"
   ]
  },
  {
   "cell_type": "code",
   "execution_count": 46,
   "id": "afeb63a1",
   "metadata": {},
   "outputs": [],
   "source": [
    "x=cc.iloc[:,:-1]\n",
    "y=cc.iloc[:,-1]"
   ]
  },
  {
   "cell_type": "code",
   "execution_count": 47,
   "id": "329a76c1",
   "metadata": {},
   "outputs": [
    {
     "data": {
      "text/plain": [
       "(7043, 16)"
      ]
     },
     "execution_count": 47,
     "metadata": {},
     "output_type": "execute_result"
    }
   ],
   "source": [
    "x.shape"
   ]
  },
  {
   "cell_type": "code",
   "execution_count": 48,
   "id": "5cb11b64",
   "metadata": {},
   "outputs": [
    {
     "data": {
      "text/plain": [
       "(7043,)"
      ]
     },
     "execution_count": 48,
     "metadata": {},
     "output_type": "execute_result"
    }
   ],
   "source": [
    "y.shape"
   ]
  },
  {
   "cell_type": "code",
   "execution_count": 49,
   "id": "c41ce675",
   "metadata": {},
   "outputs": [],
   "source": [
    "col=x.columns"
   ]
  },
  {
   "cell_type": "markdown",
   "id": "97a79a75",
   "metadata": {},
   "source": [
    "## Applying SMOTE technique for balancing the data set"
   ]
  },
  {
   "cell_type": "code",
   "execution_count": 50,
   "id": "9b123c09",
   "metadata": {},
   "outputs": [],
   "source": [
    "from imblearn.over_sampling import SMOTE"
   ]
  },
  {
   "cell_type": "code",
   "execution_count": 51,
   "id": "7c3bac25",
   "metadata": {},
   "outputs": [],
   "source": [
    "st=SMOTE()"
   ]
  },
  {
   "cell_type": "code",
   "execution_count": 52,
   "id": "f55684bb",
   "metadata": {},
   "outputs": [
    {
     "data": {
      "text/plain": [
       "<AxesSubplot:xlabel='Churn', ylabel='count'>"
      ]
     },
     "execution_count": 52,
     "metadata": {},
     "output_type": "execute_result"
    },
    {
     "data": {
      "image/png": "[encoded data removed]",
      "text/plain": [
       "<Figure size 432x288 with 1 Axes>"
      ]
     },
     "metadata": {
      "needs_background": "light"
     },
     "output_type": "display_data"
    }
   ],
   "source": [
    "sns.countplot(y)"
   ]
  },
  {
   "cell_type": "code",
   "execution_count": 53,
   "id": "d5d394fd",
   "metadata": {},
   "outputs": [],
   "source": [
    "x,y=st.fit_resample(x,y)"
   ]
  },
  {
   "cell_type": "code",
   "execution_count": 54,
   "id": "c2cc2c2b",
   "metadata": {},
   "outputs": [
    {
     "data": {
      "text/plain": [
       "<AxesSubplot:xlabel='Churn', ylabel='count'>"
      ]
     },
     "execution_count": 54,
     "metadata": {},
     "output_type": "execute_result"
    },
    {
     "data": {
      "image/png": "[encoded data removed]",
      "text/plain": [
       "<Figure size 432x288 with 1 Axes>"
      ]
     },
     "metadata": {
      "needs_background": "light"
     },
     "output_type": "display_data"
    }
   ],
   "source": [
    "sns.countplot(y)"
   ]
  },
  {
   "cell_type": "code",
   "execution_count": 55,
   "id": "7b514631",
   "metadata": {},
   "outputs": [
    {
     "data": {
      "text/plain": [
       "(10348, 16)"
      ]
     },
     "execution_count": 55,
     "metadata": {},
     "output_type": "execute_result"
    }
   ],
   "source": [
    "x.shape"
   ]
  },
  {
   "cell_type": "code",
   "execution_count": 56,
   "id": "71762781",
   "metadata": {},
   "outputs": [
    {
     "data": {
      "text/plain": [
       "(10348,)"
      ]
     },
     "execution_count": 56,
     "metadata": {},
     "output_type": "execute_result"
    }
   ],
   "source": [
    "y.shape"
   ]
  },
  {
   "cell_type": "markdown",
   "id": "91e1089c",
   "metadata": {},
   "source": [
    "### Importing important lib."
   ]
  },
  {
   "cell_type": "code",
   "execution_count": 57,
   "id": "9583fe1a",
   "metadata": {},
   "outputs": [],
   "source": [
    "import sklearn\n",
    "from sklearn.linear_model import LogisticRegression\n",
    "from sklearn.model_selection import GridSearchCV\n",
    "from sklearn.model_selection import train_test_split\n",
    "from sklearn.model_selection import cross_val_score\n",
    "from sklearn.neighbors import KNeighborsClassifier\n",
    "from sklearn.svm import SVC\n",
    "from sklearn.tree import DecisionTreeClassifier\n",
    "from sklearn.naive_bayes import GaussianNB\n",
    "from sklearn.ensemble import RandomForestClassifier,AdaBoostClassifier,GradientBoostingClassifier\n",
    "from sklearn.metrics import accuracy_score,confusion_matrix,classification_report\n",
    "import xgboost as xg"
   ]
  },
  {
   "cell_type": "markdown",
   "id": "ae98300a",
   "metadata": {},
   "source": [
    "## Creating a function for finding Best random state"
   ]
  },
  {
   "cell_type": "code",
   "execution_count": 58,
   "id": "e64c60e7",
   "metadata": {},
   "outputs": [],
   "source": [
    "def model_select(model):\n",
    "    max_score=0\n",
    "    max_state=0\n",
    "    \n",
    "    for i in range(0,100):\n",
    "        x_train, x_test, y_train, y_test = train_test_split(x,y,test_size=0.22, random_state=i)\n",
    "        md=model()\n",
    "        md.fit(x_train,y_train)\n",
    "        predict=md.predict(x_test)\n",
    "        ac_score=accuracy_score(y_test,predict)\n",
    "        if ac_score > max_score:\n",
    "            max_score=ac_score\n",
    "            max_state=i\n",
    "    print(\"Max score is {} at random state {}\".format(max_score,max_state))"
   ]
  },
  {
   "cell_type": "markdown",
   "id": "61074647",
   "metadata": {},
   "source": [
    "## Logistic Regression"
   ]
  },
  {
   "cell_type": "markdown",
   "id": "20a3aef5",
   "metadata": {},
   "source": [
    "Finding best random state by calling model_select function"
   ]
  },
  {
   "cell_type": "code",
   "execution_count": 59,
   "id": "409e6a5b",
   "metadata": {},
   "outputs": [
    {
     "name": "stdout",
     "output_type": "stream",
     "text": [
      "Max score is 0.7971014492753623 at random state 59\n"
     ]
    }
   ],
   "source": [
    "model_select(LogisticRegression)"
   ]
  },
  {
   "cell_type": "code",
   "execution_count": 63,
   "id": "88d0ecbd",
   "metadata": {},
   "outputs": [],
   "source": [
    "x_train, x_test, y_train, y_test = train_test_split(x,y,test_size=0.22, random_state=59)"
   ]
  },
  {
   "cell_type": "code",
   "execution_count": 64,
   "id": "3056b4fb",
   "metadata": {},
   "outputs": [
    {
     "name": "stdout",
     "output_type": "stream",
     "text": [
      "Accuracy: 0.7971014492753623\n",
      "[[828 303]\n",
      " [159 987]]\n",
      "              precision    recall  f1-score   support\n",
      "\n",
      "           0       0.84      0.73      0.78      1131\n",
      "           1       0.77      0.86      0.81      1146\n",
      "\n",
      "    accuracy                           0.80      2277\n",
      "   macro avg       0.80      0.80      0.80      2277\n",
      "weighted avg       0.80      0.80      0.80      2277\n",
      "\n"
     ]
    }
   ],
   "source": [
    "lr=LogisticRegression()\n",
    "lr.fit(x_train,y_train)\n",
    "pred=lr.predict(x_test)\n",
    "print('Accuracy:',accuracy_score(y_test,pred))\n",
    "print(confusion_matrix(y_test,pred))\n",
    "print(classification_report(y_test,pred))"
   ]
  },
  {
   "cell_type": "code",
   "execution_count": 65,
   "id": "2d611e02",
   "metadata": {},
   "outputs": [
    {
     "name": "stdout",
     "output_type": "stream",
     "text": [
      "Cross validation when cv= 3 --- 0.7651766597613534\n",
      "Cross validation when cv= 4 --- 0.767974487823734\n",
      "Cross validation when cv= 5 --- 0.7686551182279008\n",
      "Cross validation when cv= 6 --- 0.7679800934799422\n",
      "Cross validation when cv= 7 --- 0.7699137888555637\n",
      "Cross validation when cv= 8 --- 0.7692385045620754\n",
      "Cross validation when cv= 9 --- 0.769428824897096\n",
      "Cross validation when cv= 10 --- 0.769814238593147\n",
      "Cross validation when cv= 11 --- 0.7695283835254894\n",
      "Cross validation when cv= 12 --- 0.7703083454092319\n",
      "Cross validation when cv= 13 --- 0.7705836876691148\n",
      "Cross validation when cv= 14 --- 0.7704920559453712\n"
     ]
    }
   ],
   "source": [
    "for i in range(3,15):\n",
    "    cvr=cross_val_score(lr,x,y,cv=i)\n",
    "    print(\"Cross validation when cv=\",i,\"---\",cvr.mean())"
   ]
  },
  {
   "cell_type": "code",
   "execution_count": 66,
   "id": "d8c2fccc",
   "metadata": {},
   "outputs": [],
   "source": [
    "cvlr=14\n",
    "Modellr=79.71\n",
    "Cslr= 77.04\n",
    "Diffrencelr= 79.71-77.04"
   ]
  },
  {
   "cell_type": "markdown",
   "id": "ce469fff",
   "metadata": {},
   "source": [
    "## Kneighbor Classifier"
   ]
  },
  {
   "cell_type": "markdown",
   "id": "3b2f51bb",
   "metadata": {},
   "source": [
    "Finding best random state by calling model_select function"
   ]
  },
  {
   "cell_type": "code",
   "execution_count": 67,
   "id": "36ac414e",
   "metadata": {},
   "outputs": [
    {
     "name": "stdout",
     "output_type": "stream",
     "text": [
      "Max score is 0.8216952129995608 at random state 59\n"
     ]
    }
   ],
   "source": [
    "model_select(KNeighborsClassifier)"
   ]
  },
  {
   "cell_type": "code",
   "execution_count": 68,
   "id": "b0ffede0",
   "metadata": {},
   "outputs": [],
   "source": [
    "x_train, x_test, y_train, y_test = train_test_split(x,y,test_size=0.22, random_state=59)"
   ]
  },
  {
   "cell_type": "code",
   "execution_count": 69,
   "id": "5a384055",
   "metadata": {},
   "outputs": [
    {
     "name": "stdout",
     "output_type": "stream",
     "text": [
      "Accuracy: 0.8216952129995608\n",
      "[[ 815  316]\n",
      " [  90 1056]]\n",
      "              precision    recall  f1-score   support\n",
      "\n",
      "           0       0.90      0.72      0.80      1131\n",
      "           1       0.77      0.92      0.84      1146\n",
      "\n",
      "    accuracy                           0.82      2277\n",
      "   macro avg       0.84      0.82      0.82      2277\n",
      "weighted avg       0.83      0.82      0.82      2277\n",
      "\n"
     ]
    }
   ],
   "source": [
    "knn=KNeighborsClassifier()\n",
    "knn.fit(x_train,y_train)\n",
    "pred=knn.predict(x_test)\n",
    "print('Accuracy:',accuracy_score(y_test,pred))\n",
    "print(confusion_matrix(y_test,pred))\n",
    "print(classification_report(y_test,pred))"
   ]
  },
  {
   "cell_type": "code",
   "execution_count": 70,
   "id": "be95a214",
   "metadata": {},
   "outputs": [
    {
     "name": "stdout",
     "output_type": "stream",
     "text": [
      "Cross validation when cv= 3 --- 0.8023791535178578\n",
      "Cross validation when cv= 4 --- 0.8048898337843062\n",
      "Cross validation when cv= 5 --- 0.8079852807606185\n",
      "Cross validation when cv= 6 --- 0.8056662407388725\n",
      "Cross validation when cv= 7 --- 0.8052808263429491\n",
      "Cross validation when cv= 8 --- 0.8096302495544311\n",
      "Cross validation when cv= 9 --- 0.8084678548454233\n",
      "Cross validation when cv= 10 --- 0.8088545024715238\n",
      "Cross validation when cv= 11 --- 0.8095338717402162\n",
      "Cross validation when cv= 12 --- 0.8102165013680044\n",
      "Cross validation when cv= 13 --- 0.8077889447236181\n",
      "Cross validation when cv= 14 --- 0.8070200782650039\n"
     ]
    }
   ],
   "source": [
    "for i in range(3,15):\n",
    "    cvr=cross_val_score(knn,x,y,cv=i)\n",
    "    print(\"Cross validation when cv=\",i,\"---\",cvr.mean())"
   ]
  },
  {
   "cell_type": "code",
   "execution_count": 71,
   "id": "96e75ad5",
   "metadata": {},
   "outputs": [],
   "source": [
    "cvknn=12\n",
    "Modelknn= 82.16\n",
    "Csknn= 81.02\n",
    "Diffrenceknn= 82.16-81.02"
   ]
  },
  {
   "cell_type": "markdown",
   "id": "81b469cd",
   "metadata": {},
   "source": [
    "### Naive bayes classifier"
   ]
  },
  {
   "cell_type": "markdown",
   "id": "ad221f2d",
   "metadata": {},
   "source": [
    "Finding best random state by calling model_select function"
   ]
  },
  {
   "cell_type": "code",
   "execution_count": 72,
   "id": "e4df7bbd",
   "metadata": {},
   "outputs": [
    {
     "name": "stdout",
     "output_type": "stream",
     "text": [
      "Max score is 0.7896354852876593 at random state 74\n"
     ]
    }
   ],
   "source": [
    "model_select(GaussianNB)"
   ]
  },
  {
   "cell_type": "code",
   "execution_count": 73,
   "id": "a07bfae1",
   "metadata": {},
   "outputs": [],
   "source": [
    "x_train, x_test, y_train, y_test = train_test_split(x,y,test_size=0.22, random_state=74)"
   ]
  },
  {
   "cell_type": "code",
   "execution_count": 74,
   "id": "62238c2a",
   "metadata": {},
   "outputs": [
    {
     "name": "stdout",
     "output_type": "stream",
     "text": [
      "Accuracy: 0.7896354852876593\n",
      "[[826 310]\n",
      " [169 972]]\n",
      "              precision    recall  f1-score   support\n",
      "\n",
      "           0       0.83      0.73      0.78      1136\n",
      "           1       0.76      0.85      0.80      1141\n",
      "\n",
      "    accuracy                           0.79      2277\n",
      "   macro avg       0.79      0.79      0.79      2277\n",
      "weighted avg       0.79      0.79      0.79      2277\n",
      "\n"
     ]
    }
   ],
   "source": [
    "gn=GaussianNB()\n",
    "gn.fit(x_train,y_train)\n",
    "pred=gn.predict(x_test)\n",
    "print('Accuracy:',accuracy_score(y_test,pred))\n",
    "print(confusion_matrix(y_test,pred))\n",
    "print(classification_report(y_test,pred))"
   ]
  },
  {
   "cell_type": "code",
   "execution_count": 75,
   "id": "33aae696",
   "metadata": {},
   "outputs": [
    {
     "name": "stdout",
     "output_type": "stream",
     "text": [
      "Cross validation when cv= 3 --- 0.7607304224566948\n",
      "Cross validation when cv= 4 --- 0.7631426362582141\n",
      "Cross validation when cv= 5 --- 0.764886161720171\n",
      "Cross validation when cv= 6 --- 0.7649834112332852\n",
      "Cross validation when cv= 7 --- 0.7652750988874856\n",
      "Cross validation when cv= 8 --- 0.7650823271425856\n",
      "Cross validation when cv= 9 --- 0.7657553932636235\n",
      "Cross validation when cv= 10 --- 0.7657546790756782\n",
      "Cross validation when cv= 11 --- 0.7658550823540536\n",
      "Cross validation when cv= 12 --- 0.7657645365588305\n",
      "Cross validation when cv= 13 --- 0.7661383842288364\n",
      "Cross validation when cv= 14 --- 0.7663388644782421\n"
     ]
    }
   ],
   "source": [
    "for i in range(3,15):\n",
    "    cvr=cross_val_score(gn,x,y,cv=i)\n",
    "    print(\"Cross validation when cv=\",i,\"---\",cvr.mean())"
   ]
  },
  {
   "cell_type": "code",
   "execution_count": 76,
   "id": "accf1d20",
   "metadata": {},
   "outputs": [],
   "source": [
    "cvgn=14\n",
    "Modelgn= 78.96\n",
    "Cskgn= 76.63\n",
    "Diffrencegn= 78.96-76.63"
   ]
  },
  {
   "cell_type": "markdown",
   "id": "be4a9d02",
   "metadata": {},
   "source": [
    "### Decision tree classifier\n",
    "\n",
    "Finding best random state by calling model_select function"
   ]
  },
  {
   "cell_type": "code",
   "execution_count": 77,
   "id": "2fb548c3",
   "metadata": {},
   "outputs": [
    {
     "name": "stdout",
     "output_type": "stream",
     "text": [
      "Max score is 0.8181818181818182 at random state 91\n"
     ]
    }
   ],
   "source": [
    "model_select(DecisionTreeClassifier)"
   ]
  },
  {
   "cell_type": "code",
   "execution_count": 78,
   "id": "5000845b",
   "metadata": {},
   "outputs": [],
   "source": [
    "x_train, x_test, y_train, y_test = train_test_split(x,y,test_size=0.22, random_state=91)"
   ]
  },
  {
   "cell_type": "code",
   "execution_count": 79,
   "id": "4ad16218",
   "metadata": {},
   "outputs": [
    {
     "name": "stdout",
     "output_type": "stream",
     "text": [
      "Accuracy: 0.8133509003074221\n",
      "[[946 242]\n",
      " [183 906]]\n",
      "              precision    recall  f1-score   support\n",
      "\n",
      "           0       0.84      0.80      0.82      1188\n",
      "           1       0.79      0.83      0.81      1089\n",
      "\n",
      "    accuracy                           0.81      2277\n",
      "   macro avg       0.81      0.81      0.81      2277\n",
      "weighted avg       0.81      0.81      0.81      2277\n",
      "\n"
     ]
    }
   ],
   "source": [
    "dtc=DecisionTreeClassifier()\n",
    "dtc.fit(x_train,y_train)\n",
    "pred=dtc.predict(x_test)\n",
    "print('Accuracy:',accuracy_score(y_test,pred))\n",
    "print(confusion_matrix(y_test,pred))\n",
    "print(classification_report(y_test,pred))"
   ]
  },
  {
   "cell_type": "code",
   "execution_count": 80,
   "id": "641afe5e",
   "metadata": {},
   "outputs": [
    {
     "name": "stdout",
     "output_type": "stream",
     "text": [
      "Cross validation when cv= 3 --- 0.7857600396670322\n",
      "Cross validation when cv= 4 --- 0.7958059528411288\n",
      "Cross validation when cv= 5 --- 0.793685857248595\n",
      "Cross validation when cv= 6 --- 0.7987121848974971\n",
      "Cross validation when cv= 7 --- 0.7985225073184516\n",
      "Cross validation when cv= 8 --- 0.8006511103062381\n",
      "Cross validation when cv= 9 --- 0.794266806254546\n",
      "Cross validation when cv= 10 --- 0.7977446060979826\n",
      "Cross validation when cv= 11 --- 0.7967838445046938\n",
      "Cross validation when cv= 12 --- 0.801436494216563\n",
      "Cross validation when cv= 13 --- 0.7992848859683032\n",
      "Cross validation when cv= 14 --- 0.7991035835758434\n"
     ]
    }
   ],
   "source": [
    "for i in range(3,15):\n",
    "    cvr=cross_val_score(dtc,x,y,cv=i)\n",
    "    print(\"Cross validation when cv=\",i,\"---\",cvr.mean())"
   ]
  },
  {
   "cell_type": "code",
   "execution_count": 81,
   "id": "54c1d873",
   "metadata": {},
   "outputs": [],
   "source": [
    "cvdt=14\n",
    "Modeldt= 81.33\n",
    "Csdt=80.06\n",
    "Diffrencedt= 81.33-80.06"
   ]
  },
  {
   "cell_type": "markdown",
   "id": "2202f1e7",
   "metadata": {},
   "source": [
    "### Support vector machine classifier\n",
    "\n",
    "Finding best random state by calling model_select function"
   ]
  },
  {
   "cell_type": "code",
   "execution_count": 82,
   "id": "581d6aff",
   "metadata": {},
   "outputs": [
    {
     "name": "stdout",
     "output_type": "stream",
     "text": [
      "Max score is 0.7909530083443127 at random state 67\n"
     ]
    }
   ],
   "source": [
    "model_select(SVC)"
   ]
  },
  {
   "cell_type": "code",
   "execution_count": 83,
   "id": "26819c08",
   "metadata": {},
   "outputs": [],
   "source": [
    "x_train, x_test, y_train, y_test = train_test_split(x,y,test_size=0.22, random_state=67)"
   ]
  },
  {
   "cell_type": "code",
   "execution_count": 84,
   "id": "5d618b0f",
   "metadata": {},
   "outputs": [
    {
     "name": "stdout",
     "output_type": "stream",
     "text": [
      "Accuracy: 0.7909530083443127\n",
      "[[859 284]\n",
      " [192 942]]\n",
      "              precision    recall  f1-score   support\n",
      "\n",
      "           0       0.82      0.75      0.78      1143\n",
      "           1       0.77      0.83      0.80      1134\n",
      "\n",
      "    accuracy                           0.79      2277\n",
      "   macro avg       0.79      0.79      0.79      2277\n",
      "weighted avg       0.79      0.79      0.79      2277\n",
      "\n"
     ]
    }
   ],
   "source": [
    "svc=SVC()\n",
    "svc.fit(x_train,y_train)\n",
    "pred=svc.predict(x_test)\n",
    "print('Accuracy:',accuracy_score(y_test,pred))\n",
    "print(confusion_matrix(y_test,pred))\n",
    "print(classification_report(y_test,pred))"
   ]
  },
  {
   "cell_type": "code",
   "execution_count": 86,
   "id": "0e7fd55b",
   "metadata": {},
   "outputs": [
    {
     "name": "stdout",
     "output_type": "stream",
     "text": [
      "Cross validation when cv= 8 --- 0.7691393647401117\n",
      "Cross validation when cv= 9 --- 0.7698150460597958\n"
     ]
    }
   ],
   "source": [
    "for i in range(8,10):\n",
    "    cvr=cross_val_score(svc,x,y,cv=i)\n",
    "    print(\"Cross validation when cv=\",i,\"---\",cvr.mean())"
   ]
  },
  {
   "cell_type": "code",
   "execution_count": 87,
   "id": "71756db4",
   "metadata": {},
   "outputs": [],
   "source": [
    "cvsvm=9\n",
    "Modelsvm=79.09\n",
    "Cssvm=7\n",
    "Diffrencesvm= 79.09-76.98"
   ]
  },
  {
   "cell_type": "markdown",
   "id": "c4421301",
   "metadata": {},
   "source": [
    "## Ensamble technique --"
   ]
  },
  {
   "cell_type": "markdown",
   "id": "a7761e39",
   "metadata": {},
   "source": [
    "### Bagging and boosting"
   ]
  },
  {
   "cell_type": "markdown",
   "id": "ab6a7083",
   "metadata": {},
   "source": [
    "## Random forest classifier\n",
    "Finding best random state by calling model_select function"
   ]
  },
  {
   "cell_type": "code",
   "execution_count": 88,
   "id": "7d7539c7",
   "metadata": {},
   "outputs": [
    {
     "name": "stdout",
     "output_type": "stream",
     "text": [
      "Max score is 0.8537549407114624 at random state 79\n"
     ]
    }
   ],
   "source": [
    "model_select(RandomForestClassifier)"
   ]
  },
  {
   "cell_type": "code",
   "execution_count": 89,
   "id": "b859e7ee",
   "metadata": {},
   "outputs": [],
   "source": [
    "x_train, x_test, y_train, y_test = train_test_split(x,y,test_size=0.22, random_state=79)"
   ]
  },
  {
   "cell_type": "code",
   "execution_count": 90,
   "id": "48494965",
   "metadata": {},
   "outputs": [
    {
     "name": "stdout",
     "output_type": "stream",
     "text": [
      "Accuracy: 0.8528765920070268\n",
      "[[ 934  217]\n",
      " [ 118 1008]]\n",
      "              precision    recall  f1-score   support\n",
      "\n",
      "           0       0.89      0.81      0.85      1151\n",
      "           1       0.82      0.90      0.86      1126\n",
      "\n",
      "    accuracy                           0.85      2277\n",
      "   macro avg       0.86      0.85      0.85      2277\n",
      "weighted avg       0.86      0.85      0.85      2277\n",
      "\n"
     ]
    }
   ],
   "source": [
    "rfc=RandomForestClassifier()\n",
    "rfc.fit(x_train,y_train)\n",
    "pred=rfc.predict(x_test)\n",
    "print('Accuracy:',accuracy_score(y_test,pred))\n",
    "print(confusion_matrix(y_test,pred))\n",
    "print(classification_report(y_test,pred))"
   ]
  },
  {
   "cell_type": "code",
   "execution_count": 91,
   "id": "eb0272d9",
   "metadata": {},
   "outputs": [
    {
     "name": "stdout",
     "output_type": "stream",
     "text": [
      "Cross validation when cv= 7 --- 0.837759302311751\n",
      "Cross validation when cv= 8 --- 0.8384383991316935\n",
      "Cross validation when cv= 9 --- 0.8404606400020181\n",
      "Cross validation when cv= 10 --- 0.8407507078182379\n",
      "Cross validation when cv= 11 --- 0.8413346844893185\n",
      "Cross validation when cv= 12 --- 0.841929401474559\n",
      "Cross validation when cv= 13 --- 0.8425782759953615\n",
      "Cross validation when cv= 14 --- 0.8437499020381293\n"
     ]
    }
   ],
   "source": [
    "for i in range(7,15):\n",
    "    cvr=cross_val_score(rfc,x,y,cv=i)\n",
    "    print(\"Cross validation when cv=\",i,\"---\",cvr.mean())"
   ]
  },
  {
   "cell_type": "code",
   "execution_count": 92,
   "id": "706ad07f",
   "metadata": {},
   "outputs": [],
   "source": [
    "cvrf=14\n",
    "Modelrf= 85.28\n",
    "Csrf= 84.37\n",
    "Diffrencerf =85.28-84.37"
   ]
  },
  {
   "cell_type": "markdown",
   "id": "a75e8f1a",
   "metadata": {},
   "source": [
    "### AdaBoostClassifier\n",
    "Finding best random state by calling model_select function"
   ]
  },
  {
   "cell_type": "code",
   "execution_count": 93,
   "id": "153b41c6",
   "metadata": {},
   "outputs": [
    {
     "name": "stdout",
     "output_type": "stream",
     "text": [
      "Max score is 0.8111550285463329 at random state 59\n"
     ]
    }
   ],
   "source": [
    "model_select(AdaBoostClassifier)"
   ]
  },
  {
   "cell_type": "code",
   "execution_count": 94,
   "id": "42e654d7",
   "metadata": {},
   "outputs": [],
   "source": [
    "x_train, x_test, y_train, y_test = train_test_split(x,y,test_size=0.22, random_state=59)"
   ]
  },
  {
   "cell_type": "code",
   "execution_count": 95,
   "id": "a62c9539",
   "metadata": {},
   "outputs": [
    {
     "name": "stdout",
     "output_type": "stream",
     "text": [
      "Accuracy: 0.8111550285463329\n",
      "[[877 254]\n",
      " [176 970]]\n",
      "              precision    recall  f1-score   support\n",
      "\n",
      "           0       0.83      0.78      0.80      1131\n",
      "           1       0.79      0.85      0.82      1146\n",
      "\n",
      "    accuracy                           0.81      2277\n",
      "   macro avg       0.81      0.81      0.81      2277\n",
      "weighted avg       0.81      0.81      0.81      2277\n",
      "\n"
     ]
    }
   ],
   "source": [
    "ada=AdaBoostClassifier()\n",
    "ada.fit(x_train,y_train)\n",
    "pred=ada.predict(x_test)\n",
    "print('Accuracy:',accuracy_score(y_test,pred))\n",
    "print(confusion_matrix(y_test,pred))\n",
    "print(classification_report(y_test,pred))"
   ]
  },
  {
   "cell_type": "code",
   "execution_count": 96,
   "id": "4c28881c",
   "metadata": {},
   "outputs": [
    {
     "name": "stdout",
     "output_type": "stream",
     "text": [
      "Cross validation when cv= 7 --- 0.7866316980807536\n",
      "Cross validation when cv= 8 --- 0.7889514906684549\n",
      "Cross validation when cv= 9 --- 0.7893350655684632\n",
      "Cross validation when cv= 10 --- 0.7903016286827572\n",
      "Cross validation when cv= 11 --- 0.7879858457503336\n",
      "Cross validation when cv= 12 --- 0.7892486864379817\n",
      "Cross validation when cv= 13 --- 0.7894279087746424\n",
      "Cross validation when cv= 14 --- 0.7888512860434375\n"
     ]
    }
   ],
   "source": [
    "for i in range(7,15):\n",
    "    cvr=cross_val_score(ada,x,y,cv=i)\n",
    "    print(\"Cross validation when cv=\",i,\"---\",cvr.mean())"
   ]
  },
  {
   "cell_type": "code",
   "execution_count": 97,
   "id": "8104ca49",
   "metadata": {},
   "outputs": [],
   "source": [
    "cvada=12\n",
    "Modelada = 81.11\n",
    "Csada= 79.03\n",
    "Diffrenceada=81.11-79.03"
   ]
  },
  {
   "cell_type": "markdown",
   "id": "066981a8",
   "metadata": {},
   "source": [
    "### GradientBoostingClassifier\n",
    "Finding best random state by calling model_select function"
   ]
  },
  {
   "cell_type": "code",
   "execution_count": 98,
   "id": "8bee26de",
   "metadata": {},
   "outputs": [
    {
     "name": "stdout",
     "output_type": "stream",
     "text": [
      "Max score is 0.826526130873957 at random state 91\n"
     ]
    }
   ],
   "source": [
    "model_select(GradientBoostingClassifier)"
   ]
  },
  {
   "cell_type": "code",
   "execution_count": 99,
   "id": "179d665e",
   "metadata": {},
   "outputs": [],
   "source": [
    "x_train, x_test, y_train, y_test = train_test_split(x,y,test_size=0.22, random_state=91)"
   ]
  },
  {
   "cell_type": "code",
   "execution_count": 100,
   "id": "5079052e",
   "metadata": {},
   "outputs": [
    {
     "name": "stdout",
     "output_type": "stream",
     "text": [
      "Accuracy: 0.826526130873957\n",
      "[[929 259]\n",
      " [136 953]]\n",
      "              precision    recall  f1-score   support\n",
      "\n",
      "           0       0.87      0.78      0.82      1188\n",
      "           1       0.79      0.88      0.83      1089\n",
      "\n",
      "    accuracy                           0.83      2277\n",
      "   macro avg       0.83      0.83      0.83      2277\n",
      "weighted avg       0.83      0.83      0.83      2277\n",
      "\n"
     ]
    }
   ],
   "source": [
    "gbc=GradientBoostingClassifier()\n",
    "gbc.fit(x_train,y_train)\n",
    "pred=gbc.predict(x_test)\n",
    "print('Accuracy:',accuracy_score(y_test,pred))\n",
    "print(confusion_matrix(y_test,pred))\n",
    "print(classification_report(y_test,pred))"
   ]
  },
  {
   "cell_type": "code",
   "execution_count": 101,
   "id": "d1e010b4",
   "metadata": {},
   "outputs": [
    {
     "name": "stdout",
     "output_type": "stream",
     "text": [
      "Cross validation when cv= 7 --- 0.8055756948852987\n",
      "Cross validation when cv= 8 --- 0.8073161901380755\n",
      "Cross validation when cv= 9 --- 0.8069265019361512\n",
      "Cross validation when cv= 10 --- 0.8076026686849997\n",
      "Cross validation when cv= 11 --- 0.8086686043284953\n",
      "Cross validation when cv= 12 --- 0.8094521798901115\n",
      "Cross validation when cv= 13 --- 0.8093351372245845\n",
      "Cross validation when cv= 14 --- 0.8077968505911672\n"
     ]
    }
   ],
   "source": [
    "for i in range(7,15):\n",
    "    cvr=cross_val_score(gbc,x,y,cv=i)\n",
    "    print(\"Cross validation when cv=\",i,\"---\",cvr.mean())"
   ]
  },
  {
   "cell_type": "code",
   "execution_count": 102,
   "id": "3b38e051",
   "metadata": {},
   "outputs": [],
   "source": [
    "cvgbc=11\n",
    "Modelgbc = 82.65\n",
    "Csgbc= 80.86\n",
    "Diffrencegbc =82.56-80.86"
   ]
  },
  {
   "cell_type": "markdown",
   "id": "cbec8fdf",
   "metadata": {},
   "source": [
    "## Xg boost Classifier\n",
    "Finding best random state by calling model_select function"
   ]
  },
  {
   "cell_type": "code",
   "execution_count": 103,
   "id": "2c5a786d",
   "metadata": {},
   "outputs": [
    {
     "name": "stdout",
     "output_type": "stream",
     "text": [
      "Max score is 0.8493631971892841 at random state 28\n"
     ]
    }
   ],
   "source": [
    "model_select(xg.XGBClassifier)"
   ]
  },
  {
   "cell_type": "code",
   "execution_count": 104,
   "id": "dd190c0d",
   "metadata": {},
   "outputs": [],
   "source": [
    "x_train, x_test, y_train, y_test = train_test_split(x,y,test_size=0.22, random_state=28)"
   ]
  },
  {
   "cell_type": "code",
   "execution_count": 105,
   "id": "f1d1c5db",
   "metadata": {},
   "outputs": [
    {
     "name": "stdout",
     "output_type": "stream",
     "text": [
      "Accuracy: 0.8493631971892841\n",
      "[[952 204]\n",
      " [139 982]]\n",
      "              precision    recall  f1-score   support\n",
      "\n",
      "           0       0.87      0.82      0.85      1156\n",
      "           1       0.83      0.88      0.85      1121\n",
      "\n",
      "    accuracy                           0.85      2277\n",
      "   macro avg       0.85      0.85      0.85      2277\n",
      "weighted avg       0.85      0.85      0.85      2277\n",
      "\n"
     ]
    }
   ],
   "source": [
    "xb=xg.XGBClassifier()\n",
    "xb.fit(x_train,y_train)\n",
    "pred=xb.predict(x_test)\n",
    "print('Accuracy:',accuracy_score(y_test,pred))\n",
    "print(confusion_matrix(y_test,pred))\n",
    "print(classification_report(y_test,pred))"
   ]
  },
  {
   "cell_type": "code",
   "execution_count": 106,
   "id": "53b73c4f",
   "metadata": {},
   "outputs": [
    {
     "name": "stdout",
     "output_type": "stream",
     "text": [
      "Cross validation when cv= 7 --- 0.8334116251138595\n",
      "Cross validation when cv= 8 --- 0.8347661913931992\n",
      "Cross validation when cv= 9 --- 0.835533356037386\n",
      "Cross validation when cv= 10 --- 0.8356309627262449\n",
      "Cross validation when cv= 11 --- 0.8352464660624835\n",
      "Cross validation when cv= 12 --- 0.8365176514237015\n",
      "Cross validation when cv= 13 --- 0.8346540394279087\n",
      "Cross validation when cv= 14 --- 0.8379535634610059\n"
     ]
    }
   ],
   "source": [
    "for i in range(7,15):\n",
    "    cvr=cross_val_score(xb,x,y,cv=i)\n",
    "    print(\"Cross validation when cv=\",i,'---',cvr.mean())"
   ]
  },
  {
   "cell_type": "code",
   "execution_count": 107,
   "id": "a89eda96",
   "metadata": {},
   "outputs": [],
   "source": [
    "cvxg=14\n",
    "Modelxg=84.93\n",
    "Csxg=83.79\n",
    "Diffrencexg=84.93-83.79"
   ]
  },
  {
   "cell_type": "markdown",
   "id": "d3f772e5",
   "metadata": {},
   "source": [
    "## Comparison of all the models"
   ]
  },
  {
   "cell_type": "code",
   "execution_count": 113,
   "id": "a7691265",
   "metadata": {},
   "outputs": [],
   "source": [
    "kk={'CV':[cvlr,cvknn,cvgn,cvdt,cvsvm,cvrf,cvada,cvgbc,cvxg],\n",
    "                 'Model_accuracy':[Modellr,Modelknn,Modelgn,Modeldt,Modelsvm,Modelrf,Modelada,Modelgbc,Modelxg],\n",
    "                 'Cross validation Score':[Cslr,Csknn,Cskgn,Csdt,Cssvm,Csrf,Csada,Csgbc,Csxg],\n",
    " 'Diffrence':[Diffrencelr,Diffrenceknn,Diffrencegn,Diffrencedt,Diffrencesvm,Diffrencerf,Diffrenceada,Diffrencegbc,Diffrencexg]\n",
    " }"
   ]
  },
  {
   "cell_type": "code",
   "execution_count": 114,
   "id": "415dd9bf",
   "metadata": {},
   "outputs": [],
   "source": [
    "result=pd.DataFrame(kk,index=['Logistic','kneighbour','GaussianNB','Decision tree',\n",
    "                              'Support vector machine','Random forest','Adaboost','GredientBoosting','XGBoost'])"
   ]
  },
  {
   "cell_type": "code",
   "execution_count": 130,
   "id": "caa1a478",
   "metadata": {},
   "outputs": [
    {
     "data": {
      "text/html": [
       "<div>\n",
       "<style scoped>\n",
       "    .dataframe tbody tr th:only-of-type {\n",
       "        vertical-align: middle;\n",
       "    }\n",
       "\n",
       "    .dataframe tbody tr th {\n",
       "        vertical-align: top;\n",
       "    }\n",
       "\n",
       "    .dataframe thead th {\n",
       "        text-align: right;\n",
       "    }\n",
       "</style>\n",
       "<table border=\"1\" class=\"dataframe\">\n",
       "  <thead>\n",
       "    <tr style=\"text-align: right;\">\n",
       "      <th></th>\n",
       "      <th>CV</th>\n",
       "      <th>Model_accuracy</th>\n",
       "      <th>Cross validation Score</th>\n",
       "      <th>Diffrence</th>\n",
       "    </tr>\n",
       "  </thead>\n",
       "  <tbody>\n",
       "    <tr>\n",
       "      <th>Logistic</th>\n",
       "      <td>14</td>\n",
       "      <td>79.71</td>\n",
       "      <td>77.04</td>\n",
       "      <td>2.67</td>\n",
       "    </tr>\n",
       "    <tr>\n",
       "      <th>kneighbour</th>\n",
       "      <td>12</td>\n",
       "      <td>82.16</td>\n",
       "      <td>81.02</td>\n",
       "      <td>1.14</td>\n",
       "    </tr>\n",
       "    <tr>\n",
       "      <th>GaussianNB</th>\n",
       "      <td>14</td>\n",
       "      <td>78.96</td>\n",
       "      <td>76.63</td>\n",
       "      <td>2.33</td>\n",
       "    </tr>\n",
       "    <tr>\n",
       "      <th>Decision tree</th>\n",
       "      <td>14</td>\n",
       "      <td>81.33</td>\n",
       "      <td>80.06</td>\n",
       "      <td>1.27</td>\n",
       "    </tr>\n",
       "    <tr>\n",
       "      <th>Support vector machine</th>\n",
       "      <td>9</td>\n",
       "      <td>79.09</td>\n",
       "      <td>7.00</td>\n",
       "      <td>2.11</td>\n",
       "    </tr>\n",
       "    <tr>\n",
       "      <th>Random forest</th>\n",
       "      <td>14</td>\n",
       "      <td>85.28</td>\n",
       "      <td>84.37</td>\n",
       "      <td>0.91</td>\n",
       "    </tr>\n",
       "    <tr>\n",
       "      <th>Adaboost</th>\n",
       "      <td>12</td>\n",
       "      <td>81.11</td>\n",
       "      <td>79.03</td>\n",
       "      <td>2.08</td>\n",
       "    </tr>\n",
       "    <tr>\n",
       "      <th>GredientBoosting</th>\n",
       "      <td>11</td>\n",
       "      <td>82.65</td>\n",
       "      <td>80.86</td>\n",
       "      <td>1.70</td>\n",
       "    </tr>\n",
       "    <tr>\n",
       "      <th>XGBoost</th>\n",
       "      <td>14</td>\n",
       "      <td>84.93</td>\n",
       "      <td>83.79</td>\n",
       "      <td>1.14</td>\n",
       "    </tr>\n",
       "  </tbody>\n",
       "</table>\n",
       "</div>"
      ],
      "text/plain": [
       "                        CV  Model_accuracy  Cross validation Score  Diffrence\n",
       "Logistic                14           79.71                   77.04       2.67\n",
       "kneighbour              12           82.16                   81.02       1.14\n",
       "GaussianNB              14           78.96                   76.63       2.33\n",
       "Decision tree           14           81.33                   80.06       1.27\n",
       "Support vector machine   9           79.09                    7.00       2.11\n",
       "Random forest           14           85.28                   84.37       0.91\n",
       "Adaboost                12           81.11                   79.03       2.08\n",
       "GredientBoosting        11           82.65                   80.86       1.70\n",
       "XGBoost                 14           84.93                   83.79       1.14"
      ]
     },
     "execution_count": 130,
     "metadata": {},
     "output_type": "execute_result"
    }
   ],
   "source": [
    "result"
   ]
  },
  {
   "cell_type": "code",
   "execution_count": 131,
   "id": "c35e5d7e",
   "metadata": {},
   "outputs": [],
   "source": [
    "aa=list(result['Model_accuracy'])"
   ]
  },
  {
   "cell_type": "code",
   "execution_count": 133,
   "id": "8a921610",
   "metadata": {},
   "outputs": [],
   "source": [
    "bb=list(result.index)"
   ]
  },
  {
   "cell_type": "code",
   "execution_count": 137,
   "id": "02b9671b",
   "metadata": {},
   "outputs": [],
   "source": [
    "model_all=pd.DataFrame({'Model':bb,'Accuracy':aa})"
   ]
  },
  {
   "cell_type": "code",
   "execution_count": 242,
   "id": "fc37fd0a",
   "metadata": {},
   "outputs": [
    {
     "data": {
      "image/png": "[encoded data removed]",
      "text/plain": [
       "<Figure size 1080x576 with 1 Axes>"
      ]
     },
     "metadata": {
      "needs_background": "light"
     },
     "output_type": "display_data"
    }
   ],
   "source": [
    "plt.figure(figsize=[15,8])\n",
    "sns.barplot(data=model_all,y='Model',x='Accuracy',palette='flare')\n",
    "plt.title(\"Model name and model accuracy\",fontsize=20)\n",
    "plt.show()"
   ]
  },
  {
   "cell_type": "markdown",
   "id": "db2101af",
   "metadata": {},
   "source": [
    "## Best Model\n",
    "### We are chosing Random forest classifier as a best model, Because this model has least diffrence between model acuracy score and cross validation score and also its accuracy is highest as compare to others.That is why we are choosing RFC\n",
    "### Model accuracy is : 85.28\n",
    "### Cross_validation score : 84.37\n",
    "### Diffrence : 0.91\n",
    ".\n",
    "\n",
    "."
   ]
  },
  {
   "cell_type": "markdown",
   "id": "35c53701",
   "metadata": {},
   "source": [
    "## Hyper Parameter tuning\n",
    "### Grid search cv"
   ]
  },
  {
   "cell_type": "code",
   "execution_count": 158,
   "id": "08c164be",
   "metadata": {},
   "outputs": [],
   "source": [
    "parameter={'n_estimators':[20,30,40,50],\n",
    "           'criterion':['gini', 'entropy'],\n",
    "           'max_depth':[5,15,30,35],\n",
    "            'max_features':['sqrt', 'log2']\n",
    "           }"
   ]
  },
  {
   "cell_type": "code",
   "execution_count": 159,
   "id": "a3955f98",
   "metadata": {},
   "outputs": [
    {
     "data": {
      "text/plain": [
       "{'criterion': 'gini',\n",
       " 'max_depth': 15,\n",
       " 'max_features': 'sqrt',\n",
       " 'n_estimators': 50}"
      ]
     },
     "execution_count": 159,
     "metadata": {},
     "output_type": "execute_result"
    }
   ],
   "source": [
    "GSC=GridSearchCV(rfc,parameter,cv=5)\n",
    "GSC.fit(x_train,y_train)\n",
    "GSC.best_params_"
   ]
  },
  {
   "cell_type": "code",
   "execution_count": 160,
   "id": "91ee6e86",
   "metadata": {},
   "outputs": [
    {
     "data": {
      "text/html": [
       "<style>#sk-container-id-2 {color: black;background-color: white;}#sk-container-id-2 pre{padding: 0;}#sk-container-id-2 div.sk-toggleable {background-color: white;}#sk-container-id-2 label.sk-toggleable__label {cursor: pointer;display: block;width: 100%;margin-bottom: 0;padding: 0.3em;box-sizing: border-box;text-align: center;}#sk-container-id-2 label.sk-toggleable__label-arrow:before {content: \"▸\";float: left;margin-right: 0.25em;color: #696969;}#sk-container-id-2 label.sk-toggleable__label-arrow:hover:before {color: black;}#sk-container-id-2 div.sk-estimator:hover label.sk-toggleable__label-arrow:before {color: black;}#sk-container-id-2 div.sk-toggleable__content {max-height: 0;max-width: 0;overflow: hidden;text-align: left;background-color: #f0f8ff;}#sk-container-id-2 div.sk-toggleable__content pre {margin: 0.2em;color: black;border-radius: 0.25em;background-color: #f0f8ff;}#sk-container-id-2 input.sk-toggleable__control:checked~div.sk-toggleable__content {max-height: 200px;max-width: 100%;overflow: auto;}#sk-container-id-2 input.sk-toggleable__control:checked~label.sk-toggleable__label-arrow:before {content: \"▾\";}#sk-container-id-2 div.sk-estimator input.sk-toggleable__control:checked~label.sk-toggleable__label {background-color: #d4ebff;}#sk-container-id-2 div.sk-label input.sk-toggleable__control:checked~label.sk-toggleable__label {background-color: #d4ebff;}#sk-container-id-2 input.sk-hidden--visually {border: 0;clip: rect(1px 1px 1px 1px);clip: rect(1px, 1px, 1px, 1px);height: 1px;margin: -1px;overflow: hidden;padding: 0;position: absolute;width: 1px;}#sk-container-id-2 div.sk-estimator {font-family: monospace;background-color: #f0f8ff;border: 1px dotted black;border-radius: 0.25em;box-sizing: border-box;margin-bottom: 0.5em;}#sk-container-id-2 div.sk-estimator:hover {background-color: #d4ebff;}#sk-container-id-2 div.sk-parallel-item::after {content: \"\";width: 100%;border-bottom: 1px solid gray;flex-grow: 1;}#sk-container-id-2 div.sk-label:hover label.sk-toggleable__label {background-color: #d4ebff;}#sk-container-id-2 div.sk-serial::before {content: \"\";position: absolute;border-left: 1px solid gray;box-sizing: border-box;top: 0;bottom: 0;left: 50%;z-index: 0;}#sk-container-id-2 div.sk-serial {display: flex;flex-direction: column;align-items: center;background-color: white;padding-right: 0.2em;padding-left: 0.2em;position: relative;}#sk-container-id-2 div.sk-item {position: relative;z-index: 1;}#sk-container-id-2 div.sk-parallel {display: flex;align-items: stretch;justify-content: center;background-color: white;position: relative;}#sk-container-id-2 div.sk-item::before, #sk-container-id-2 div.sk-parallel-item::before {content: \"\";position: absolute;border-left: 1px solid gray;box-sizing: border-box;top: 0;bottom: 0;left: 50%;z-index: -1;}#sk-container-id-2 div.sk-parallel-item {display: flex;flex-direction: column;z-index: 1;position: relative;background-color: white;}#sk-container-id-2 div.sk-parallel-item:first-child::after {align-self: flex-end;width: 50%;}#sk-container-id-2 div.sk-parallel-item:last-child::after {align-self: flex-start;width: 50%;}#sk-container-id-2 div.sk-parallel-item:only-child::after {width: 0;}#sk-container-id-2 div.sk-dashed-wrapped {border: 1px dashed gray;margin: 0 0.4em 0.5em 0.4em;box-sizing: border-box;padding-bottom: 0.4em;background-color: white;}#sk-container-id-2 div.sk-label label {font-family: monospace;font-weight: bold;display: inline-block;line-height: 1.2em;}#sk-container-id-2 div.sk-label-container {text-align: center;}#sk-container-id-2 div.sk-container {/* jupyter's `normalize.less` sets `[hidden] { display: none; }` but bootstrap.min.css set `[hidden] { display: none !important; }` so we also need the `!important` here to be able to override the default hidden behavior on the sphinx rendered scikit-learn.org. See: https://github.com/scikit-learn/scikit-learn/issues/21755 */display: inline-block !important;position: relative;}#sk-container-id-2 div.sk-text-repr-fallback {display: none;}</style><div id=\"sk-container-id-2\" class=\"sk-top-container\"><div class=\"sk-text-repr-fallback\"><pre>RandomForestClassifier(max_depth=15, n_estimators=50)</pre><b>In a Jupyter environment, please rerun this cell to show the HTML representation or trust the notebook. <br />On GitHub, the HTML representation is unable to render, please try loading this page with nbviewer.org.</b></div><div class=\"sk-container\" hidden><div class=\"sk-item\"><div class=\"sk-estimator sk-toggleable\"><input class=\"sk-toggleable__control sk-hidden--visually\" id=\"sk-estimator-id-2\" type=\"checkbox\" checked><label for=\"sk-estimator-id-2\" class=\"sk-toggleable__label sk-toggleable__label-arrow\">RandomForestClassifier</label><div class=\"sk-toggleable__content\"><pre>RandomForestClassifier(max_depth=15, n_estimators=50)</pre></div></div></div></div></div>"
      ],
      "text/plain": [
       "RandomForestClassifier(max_depth=15, n_estimators=50)"
      ]
     },
     "execution_count": 160,
     "metadata": {},
     "output_type": "execute_result"
    }
   ],
   "source": [
    "GSC.best_estimator_"
   ]
  },
  {
   "cell_type": "code",
   "execution_count": 161,
   "id": "3485c706",
   "metadata": {},
   "outputs": [
    {
     "data": {
      "text/plain": [
       "0.8511198945981555"
      ]
     },
     "execution_count": 161,
     "metadata": {},
     "output_type": "execute_result"
    }
   ],
   "source": [
    "GSC_pred=GSC.best_estimator_.predict(x_test)\n",
    "accuracy_score(y_test,GSC_pred)"
   ]
  },
  {
   "cell_type": "code",
   "execution_count": 241,
   "id": "00aa3e30",
   "metadata": {},
   "outputs": [
    {
     "name": "stdout",
     "output_type": "stream",
     "text": [
      "Accuracy: 0.855072463768116\n",
      "[[954 202]\n",
      " [128 993]]\n",
      "              precision    recall  f1-score   support\n",
      "\n",
      "           0       0.88      0.83      0.85      1156\n",
      "           1       0.83      0.89      0.86      1121\n",
      "\n",
      "    accuracy                           0.86      2277\n",
      "   macro avg       0.86      0.86      0.86      2277\n",
      "weighted avg       0.86      0.86      0.85      2277\n",
      "\n"
     ]
    }
   ],
   "source": [
    "tune_rfc=RandomForestClassifier(max_depth=15, n_estimators=50)\n",
    "tune_rfc.fit(x_train,y_train)\n",
    "pred=tune_rfc.predict(x_test)\n",
    "print('Accuracy:',accuracy_score(y_test,pred))\n",
    "print(confusion_matrix(y_test,pred))\n",
    "print(classification_report(y_test,pred))"
   ]
  },
  {
   "cell_type": "markdown",
   "id": "5725d0f1",
   "metadata": {},
   "source": [
    "## We have done with Grid search CV and we got our best model Random forest classifier with 85.50% accuracy."
   ]
  },
  {
   "cell_type": "markdown",
   "id": "c224f254",
   "metadata": {},
   "source": [
    "# Accuracy-85.50%"
   ]
  },
  {
   "cell_type": "markdown",
   "id": "30aa328d",
   "metadata": {},
   "source": [
    "."
   ]
  },
  {
   "cell_type": "markdown",
   "id": "40a7d98e",
   "metadata": {},
   "source": [
    "### AUC-ROC Curve"
   ]
  },
  {
   "cell_type": "code",
   "execution_count": 243,
   "id": "a64b8e7a",
   "metadata": {},
   "outputs": [],
   "source": [
    "from sklearn.metrics import roc_curve\n",
    "from sklearn.metrics import roc_auc_score"
   ]
  },
  {
   "cell_type": "code",
   "execution_count": 245,
   "id": "b4bf6766",
   "metadata": {},
   "outputs": [],
   "source": [
    "y_pred_prob=GSC.best_estimator_.predict_proba(x_test)[:,-1]"
   ]
  },
  {
   "cell_type": "code",
   "execution_count": 246,
   "id": "5afb0855",
   "metadata": {},
   "outputs": [
    {
     "data": {
      "text/plain": [
       "array([0.79152721, 0.22032333, 0.1       , ..., 0.        , 0.74687122,\n",
       "       0.69714286])"
      ]
     },
     "execution_count": 246,
     "metadata": {},
     "output_type": "execute_result"
    }
   ],
   "source": [
    "y_pred_prob"
   ]
  },
  {
   "cell_type": "code",
   "execution_count": 248,
   "id": "3e633c11",
   "metadata": {},
   "outputs": [],
   "source": [
    "fpr,tpr,threshold=roc_curve(y_test,y_pred_prob)"
   ]
  },
  {
   "cell_type": "code",
   "execution_count": 259,
   "id": "9dbeb825",
   "metadata": {},
   "outputs": [
    {
     "data": {
      "image/png": "[encoded data removed]",
      "text/plain": [
       "<Figure size 1296x648 with 1 Axes>"
      ]
     },
     "metadata": {
      "needs_background": "light"
     },
     "output_type": "display_data"
    }
   ],
   "source": [
    "plt.figure(figsize=[18,9])\n",
    "plt.plot([0,1],[0,1],'k--')\n",
    "plt.plot(fpr,tpr,label='RandomForestClassifier',color='r')\n",
    "plt.xlabel(\"False positive rate\")\n",
    "plt.ylabel(\"True positive rate\")\n",
    "plt.title(\"Auc-Roc Curve\")\n",
    "plt.show()"
   ]
  },
  {
   "cell_type": "code",
   "execution_count": 260,
   "id": "0e761dc0",
   "metadata": {},
   "outputs": [],
   "source": [
    "Auc_score=roc_auc_score(y_test,GSC.best_estimator_.predict(x_test))"
   ]
  },
  {
   "cell_type": "code",
   "execution_count": 263,
   "id": "5e4df046",
   "metadata": {},
   "outputs": [
    {
     "name": "stdout",
     "output_type": "stream",
     "text": [
      "0.8515641157024283\n"
     ]
    }
   ],
   "source": [
    "print(Auc_score)"
   ]
  },
  {
   "cell_type": "markdown",
   "id": "e03cdf57",
   "metadata": {},
   "source": [
    "### AUC-ROC curve score is 85.15 %"
   ]
  },
  {
   "cell_type": "markdown",
   "id": "c4039893",
   "metadata": {},
   "source": [
    "### Feature Importance"
   ]
  },
  {
   "cell_type": "code",
   "execution_count": 287,
   "id": "3dde7344",
   "metadata": {},
   "outputs": [
    {
     "data": {
      "image/png": "[encoded data removed]",
      "text/plain": [
       "<Figure size 1080x720 with 1 Axes>"
      ]
     },
     "metadata": {
      "needs_background": "light"
     },
     "output_type": "display_data"
    }
   ],
   "source": [
    "plt.figure(figsize=(15,10))\n",
    "impo_features = pd.Series(tune_rfc.feature_importances_, index=x.columns)\n",
    "impo_features.nlargest((25)).sort_values().plot(kind='barh', align='center',color='r')\n",
    "plt.show()"
   ]
  },
  {
   "cell_type": "markdown",
   "id": "76cf64ca",
   "metadata": {},
   "source": [
    "## Prediction"
   ]
  },
  {
   "cell_type": "code",
   "execution_count": 267,
   "id": "b7d3f45c",
   "metadata": {},
   "outputs": [],
   "source": [
    "predict=tune_rfc.predict(x_test)[:]"
   ]
  },
  {
   "cell_type": "code",
   "execution_count": 268,
   "id": "fd0d8ea1",
   "metadata": {},
   "outputs": [],
   "source": [
    "original=y_test[:]"
   ]
  },
  {
   "cell_type": "code",
   "execution_count": 276,
   "id": "cba761e8",
   "metadata": {},
   "outputs": [],
   "source": [
    "result=pd.DataFrame([predict,original],index=['Predict','Original'])"
   ]
  },
  {
   "cell_type": "code",
   "execution_count": 281,
   "id": "12cc184e",
   "metadata": {},
   "outputs": [
    {
     "data": {
      "text/html": [
       "<div>\n",
       "<style scoped>\n",
       "    .dataframe tbody tr th:only-of-type {\n",
       "        vertical-align: middle;\n",
       "    }\n",
       "\n",
       "    .dataframe tbody tr th {\n",
       "        vertical-align: top;\n",
       "    }\n",
       "\n",
       "    .dataframe thead th {\n",
       "        text-align: right;\n",
       "    }\n",
       "</style>\n",
       "<table border=\"1\" class=\"dataframe\">\n",
       "  <thead>\n",
       "    <tr style=\"text-align: right;\">\n",
       "      <th></th>\n",
       "      <th>0</th>\n",
       "      <th>1</th>\n",
       "      <th>2</th>\n",
       "      <th>3</th>\n",
       "      <th>4</th>\n",
       "      <th>5</th>\n",
       "      <th>6</th>\n",
       "      <th>7</th>\n",
       "      <th>8</th>\n",
       "      <th>9</th>\n",
       "      <th>10</th>\n",
       "      <th>11</th>\n",
       "      <th>12</th>\n",
       "      <th>13</th>\n",
       "      <th>14</th>\n",
       "      <th>15</th>\n",
       "      <th>16</th>\n",
       "      <th>17</th>\n",
       "      <th>18</th>\n",
       "      <th>19</th>\n",
       "      <th>20</th>\n",
       "      <th>21</th>\n",
       "      <th>22</th>\n",
       "      <th>23</th>\n",
       "      <th>24</th>\n",
       "      <th>25</th>\n",
       "      <th>26</th>\n",
       "      <th>27</th>\n",
       "      <th>28</th>\n",
       "      <th>29</th>\n",
       "      <th>30</th>\n",
       "      <th>31</th>\n",
       "      <th>32</th>\n",
       "      <th>33</th>\n",
       "      <th>34</th>\n",
       "    </tr>\n",
       "  </thead>\n",
       "  <tbody>\n",
       "    <tr>\n",
       "      <th>Predict</th>\n",
       "      <td>1</td>\n",
       "      <td>0</td>\n",
       "      <td>0</td>\n",
       "      <td>0</td>\n",
       "      <td>1</td>\n",
       "      <td>1</td>\n",
       "      <td>0</td>\n",
       "      <td>0</td>\n",
       "      <td>1</td>\n",
       "      <td>1</td>\n",
       "      <td>0</td>\n",
       "      <td>0</td>\n",
       "      <td>1</td>\n",
       "      <td>1</td>\n",
       "      <td>1</td>\n",
       "      <td>1</td>\n",
       "      <td>1</td>\n",
       "      <td>0</td>\n",
       "      <td>1</td>\n",
       "      <td>0</td>\n",
       "      <td>0</td>\n",
       "      <td>0</td>\n",
       "      <td>0</td>\n",
       "      <td>0</td>\n",
       "      <td>1</td>\n",
       "      <td>1</td>\n",
       "      <td>0</td>\n",
       "      <td>0</td>\n",
       "      <td>1</td>\n",
       "      <td>1</td>\n",
       "      <td>0</td>\n",
       "      <td>1</td>\n",
       "      <td>1</td>\n",
       "      <td>0</td>\n",
       "      <td>1</td>\n",
       "    </tr>\n",
       "    <tr>\n",
       "      <th>Original</th>\n",
       "      <td>1</td>\n",
       "      <td>1</td>\n",
       "      <td>0</td>\n",
       "      <td>0</td>\n",
       "      <td>1</td>\n",
       "      <td>1</td>\n",
       "      <td>0</td>\n",
       "      <td>0</td>\n",
       "      <td>1</td>\n",
       "      <td>1</td>\n",
       "      <td>0</td>\n",
       "      <td>0</td>\n",
       "      <td>0</td>\n",
       "      <td>1</td>\n",
       "      <td>1</td>\n",
       "      <td>0</td>\n",
       "      <td>1</td>\n",
       "      <td>0</td>\n",
       "      <td>1</td>\n",
       "      <td>0</td>\n",
       "      <td>0</td>\n",
       "      <td>0</td>\n",
       "      <td>0</td>\n",
       "      <td>0</td>\n",
       "      <td>0</td>\n",
       "      <td>1</td>\n",
       "      <td>0</td>\n",
       "      <td>0</td>\n",
       "      <td>0</td>\n",
       "      <td>1</td>\n",
       "      <td>0</td>\n",
       "      <td>1</td>\n",
       "      <td>1</td>\n",
       "      <td>0</td>\n",
       "      <td>1</td>\n",
       "    </tr>\n",
       "  </tbody>\n",
       "</table>\n",
       "</div>"
      ],
      "text/plain": [
       "          0   1   2   3   4   5   6   7   8   9   10  11  12  13  14  15  16  \\\n",
       "Predict    1   0   0   0   1   1   0   0   1   1   0   0   1   1   1   1   1   \n",
       "Original   1   1   0   0   1   1   0   0   1   1   0   0   0   1   1   0   1   \n",
       "\n",
       "          17  18  19  20  21  22  23  24  25  26  27  28  29  30  31  32  33  \\\n",
       "Predict    0   1   0   0   0   0   0   1   1   0   0   1   1   0   1   1   0   \n",
       "Original   0   1   0   0   0   0   0   0   1   0   0   0   1   0   1   1   0   \n",
       "\n",
       "          34  \n",
       "Predict    1  \n",
       "Original   1  "
      ]
     },
     "execution_count": 281,
     "metadata": {},
     "output_type": "execute_result"
    }
   ],
   "source": [
    "result.iloc[:,0:35]"
   ]
  },
  {
   "cell_type": "markdown",
   "id": "d077f097",
   "metadata": {},
   "source": [
    "### Saving the model"
   ]
  },
  {
   "cell_type": "code",
   "execution_count": 282,
   "id": "8acf6189",
   "metadata": {},
   "outputs": [],
   "source": [
    "import joblib"
   ]
  },
  {
   "cell_type": "code",
   "execution_count": 284,
   "id": "1bafb28f",
   "metadata": {},
   "outputs": [
    {
     "data": {
      "text/plain": [
       "['Customer Churn']"
      ]
     },
     "execution_count": 284,
     "metadata": {},
     "output_type": "execute_result"
    }
   ],
   "source": [
    "joblib.dump(tune_rfc,'Customer Churn')"
   ]
  },
  {
   "cell_type": "markdown",
   "id": "9f9f57ef",
   "metadata": {},
   "source": [
    "# Conclusion"
   ]
  },
  {
   "cell_type": "markdown",
   "id": "59775f84",
   "metadata": {},
   "source": [
    "From the above observations we are concluding that\n",
    "\n",
    "1. We had not any null values in data set, So we did not adopt imputation technique.\n",
    "\n",
    "2. In order to replace the object data to the int values we used encoading technique.\n",
    "\n",
    "3. Some columns we dropped, because they was not more contributing to make prediction.\n",
    "\n",
    "We used many classifier for building our best model -\n",
    "\n",
    "like-\n",
    "\n",
    "\n",
    "A. Linear regression\n",
    "\n",
    "B. k nearest neighbour classifier\n",
    "\n",
    "c. Design tree classifier\n",
    "\n",
    "D. Support vector machine classifier\n",
    "\n",
    "5. In order to control overfitting and underfitting we adopted Cross validation.\n",
    "\n",
    "6. For Bagging and boosting we have used Random forest classifier,Adaboost classifier and Gradient boosting classifier and xgboost classifier.\n",
    "\n",
    "7. we worked on Hyper parameter tuning on random forest regressor and random forest classifier for boosting our model accuracy.\n",
    "\n",
    "Finally we got our best model Which is Random forest regressor with 85.50% accuracy.\n",
    "\n",
    "We have ploted Auc-Roc curve and got AUc-Roc curve score is 85.15 % \n",
    "\n",
    "### Now our model is ready to predict."
   ]
  },
  {
   "cell_type": "code",
   "execution_count": null,
   "id": "535b847f",
   "metadata": {},
   "outputs": [],
   "source": []
  }
 ],
 "metadata": {
  "kernelspec": {
   "display_name": "Python 3 (ipykernel)",
   "language": "python",
   "name": "python3"
  },
  "language_info": {
   "codemirror_mode": {
    "name": "ipython",
    "version": 3
   },
   "file_extension": ".py",
   "mimetype": "text/x-python",
   "name": "python",
   "nbconvert_exporter": "python",
   "pygments_lexer": "ipython3",
   "version": "3.9.7"
  }
 },
 "nbformat": 4,
 "nbformat_minor": 5
}
