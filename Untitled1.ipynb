{
 "cells": [
  {
   "cell_type": "code",
   "execution_count": 274,
   "id": "4fd7a253",
   "metadata": {},
   "outputs": [],
   "source": [
    "import pandas as pd\n",
    "import seaborn as sns\n",
    "import numpy as np\n",
    "import matplotlib.pyplot as plt\n",
    "import warnings\n",
    "warnings.filterwarnings(\"ignore\")\n",
    "import sklearn\n",
    "from sklearn.model_selection import train_test_split\n",
    "from sklearn.linear_model import LinearRegression\n",
    "from sklearn.metrics import mean_squared_error,mean_absolute_error\n",
    "from sklearn.metrics import accuracy_score"
   ]
  },
  {
   "cell_type": "code",
   "execution_count": 275,
   "id": "d0ad2d7a",
   "metadata": {},
   "outputs": [
    {
     "data": {
      "text/html": [
       "<div>\n",
       "<style scoped>\n",
       "    .dataframe tbody tr th:only-of-type {\n",
       "        vertical-align: middle;\n",
       "    }\n",
       "\n",
       "    .dataframe tbody tr th {\n",
       "        vertical-align: top;\n",
       "    }\n",
       "\n",
       "    .dataframe thead th {\n",
       "        text-align: right;\n",
       "    }\n",
       "</style>\n",
       "<table border=\"1\" class=\"dataframe\">\n",
       "  <thead>\n",
       "    <tr style=\"text-align: right;\">\n",
       "      <th></th>\n",
       "      <th>Sex</th>\n",
       "      <th>Length</th>\n",
       "      <th>Diameter</th>\n",
       "      <th>Height</th>\n",
       "      <th>Whole weight</th>\n",
       "      <th>Shucked weight</th>\n",
       "      <th>Viscera weight</th>\n",
       "      <th>Shell weight</th>\n",
       "      <th>Rings</th>\n",
       "    </tr>\n",
       "  </thead>\n",
       "  <tbody>\n",
       "    <tr>\n",
       "      <th>809</th>\n",
       "      <td>F</td>\n",
       "      <td>0.520</td>\n",
       "      <td>0.410</td>\n",
       "      <td>0.115</td>\n",
       "      <td>0.8070</td>\n",
       "      <td>0.2855</td>\n",
       "      <td>0.1790</td>\n",
       "      <td>0.2350</td>\n",
       "      <td>12</td>\n",
       "    </tr>\n",
       "    <tr>\n",
       "      <th>3315</th>\n",
       "      <td>M</td>\n",
       "      <td>0.350</td>\n",
       "      <td>0.260</td>\n",
       "      <td>0.090</td>\n",
       "      <td>0.1950</td>\n",
       "      <td>0.0745</td>\n",
       "      <td>0.0410</td>\n",
       "      <td>0.0655</td>\n",
       "      <td>9</td>\n",
       "    </tr>\n",
       "    <tr>\n",
       "      <th>3189</th>\n",
       "      <td>M</td>\n",
       "      <td>0.550</td>\n",
       "      <td>0.405</td>\n",
       "      <td>0.150</td>\n",
       "      <td>0.9235</td>\n",
       "      <td>0.4120</td>\n",
       "      <td>0.2135</td>\n",
       "      <td>0.2400</td>\n",
       "      <td>7</td>\n",
       "    </tr>\n",
       "    <tr>\n",
       "      <th>827</th>\n",
       "      <td>I</td>\n",
       "      <td>0.400</td>\n",
       "      <td>0.310</td>\n",
       "      <td>0.100</td>\n",
       "      <td>0.3060</td>\n",
       "      <td>0.1300</td>\n",
       "      <td>0.0600</td>\n",
       "      <td>0.0940</td>\n",
       "      <td>6</td>\n",
       "    </tr>\n",
       "    <tr>\n",
       "      <th>1034</th>\n",
       "      <td>F</td>\n",
       "      <td>0.655</td>\n",
       "      <td>0.460</td>\n",
       "      <td>0.160</td>\n",
       "      <td>1.4940</td>\n",
       "      <td>0.6895</td>\n",
       "      <td>0.3310</td>\n",
       "      <td>0.1825</td>\n",
       "      <td>9</td>\n",
       "    </tr>\n",
       "  </tbody>\n",
       "</table>\n",
       "</div>"
      ],
      "text/plain": [
       "     Sex  Length  Diameter  Height  Whole weight  Shucked weight  \\\n",
       "809    F   0.520     0.410   0.115        0.8070          0.2855   \n",
       "3315   M   0.350     0.260   0.090        0.1950          0.0745   \n",
       "3189   M   0.550     0.405   0.150        0.9235          0.4120   \n",
       "827    I   0.400     0.310   0.100        0.3060          0.1300   \n",
       "1034   F   0.655     0.460   0.160        1.4940          0.6895   \n",
       "\n",
       "      Viscera weight  Shell weight  Rings  \n",
       "809           0.1790        0.2350     12  \n",
       "3315          0.0410        0.0655      9  \n",
       "3189          0.2135        0.2400      7  \n",
       "827           0.0600        0.0940      6  \n",
       "1034          0.3310        0.1825      9  "
      ]
     },
     "execution_count": 275,
     "metadata": {},
     "output_type": "execute_result"
    }
   ],
   "source": [
    "abl=pd.read_csv(\"https://raw.githubusercontent.com/dsrscientist/dataset1/master/abalone.csv\")\n",
    "abl.sample(5)"
   ]
  },
  {
   "cell_type": "code",
   "execution_count": 276,
   "id": "073dbabd",
   "metadata": {},
   "outputs": [],
   "source": [
    "abl=abl.rename(columns={\"Rings\":\"Rings_target\"})"
   ]
  },
  {
   "cell_type": "code",
   "execution_count": 277,
   "id": "f84def03",
   "metadata": {},
   "outputs": [
    {
     "data": {
      "text/plain": [
       "(4177, 9)"
      ]
     },
     "execution_count": 277,
     "metadata": {},
     "output_type": "execute_result"
    }
   ],
   "source": [
    "abl.shape"
   ]
  },
  {
   "cell_type": "code",
   "execution_count": 278,
   "id": "76d3bec1",
   "metadata": {},
   "outputs": [
    {
     "data": {
      "text/plain": [
       "Sex                object\n",
       "Length            float64\n",
       "Diameter          float64\n",
       "Height            float64\n",
       "Whole weight      float64\n",
       "Shucked weight    float64\n",
       "Viscera weight    float64\n",
       "Shell weight      float64\n",
       "Rings_target        int64\n",
       "dtype: object"
      ]
     },
     "execution_count": 278,
     "metadata": {},
     "output_type": "execute_result"
    }
   ],
   "source": [
    "abl.dtypes"
   ]
  },
  {
   "cell_type": "code",
   "execution_count": 279,
   "id": "1d0997b5",
   "metadata": {},
   "outputs": [
    {
     "data": {
      "text/plain": [
       "Sex               0\n",
       "Length            0\n",
       "Diameter          0\n",
       "Height            0\n",
       "Whole weight      0\n",
       "Shucked weight    0\n",
       "Viscera weight    0\n",
       "Shell weight      0\n",
       "Rings_target      0\n",
       "dtype: int64"
      ]
     },
     "execution_count": 279,
     "metadata": {},
     "output_type": "execute_result"
    }
   ],
   "source": [
    "abl.isnull().sum()"
   ]
  },
  {
   "cell_type": "code",
   "execution_count": 280,
   "id": "5cd85b2e",
   "metadata": {},
   "outputs": [
    {
     "data": {
      "text/plain": [
       "<AxesSubplot:>"
      ]
     },
     "execution_count": 280,
     "metadata": {},
     "output_type": "execute_result"
    },
    {
     "data": {
      "image/png": "[encoded data removed]",
      "text/plain": [
       "<Figure size 432x288 with 2 Axes>"
      ]
     },
     "metadata": {
      "needs_background": "light"
     },
     "output_type": "display_data"
    }
   ],
   "source": [
    "sns.heatmap(abl.isnull())"
   ]
  },
  {
   "cell_type": "markdown",
   "id": "568358c9",
   "metadata": {},
   "source": [
    "Observation-1 :"
   ]
  },
  {
   "cell_type": "markdown",
   "id": "5f9a1f82",
   "metadata": {},
   "source": [
    "In the above dataset :\n",
    "\n",
    "1) The size of table is 4177*8  i.e no.of rows are 4177 and no. of columns are 9 (including target).\n",
    "\n",
    "2) 8 columns are continous in nature(absence of categorical data) and only 1 column is categorical type(string data type) and not contributing more to make target.So there is no need to converting the values into the numeric format i.e Encoading will not be used.\n",
    "\n",
    "3) Null values are not present,so there is no need to adopt imputation technique."
   ]
  },
  {
   "cell_type": "markdown",
   "id": "3d7a86df",
   "metadata": {},
   "source": [
    "In the above dataset, sex column is string datatype, here we need only two types of data : numerical data and those which are contributing to make Rings. ,so we will drop the sex column."
   ]
  },
  {
   "cell_type": "code",
   "execution_count": 281,
   "id": "22e5096d",
   "metadata": {},
   "outputs": [],
   "source": [
    "abl=abl.drop(['Sex'],axis=1)"
   ]
  },
  {
   "cell_type": "markdown",
   "id": "f97d785d",
   "metadata": {},
   "source": [
    "# EDA-"
   ]
  },
  {
   "cell_type": "markdown",
   "id": "b613f5ad",
   "metadata": {},
   "source": [
    "Exploratory Data Analysis (EDA): EDA process will give us the batter understanding towards the pattern of Dataset"
   ]
  },
  {
   "cell_type": "code",
   "execution_count": 282,
   "id": "2739b54a",
   "metadata": {},
   "outputs": [
    {
     "data": {
      "text/plain": [
       "<AxesSubplot:xlabel='Rings_target', ylabel='count'>"
      ]
     },
     "execution_count": 282,
     "metadata": {},
     "output_type": "execute_result"
    },
    {
     "data": {
      "image/png": "[encoded data removed]",
      "text/plain": [
       "<Figure size 936x504 with 1 Axes>"
      ]
     },
     "metadata": {
      "needs_background": "light"
     },
     "output_type": "display_data"
    }
   ],
   "source": [
    "plt.figure(figsize=(13,7))\n",
    "sns.countplot(abl['Rings_target'])"
   ]
  },
  {
   "cell_type": "code",
   "execution_count": 283,
   "id": "55e278f7",
   "metadata": {},
   "outputs": [
    {
     "data": {
      "text/plain": [
       "{'bodies': [<matplotlib.collections.PolyCollection at 0x218e3d68e20>],\n",
       " 'cmaxes': <matplotlib.collections.LineCollection at 0x218e3d68190>,\n",
       " 'cmins': <matplotlib.collections.LineCollection at 0x218e5023dc0>,\n",
       " 'cbars': <matplotlib.collections.LineCollection at 0x218e5023250>}"
      ]
     },
     "execution_count": 283,
     "metadata": {},
     "output_type": "execute_result"
    },
    {
     "data": {
      "image/png": "[encoded data removed]",
      "text/plain": [
       "<Figure size 432x288 with 1 Axes>"
      ]
     },
     "metadata": {
      "needs_background": "light"
     },
     "output_type": "display_data"
    }
   ],
   "source": [
    "plt.violinplot(abl['Rings_target'])"
   ]
  },
  {
   "cell_type": "markdown",
   "id": "8a025070",
   "metadata": {},
   "source": [
    "Observation-2 :"
   ]
  },
  {
   "cell_type": "markdown",
   "id": "55fd18b7",
   "metadata": {},
   "source": [
    "1) In the data set no. of rings are 29 i.e starting from 1 to 29.\n",
    "\n",
    "2) Violin plot and countplot shows us that maximum rings are present in between 6 to 13.\n",
    "\n",
    "3) Very few rings are present before the 16th number ring."
   ]
  },
  {
   "cell_type": "code",
   "execution_count": 284,
   "id": "ab423445",
   "metadata": {},
   "outputs": [
    {
     "data": {
      "text/html": [
       "<div>\n",
       "<style scoped>\n",
       "    .dataframe tbody tr th:only-of-type {\n",
       "        vertical-align: middle;\n",
       "    }\n",
       "\n",
       "    .dataframe tbody tr th {\n",
       "        vertical-align: top;\n",
       "    }\n",
       "\n",
       "    .dataframe thead th {\n",
       "        text-align: right;\n",
       "    }\n",
       "</style>\n",
       "<table border=\"1\" class=\"dataframe\">\n",
       "  <thead>\n",
       "    <tr style=\"text-align: right;\">\n",
       "      <th></th>\n",
       "      <th>Length</th>\n",
       "      <th>Diameter</th>\n",
       "      <th>Height</th>\n",
       "      <th>Whole weight</th>\n",
       "      <th>Shucked weight</th>\n",
       "      <th>Viscera weight</th>\n",
       "      <th>Shell weight</th>\n",
       "      <th>Rings_target</th>\n",
       "    </tr>\n",
       "  </thead>\n",
       "  <tbody>\n",
       "    <tr>\n",
       "      <th>count</th>\n",
       "      <td>4177.000000</td>\n",
       "      <td>4177.000000</td>\n",
       "      <td>4177.000000</td>\n",
       "      <td>4177.000000</td>\n",
       "      <td>4177.000000</td>\n",
       "      <td>4177.000000</td>\n",
       "      <td>4177.000000</td>\n",
       "      <td>4177.000000</td>\n",
       "    </tr>\n",
       "    <tr>\n",
       "      <th>mean</th>\n",
       "      <td>0.523992</td>\n",
       "      <td>0.407881</td>\n",
       "      <td>0.139516</td>\n",
       "      <td>0.828742</td>\n",
       "      <td>0.359367</td>\n",
       "      <td>0.180594</td>\n",
       "      <td>0.238831</td>\n",
       "      <td>9.933684</td>\n",
       "    </tr>\n",
       "    <tr>\n",
       "      <th>std</th>\n",
       "      <td>0.120093</td>\n",
       "      <td>0.099240</td>\n",
       "      <td>0.041827</td>\n",
       "      <td>0.490389</td>\n",
       "      <td>0.221963</td>\n",
       "      <td>0.109614</td>\n",
       "      <td>0.139203</td>\n",
       "      <td>3.224169</td>\n",
       "    </tr>\n",
       "    <tr>\n",
       "      <th>min</th>\n",
       "      <td>0.075000</td>\n",
       "      <td>0.055000</td>\n",
       "      <td>0.000000</td>\n",
       "      <td>0.002000</td>\n",
       "      <td>0.001000</td>\n",
       "      <td>0.000500</td>\n",
       "      <td>0.001500</td>\n",
       "      <td>1.000000</td>\n",
       "    </tr>\n",
       "    <tr>\n",
       "      <th>25%</th>\n",
       "      <td>0.450000</td>\n",
       "      <td>0.350000</td>\n",
       "      <td>0.115000</td>\n",
       "      <td>0.441500</td>\n",
       "      <td>0.186000</td>\n",
       "      <td>0.093500</td>\n",
       "      <td>0.130000</td>\n",
       "      <td>8.000000</td>\n",
       "    </tr>\n",
       "    <tr>\n",
       "      <th>50%</th>\n",
       "      <td>0.545000</td>\n",
       "      <td>0.425000</td>\n",
       "      <td>0.140000</td>\n",
       "      <td>0.799500</td>\n",
       "      <td>0.336000</td>\n",
       "      <td>0.171000</td>\n",
       "      <td>0.234000</td>\n",
       "      <td>9.000000</td>\n",
       "    </tr>\n",
       "    <tr>\n",
       "      <th>75%</th>\n",
       "      <td>0.615000</td>\n",
       "      <td>0.480000</td>\n",
       "      <td>0.165000</td>\n",
       "      <td>1.153000</td>\n",
       "      <td>0.502000</td>\n",
       "      <td>0.253000</td>\n",
       "      <td>0.329000</td>\n",
       "      <td>11.000000</td>\n",
       "    </tr>\n",
       "    <tr>\n",
       "      <th>max</th>\n",
       "      <td>0.815000</td>\n",
       "      <td>0.650000</td>\n",
       "      <td>1.130000</td>\n",
       "      <td>2.825500</td>\n",
       "      <td>1.488000</td>\n",
       "      <td>0.760000</td>\n",
       "      <td>1.005000</td>\n",
       "      <td>29.000000</td>\n",
       "    </tr>\n",
       "  </tbody>\n",
       "</table>\n",
       "</div>"
      ],
      "text/plain": [
       "            Length     Diameter       Height  Whole weight  Shucked weight  \\\n",
       "count  4177.000000  4177.000000  4177.000000   4177.000000     4177.000000   \n",
       "mean      0.523992     0.407881     0.139516      0.828742        0.359367   \n",
       "std       0.120093     0.099240     0.041827      0.490389        0.221963   \n",
       "min       0.075000     0.055000     0.000000      0.002000        0.001000   \n",
       "25%       0.450000     0.350000     0.115000      0.441500        0.186000   \n",
       "50%       0.545000     0.425000     0.140000      0.799500        0.336000   \n",
       "75%       0.615000     0.480000     0.165000      1.153000        0.502000   \n",
       "max       0.815000     0.650000     1.130000      2.825500        1.488000   \n",
       "\n",
       "       Viscera weight  Shell weight  Rings_target  \n",
       "count     4177.000000   4177.000000   4177.000000  \n",
       "mean         0.180594      0.238831      9.933684  \n",
       "std          0.109614      0.139203      3.224169  \n",
       "min          0.000500      0.001500      1.000000  \n",
       "25%          0.093500      0.130000      8.000000  \n",
       "50%          0.171000      0.234000      9.000000  \n",
       "75%          0.253000      0.329000     11.000000  \n",
       "max          0.760000      1.005000     29.000000  "
      ]
     },
     "execution_count": 284,
     "metadata": {},
     "output_type": "execute_result"
    }
   ],
   "source": [
    "abl.describe()"
   ]
  },
  {
   "cell_type": "markdown",
   "id": "99d6f81c",
   "metadata": {},
   "source": [
    "Checking Outliers :"
   ]
  },
  {
   "cell_type": "code",
   "execution_count": 285,
   "id": "883335b0",
   "metadata": {},
   "outputs": [
    {
     "data": {
      "text/plain": [
       "Length               AxesSubplot(0.125,0.536818;0.168478x0.343182)\n",
       "Diameter          AxesSubplot(0.327174,0.536818;0.168478x0.343182)\n",
       "Height            AxesSubplot(0.529348,0.536818;0.168478x0.343182)\n",
       "Whole weight      AxesSubplot(0.731522,0.536818;0.168478x0.343182)\n",
       "Shucked weight          AxesSubplot(0.125,0.125;0.168478x0.343182)\n",
       "Viscera weight       AxesSubplot(0.327174,0.125;0.168478x0.343182)\n",
       "Shell weight         AxesSubplot(0.529348,0.125;0.168478x0.343182)\n",
       "Rings_target         AxesSubplot(0.731522,0.125;0.168478x0.343182)\n",
       "dtype: object"
      ]
     },
     "execution_count": 285,
     "metadata": {},
     "output_type": "execute_result"
    },
    {
     "data": {
      "image/png": "[encoded data removed]",
      "text/plain": [
       "<Figure size 864x504 with 8 Axes>"
      ]
     },
     "metadata": {
      "needs_background": "light"
     },
     "output_type": "display_data"
    }
   ],
   "source": [
    "abl.plot(kind=\"box\",subplots=True,figsize=[12,7],layout=(2,4))"
   ]
  },
  {
   "cell_type": "code",
   "execution_count": 286,
   "id": "cd38dc47",
   "metadata": {},
   "outputs": [
    {
     "data": {
      "text/plain": [
       "<matplotlib.collections.PathCollection at 0x218e4e40d60>"
      ]
     },
     "execution_count": 286,
     "metadata": {},
     "output_type": "execute_result"
    },
    {
     "data": {
      "image/png": "[encoded data removed]",
      "text/plain": [
       "<Figure size 432x288 with 1 Axes>"
      ]
     },
     "metadata": {
      "needs_background": "light"
     },
     "output_type": "display_data"
    }
   ],
   "source": [
    "plt.scatter(x=abl['Length'],y=abl['Shell weight'])"
   ]
  },
  {
   "cell_type": "code",
   "execution_count": 287,
   "id": "c2735c0e",
   "metadata": {},
   "outputs": [
    {
     "data": {
      "text/plain": [
       "<matplotlib.collections.PathCollection at 0x218e39a0fa0>"
      ]
     },
     "execution_count": 287,
     "metadata": {},
     "output_type": "execute_result"
    },
    {
     "data": {
      "image/png": "[encoded data removed]",
      "text/plain": [
       "<Figure size 432x288 with 1 Axes>"
      ]
     },
     "metadata": {
      "needs_background": "light"
     },
     "output_type": "display_data"
    }
   ],
   "source": [
    "plt.scatter(x=abl['Shucked weight'],y=abl['Viscera weight'])"
   ]
  },
  {
   "cell_type": "code",
   "execution_count": 288,
   "id": "4c555d0e",
   "metadata": {},
   "outputs": [
    {
     "data": {
      "text/plain": [
       "<matplotlib.collections.PathCollection at 0x218e393b940>"
      ]
     },
     "execution_count": 288,
     "metadata": {},
     "output_type": "execute_result"
    },
    {
     "data": {
      "image/png": "[encoded data removed]",
      "text/plain": [
       "<Figure size 432x288 with 1 Axes>"
      ]
     },
     "metadata": {
      "needs_background": "light"
     },
     "output_type": "display_data"
    }
   ],
   "source": [
    "plt.scatter(x=abl['Length'],y=abl['Whole weight'])"
   ]
  },
  {
   "cell_type": "markdown",
   "id": "13b7e925",
   "metadata": {},
   "source": [
    "Observation-3 :"
   ]
  },
  {
   "cell_type": "markdown",
   "id": "7b504b8d",
   "metadata": {},
   "source": [
    "In the above data sets -\n",
    "\n",
    "1) The outliers are present in Every column.\n",
    "\n",
    "2) As we can see in the Whole weight column and shucked weight have outliers,The maximum whole weight is 2.82 while its mean is 0.82.The mean is sensitive to outliers shows the mean is so small compared to max value indicates the outliers are present.\n",
    "\n",
    "3) Similarly, the maximum shucked weight is 1.48 and its mean value is 0.35 shows outliers are present.\n",
    "\n",
    "4) Similarly, the maxium viscera weight is 0.76 and its mean is 0.18 shows outliers are present.\n",
    "\n",
    "5) Few outliers are present in the Length, Diameter and Height columns.\n",
    "\n",
    "6) In the Shell weight column outliers are also present because the max value is 1 and mean is 0.23. "
   ]
  },
  {
   "cell_type": "markdown",
   "id": "9fb666ec",
   "metadata": {},
   "source": [
    "Checking Skewness :"
   ]
  },
  {
   "cell_type": "code",
   "execution_count": 289,
   "id": "37c32756",
   "metadata": {},
   "outputs": [],
   "source": [
    "from scipy.stats import skew"
   ]
  },
  {
   "cell_type": "code",
   "execution_count": 290,
   "id": "60f05540",
   "metadata": {},
   "outputs": [
    {
     "data": {
      "text/plain": [
       "Length           -0.639873\n",
       "Diameter         -0.609198\n",
       "Height            3.128817\n",
       "Whole weight      0.530959\n",
       "Shucked weight    0.719098\n",
       "Viscera weight    0.591852\n",
       "Shell weight      0.620927\n",
       "Rings_target      1.114102\n",
       "dtype: float64"
      ]
     },
     "execution_count": 290,
     "metadata": {},
     "output_type": "execute_result"
    }
   ],
   "source": [
    "abl.skew()"
   ]
  },
  {
   "cell_type": "code",
   "execution_count": 291,
   "id": "992b0622",
   "metadata": {},
   "outputs": [
    {
     "name": "stdout",
     "output_type": "stream",
     "text": [
      "Length\n",
      "-0.6396434615451078\n"
     ]
    },
    {
     "data": {
      "image/png": "[encoded data removed]",
      "text/plain": [
       "<Figure size 432x288 with 1 Axes>"
      ]
     },
     "metadata": {
      "needs_background": "light"
     },
     "output_type": "display_data"
    },
    {
     "name": "stdout",
     "output_type": "stream",
     "text": [
      "Diameter\n",
      "-0.6089793517180232\n"
     ]
    },
    {
     "data": {
      "image/png": "[encoded data removed]",
      "text/plain": [
       "<Figure size 432x288 with 1 Axes>"
      ]
     },
     "metadata": {
      "needs_background": "light"
     },
     "output_type": "display_data"
    },
    {
     "name": "stdout",
     "output_type": "stream",
     "text": [
      "Height\n",
      "3.127693679207538\n"
     ]
    },
    {
     "data": {
      "image/png": "[encoded data removed]",
      "text/plain": [
       "<Figure size 432x288 with 1 Axes>"
      ]
     },
     "metadata": {
      "needs_background": "light"
     },
     "output_type": "display_data"
    },
    {
     "name": "stdout",
     "output_type": "stream",
     "text": [
      "Whole weight\n",
      "0.5307678720133928\n"
     ]
    },
    {
     "data": {
      "image/png": "[encoded data removed]",
      "text/plain": [
       "<Figure size 432x288 with 1 Axes>"
      ]
     },
     "metadata": {
      "needs_background": "light"
     },
     "output_type": "display_data"
    },
    {
     "name": "stdout",
     "output_type": "stream",
     "text": [
      "Shucked weight\n",
      "0.7188396611678955\n"
     ]
    },
    {
     "data": {
      "image/png": "[encoded data removed]",
      "text/plain": [
       "<Figure size 432x288 with 1 Axes>"
      ]
     },
     "metadata": {
      "needs_background": "light"
     },
     "output_type": "display_data"
    },
    {
     "name": "stdout",
     "output_type": "stream",
     "text": [
      "Viscera weight\n",
      "0.5916395905344537\n"
     ]
    },
    {
     "data": {
      "image/png": "[encoded data removed]",
      "text/plain": [
       "<Figure size 432x288 with 1 Axes>"
      ]
     },
     "metadata": {
      "needs_background": "light"
     },
     "output_type": "display_data"
    },
    {
     "name": "stdout",
     "output_type": "stream",
     "text": [
      "Shell weight\n",
      "0.6207038222275745\n"
     ]
    },
    {
     "data": {
      "image/png": "[encoded data removed]",
      "text/plain": [
       "<Figure size 432x288 with 1 Axes>"
      ]
     },
     "metadata": {
      "needs_background": "light"
     },
     "output_type": "display_data"
    },
    {
     "name": "stdout",
     "output_type": "stream",
     "text": [
      "Rings_target\n",
      "1.1137017739656028\n"
     ]
    },
    {
     "data": {
      "image/png": "[encoded data removed]",
      "text/plain": [
       "<Figure size 432x288 with 1 Axes>"
      ]
     },
     "metadata": {
      "needs_background": "light"
     },
     "output_type": "display_data"
    }
   ],
   "source": [
    "for i in abl:\n",
    "    print(i)\n",
    "    print(skew(abl[i]))\n",
    "    \n",
    "    plt.figure()\n",
    "    sns.distplot(abl[i])\n",
    "    plt.show()"
   ]
  },
  {
   "cell_type": "markdown",
   "id": "fd730447",
   "metadata": {},
   "source": [
    "Observation-4:"
   ]
  },
  {
   "cell_type": "markdown",
   "id": "819f5040",
   "metadata": {},
   "source": [
    "* High skewness represent data imbalancy\n",
    "* Less skewness represent that our data are equally distributed.\n",
    "\n",
    "1) In the lenght(-0.63) and Diameter column(-0.60), some skewness is present.\n",
    "\n",
    "2) Height column are highly skewded(3.12), we can say the data imbalancy is very high.\n",
    "\n",
    "3) Shucked weight(0.71), Viscera weight(0.59) and Shell weight(0.62) columns have skewed data, The chances of data imbalancy condition will be developed. "
   ]
  },
  {
   "cell_type": "markdown",
   "id": "a7fe2794",
   "metadata": {},
   "source": [
    "Checking Corelation :"
   ]
  },
  {
   "cell_type": "code",
   "execution_count": 292,
   "id": "fcf2bd44",
   "metadata": {},
   "outputs": [
    {
     "data": {
      "text/html": [
       "<div>\n",
       "<style scoped>\n",
       "    .dataframe tbody tr th:only-of-type {\n",
       "        vertical-align: middle;\n",
       "    }\n",
       "\n",
       "    .dataframe tbody tr th {\n",
       "        vertical-align: top;\n",
       "    }\n",
       "\n",
       "    .dataframe thead th {\n",
       "        text-align: right;\n",
       "    }\n",
       "</style>\n",
       "<table border=\"1\" class=\"dataframe\">\n",
       "  <thead>\n",
       "    <tr style=\"text-align: right;\">\n",
       "      <th></th>\n",
       "      <th>Length</th>\n",
       "      <th>Diameter</th>\n",
       "      <th>Height</th>\n",
       "      <th>Whole weight</th>\n",
       "      <th>Shucked weight</th>\n",
       "      <th>Viscera weight</th>\n",
       "      <th>Shell weight</th>\n",
       "      <th>Rings_target</th>\n",
       "    </tr>\n",
       "  </thead>\n",
       "  <tbody>\n",
       "    <tr>\n",
       "      <th>Length</th>\n",
       "      <td>1.000000</td>\n",
       "      <td>0.986812</td>\n",
       "      <td>0.827554</td>\n",
       "      <td>0.925261</td>\n",
       "      <td>0.897914</td>\n",
       "      <td>0.903018</td>\n",
       "      <td>0.897706</td>\n",
       "      <td>0.556720</td>\n",
       "    </tr>\n",
       "    <tr>\n",
       "      <th>Diameter</th>\n",
       "      <td>0.986812</td>\n",
       "      <td>1.000000</td>\n",
       "      <td>0.833684</td>\n",
       "      <td>0.925452</td>\n",
       "      <td>0.893162</td>\n",
       "      <td>0.899724</td>\n",
       "      <td>0.905330</td>\n",
       "      <td>0.574660</td>\n",
       "    </tr>\n",
       "    <tr>\n",
       "      <th>Height</th>\n",
       "      <td>0.827554</td>\n",
       "      <td>0.833684</td>\n",
       "      <td>1.000000</td>\n",
       "      <td>0.819221</td>\n",
       "      <td>0.774972</td>\n",
       "      <td>0.798319</td>\n",
       "      <td>0.817338</td>\n",
       "      <td>0.557467</td>\n",
       "    </tr>\n",
       "    <tr>\n",
       "      <th>Whole weight</th>\n",
       "      <td>0.925261</td>\n",
       "      <td>0.925452</td>\n",
       "      <td>0.819221</td>\n",
       "      <td>1.000000</td>\n",
       "      <td>0.969405</td>\n",
       "      <td>0.966375</td>\n",
       "      <td>0.955355</td>\n",
       "      <td>0.540390</td>\n",
       "    </tr>\n",
       "    <tr>\n",
       "      <th>Shucked weight</th>\n",
       "      <td>0.897914</td>\n",
       "      <td>0.893162</td>\n",
       "      <td>0.774972</td>\n",
       "      <td>0.969405</td>\n",
       "      <td>1.000000</td>\n",
       "      <td>0.931961</td>\n",
       "      <td>0.882617</td>\n",
       "      <td>0.420884</td>\n",
       "    </tr>\n",
       "    <tr>\n",
       "      <th>Viscera weight</th>\n",
       "      <td>0.903018</td>\n",
       "      <td>0.899724</td>\n",
       "      <td>0.798319</td>\n",
       "      <td>0.966375</td>\n",
       "      <td>0.931961</td>\n",
       "      <td>1.000000</td>\n",
       "      <td>0.907656</td>\n",
       "      <td>0.503819</td>\n",
       "    </tr>\n",
       "    <tr>\n",
       "      <th>Shell weight</th>\n",
       "      <td>0.897706</td>\n",
       "      <td>0.905330</td>\n",
       "      <td>0.817338</td>\n",
       "      <td>0.955355</td>\n",
       "      <td>0.882617</td>\n",
       "      <td>0.907656</td>\n",
       "      <td>1.000000</td>\n",
       "      <td>0.627574</td>\n",
       "    </tr>\n",
       "    <tr>\n",
       "      <th>Rings_target</th>\n",
       "      <td>0.556720</td>\n",
       "      <td>0.574660</td>\n",
       "      <td>0.557467</td>\n",
       "      <td>0.540390</td>\n",
       "      <td>0.420884</td>\n",
       "      <td>0.503819</td>\n",
       "      <td>0.627574</td>\n",
       "      <td>1.000000</td>\n",
       "    </tr>\n",
       "  </tbody>\n",
       "</table>\n",
       "</div>"
      ],
      "text/plain": [
       "                  Length  Diameter    Height  Whole weight  Shucked weight  \\\n",
       "Length          1.000000  0.986812  0.827554      0.925261        0.897914   \n",
       "Diameter        0.986812  1.000000  0.833684      0.925452        0.893162   \n",
       "Height          0.827554  0.833684  1.000000      0.819221        0.774972   \n",
       "Whole weight    0.925261  0.925452  0.819221      1.000000        0.969405   \n",
       "Shucked weight  0.897914  0.893162  0.774972      0.969405        1.000000   \n",
       "Viscera weight  0.903018  0.899724  0.798319      0.966375        0.931961   \n",
       "Shell weight    0.897706  0.905330  0.817338      0.955355        0.882617   \n",
       "Rings_target    0.556720  0.574660  0.557467      0.540390        0.420884   \n",
       "\n",
       "                Viscera weight  Shell weight  Rings_target  \n",
       "Length                0.903018      0.897706      0.556720  \n",
       "Diameter              0.899724      0.905330      0.574660  \n",
       "Height                0.798319      0.817338      0.557467  \n",
       "Whole weight          0.966375      0.955355      0.540390  \n",
       "Shucked weight        0.931961      0.882617      0.420884  \n",
       "Viscera weight        1.000000      0.907656      0.503819  \n",
       "Shell weight          0.907656      1.000000      0.627574  \n",
       "Rings_target          0.503819      0.627574      1.000000  "
      ]
     },
     "execution_count": 292,
     "metadata": {},
     "output_type": "execute_result"
    }
   ],
   "source": [
    "abl.corr()"
   ]
  },
  {
   "cell_type": "code",
   "execution_count": 293,
   "id": "fdd931b0",
   "metadata": {},
   "outputs": [
    {
     "data": {
      "text/plain": [
       "Shucked weight    0.420884\n",
       "Viscera weight    0.503819\n",
       "Whole weight      0.540390\n",
       "Length            0.556720\n",
       "Height            0.557467\n",
       "Diameter          0.574660\n",
       "Shell weight      0.627574\n",
       "Rings_target      1.000000\n",
       "Name: Rings_target, dtype: float64"
      ]
     },
     "execution_count": 293,
     "metadata": {},
     "output_type": "execute_result"
    }
   ],
   "source": [
    "abl.corr()['Rings_target'].sort_values()"
   ]
  },
  {
   "cell_type": "code",
   "execution_count": 294,
   "id": "39f8fa0d",
   "metadata": {},
   "outputs": [
    {
     "data": {
      "image/png": "[encoded data removed]",
      "text/plain": [
       "<Figure size 648x432 with 2 Axes>"
      ]
     },
     "metadata": {
      "needs_background": "light"
     },
     "output_type": "display_data"
    }
   ],
   "source": [
    "plt.figure(figsize=(9,6))\n",
    "sns.heatmap(abl.corr(),annot=True)\n",
    "plt.show()            "
   ]
  },
  {
   "cell_type": "markdown",
   "id": "328bee9f",
   "metadata": {},
   "source": [
    "Observation-5 :"
   ]
  },
  {
   "cell_type": "markdown",
   "id": "e2b9c5ce",
   "metadata": {},
   "source": [
    "In the above data set :\n",
    "    \n",
    "  1) Lenght and Height both have 56 percent corelation with target, which can be considered as normal bond.\n",
    "    \n",
    "  2) Shell weight has 63 percent corelation with target, we can say both columns are ploting good corelation with each other.\n",
    "    \n",
    "  3) Viscera weight, whole weight and Diameter have 50 percent,54 percent,57 percent resp., which can be considered as a     normal bond.\n",
    "    \n",
    "  4) Shucked weight has 42 percent corelation with target, which can be considered as a poor bond."
   ]
  },
  {
   "cell_type": "markdown",
   "id": "ce7b7ec5",
   "metadata": {},
   "source": [
    "# Data Preprocessing "
   ]
  },
  {
   "cell_type": "markdown",
   "id": "b6ba8187",
   "metadata": {},
   "source": [
    "We can drop the Shucked weight because this column has not good corelation with target."
   ]
  },
  {
   "cell_type": "code",
   "execution_count": 295,
   "id": "0d96b53c",
   "metadata": {},
   "outputs": [],
   "source": [
    "abl=abl.drop([\"Shucked weight\"],axis=1)"
   ]
  },
  {
   "cell_type": "code",
   "execution_count": 296,
   "id": "95d3e44d",
   "metadata": {},
   "outputs": [
    {
     "data": {
      "text/plain": [
       "Index(['Length', 'Diameter', 'Height', 'Whole weight', 'Viscera weight',\n",
       "       'Shell weight', 'Rings_target'],\n",
       "      dtype='object')"
      ]
     },
     "execution_count": 296,
     "metadata": {},
     "output_type": "execute_result"
    }
   ],
   "source": [
    "abl.columns"
   ]
  },
  {
   "cell_type": "markdown",
   "id": "2cf68aa8",
   "metadata": {},
   "source": [
    "Removing Skewness using Power Transfomation technique"
   ]
  },
  {
   "cell_type": "code",
   "execution_count": 303,
   "id": "7416d2cc",
   "metadata": {},
   "outputs": [],
   "source": [
    "from sklearn.preprocessing import power_transform"
   ]
  },
  {
   "cell_type": "code",
   "execution_count": 307,
   "id": "acb481d0",
   "metadata": {},
   "outputs": [],
   "source": [
    "abl_new=power_transform(abl)"
   ]
  },
  {
   "cell_type": "code",
   "execution_count": 308,
   "id": "1c4c0a7b",
   "metadata": {},
   "outputs": [],
   "source": [
    "abl=pd.DataFrame(abl_new,columns=abl.columns)"
   ]
  },
  {
   "cell_type": "code",
   "execution_count": 309,
   "id": "c24653ce",
   "metadata": {},
   "outputs": [
    {
     "data": {
      "text/html": [
       "<div>\n",
       "<style scoped>\n",
       "    .dataframe tbody tr th:only-of-type {\n",
       "        vertical-align: middle;\n",
       "    }\n",
       "\n",
       "    .dataframe tbody tr th {\n",
       "        vertical-align: top;\n",
       "    }\n",
       "\n",
       "    .dataframe thead th {\n",
       "        text-align: right;\n",
       "    }\n",
       "</style>\n",
       "<table border=\"1\" class=\"dataframe\">\n",
       "  <thead>\n",
       "    <tr style=\"text-align: right;\">\n",
       "      <th></th>\n",
       "      <th>Length</th>\n",
       "      <th>Diameter</th>\n",
       "      <th>Height</th>\n",
       "      <th>Whole weight</th>\n",
       "      <th>Viscera weight</th>\n",
       "      <th>Shell weight</th>\n",
       "      <th>Rings_target</th>\n",
       "    </tr>\n",
       "  </thead>\n",
       "  <tbody>\n",
       "    <tr>\n",
       "      <th>0</th>\n",
       "      <td>-0.695134</td>\n",
       "      <td>-0.563253</td>\n",
       "      <td>-1.114457</td>\n",
       "      <td>-0.581665</td>\n",
       "      <td>-0.691155</td>\n",
       "      <td>-0.589287</td>\n",
       "      <td>1.477232</td>\n",
       "    </tr>\n",
       "    <tr>\n",
       "      <th>1</th>\n",
       "      <td>-1.378422</td>\n",
       "      <td>-1.369634</td>\n",
       "      <td>-1.242040</td>\n",
       "      <td>-1.345161</td>\n",
       "      <td>-1.336900</td>\n",
       "      <td>-1.330411</td>\n",
       "      <td>-0.949270</td>\n",
       "    </tr>\n",
       "    <tr>\n",
       "      <th>2</th>\n",
       "      <td>-0.090853</td>\n",
       "      <td>-0.011921</td>\n",
       "      <td>-0.106960</td>\n",
       "      <td>-0.205732</td>\n",
       "      <td>-0.250699</td>\n",
       "      <td>-0.100741</td>\n",
       "      <td>-0.172117</td>\n",
       "    </tr>\n",
       "    <tr>\n",
       "      <th>3</th>\n",
       "      <td>-0.803522</td>\n",
       "      <td>-0.563253</td>\n",
       "      <td>-0.357957</td>\n",
       "      <td>-0.576841</td>\n",
       "      <td>-0.544694</td>\n",
       "      <td>-0.546545</td>\n",
       "      <td>0.160910</td>\n",
       "    </tr>\n",
       "    <tr>\n",
       "      <th>4</th>\n",
       "      <td>-1.490115</td>\n",
       "      <td>-1.438419</td>\n",
       "      <td>-1.499106</td>\n",
       "      <td>-1.405366</td>\n",
       "      <td>-1.457120</td>\n",
       "      <td>-1.482577</td>\n",
       "      <td>-0.949270</td>\n",
       "    </tr>\n",
       "    <tr>\n",
       "      <th>...</th>\n",
       "      <td>...</td>\n",
       "      <td>...</td>\n",
       "      <td>...</td>\n",
       "      <td>...</td>\n",
       "      <td>...</td>\n",
       "      <td>...</td>\n",
       "      <td>...</td>\n",
       "    </tr>\n",
       "    <tr>\n",
       "      <th>4172</th>\n",
       "      <td>0.231416</td>\n",
       "      <td>0.328443</td>\n",
       "      <td>0.649598</td>\n",
       "      <td>0.234518</td>\n",
       "      <td>0.642221</td>\n",
       "      <td>0.190614</td>\n",
       "      <td>0.465393</td>\n",
       "    </tr>\n",
       "    <tr>\n",
       "      <th>4173</th>\n",
       "      <td>0.478871</td>\n",
       "      <td>0.211683</td>\n",
       "      <td>-0.106960</td>\n",
       "      <td>0.389231</td>\n",
       "      <td>0.437341</td>\n",
       "      <td>0.272941</td>\n",
       "      <td>0.160910</td>\n",
       "    </tr>\n",
       "    <tr>\n",
       "      <th>4174</th>\n",
       "      <td>0.581969</td>\n",
       "      <td>0.635101</td>\n",
       "      <td>1.637564</td>\n",
       "      <td>0.775426</td>\n",
       "      <td>1.015191</td>\n",
       "      <td>0.596935</td>\n",
       "      <td>-0.172117</td>\n",
       "    </tr>\n",
       "    <tr>\n",
       "      <th>4175</th>\n",
       "      <td>0.850218</td>\n",
       "      <td>0.763780</td>\n",
       "      <td>0.271433</td>\n",
       "      <td>0.629622</td>\n",
       "      <td>0.816504</td>\n",
       "      <td>0.517437</td>\n",
       "      <td>0.160910</td>\n",
       "    </tr>\n",
       "    <tr>\n",
       "      <th>4176</th>\n",
       "      <td>1.879807</td>\n",
       "      <td>1.765620</td>\n",
       "      <td>1.394349</td>\n",
       "      <td>1.957031</td>\n",
       "      <td>1.604283</td>\n",
       "      <td>1.662555</td>\n",
       "      <td>0.746042</td>\n",
       "    </tr>\n",
       "  </tbody>\n",
       "</table>\n",
       "<p>4177 rows × 7 columns</p>\n",
       "</div>"
      ],
      "text/plain": [
       "        Length  Diameter    Height  Whole weight  Viscera weight  \\\n",
       "0    -0.695134 -0.563253 -1.114457     -0.581665       -0.691155   \n",
       "1    -1.378422 -1.369634 -1.242040     -1.345161       -1.336900   \n",
       "2    -0.090853 -0.011921 -0.106960     -0.205732       -0.250699   \n",
       "3    -0.803522 -0.563253 -0.357957     -0.576841       -0.544694   \n",
       "4    -1.490115 -1.438419 -1.499106     -1.405366       -1.457120   \n",
       "...        ...       ...       ...           ...             ...   \n",
       "4172  0.231416  0.328443  0.649598      0.234518        0.642221   \n",
       "4173  0.478871  0.211683 -0.106960      0.389231        0.437341   \n",
       "4174  0.581969  0.635101  1.637564      0.775426        1.015191   \n",
       "4175  0.850218  0.763780  0.271433      0.629622        0.816504   \n",
       "4176  1.879807  1.765620  1.394349      1.957031        1.604283   \n",
       "\n",
       "      Shell weight  Rings_target  \n",
       "0        -0.589287      1.477232  \n",
       "1        -1.330411     -0.949270  \n",
       "2        -0.100741     -0.172117  \n",
       "3        -0.546545      0.160910  \n",
       "4        -1.482577     -0.949270  \n",
       "...            ...           ...  \n",
       "4172      0.190614      0.465393  \n",
       "4173      0.272941      0.160910  \n",
       "4174      0.596935     -0.172117  \n",
       "4175      0.517437      0.160910  \n",
       "4176      1.662555      0.746042  \n",
       "\n",
       "[4177 rows x 7 columns]"
      ]
     },
     "execution_count": 309,
     "metadata": {},
     "output_type": "execute_result"
    }
   ],
   "source": [
    "abl"
   ]
  },
  {
   "cell_type": "code",
   "execution_count": 315,
   "id": "43ea4ed7",
   "metadata": {},
   "outputs": [
    {
     "data": {
      "text/plain": [
       "Length            0.014569\n",
       "Diameter          0.015076\n",
       "Height            0.409563\n",
       "Whole weight      0.024822\n",
       "Viscera weight    0.023317\n",
       "Shell weight      0.032854\n",
       "Rings_target     -0.026012\n",
       "dtype: float64"
      ]
     },
     "execution_count": 315,
     "metadata": {},
     "output_type": "execute_result"
    }
   ],
   "source": [
    "abl.skew()"
   ]
  },
  {
   "cell_type": "markdown",
   "id": "9b4e5ab4",
   "metadata": {},
   "source": [
    "Removing Outliers :"
   ]
  },
  {
   "cell_type": "code",
   "execution_count": 316,
   "id": "ca05a6a7",
   "metadata": {},
   "outputs": [],
   "source": [
    "import scipy\n",
    "from scipy.stats import zscore"
   ]
  },
  {
   "cell_type": "code",
   "execution_count": 317,
   "id": "a0ed7cc8",
   "metadata": {},
   "outputs": [
    {
     "data": {
      "text/plain": [
       "(4177, 7)"
      ]
     },
     "execution_count": 317,
     "metadata": {},
     "output_type": "execute_result"
    }
   ],
   "source": [
    "z=np.abs(zscore(abl))\n",
    "z.shape"
   ]
  },
  {
   "cell_type": "code",
   "execution_count": 318,
   "id": "77e9d274",
   "metadata": {},
   "outputs": [
    {
     "name": "stdout",
     "output_type": "stream",
     "text": [
      "(array([ 163,  166,  236,  236,  237,  238,  294,  306,  480,  520,  526,\n",
      "        694,  719,  720,  891,  894, 1054, 1174, 1209, 1257, 1417, 1428,\n",
      "       1428, 1429, 1763, 1763, 2051, 2108, 2108, 2115, 2161, 2169, 2201,\n",
      "       2209, 2334, 2334, 2371, 2711, 3149, 3280, 3472, 3521, 3801, 3902,\n",
      "       3996], dtype=int64), array([5, 5, 2, 6, 6, 6, 6, 6, 6, 6, 6, 2, 6, 6, 5, 6, 6, 2, 1, 2, 2, 0,\n",
      "       1, 6, 1, 4, 2, 5, 6, 6, 5, 2, 6, 6, 0, 1, 6, 6, 6, 6, 6, 6, 6, 2,\n",
      "       2], dtype=int64))\n"
     ]
    }
   ],
   "source": [
    "threshold=3\n",
    "print(np.where(z>3))"
   ]
  },
  {
   "cell_type": "code",
   "execution_count": 319,
   "id": "ff572456",
   "metadata": {},
   "outputs": [],
   "source": [
    "abl_new=abl[(z<3).all(axis=1)]"
   ]
  },
  {
   "cell_type": "code",
   "execution_count": 320,
   "id": "2476cad3",
   "metadata": {},
   "outputs": [
    {
     "data": {
      "text/plain": [
       "(4137, 7)"
      ]
     },
     "execution_count": 320,
     "metadata": {},
     "output_type": "execute_result"
    }
   ],
   "source": [
    "abl_new.shape"
   ]
  },
  {
   "cell_type": "code",
   "execution_count": 321,
   "id": "58c2ff00",
   "metadata": {},
   "outputs": [
    {
     "name": "stdout",
     "output_type": "stream",
     "text": [
      "old data frame : (4177, 7)\n",
      "new data frame : (4137, 7)\n",
      "total droped rows : 40\n"
     ]
    }
   ],
   "source": [
    "print(\"old data frame :\",abl.shape)\n",
    "print(\"new data frame :\",abl_new.shape)\n",
    "print(\"total droped rows :\",abl.shape[0]-abl_new.shape[0])"
   ]
  },
  {
   "cell_type": "code",
   "execution_count": 322,
   "id": "ae5014f8",
   "metadata": {},
   "outputs": [
    {
     "name": "stdout",
     "output_type": "stream",
     "text": [
      "outliers are removed \n",
      "\n"
     ]
    },
    {
     "data": {
      "text/plain": [
       "Length               AxesSubplot(0.125,0.536818;0.168478x0.343182)\n",
       "Diameter          AxesSubplot(0.327174,0.536818;0.168478x0.343182)\n",
       "Height            AxesSubplot(0.529348,0.536818;0.168478x0.343182)\n",
       "Whole weight      AxesSubplot(0.731522,0.536818;0.168478x0.343182)\n",
       "Viscera weight          AxesSubplot(0.125,0.125;0.168478x0.343182)\n",
       "Shell weight         AxesSubplot(0.327174,0.125;0.168478x0.343182)\n",
       "Rings_target         AxesSubplot(0.529348,0.125;0.168478x0.343182)\n",
       "dtype: object"
      ]
     },
     "execution_count": 322,
     "metadata": {},
     "output_type": "execute_result"
    },
    {
     "data": {
      "image/png": "[encoded data removed]",
      "text/plain": [
       "<Figure size 864x504 with 8 Axes>"
      ]
     },
     "metadata": {
      "needs_background": "light"
     },
     "output_type": "display_data"
    }
   ],
   "source": [
    "print(\"outliers are removed \\n\")\n",
    "abl_new.plot(kind=\"box\",subplots=True,figsize=[12,7],layout=(2,4))"
   ]
  },
  {
   "cell_type": "code",
   "execution_count": 323,
   "id": "a36e3627",
   "metadata": {},
   "outputs": [
    {
     "name": "stdout",
     "output_type": "stream",
     "text": [
      "0.9576250897773522 %\n"
     ]
    }
   ],
   "source": [
    "loss_percent=((4177-4137)/4177)*100\n",
    "print(loss_percent,\"%\")"
   ]
  },
  {
   "cell_type": "markdown",
   "id": "106e20b9",
   "metadata": {},
   "source": [
    "we removed outliers and skewness present in our data set.\n",
    "\n",
    "we can not use any scaling technique because our data is already scaled."
   ]
  },
  {
   "cell_type": "code",
   "execution_count": 325,
   "id": "15750585",
   "metadata": {},
   "outputs": [],
   "source": [
    "x=abl_new.iloc[:,0:-1]"
   ]
  },
  {
   "cell_type": "code",
   "execution_count": 327,
   "id": "8d295f02",
   "metadata": {},
   "outputs": [],
   "source": [
    "y=abl_new.iloc[:,-1]"
   ]
  },
  {
   "cell_type": "code",
   "execution_count": 329,
   "id": "a846356b",
   "metadata": {},
   "outputs": [
    {
     "data": {
      "text/plain": [
       "(4137, 6)"
      ]
     },
     "execution_count": 329,
     "metadata": {},
     "output_type": "execute_result"
    }
   ],
   "source": [
    "x.shape"
   ]
  },
  {
   "cell_type": "code",
   "execution_count": 330,
   "id": "e1a2e4c4",
   "metadata": {},
   "outputs": [
    {
     "data": {
      "text/plain": [
       "(4137,)"
      ]
     },
     "execution_count": 330,
     "metadata": {},
     "output_type": "execute_result"
    }
   ],
   "source": [
    "y.shape"
   ]
  },
  {
   "cell_type": "code",
   "execution_count": 352,
   "id": "f926d46e",
   "metadata": {},
   "outputs": [],
   "source": [
    "lr=LinearRegression()\n",
    "from sklearn.metrics import accuracy_score"
   ]
  },
  {
   "cell_type": "code",
   "execution_count": 353,
   "id": "5edde9ee",
   "metadata": {},
   "outputs": [],
   "source": [
    "x_train,x_test,y_train,y_test=train_test_split(x,y,test_size=.33,random_state=42)"
   ]
  },
  {
   "cell_type": "code",
   "execution_count": 354,
   "id": "3ac6caba",
   "metadata": {},
   "outputs": [
    {
     "data": {
      "text/plain": [
       "LinearRegression()"
      ]
     },
     "execution_count": 354,
     "metadata": {},
     "output_type": "execute_result"
    }
   ],
   "source": [
    "lr.fit(x_train,y_train)"
   ]
  },
  {
   "cell_type": "code",
   "execution_count": 355,
   "id": "d8a4fd74",
   "metadata": {},
   "outputs": [
    {
     "data": {
      "text/plain": [
       "0.5209334542094681"
      ]
     },
     "execution_count": 355,
     "metadata": {},
     "output_type": "execute_result"
    }
   ],
   "source": [
    "per=lr.score(x_train,y_train)\n",
    "per"
   ]
  },
  {
   "cell_type": "code",
   "execution_count": 356,
   "id": "3bf33bd9",
   "metadata": {},
   "outputs": [
    {
     "name": "stdout",
     "output_type": "stream",
     "text": [
      "Error\n",
      "Mean absolute error : 0.9555106337732986\n",
      "Mean squared error :  1.4531465430596648\n",
      "Root mean squared error : 1.2054652807358928\n"
     ]
    }
   ],
   "source": [
    "print(\"Error\")\n",
    "\n",
    "print(\"Mean absolute error :\",mean_absolute_error(y_test,lrpred))\n",
    "print(\"Mean squared error : \",mean_squared_error(y_test,lrpred))\n",
    "print(\"Root mean squared error :\",np.sqrt(mean_squared_error(y_test,lrpred)))"
   ]
  },
  {
   "cell_type": "markdown",
   "id": "dc585148",
   "metadata": {},
   "source": [
    "Cross validation"
   ]
  },
  {
   "cell_type": "code",
   "execution_count": 357,
   "id": "6ecc4dec",
   "metadata": {},
   "outputs": [],
   "source": [
    "from sklearn.model_selection import cross_val_score"
   ]
  },
  {
   "cell_type": "code",
   "execution_count": 363,
   "id": "4ac5e82b",
   "metadata": {},
   "outputs": [
    {
     "name": "stdout",
     "output_type": "stream",
     "text": [
      "cross validation score of linear regression is : 0.4611810456034935\n"
     ]
    }
   ],
   "source": [
    "cvs=cross_val_score(lr,x,y,cv=9)\n",
    "print(\"cross validation score of linear regression is :\",cvs.mean())"
   ]
  },
  {
   "cell_type": "code",
   "execution_count": null,
   "id": "8b02e6ac",
   "metadata": {},
   "outputs": [],
   "source": []
  },
  {
   "cell_type": "code",
   "execution_count": null,
   "id": "c1a28146",
   "metadata": {},
   "outputs": [],
   "source": []
  }
 ],
 "metadata": {
  "kernelspec": {
   "display_name": "Python 3 (ipykernel)",
   "language": "python",
   "name": "python3"
  },
  "language_info": {
   "codemirror_mode": {
    "name": "ipython",
    "version": 3
   },
   "file_extension": ".py",
   "mimetype": "text/x-python",
   "name": "python",
   "nbconvert_exporter": "python",
   "pygments_lexer": "ipython3",
   "version": "3.9.7"
  }
 },
 "nbformat": 4,
 "nbformat_minor": 5
}
